{
 "cells": [
  {
   "cell_type": "code",
   "execution_count": 1,
   "metadata": {},
   "outputs": [],
   "source": [
    "import pandas as pd\n",
    "import numpy as np\n",
    "import matplotlib.pyplot as plt"
   ]
  },
  {
   "cell_type": "code",
   "execution_count": 2,
   "metadata": {},
   "outputs": [],
   "source": [
    "df_polarity = pd.read_csv('polarity_socre.csv',sep='\\t',encoding='utf-8')"
   ]
  },
  {
   "cell_type": "code",
   "execution_count": 3,
   "metadata": {},
   "outputs": [],
   "source": [
    "df = pd.read_csv('[Final]Best_feautres_df.csv',sep='\\t',encoding='utf-8')"
   ]
  },
  {
   "cell_type": "code",
   "execution_count": 4,
   "metadata": {},
   "outputs": [
    {
     "data": {
      "text/plain": [
       "Credibility\n",
       "0    6362\n",
       "1    9942\n",
       "Name: Credibility, dtype: int64"
      ]
     },
     "execution_count": 4,
     "metadata": {},
     "output_type": "execute_result"
    }
   ],
   "source": [
    "df.groupby(['Credibility'])['Credibility'].count()"
   ]
  },
  {
   "cell_type": "code",
   "execution_count": 5,
   "metadata": {},
   "outputs": [],
   "source": [
    "df1 = pd.read_csv('additional_feature_from_user_study.csv',sep='\\t',encoding='utf-8')"
   ]
  },
  {
   "cell_type": "code",
   "execution_count": 6,
   "metadata": {},
   "outputs": [],
   "source": [
    "Total_df = pd.merge(df,df1)"
   ]
  },
  {
   "cell_type": "code",
   "execution_count": 7,
   "metadata": {},
   "outputs": [],
   "source": [
    "drop_column_list = ['Post_id', 'Blog_mobile_profile_img','Count_neighbors','Post_interval_average',\n",
    " 'Text_similarity',\n",
    " 'Total_post',\n",
    " 'User_Id_len',\n",
    " 'Comment_interaction',\n",
    " 'Blog_mobile_profile_img',\n",
    " 'Opening_date','Blog_info_text_len']"
   ]
  },
  {
   "cell_type": "code",
   "execution_count": 8,
   "metadata": {},
   "outputs": [],
   "source": [
    "new_df = Total_df.drop(drop_column_list,axis=1)"
   ]
  },
  {
   "cell_type": "code",
   "execution_count": 9,
   "metadata": {},
   "outputs": [],
   "source": [
    "new_df['Polarity'] = df_polarity['polarity'].tolist()"
   ]
  },
  {
   "cell_type": "code",
   "execution_count": 10,
   "metadata": {},
   "outputs": [],
   "source": [
    "Analysis_df = new_df.fillna(0)"
   ]
  },
  {
   "cell_type": "code",
   "execution_count": 11,
   "metadata": {},
   "outputs": [],
   "source": [
    "Analysis_df.to_csv('[Final]Our_feature_model.csv',sep='\\t',encoding='utf-8',index=False)"
   ]
  },
  {
   "cell_type": "markdown",
   "metadata": {},
   "source": [
    "# Data shuffle"
   ]
  },
  {
   "cell_type": "code",
   "execution_count": null,
   "metadata": {},
   "outputs": [],
   "source": [
    "from sklearn.utils import shuffle\n",
    "Analysis_df = shuffle(Analysis_df)"
   ]
  },
  {
   "cell_type": "markdown",
   "metadata": {},
   "source": [
    "# MinMaxScaler"
   ]
  },
  {
   "cell_type": "code",
   "execution_count": 13,
   "metadata": {},
   "outputs": [],
   "source": [
    "x = Analysis_df.drop(columns='Credibility',axis=1)\n",
    "y = Analysis_df[['Credibility']]\n",
    "# from sklearn.preprocessing import StandardScaler\n",
    "# scaler = StandardScaler()\n",
    "# scaler.fit(x) \n",
    "\n",
    "# Min-max scaler\n",
    "from sklearn.preprocessing import MinMaxScaler\n",
    "scaler = MinMaxScaler(copy=True, feature_range=(0, 1))\n",
    "scaler.fit(x) \n",
    "X_scaled = pd.DataFrame(scaler.transform(x),columns = x.columns)"
   ]
  },
  {
   "cell_type": "markdown",
   "metadata": {},
   "source": [
    "## Chi-squre feature selection"
   ]
  },
  {
   "cell_type": "code",
   "execution_count": 14,
   "metadata": {},
   "outputs": [],
   "source": [
    "feature_name = X_scaled.columns.tolist()"
   ]
  },
  {
   "cell_type": "code",
   "execution_count": 15,
   "metadata": {},
   "outputs": [],
   "source": [
    "from sklearn.feature_selection import SelectKBest\n",
    "from sklearn.feature_selection import chi2\n",
    "chi2_selector = SelectKBest(chi2, k=20)\n",
    "chi2_selector.fit(X_scaled, y)\n",
    "\n",
    "# Look at scores returned from the selector for each feature\n",
    "chi2_scores = pd.DataFrame(list(zip(feature_name, chi2_selector.scores_, chi2_selector.pvalues_)), columns=['ftr', 'score', 'pval'])\n",
    "chi2_scores\n",
    "\n",
    "# you can see that the kbest returned from SelectKBest \n",
    "#+ were the two features with the _highest_ score\n",
    "kbest = np.asarray(feature_name)[chi2_selector.get_support()]"
   ]
  },
  {
   "cell_type": "code",
   "execution_count": 16,
   "metadata": {},
   "outputs": [
    {
     "name": "stdout",
     "output_type": "stream",
     "text": [
      "Feature ranking:\n",
      "FR_url\n",
      "img text img text img\n",
      "text img text img text\n",
      "img img img img img\n",
      "Sticker_count\n",
      "img img img text img\n",
      "text img img img img\n",
      "img img img img text\n",
      "img text img img img\n",
      "text img img img text\n",
      "img text img img text\n",
      "Tag_count\n",
      "Polarity\n",
      "Center\n",
      "img img text img img\n",
      "neg_ratio\n",
      "text img text img img\n",
      "Right\n",
      "text img img text img\n",
      "subjectivity\n",
      "First_ratio\n",
      "Second_ratio\n",
      "effort_img_ratio\n",
      "Question_count\n",
      "Left\n",
      "img img text img text\n",
      "effort_ratio\n",
      "Justify\n",
      "senti_diffs_per_ref\n",
      "Text_len\n",
      "pos_ratio\n"
     ]
    }
   ],
   "source": [
    "feature_dict = dict(zip(feature_name,chi2_selector.scores_))\n",
    "ranking_list = reversed(sorted(feature_dict.items(), key =lambda feature_dict:feature_dict[1]))\n",
    "print('Feature ranking:')\n",
    "for feature in ranking_list:\n",
    "    #print ('feature : %d %s (%f)' % (num+1,Feautre_list[feature[0]],feature[1]))\n",
    "    print(feature[0])"
   ]
  },
  {
   "cell_type": "markdown",
   "metadata": {},
   "source": [
    "## Standard scaler"
   ]
  },
  {
   "cell_type": "code",
   "execution_count": 17,
   "metadata": {},
   "outputs": [],
   "source": [
    "x = Analysis_df.drop(columns='Credibility',axis=1)\n",
    "y = Analysis_df[['Credibility']]\n",
    "from sklearn.preprocessing import StandardScaler\n",
    "scaler = StandardScaler()\n",
    "scaler.fit(x) \n",
    "X_scaled = pd.DataFrame(scaler.transform(x),columns = x.columns)"
   ]
  },
  {
   "cell_type": "code",
   "execution_count": 18,
   "metadata": {},
   "outputs": [],
   "source": [
    "from sklearn.model_selection import train_test_split\n",
    "x_train, x_test, y_train, y_test = train_test_split(X_scaled , y , test_size=0.33, random_state=42)"
   ]
  },
  {
   "cell_type": "markdown",
   "metadata": {},
   "source": [
    "## Random Forest"
   ]
  },
  {
   "cell_type": "code",
   "execution_count": 19,
   "metadata": {},
   "outputs": [
    {
     "name": "stderr",
     "output_type": "stream",
     "text": [
      "/Users/yonggeol/miniconda3/envs/py/lib/python3.6/site-packages/ipykernel_launcher.py:6: DataConversionWarning: A column-vector y was passed when a 1d array was expected. Please change the shape of y to (n_samples,), for example using ravel().\n",
      "  \n"
     ]
    },
    {
     "data": {
      "text/plain": [
       "RandomForestClassifier(bootstrap=True, class_weight=None, criterion='gini',\n",
       "            max_depth=2, max_features='auto', max_leaf_nodes=None,\n",
       "            min_impurity_decrease=0.0, min_impurity_split=None,\n",
       "            min_samples_leaf=1, min_samples_split=2,\n",
       "            min_weight_fraction_leaf=0.0, n_estimators=10, n_jobs=1,\n",
       "            oob_score=False, random_state=0, verbose=0, warm_start=False)"
      ]
     },
     "execution_count": 19,
     "metadata": {},
     "output_type": "execute_result"
    }
   ],
   "source": [
    "from sklearn.metrics import accuracy_score\n",
    "from sklearn.ensemble import RandomForestClassifier\n",
    "from sklearn.datasets import make_classification\n",
    "\n",
    "clf = RandomForestClassifier(max_depth=2, random_state=0)\n",
    "clf.fit(x_train, y_train)"
   ]
  },
  {
   "cell_type": "code",
   "execution_count": 20,
   "metadata": {
    "scrolled": true
   },
   "outputs": [
    {
     "name": "stdout",
     "output_type": "stream",
     "text": [
      "RF : 0.8277271882549712\n"
     ]
    }
   ],
   "source": [
    "print(\"RF :\",accuracy_score(clf.predict(x_test),y_test))"
   ]
  },
  {
   "cell_type": "code",
   "execution_count": 21,
   "metadata": {},
   "outputs": [
    {
     "name": "stdout",
     "output_type": "stream",
     "text": [
      "             precision    recall  f1-score   support\n",
      "\n",
      "          0       0.79      0.76      0.77      2088\n",
      "          1       0.85      0.87      0.86      3293\n",
      "\n",
      "avg / total       0.83      0.83      0.83      5381\n",
      "\n"
     ]
    }
   ],
   "source": [
    "from sklearn.metrics import classification_report\n",
    "print(classification_report(y_test, clf.predict(x_test)))"
   ]
  },
  {
   "cell_type": "code",
   "execution_count": 22,
   "metadata": {
    "scrolled": true
   },
   "outputs": [
    {
     "name": "stderr",
     "output_type": "stream",
     "text": [
      "/Users/yonggeol/miniconda3/envs/py/lib/python3.6/site-packages/sklearn/model_selection/_validation.py:458: DataConversionWarning: A column-vector y was passed when a 1d array was expected. Please change the shape of y to (n_samples,), for example using ravel().\n",
      "  estimator.fit(X_train, y_train, **fit_params)\n",
      "/Users/yonggeol/miniconda3/envs/py/lib/python3.6/site-packages/sklearn/model_selection/_validation.py:458: DataConversionWarning: A column-vector y was passed when a 1d array was expected. Please change the shape of y to (n_samples,), for example using ravel().\n",
      "  estimator.fit(X_train, y_train, **fit_params)\n",
      "/Users/yonggeol/miniconda3/envs/py/lib/python3.6/site-packages/sklearn/model_selection/_validation.py:458: DataConversionWarning: A column-vector y was passed when a 1d array was expected. Please change the shape of y to (n_samples,), for example using ravel().\n",
      "  estimator.fit(X_train, y_train, **fit_params)\n",
      "/Users/yonggeol/miniconda3/envs/py/lib/python3.6/site-packages/sklearn/model_selection/_validation.py:458: DataConversionWarning: A column-vector y was passed when a 1d array was expected. Please change the shape of y to (n_samples,), for example using ravel().\n",
      "  estimator.fit(X_train, y_train, **fit_params)\n",
      "/Users/yonggeol/miniconda3/envs/py/lib/python3.6/site-packages/sklearn/model_selection/_validation.py:458: DataConversionWarning: A column-vector y was passed when a 1d array was expected. Please change the shape of y to (n_samples,), for example using ravel().\n",
      "  estimator.fit(X_train, y_train, **fit_params)\n"
     ]
    },
    {
     "data": {
      "text/plain": [
       "array([0.77958308, 0.83507051, 0.83773006, 0.84294479, 0.81472393])"
      ]
     },
     "execution_count": 22,
     "metadata": {},
     "output_type": "execute_result"
    }
   ],
   "source": [
    "from sklearn.model_selection import cross_val_score\n",
    "scores = cross_val_score(clf, X_scaled, y, cv=5)\n",
    "scores   "
   ]
  },
  {
   "cell_type": "code",
   "execution_count": 23,
   "metadata": {},
   "outputs": [
    {
     "name": "stdout",
     "output_type": "stream",
     "text": [
      "Feature ranking:\n",
      "0.31527214685877747\n",
      "0.15303937157556305\n",
      "0.10054747920412836\n",
      "0.08907890504044594\n",
      "0.061318728635017986\n",
      "0.05184512842026836\n",
      "0.05062330995654313\n",
      "0.04766129718201289\n",
      "0.03592849089550014\n",
      "0.033621604003984916\n",
      "0.028101385115646887\n",
      "0.01422373453933271\n",
      "0.012358543480228046\n",
      "0.00275278046948188\n",
      "0.0019117017616242494\n",
      "0.001715392861443991\n",
      "0.0\n",
      "0.0\n",
      "0.0\n",
      "0.0\n",
      "0.0\n",
      "0.0\n",
      "0.0\n",
      "0.0\n",
      "0.0\n",
      "0.0\n",
      "0.0\n",
      "0.0\n",
      "0.0\n",
      "0.0\n",
      "0.0\n"
     ]
    },
    {
     "data": {
      "image/png": "[encoded data removed]",
      "text/plain": [
       "<Figure size 432x288 with 1 Axes>"
      ]
     },
     "metadata": {},
     "output_type": "display_data"
    }
   ],
   "source": [
    "importances = clf.feature_importances_\n",
    "std = np.std([clf.feature_importances_ for tree in clf.estimators_],\n",
    "             axis=0)\n",
    "indices = np.argsort(importances)[::-1]\n",
    "\n",
    "# Print the feature ranking\n",
    "print(\"Feature ranking:\")\n",
    "\n",
    "for f in range(X_scaled.shape[1]):\n",
    "    #print(\"%d. feature: %s (%f)\" % (f + 1, Feautre_list[indices[f]], importances[indices[f]]))\n",
    "    #print(feature_name[indices[f]])\n",
    "    print(importances[indices[f]])\n",
    "# Plot the feature importances of the forest\n",
    "plt.figure()\n",
    "plt.title(\"Feature importances\")\n",
    "plt.bar(range(x_train.shape[1]), importances[indices],\n",
    "       color=\"r\", yerr=std[indices], align=\"center\")\n",
    "plt.xticks(range(x_train.shape[1]), indices)\n",
    "plt.xlim([-1, x_train.shape[1]])\n",
    "plt.show()"
   ]
  },
  {
   "cell_type": "markdown",
   "metadata": {},
   "source": [
    "# Logistic Regression"
   ]
  },
  {
   "cell_type": "code",
   "execution_count": 24,
   "metadata": {},
   "outputs": [
    {
     "name": "stderr",
     "output_type": "stream",
     "text": [
      "/Users/yonggeol/miniconda3/envs/py/lib/python3.6/site-packages/sklearn/utils/validation.py:578: DataConversionWarning: A column-vector y was passed when a 1d array was expected. Please change the shape of y to (n_samples, ), for example using ravel().\n",
      "  y = column_or_1d(y, warn=True)\n",
      "/Users/yonggeol/miniconda3/envs/py/lib/python3.6/site-packages/sklearn/linear_model/sag.py:326: ConvergenceWarning: The max_iter was reached which means the coef_ did not converge\n",
      "  \"the coef_ did not converge\", ConvergenceWarning)\n"
     ]
    },
    {
     "data": {
      "text/plain": [
       "LogisticRegression(C=2.0, class_weight=None, dual=False, fit_intercept=True,\n",
       "          intercept_scaling=1, max_iter=100, multi_class='multinomial',\n",
       "          n_jobs=1, penalty='l2', random_state=42, solver='sag',\n",
       "          tol=0.0001, verbose=0, warm_start=True)"
      ]
     },
     "execution_count": 24,
     "metadata": {},
     "output_type": "execute_result"
    }
   ],
   "source": [
    "from  sklearn  import  linear_model\n",
    "logreg = linear_model.LogisticRegression(C=2.0,random_state=42,solver='sag',multi_class='multinomial',warm_start=True)\n",
    "logreg.fit(x_train, y_train)"
   ]
  },
  {
   "cell_type": "code",
   "execution_count": 25,
   "metadata": {
    "scrolled": true
   },
   "outputs": [
    {
     "name": "stdout",
     "output_type": "stream",
     "text": [
      "LR : 0.7961345474818807\n"
     ]
    }
   ],
   "source": [
    "print(\"LR :\",accuracy_score(logreg.predict(x_test),y_test))"
   ]
  },
  {
   "cell_type": "code",
   "execution_count": 26,
   "metadata": {
    "scrolled": true
   },
   "outputs": [
    {
     "name": "stdout",
     "output_type": "stream",
     "text": [
      "             precision    recall  f1-score   support\n",
      "\n",
      "          0       0.75      0.72      0.73      2088\n",
      "          1       0.83      0.84      0.84      3293\n",
      "\n",
      "avg / total       0.80      0.80      0.80      5381\n",
      "\n"
     ]
    }
   ],
   "source": [
    "from sklearn.metrics import classification_report\n",
    "print(classification_report(y_test, logreg.predict(x_test)))"
   ]
  },
  {
   "cell_type": "code",
   "execution_count": 27,
   "metadata": {
    "scrolled": true
   },
   "outputs": [
    {
     "name": "stderr",
     "output_type": "stream",
     "text": [
      "/Users/yonggeol/miniconda3/envs/py/lib/python3.6/site-packages/sklearn/utils/validation.py:578: DataConversionWarning: A column-vector y was passed when a 1d array was expected. Please change the shape of y to (n_samples, ), for example using ravel().\n",
      "  y = column_or_1d(y, warn=True)\n",
      "/Users/yonggeol/miniconda3/envs/py/lib/python3.6/site-packages/sklearn/linear_model/sag.py:326: ConvergenceWarning: The max_iter was reached which means the coef_ did not converge\n",
      "  \"the coef_ did not converge\", ConvergenceWarning)\n",
      "/Users/yonggeol/miniconda3/envs/py/lib/python3.6/site-packages/sklearn/utils/validation.py:578: DataConversionWarning: A column-vector y was passed when a 1d array was expected. Please change the shape of y to (n_samples, ), for example using ravel().\n",
      "  y = column_or_1d(y, warn=True)\n",
      "/Users/yonggeol/miniconda3/envs/py/lib/python3.6/site-packages/sklearn/linear_model/sag.py:326: ConvergenceWarning: The max_iter was reached which means the coef_ did not converge\n",
      "  \"the coef_ did not converge\", ConvergenceWarning)\n",
      "/Users/yonggeol/miniconda3/envs/py/lib/python3.6/site-packages/sklearn/utils/validation.py:578: DataConversionWarning: A column-vector y was passed when a 1d array was expected. Please change the shape of y to (n_samples, ), for example using ravel().\n",
      "  y = column_or_1d(y, warn=True)\n",
      "/Users/yonggeol/miniconda3/envs/py/lib/python3.6/site-packages/sklearn/linear_model/sag.py:326: ConvergenceWarning: The max_iter was reached which means the coef_ did not converge\n",
      "  \"the coef_ did not converge\", ConvergenceWarning)\n",
      "/Users/yonggeol/miniconda3/envs/py/lib/python3.6/site-packages/sklearn/utils/validation.py:578: DataConversionWarning: A column-vector y was passed when a 1d array was expected. Please change the shape of y to (n_samples, ), for example using ravel().\n",
      "  y = column_or_1d(y, warn=True)\n",
      "/Users/yonggeol/miniconda3/envs/py/lib/python3.6/site-packages/sklearn/linear_model/sag.py:326: ConvergenceWarning: The max_iter was reached which means the coef_ did not converge\n",
      "  \"the coef_ did not converge\", ConvergenceWarning)\n",
      "/Users/yonggeol/miniconda3/envs/py/lib/python3.6/site-packages/sklearn/utils/validation.py:578: DataConversionWarning: A column-vector y was passed when a 1d array was expected. Please change the shape of y to (n_samples, ), for example using ravel().\n",
      "  y = column_or_1d(y, warn=True)\n",
      "/Users/yonggeol/miniconda3/envs/py/lib/python3.6/site-packages/sklearn/linear_model/sag.py:326: ConvergenceWarning: The max_iter was reached which means the coef_ did not converge\n",
      "  \"the coef_ did not converge\", ConvergenceWarning)\n"
     ]
    },
    {
     "data": {
      "text/plain": [
       "array([0.76088289, 0.79889638, 0.76748466, 0.79754601, 0.80184049])"
      ]
     },
     "execution_count": 27,
     "metadata": {},
     "output_type": "execute_result"
    }
   ],
   "source": [
    "from sklearn.model_selection import cross_val_score\n",
    "scores = cross_val_score(logreg, X_scaled, y, cv=5)\n",
    "scores         "
   ]
  },
  {
   "cell_type": "code",
   "execution_count": 35,
   "metadata": {},
   "outputs": [
    {
     "data": {
      "image/png": "[encoded data removed]",
      "text/plain": [
       "<Figure size 432x288 with 1 Axes>"
      ]
     },
     "metadata": {},
     "output_type": "display_data"
    },
    {
     "data": {
      "text/plain": [
       "<Figure size 1080x1080 with 0 Axes>"
      ]
     },
     "metadata": {},
     "output_type": "display_data"
    }
   ],
   "source": [
    "import matplotlib as mpl\n",
    "import matplotlib.pylab as plt\n",
    "\n",
    "feature_importance = abs(logreg.coef_[0])\n",
    "feature_importance = 100.0 * (feature_importance / feature_importance.max())\n",
    "sorted_idx = np.argsort(feature_importance)\n",
    "pos = np.arange(sorted_idx.shape[0]) + .5\n",
    "\n",
    "featfig = plt.figure()\n",
    "f1 = plt.figure(figsize=(15,15))\n",
    "featax = featfig.add_subplot(1, 1, 1)\n",
    "featax.barh(pos, feature_importance[sorted_idx], align='center')\n",
    "featax.set_yticks(pos)\n",
    "featax.set_yticklabels(np.array(x_train.columns)[sorted_idx], fontsize=8)\n",
    "featax.set_xlabel('Relative Feature Importance')\n",
    "\n",
    "plt.tight_layout()   \n",
    "plt.show()"
   ]
  },
  {
   "cell_type": "code",
   "execution_count": 38,
   "metadata": {},
   "outputs": [
    {
     "data": {
      "text/plain": [
       "array([ 0.5,  1.5,  2.5,  3.5,  4.5,  5.5,  6.5,  7.5,  8.5,  9.5, 10.5,\n",
       "       11.5, 12.5, 13.5, 14.5, 15.5, 16.5, 17.5, 18.5, 19.5, 20.5, 21.5,\n",
       "       22.5, 23.5, 24.5, 25.5, 26.5, 27.5, 28.5, 29.5, 30.5])"
      ]
     },
     "execution_count": 38,
     "metadata": {},
     "output_type": "execute_result"
    }
   ],
   "source": [
    "pos"
   ]
  },
  {
   "cell_type": "code",
   "execution_count": 45,
   "metadata": {},
   "outputs": [
    {
     "name": "stdout",
     "output_type": "stream",
     "text": [
      "Feature ranking:\n",
      "effort_ratio \t 100.0\n",
      "img text img text img \t 78.98422520688368\n",
      "Left \t 70.40311267204852\n",
      "Text_len \t 54.46540552666291\n",
      "effort_img_ratio \t 47.34688290225303\n",
      "FR_url \t 40.426549876501305\n",
      "img img img img img \t 31.925648446943562\n",
      "img img text img img \t 28.125513914847726\n",
      "text img text img text \t 22.16769932865544\n",
      "Sticker_count \t 21.894697237290785\n",
      "img text img img text \t 19.668778237187333\n",
      "First_ratio \t 15.873298396719926\n",
      "Question_count \t 15.392609324986786\n",
      "Right \t 14.493015689164265\n",
      "text img img img img \t 13.859539345761524\n",
      "neg_ratio \t 12.726827735006152\n",
      "text img img text img \t 12.593743000441885\n",
      "img img text img text \t 10.308173722749215\n",
      "subjectivity \t 9.536090389061993\n",
      "img text img img img \t 8.888417329626568\n",
      "senti_diffs_per_ref \t 8.641308875020421\n",
      "img img img img text \t 7.634084282207941\n",
      "img img img text img \t 6.962063528371247\n",
      "Center \t 6.741607048333\n",
      "Justify \t 6.3489927627935705\n",
      "pos_ratio \t 2.0873008309949843\n",
      "Polarity \t 1.0481430588757759\n",
      "Second_ratio \t 1.0452865438255623\n",
      "text img img img text \t 0.9749393603757289\n",
      "text img text img img \t 0.9428807468046169\n",
      "Tag_count \t 0.8165496669298148\n"
     ]
    }
   ],
   "source": [
    "feature_dict = dict(zip(feature_name,feature_importance))\n",
    "ranking_list = reversed(sorted(feature_dict.items(), key =lambda feature_dict:feature_dict[1]))\n",
    "print('Feature ranking:')\n",
    "num = 31\n",
    "\n",
    "for feature in ranking_list:\n",
    "    #print ('feature : %d %s (%f)' % (num+1,Feautre_list[feature[0]],feature[1]))\n",
    "    print(feature[0],'\\t',feature[1])"
   ]
  },
  {
   "cell_type": "markdown",
   "metadata": {},
   "source": [
    "## MLP"
   ]
  },
  {
   "cell_type": "code",
   "execution_count": 28,
   "metadata": {},
   "outputs": [],
   "source": [
    "import time\n",
    "from sklearn.neural_network import MLPClassifier"
   ]
  },
  {
   "cell_type": "code",
   "execution_count": 29,
   "metadata": {},
   "outputs": [],
   "source": [
    "mlp_clf = MLPClassifier(\n",
    "    hidden_layer_sizes=(50,),\n",
    "    max_iter=35,\n",
    "    alpha=1e-4,\n",
    "    solver='sgd',\n",
    "    verbose=10,\n",
    "    tol=1e-4,\n",
    "    random_state=1,\n",
    "    learning_rate_init=.1\n",
    ")"
   ]
  },
  {
   "cell_type": "code",
   "execution_count": 30,
   "metadata": {
    "scrolled": true
   },
   "outputs": [
    {
     "name": "stderr",
     "output_type": "stream",
     "text": [
      "/Users/yonggeol/miniconda3/envs/py/lib/python3.6/site-packages/sklearn/neural_network/multilayer_perceptron.py:912: DataConversionWarning: A column-vector y was passed when a 1d array was expected. Please change the shape of y to (n_samples, ), for example using ravel().\n",
      "  y = column_or_1d(y, warn=True)\n"
     ]
    },
    {
     "name": "stdout",
     "output_type": "stream",
     "text": [
      "Iteration 1, loss = 0.46105771\n",
      "Iteration 2, loss = 0.38299301\n",
      "Iteration 3, loss = 0.35822309\n",
      "Iteration 4, loss = 0.34045100\n",
      "Iteration 5, loss = 0.33539630\n",
      "Iteration 6, loss = 0.32707424\n",
      "Iteration 7, loss = 0.31817668\n",
      "Iteration 8, loss = 0.31056217\n",
      "Iteration 9, loss = 0.30455743\n",
      "Iteration 10, loss = 0.30106378\n",
      "Iteration 11, loss = 0.30047924\n",
      "Iteration 12, loss = 0.29090504\n",
      "Iteration 13, loss = 0.29046174\n",
      "Iteration 14, loss = 0.28735982\n",
      "Iteration 15, loss = 0.28185230\n",
      "Iteration 16, loss = 0.28083335\n",
      "Iteration 17, loss = 0.27483043\n",
      "Iteration 18, loss = 0.27736849\n",
      "Iteration 19, loss = 0.28090845\n",
      "Iteration 20, loss = 0.27059808\n",
      "Iteration 21, loss = 0.26687096\n",
      "Iteration 22, loss = 0.26586312\n",
      "Iteration 23, loss = 0.26622140\n",
      "Iteration 24, loss = 0.26594290\n",
      "Iteration 25, loss = 0.26205967\n",
      "Iteration 26, loss = 0.25837063\n",
      "Iteration 27, loss = 0.25651262\n",
      "Iteration 28, loss = 0.25673026\n",
      "Iteration 29, loss = 0.25425766\n",
      "Iteration 30, loss = 0.25225440\n",
      "Iteration 31, loss = 0.25609173\n",
      "Iteration 32, loss = 0.25002647\n",
      "Iteration 33, loss = 0.24957034\n",
      "Iteration 34, loss = 0.24654212\n",
      "Iteration 35, loss = 0.24457738\n",
      "Time: 0.730711s\n"
     ]
    },
    {
     "name": "stderr",
     "output_type": "stream",
     "text": [
      "/Users/yonggeol/miniconda3/envs/py/lib/python3.6/site-packages/sklearn/neural_network/multilayer_perceptron.py:564: ConvergenceWarning: Stochastic Optimizer: Maximum iterations (35) reached and the optimization hasn't converged yet.\n",
      "  % self.max_iter, ConvergenceWarning)\n"
     ]
    }
   ],
   "source": [
    "start = time.time()\n",
    "mlp_clf.fit(x_train, y_train)\n",
    "end = time.time()\n",
    "print('Time: {:f}s'.format(end-start))"
   ]
  },
  {
   "cell_type": "code",
   "execution_count": 31,
   "metadata": {
    "scrolled": true
   },
   "outputs": [
    {
     "name": "stdout",
     "output_type": "stream",
     "text": [
      "테스트 정확도: 0.864\n"
     ]
    }
   ],
   "source": [
    "y_pred = mlp_clf.predict(x_test)\n",
    "print(\"테스트 정확도: {:.3f}\".format(accuracy_score(y_pred, y_test)))"
   ]
  },
  {
   "cell_type": "code",
   "execution_count": 32,
   "metadata": {
    "scrolled": true
   },
   "outputs": [
    {
     "name": "stdout",
     "output_type": "stream",
     "text": [
      "             precision    recall  f1-score   support\n",
      "\n",
      "          0       0.83      0.83      0.83      2117\n",
      "          1       0.89      0.89      0.89      3264\n",
      "\n",
      "avg / total       0.86      0.86      0.86      5381\n",
      "\n"
     ]
    }
   ],
   "source": [
    "from sklearn.metrics import classification_report\n",
    "print(classification_report(y_test, mlp_clf.predict(x_test)))"
   ]
  },
  {
   "cell_type": "markdown",
   "metadata": {},
   "source": [
    "# OLS Regression Results"
   ]
  },
  {
   "cell_type": "code",
   "execution_count": null,
   "metadata": {
    "scrolled": true
   },
   "outputs": [],
   "source": [
    "import statsmodels.api as sm\n",
    "x_2 = sm.add_constant(x)\n",
    "est = sm.OLS(y,x_2.astype(float)).fit()"
   ]
  },
  {
   "cell_type": "code",
   "execution_count": null,
   "metadata": {
    "scrolled": true
   },
   "outputs": [],
   "source": [
    "print(est.summary())"
   ]
  },
  {
   "cell_type": "code",
   "execution_count": 33,
   "metadata": {},
   "outputs": [
    {
     "data": {
      "text/plain": [
       "['FR_url',\n",
       " 'Question_count',\n",
       " 'First_ratio',\n",
       " 'Second_ratio',\n",
       " 'Tag_count',\n",
       " 'Text_len',\n",
       " 'senti_diffs_per_ref',\n",
       " 'pos_ratio',\n",
       " 'neg_ratio',\n",
       " 'subjectivity',\n",
       " 'Sticker_count',\n",
       " 'effort_img_ratio',\n",
       " 'effort_ratio',\n",
       " 'img img img img img',\n",
       " 'img img img img text',\n",
       " 'img img img text img',\n",
       " 'img img text img img',\n",
       " 'img img text img text',\n",
       " 'img text img img img',\n",
       " 'img text img img text',\n",
       " 'img text img text img',\n",
       " 'text img img img img',\n",
       " 'text img img img text',\n",
       " 'text img img text img',\n",
       " 'text img text img img',\n",
       " 'text img text img text',\n",
       " 'Left',\n",
       " 'Center',\n",
       " 'Right',\n",
       " 'Justify',\n",
       " 'Polarity']"
      ]
     },
     "execution_count": 33,
     "metadata": {},
     "output_type": "execute_result"
    }
   ],
   "source": [
    "feature_name"
   ]
  }
 ],
 "metadata": {
  "kernelspec": {
   "display_name": "Python 3",
   "language": "python",
   "name": "python3"
  },
  "language_info": {
   "codemirror_mode": {
    "name": "ipython",
    "version": 3
   },
   "file_extension": ".py",
   "mimetype": "text/x-python",
   "name": "python",
   "nbconvert_exporter": "python",
   "pygments_lexer": "ipython3",
   "version": "3.6.7"
  }
 },
 "nbformat": 4,
 "nbformat_minor": 2
}
