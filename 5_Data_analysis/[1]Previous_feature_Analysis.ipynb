{
 "cells": [
  {
   "cell_type": "code",
   "execution_count": 64,
   "metadata": {},
   "outputs": [],
   "source": [
    "import pandas as pd\n",
    "import numpy as np\n",
    "import matplotlib.pyplot as plt"
   ]
  },
  {
   "cell_type": "code",
   "execution_count": 65,
   "metadata": {},
   "outputs": [],
   "source": [
    "df = pd.read_csv('[Final]Best_feautres_df.csv',sep='\\t',encoding='utf-8')"
   ]
  },
  {
   "cell_type": "code",
   "execution_count": 66,
   "metadata": {},
   "outputs": [],
   "source": [
    "append_df = pd.read_csv('polarity_socre.csv',sep='\\t',encoding='utf-8')"
   ]
  },
  {
   "cell_type": "code",
   "execution_count": 67,
   "metadata": {},
   "outputs": [],
   "source": [
    "drop_column_list = ['Post_id', 'Blog_mobile_profile_img','Count_neighbors','Post_interval_average',\n",
    " 'Text_similarity',\n",
    " 'Total_post',\n",
    " 'User_Id_len',\n",
    " 'Comment_interaction',\n",
    " 'Blog_mobile_profile_img',\n",
    " 'Opening_date',\n",
    "'Blog_info_text_len',]"
   ]
  },
  {
   "cell_type": "code",
   "execution_count": 68,
   "metadata": {},
   "outputs": [],
   "source": [
    "df['polarity'] = append_df['polarity']"
   ]
  },
  {
   "cell_type": "code",
   "execution_count": 69,
   "metadata": {},
   "outputs": [],
   "source": [
    "new_df = df.drop(drop_column_list,axis=1)"
   ]
  },
  {
   "cell_type": "code",
   "execution_count": 70,
   "metadata": {},
   "outputs": [
    {
     "data": {
      "text/plain": [
       "['FR_url',\n",
       " 'Question_count',\n",
       " 'First_ratio',\n",
       " 'Second_ratio',\n",
       " 'Tag_count',\n",
       " 'Text_len',\n",
       " 'senti_diffs_per_ref',\n",
       " 'pos_ratio',\n",
       " 'neg_ratio',\n",
       " 'subjectivity',\n",
       " 'Sticker_count',\n",
       " 'Credibility',\n",
       " 'polarity']"
      ]
     },
     "execution_count": 70,
     "metadata": {},
     "output_type": "execute_result"
    }
   ],
   "source": [
    "new_df.columns.tolist()"
   ]
  },
  {
   "cell_type": "code",
   "execution_count": 71,
   "metadata": {},
   "outputs": [],
   "source": [
    "Analysis_df = new_df.fillna(0)"
   ]
  },
  {
   "cell_type": "code",
   "execution_count": 10,
   "metadata": {},
   "outputs": [],
   "source": [
    "Analysis_df.to_csv('[Final]Best_features_Analysis_df.csv',sep='\\t',encoding='utf-8',index=False)"
   ]
  },
  {
   "cell_type": "markdown",
   "metadata": {},
   "source": [
    "# Data shuffle"
   ]
  },
  {
   "cell_type": "code",
   "execution_count": 72,
   "metadata": {},
   "outputs": [],
   "source": [
    "from sklearn.utils import shuffle\n",
    "Analysis_df = shuffle(Analysis_df)"
   ]
  },
  {
   "cell_type": "code",
   "execution_count": 73,
   "metadata": {},
   "outputs": [],
   "source": [
    "x = Analysis_df.drop(columns='Credibility',axis=1)\n",
    "y = Analysis_df[['Credibility']]"
   ]
  },
  {
   "cell_type": "code",
   "execution_count": 74,
   "metadata": {},
   "outputs": [
    {
     "data": {
      "text/plain": [
       "StandardScaler(copy=True, with_mean=True, with_std=True)"
      ]
     },
     "execution_count": 74,
     "metadata": {},
     "output_type": "execute_result"
    }
   ],
   "source": [
    "from sklearn.preprocessing import StandardScaler\n",
    "scaler = StandardScaler()\n",
    "scaler.fit(x) "
   ]
  },
  {
   "cell_type": "code",
   "execution_count": 75,
   "metadata": {},
   "outputs": [],
   "source": [
    "X_scaled = pd.DataFrame(scaler.transform(x),columns = x.columns)"
   ]
  },
  {
   "cell_type": "code",
   "execution_count": 76,
   "metadata": {},
   "outputs": [],
   "source": [
    "from sklearn.model_selection import train_test_split\n",
    "x_train, x_test, y_train, y_test = train_test_split(X_scaled , y , test_size=0.33, random_state=42)"
   ]
  },
  {
   "cell_type": "code",
   "execution_count": 51,
   "metadata": {},
   "outputs": [],
   "source": [
    "Feautre_list = Analysis_df.columns.tolist()[:-1]"
   ]
  },
  {
   "cell_type": "code",
   "execution_count": 29,
   "metadata": {},
   "outputs": [],
   "source": [
    "x = Analysis_df.drop(columns='Credibility',axis=1)\n",
    "y = Analysis_df[['Credibility']]\n",
    "# from sklearn.preprocessing import StandardScaler\n",
    "# scaler = StandardScaler()\n",
    "# scaler.fit(x) \n",
    "\n",
    "# Min-max scaler\n",
    "from sklearn.preprocessing import MinMaxScaler\n",
    "scaler = MinMaxScaler(copy=True, feature_range=(0, 1))\n",
    "scaler.fit(x) \n",
    "X_scaled = pd.DataFrame(scaler.transform(x),columns = x.columns)"
   ]
  },
  {
   "cell_type": "markdown",
   "metadata": {},
   "source": [
    "## Chi-squre feature selection"
   ]
  },
  {
   "cell_type": "code",
   "execution_count": 77,
   "metadata": {},
   "outputs": [],
   "source": [
    "feature_name = X_scaled.columns.tolist()"
   ]
  },
  {
   "cell_type": "code",
   "execution_count": 78,
   "metadata": {},
   "outputs": [
    {
     "data": {
      "text/plain": [
       "['FR_url',\n",
       " 'Question_count',\n",
       " 'First_ratio',\n",
       " 'Second_ratio',\n",
       " 'Tag_count',\n",
       " 'Text_len',\n",
       " 'senti_diffs_per_ref',\n",
       " 'pos_ratio',\n",
       " 'neg_ratio',\n",
       " 'subjectivity',\n",
       " 'Sticker_count',\n",
       " 'polarity']"
      ]
     },
     "execution_count": 78,
     "metadata": {},
     "output_type": "execute_result"
    }
   ],
   "source": [
    "feature_name"
   ]
  },
  {
   "cell_type": "code",
   "execution_count": 33,
   "metadata": {},
   "outputs": [],
   "source": [
    "from sklearn.feature_selection import SelectKBest\n",
    "from sklearn.feature_selection import chi2\n",
    "chi2_selector = SelectKBest(chi2, k=12)\n",
    "chi2_selector.fit(X_scaled, y)\n",
    "\n",
    "# Look at scores returned from the selector for each feature\n",
    "chi2_scores = pd.DataFrame(list(zip(feature_name, chi2_selector.scores_, chi2_selector.pvalues_)), columns=['ftr', 'score', 'pval'])\n",
    "chi2_scores\n",
    "\n",
    "# you can see that the kbest returned from SelectKBest \n",
    "#+ were the two features with the _highest_ score\n",
    "kbest = np.asarray(feature_name)[chi2_selector.get_support()]"
   ]
  },
  {
   "cell_type": "code",
   "execution_count": 34,
   "metadata": {},
   "outputs": [
    {
     "name": "stdout",
     "output_type": "stream",
     "text": [
      "Feature ranking:\n",
      "FR_url\n",
      "Sticker_count\n",
      "Tag_count\n",
      "polarity\n",
      "neg_ratio\n",
      "subjectivity\n",
      "First_ratio\n",
      "Second_ratio\n",
      "Question_count\n",
      "senti_diffs_per_ref\n",
      "Text_len\n",
      "pos_ratio\n"
     ]
    }
   ],
   "source": [
    "feature_dict = dict(zip(feature_name,chi2_selector.scores_))\n",
    "ranking_list = reversed(sorted(feature_dict.items(), key =lambda feature_dict:feature_dict[1]))\n",
    "print('Feature ranking:')\n",
    "for feature in ranking_list:\n",
    "    #print ('feature : %d %s (%f)' % (num+1,Feautre_list[feature[0]],feature[1]))\n",
    "    print(feature[0])"
   ]
  },
  {
   "cell_type": "markdown",
   "metadata": {},
   "source": [
    "# Random Forest"
   ]
  },
  {
   "cell_type": "code",
   "execution_count": 79,
   "metadata": {},
   "outputs": [
    {
     "name": "stderr",
     "output_type": "stream",
     "text": [
      "/Users/yonggeol/miniconda3/envs/py/lib/python3.6/site-packages/ipykernel_launcher.py:6: DataConversionWarning: A column-vector y was passed when a 1d array was expected. Please change the shape of y to (n_samples,), for example using ravel().\n",
      "  \n"
     ]
    },
    {
     "data": {
      "text/plain": [
       "RandomForestClassifier(bootstrap=True, class_weight=None, criterion='gini',\n",
       "            max_depth=2, max_features='auto', max_leaf_nodes=None,\n",
       "            min_impurity_decrease=0.0, min_impurity_split=None,\n",
       "            min_samples_leaf=1, min_samples_split=2,\n",
       "            min_weight_fraction_leaf=0.0, n_estimators=10, n_jobs=1,\n",
       "            oob_score=False, random_state=0, verbose=0, warm_start=False)"
      ]
     },
     "execution_count": 79,
     "metadata": {},
     "output_type": "execute_result"
    }
   ],
   "source": [
    "from sklearn.metrics import accuracy_score\n",
    "from sklearn.ensemble import RandomForestClassifier\n",
    "from sklearn.datasets import make_classification\n",
    "\n",
    "clf = RandomForestClassifier(max_depth=2, random_state=0)\n",
    "clf.fit(x_train, y_train)"
   ]
  },
  {
   "cell_type": "code",
   "execution_count": 80,
   "metadata": {
    "scrolled": true
   },
   "outputs": [
    {
     "name": "stdout",
     "output_type": "stream",
     "text": [
      "RF : 0.7063742798736294\n"
     ]
    }
   ],
   "source": [
    "print(\"RF :\",accuracy_score(clf.predict(x_test),y_test))"
   ]
  },
  {
   "cell_type": "code",
   "execution_count": 81,
   "metadata": {},
   "outputs": [
    {
     "name": "stdout",
     "output_type": "stream",
     "text": [
      "             precision    recall  f1-score   support\n",
      "\n",
      "          0       0.82      0.35      0.49      2175\n",
      "          1       0.68      0.95      0.79      3206\n",
      "\n",
      "avg / total       0.74      0.71      0.67      5381\n",
      "\n"
     ]
    }
   ],
   "source": [
    "from sklearn.metrics import classification_report\n",
    "print(classification_report(y_test, clf.predict(x_test)))"
   ]
  },
  {
   "cell_type": "code",
   "execution_count": 55,
   "metadata": {
    "scrolled": true
   },
   "outputs": [
    {
     "name": "stderr",
     "output_type": "stream",
     "text": [
      "/Users/yonggeol/miniconda3/envs/py/lib/python3.6/site-packages/sklearn/model_selection/_validation.py:458: DataConversionWarning: A column-vector y was passed when a 1d array was expected. Please change the shape of y to (n_samples,), for example using ravel().\n",
      "  estimator.fit(X_train, y_train, **fit_params)\n",
      "/Users/yonggeol/miniconda3/envs/py/lib/python3.6/site-packages/sklearn/model_selection/_validation.py:458: DataConversionWarning: A column-vector y was passed when a 1d array was expected. Please change the shape of y to (n_samples,), for example using ravel().\n",
      "  estimator.fit(X_train, y_train, **fit_params)\n",
      "/Users/yonggeol/miniconda3/envs/py/lib/python3.6/site-packages/sklearn/model_selection/_validation.py:458: DataConversionWarning: A column-vector y was passed when a 1d array was expected. Please change the shape of y to (n_samples,), for example using ravel().\n",
      "  estimator.fit(X_train, y_train, **fit_params)\n",
      "/Users/yonggeol/miniconda3/envs/py/lib/python3.6/site-packages/sklearn/model_selection/_validation.py:458: DataConversionWarning: A column-vector y was passed when a 1d array was expected. Please change the shape of y to (n_samples,), for example using ravel().\n",
      "  estimator.fit(X_train, y_train, **fit_params)\n",
      "/Users/yonggeol/miniconda3/envs/py/lib/python3.6/site-packages/sklearn/model_selection/_validation.py:458: DataConversionWarning: A column-vector y was passed when a 1d array was expected. Please change the shape of y to (n_samples,), for example using ravel().\n",
      "  estimator.fit(X_train, y_train, **fit_params)\n"
     ]
    },
    {
     "data": {
      "text/plain": [
       "array([0.70416922, 0.70907419, 0.7095092 , 0.72208589, 0.70797546])"
      ]
     },
     "execution_count": 55,
     "metadata": {},
     "output_type": "execute_result"
    }
   ],
   "source": [
    "from sklearn.model_selection import cross_val_score\n",
    "scores = cross_val_score(clf, X_scaled, y, cv=5)\n",
    "scores   "
   ]
  },
  {
   "cell_type": "code",
   "execution_count": 82,
   "metadata": {},
   "outputs": [
    {
     "name": "stdout",
     "output_type": "stream",
     "text": [
      "Feature ranking:\n",
      "FR_url\n",
      "Text_len\n",
      "Sticker_count\n",
      "neg_ratio\n",
      "pos_ratio\n",
      "polarity\n",
      "Question_count\n",
      "senti_diffs_per_ref\n",
      "subjectivity\n",
      "First_ratio\n",
      "Tag_count\n",
      "Second_ratio\n"
     ]
    },
    {
     "data": {
      "image/png": "[encoded data removed]",
      "text/plain": [
       "<Figure size 432x288 with 1 Axes>"
      ]
     },
     "metadata": {},
     "output_type": "display_data"
    }
   ],
   "source": [
    "importances = clf.feature_importances_\n",
    "std = np.std([clf.feature_importances_ for tree in clf.estimators_],\n",
    "             axis=0)\n",
    "indices = np.argsort(importances)[::-1]\n",
    "\n",
    "# Print the feature ranking\n",
    "print(\"Feature ranking:\")\n",
    "\n",
    "for f in range(X_scaled.shape[1]):\n",
    "    #print(\"%d. feature %s (%f)\" % (f + 1, Feautre_list[indices[f]], importances[indices[f]]))\n",
    "    print(feature_name[indices[f]])\n",
    "# Plot the feature importances of the forest\n",
    "plt.figure()\n",
    "plt.title(\"Feature importances\")\n",
    "plt.bar(range(x_train.shape[1]), importances[indices],\n",
    "       color=\"r\", yerr=std[indices], align=\"center\")\n",
    "\n",
    "plt.xticks(range(x_train.shape[1]), indices)\n",
    "plt.xlim([-1, x_train.shape[1]])\n",
    "plt.show()"
   ]
  },
  {
   "cell_type": "markdown",
   "metadata": {},
   "source": [
    "# Logistic Regression"
   ]
  },
  {
   "cell_type": "code",
   "execution_count": 83,
   "metadata": {},
   "outputs": [
    {
     "name": "stderr",
     "output_type": "stream",
     "text": [
      "/Users/yonggeol/miniconda3/envs/py/lib/python3.6/site-packages/sklearn/utils/validation.py:578: DataConversionWarning: A column-vector y was passed when a 1d array was expected. Please change the shape of y to (n_samples, ), for example using ravel().\n",
      "  y = column_or_1d(y, warn=True)\n"
     ]
    },
    {
     "data": {
      "text/plain": [
       "LogisticRegression(C=2.0, class_weight=None, dual=False, fit_intercept=True,\n",
       "          intercept_scaling=1, max_iter=100, multi_class='multinomial',\n",
       "          n_jobs=1, penalty='l2', random_state=42, solver='sag',\n",
       "          tol=0.0001, verbose=0, warm_start=True)"
      ]
     },
     "execution_count": 83,
     "metadata": {},
     "output_type": "execute_result"
    }
   ],
   "source": [
    "from  sklearn  import  linear_model\n",
    "logreg = linear_model.LogisticRegression(C=2.0,random_state=42,solver='sag',multi_class='multinomial',warm_start=True)\n",
    "logreg.fit(x_train, y_train)"
   ]
  },
  {
   "cell_type": "code",
   "execution_count": 84,
   "metadata": {
    "scrolled": true
   },
   "outputs": [
    {
     "name": "stdout",
     "output_type": "stream",
     "text": [
      "LR : 0.722542278386917\n"
     ]
    }
   ],
   "source": [
    "print(\"LR :\",accuracy_score(logreg.predict(x_test),y_test))"
   ]
  },
  {
   "cell_type": "code",
   "execution_count": 85,
   "metadata": {
    "scrolled": true
   },
   "outputs": [
    {
     "name": "stdout",
     "output_type": "stream",
     "text": [
      "             precision    recall  f1-score   support\n",
      "\n",
      "          0       0.79      0.43      0.55      2175\n",
      "          1       0.70      0.92      0.80      3206\n",
      "\n",
      "avg / total       0.74      0.72      0.70      5381\n",
      "\n"
     ]
    }
   ],
   "source": [
    "from sklearn.metrics import classification_report\n",
    "print(classification_report(y_test, logreg.predict(x_test)))"
   ]
  },
  {
   "cell_type": "code",
   "execution_count": 86,
   "metadata": {
    "scrolled": true
   },
   "outputs": [
    {
     "name": "stderr",
     "output_type": "stream",
     "text": [
      "/Users/yonggeol/miniconda3/envs/py/lib/python3.6/site-packages/sklearn/utils/validation.py:578: DataConversionWarning: A column-vector y was passed when a 1d array was expected. Please change the shape of y to (n_samples, ), for example using ravel().\n",
      "  y = column_or_1d(y, warn=True)\n",
      "/Users/yonggeol/miniconda3/envs/py/lib/python3.6/site-packages/sklearn/utils/validation.py:578: DataConversionWarning: A column-vector y was passed when a 1d array was expected. Please change the shape of y to (n_samples, ), for example using ravel().\n",
      "  y = column_or_1d(y, warn=True)\n",
      "/Users/yonggeol/miniconda3/envs/py/lib/python3.6/site-packages/sklearn/utils/validation.py:578: DataConversionWarning: A column-vector y was passed when a 1d array was expected. Please change the shape of y to (n_samples, ), for example using ravel().\n",
      "  y = column_or_1d(y, warn=True)\n",
      "/Users/yonggeol/miniconda3/envs/py/lib/python3.6/site-packages/sklearn/utils/validation.py:578: DataConversionWarning: A column-vector y was passed when a 1d array was expected. Please change the shape of y to (n_samples, ), for example using ravel().\n",
      "  y = column_or_1d(y, warn=True)\n",
      "/Users/yonggeol/miniconda3/envs/py/lib/python3.6/site-packages/sklearn/utils/validation.py:578: DataConversionWarning: A column-vector y was passed when a 1d array was expected. Please change the shape of y to (n_samples, ), for example using ravel().\n",
      "  y = column_or_1d(y, warn=True)\n"
     ]
    },
    {
     "data": {
      "text/plain": [
       "array([0.73083998, 0.71489884, 0.72607362, 0.71625767, 0.72546012])"
      ]
     },
     "execution_count": 86,
     "metadata": {},
     "output_type": "execute_result"
    }
   ],
   "source": [
    "from sklearn.model_selection import cross_val_score\n",
    "scores = cross_val_score(logreg, X_scaled, y, cv=5)\n",
    "scores         "
   ]
  },
  {
   "cell_type": "code",
   "execution_count": 87,
   "metadata": {},
   "outputs": [
    {
     "data": {
      "image/png": "[encoded data removed]",
      "text/plain": [
       "<Figure size 432x288 with 1 Axes>"
      ]
     },
     "metadata": {},
     "output_type": "display_data"
    }
   ],
   "source": [
    "feature_importance = abs(logreg.coef_[0])\n",
    "feature_importance = 100.0 * (feature_importance / feature_importance.max())\n",
    "sorted_idx = np.argsort(feature_importance)\n",
    "pos = np.arange(sorted_idx.shape[0]) + .5\n",
    "\n",
    "featfig = plt.figure()\n",
    "featax = featfig.add_subplot(1, 1, 1)\n",
    "featax.barh(pos, feature_importance[sorted_idx], align='center')\n",
    "featax.set_yticks(pos)\n",
    "featax.set_yticklabels(np.array(x_train.columns)[sorted_idx], fontsize=8)\n",
    "featax.set_xlabel('Relative Feature Importance')\n",
    "\n",
    "plt.tight_layout()   \n",
    "plt.show()"
   ]
  },
  {
   "cell_type": "code",
   "execution_count": 88,
   "metadata": {
    "scrolled": true
   },
   "outputs": [
    {
     "name": "stdout",
     "output_type": "stream",
     "text": [
      "Feature ranking:\n",
      "FR_url\n",
      "Sticker_count\n",
      "First_ratio\n",
      "Text_len\n",
      "Question_count\n",
      "polarity\n",
      "neg_ratio\n",
      "subjectivity\n",
      "senti_diffs_per_ref\n",
      "Second_ratio\n",
      "Tag_count\n",
      "pos_ratio\n"
     ]
    }
   ],
   "source": [
    "feature_dict = dict(zip(feature_name,feature_importance))\n",
    "ranking_list = reversed(sorted(feature_dict.items(), key =lambda feature_dict:feature_dict[1]))\n",
    "print('Feature ranking:')\n",
    "for feature in ranking_list:\n",
    "    #print ('feature : %d %s (%f)' % (num+1,Feautre_list[feature[0]],feature[1]))\n",
    "    print(feature[0])"
   ]
  },
  {
   "cell_type": "markdown",
   "metadata": {},
   "source": [
    "## MLP"
   ]
  },
  {
   "cell_type": "code",
   "execution_count": 29,
   "metadata": {},
   "outputs": [],
   "source": [
    "import time\n",
    "from sklearn.neural_network import MLPClassifier"
   ]
  },
  {
   "cell_type": "code",
   "execution_count": 30,
   "metadata": {},
   "outputs": [],
   "source": [
    "mlp_clf = MLPClassifier(\n",
    "    hidden_layer_sizes=(50,),\n",
    "    max_iter=35,\n",
    "    alpha=1e-4,\n",
    "    solver='sgd',\n",
    "    verbose=10,\n",
    "    tol=1e-4,\n",
    "    random_state=1,\n",
    "    learning_rate_init=.1\n",
    ")"
   ]
  },
  {
   "cell_type": "code",
   "execution_count": 31,
   "metadata": {},
   "outputs": [
    {
     "name": "stderr",
     "output_type": "stream",
     "text": [
      "/Users/yonggeol/miniconda3/envs/py/lib/python3.6/site-packages/sklearn/neural_network/multilayer_perceptron.py:912: DataConversionWarning: A column-vector y was passed when a 1d array was expected. Please change the shape of y to (n_samples, ), for example using ravel().\n",
      "  y = column_or_1d(y, warn=True)\n"
     ]
    },
    {
     "name": "stdout",
     "output_type": "stream",
     "text": [
      "Iteration 1, loss = 0.58131300\n",
      "Iteration 2, loss = 0.53098598\n",
      "Iteration 3, loss = 0.51813057\n",
      "Iteration 4, loss = 0.51015212\n",
      "Iteration 5, loss = 0.50234529\n",
      "Iteration 6, loss = 0.49927206\n",
      "Iteration 7, loss = 0.49574962\n",
      "Iteration 8, loss = 0.49115275\n",
      "Iteration 9, loss = 0.48754968\n",
      "Iteration 10, loss = 0.48676064\n",
      "Iteration 11, loss = 0.48388428\n",
      "Iteration 12, loss = 0.48143043\n",
      "Iteration 13, loss = 0.47982382\n",
      "Iteration 14, loss = 0.47791064\n",
      "Iteration 15, loss = 0.47733224\n",
      "Iteration 16, loss = 0.47652904\n",
      "Iteration 17, loss = 0.47454367\n",
      "Iteration 18, loss = 0.47273096\n",
      "Iteration 19, loss = 0.47187961\n",
      "Iteration 20, loss = 0.47146734\n",
      "Iteration 21, loss = 0.47204503\n",
      "Iteration 22, loss = 0.47035816\n",
      "Iteration 23, loss = 0.46709672\n",
      "Iteration 24, loss = 0.47007310\n",
      "Iteration 25, loss = 0.46865978\n",
      "Iteration 26, loss = 0.46871425\n",
      "Training loss did not improve more than tol=0.000100 for two consecutive epochs. Stopping.\n",
      "Time: 0.707511s\n"
     ]
    }
   ],
   "source": [
    "start = time.time()\n",
    "mlp_clf.fit(x_train, y_train)\n",
    "end = time.time()\n",
    "print('Time: {:f}s'.format(end-start))sg"
   ]
  },
  {
   "cell_type": "code",
   "execution_count": 32,
   "metadata": {
    "scrolled": true
   },
   "outputs": [
    {
     "name": "stdout",
     "output_type": "stream",
     "text": [
      "테스트 정확도: 0.784\n"
     ]
    }
   ],
   "source": [
    "y_pred = mlp_clf.predict(x_test)\n",
    "print(\"테스트 정확도: {:.3f}\".format(accuracy_score(y_pred, y_test)))"
   ]
  },
  {
   "cell_type": "code",
   "execution_count": 33,
   "metadata": {
    "scrolled": true
   },
   "outputs": [
    {
     "name": "stdout",
     "output_type": "stream",
     "text": [
      "             precision    recall  f1-score   support\n",
      "\n",
      "          0       0.76      0.65      0.70      2084\n",
      "          1       0.80      0.87      0.83      3297\n",
      "\n",
      "avg / total       0.78      0.78      0.78      5381\n",
      "\n"
     ]
    }
   ],
   "source": [
    "from sklearn.metrics import classification_report\n",
    "print(classification_report(y_test, mlp_clf.predict(x_test)))"
   ]
  },
  {
   "cell_type": "code",
   "execution_count": 34,
   "metadata": {},
   "outputs": [
    {
     "data": {
      "text/plain": [
       "(16304, 12)"
      ]
     },
     "execution_count": 34,
     "metadata": {},
     "output_type": "execute_result"
    }
   ],
   "source": [
    "x.shape"
   ]
  },
  {
   "cell_type": "code",
   "execution_count": 35,
   "metadata": {},
   "outputs": [
    {
     "name": "stderr",
     "output_type": "stream",
     "text": [
      "Using TensorFlow backend.\n"
     ]
    }
   ],
   "source": [
    "from keras import backend as K\n",
    "\n",
    "def f1(y_true, y_pred):\n",
    "    def recall(y_true, y_pred):\n",
    "        \"\"\"Recall metric.\n",
    "\n",
    "        Only computes a batch-wise average of recall.\n",
    "\n",
    "        Computes the recall, a metric for multi-label classification of\n",
    "        how many relevant items are selected.\n",
    "        \"\"\"\n",
    "        true_positives = K.sum(K.round(K.clip(y_true * y_pred, 0, 1)))\n",
    "        possible_positives = K.sum(K.round(K.clip(y_true, 0, 1)))\n",
    "        recall = true_positives / (possible_positives + K.epsilon())\n",
    "        return recall\n",
    "\n",
    "    def precision(y_true, y_pred):\n",
    "        \"\"\"Precision metric.\n",
    "\n",
    "        Only computes a batch-wise average of precision.\n",
    "\n",
    "        Computes the precision, a metric for multi-label classification of\n",
    "        how many selected items are relevant.\n",
    "        \"\"\"\n",
    "        true_positives = K.sum(K.round(K.clip(y_true * y_pred, 0, 1)))\n",
    "        predicted_positives = K.sum(K.round(K.clip(y_pred, 0, 1)))\n",
    "        precision = true_positives / (predicted_positives + K.epsilon())\n",
    "        return precision\n",
    "    precision = precision(y_true, y_pred)\n",
    "    recall = recall(y_true, y_pred)\n",
    "    return 2*((precision*recall)/(precision+recall+K.epsilon()))"
   ]
  },
  {
   "cell_type": "code",
   "execution_count": 37,
   "metadata": {},
   "outputs": [
    {
     "name": "stdout",
     "output_type": "stream",
     "text": [
      "Epoch 1/30\n",
      "10923/10923 [==============================] - 1s 132us/step - loss: 0.5653 - f1: 0.7899 - acc: 0.7143\n",
      "Epoch 2/30\n",
      "10923/10923 [==============================] - 1s 77us/step - loss: 0.5222 - f1: 0.8068 - acc: 0.7430\n",
      "Epoch 3/30\n",
      "10923/10923 [==============================] - 1s 77us/step - loss: 0.5079 - f1: 0.8090 - acc: 0.7541\n",
      "Epoch 4/30\n",
      "10923/10923 [==============================] - 1s 76us/step - loss: 0.4941 - f1: 0.8177 - acc: 0.7683\n",
      "Epoch 5/30\n",
      "10923/10923 [==============================] - 1s 79us/step - loss: 0.4824 - f1: 0.8235 - acc: 0.7750\n",
      "Epoch 6/30\n",
      "10923/10923 [==============================] - 1s 78us/step - loss: 0.4773 - f1: 0.8249 - acc: 0.7787\n",
      "Epoch 7/30\n",
      "10923/10923 [==============================] - 1s 78us/step - loss: 0.4737 - f1: 0.8265 - acc: 0.7810\n",
      "Epoch 8/30\n",
      "10923/10923 [==============================] - 1s 79us/step - loss: 0.4670 - f1: 0.8249 - acc: 0.7795\n",
      "Epoch 9/30\n",
      "10923/10923 [==============================] - 1s 81us/step - loss: 0.4638 - f1: 0.8327 - acc: 0.7882\n",
      "Epoch 10/30\n",
      "10923/10923 [==============================] - 1s 87us/step - loss: 0.4607 - f1: 0.8313 - acc: 0.7881\n",
      "Epoch 11/30\n",
      "10923/10923 [==============================] - 1s 91us/step - loss: 0.4562 - f1: 0.8331 - acc: 0.7893\n",
      "Epoch 12/30\n",
      "10923/10923 [==============================] - 1s 91us/step - loss: 0.4496 - f1: 0.8348 - acc: 0.7921\n",
      "Epoch 13/30\n",
      "10923/10923 [==============================] - 1s 86us/step - loss: 0.4487 - f1: 0.8362 - acc: 0.7937\n",
      "Epoch 14/30\n",
      "10923/10923 [==============================] - 1s 87us/step - loss: 0.4444 - f1: 0.8385 - acc: 0.7962\n",
      "Epoch 15/30\n",
      "10923/10923 [==============================] - 1s 87us/step - loss: 0.4418 - f1: 0.8371 - acc: 0.7956\n",
      "Epoch 16/30\n",
      "10923/10923 [==============================] - 1s 85us/step - loss: 0.4352 - f1: 0.8411 - acc: 0.8012\n",
      "Epoch 17/30\n",
      "10923/10923 [==============================] - 1s 91us/step - loss: 0.4354 - f1: 0.8408 - acc: 0.8006\n",
      "Epoch 18/30\n",
      "10923/10923 [==============================] - 1s 94us/step - loss: 0.4305 - f1: 0.8431 - acc: 0.8024\n",
      "Epoch 19/30\n",
      "10923/10923 [==============================] - 1s 88us/step - loss: 0.4288 - f1: 0.8421 - acc: 0.8030\n",
      "Epoch 20/30\n",
      "10923/10923 [==============================] - 1s 90us/step - loss: 0.4234 - f1: 0.8450 - acc: 0.8058\n",
      "Epoch 21/30\n",
      "10923/10923 [==============================] - 1s 90us/step - loss: 0.4222 - f1: 0.8453 - acc: 0.8066\n",
      "Epoch 22/30\n",
      "10923/10923 [==============================] - 1s 87us/step - loss: 0.4156 - f1: 0.8475 - acc: 0.8102\n",
      "Epoch 23/30\n",
      "10923/10923 [==============================] - 1s 89us/step - loss: 0.4130 - f1: 0.8456 - acc: 0.8074\n",
      "Epoch 24/30\n",
      "10923/10923 [==============================] - 1s 89us/step - loss: 0.4120 - f1: 0.8493 - acc: 0.8121\n",
      "Epoch 25/30\n",
      "10923/10923 [==============================] - 1s 95us/step - loss: 0.4085 - f1: 0.8513 - acc: 0.8147\n",
      "Epoch 26/30\n",
      "10923/10923 [==============================] - 1s 89us/step - loss: 0.4040 - f1: 0.8504 - acc: 0.8139\n",
      "Epoch 27/30\n",
      "10923/10923 [==============================] - 1s 89us/step - loss: 0.4036 - f1: 0.8524 - acc: 0.8172\n",
      "Epoch 28/30\n",
      "10923/10923 [==============================] - 1s 96us/step - loss: 0.4007 - f1: 0.8535 - acc: 0.8175\n",
      "Epoch 29/30\n",
      "10923/10923 [==============================] - 1s 95us/step - loss: 0.3945 - f1: 0.8541 - acc: 0.8196\n",
      "Epoch 30/30\n",
      "10923/10923 [==============================] - 1s 90us/step - loss: 0.3939 - f1: 0.8550 - acc: 0.8211\n"
     ]
    },
    {
     "data": {
      "image/png": "[encoded data removed]",
      "text/plain": [
       "<Figure size 432x288 with 2 Axes>"
      ]
     },
     "metadata": {},
     "output_type": "display_data"
    },
    {
     "name": "stdout",
     "output_type": "stream",
     "text": [
      "5381/5381 [==============================] - 0s 48us/step\n"
     ]
    },
    {
     "data": {
      "text/plain": [
       "[0.4494265842268268, 0.8346663671584627, 0.7944619959115407]"
      ]
     },
     "execution_count": 37,
     "metadata": {},
     "output_type": "execute_result"
    }
   ],
   "source": [
    "# import framework\n",
    "import numpy as np\n",
    "from  keras.models import Sequential\n",
    "from keras.layers import Dense\n",
    "import matplotlib.pyplot as plt\n",
    "\n",
    "# data load\n",
    "np.random.seed(5)\n",
    "\n",
    "data_num = 10923\n",
    "data_feature_num = 12\n",
    "epoch = 30\n",
    "batch_size = 128 \n",
    "\n",
    "# data preprocessing\n",
    "\n",
    "# model\n",
    "model = Sequential()\n",
    "model.add(Dense(62, input_dim=data_feature_num, activation='relu'))\n",
    "model.add(Dense(124, input_dim=62, activation='relu'))\n",
    "model.add(Dense(62, input_dim=124, activation='relu'))\n",
    "model.add(Dense(data_feature_num, input_dim=62, activation='relu'))\n",
    "model.add(Dense(1, input_dim=data_feature_num, activation='sigmoid'))\n",
    "\n",
    "model.compile(optimizer='adam', loss='binary_crossentropy', metrics=[f1,'accuracy'])\n",
    "\n",
    "hist = model.fit(x_train, y_train, epochs=epoch, batch_size=batch_size)\n",
    "\n",
    "# draw graph\n",
    "fig, loss_ax = plt.subplots()\n",
    "acc_ax = loss_ax.twinx()\n",
    "\n",
    "loss_ax.set_ylim([0.0, 1.0])\n",
    "acc_ax.set_ylim([0.0, 1.0])\n",
    "\n",
    "loss_ax.plot(hist.history['loss'], 'y', label='train loss')\n",
    "acc_ax.plot(hist.history['loss'], 'y', label='train acc')\n",
    "\n",
    "loss_ax.set_xlabel('epoch')\n",
    "loss_ax.set_ylabel('loss')\n",
    "acc_ax.set_ylabel('accuracy')\n",
    "\n",
    "loss_ax.legend(loc='upper left')\n",
    "acc_ax.legend(loc='lower left')\n",
    "\n",
    "plt.show()\n",
    "\n",
    "# model evaluation\n",
    "loss_and_metrics = model.evaluate(x_test, y_test, batch_size=batch_size)\n",
    "loss_and_metrics"
   ]
  },
  {
   "cell_type": "code",
   "execution_count": 38,
   "metadata": {},
   "outputs": [
    {
     "data": {
      "text/plain": [
       "[0.4494265842268268, 0.8346663671584627, 0.7944619959115407]"
      ]
     },
     "execution_count": 38,
     "metadata": {},
     "output_type": "execute_result"
    }
   ],
   "source": [
    "loss_and_metrics"
   ]
  },
  {
   "cell_type": "markdown",
   "metadata": {},
   "source": [
    "## SVM"
   ]
  },
  {
   "cell_type": "code",
   "execution_count": 39,
   "metadata": {},
   "outputs": [
    {
     "name": "stderr",
     "output_type": "stream",
     "text": [
      "/Users/yonggeol/miniconda3/envs/py/lib/python3.6/site-packages/sklearn/utils/validation.py:578: DataConversionWarning: A column-vector y was passed when a 1d array was expected. Please change the shape of y to (n_samples, ), for example using ravel().\n",
      "  y = column_or_1d(y, warn=True)\n"
     ]
    },
    {
     "name": "stdout",
     "output_type": "stream",
     "text": [
      "SVM : 0.7244006690206282\n"
     ]
    }
   ],
   "source": [
    "from sklearn.multiclass import OneVsRestClassifier\n",
    "from sklearn.metrics import accuracy_score\n",
    "from sklearn.svm import LinearSVC\n",
    "\n",
    "result = LinearSVC(random_state=0).fit(x_train, y_train)\n",
    "result.predict(x_test)\n",
    "print(\"SVM :\",accuracy_score(result.predict(x_test),y_test))"
   ]
  },
  {
   "cell_type": "code",
   "execution_count": 40,
   "metadata": {
    "scrolled": true
   },
   "outputs": [
    {
     "name": "stdout",
     "output_type": "stream",
     "text": [
      "             precision    recall  f1-score   support\n",
      "\n",
      "          0       0.78      0.40      0.53      2084\n",
      "          1       0.71      0.93      0.80      3297\n",
      "\n",
      "avg / total       0.74      0.72      0.70      5381\n",
      "\n"
     ]
    }
   ],
   "source": [
    "from sklearn.metrics import classification_report\n",
    "print(classification_report(y_test, result.predict(x_test)))"
   ]
  },
  {
   "cell_type": "code",
   "execution_count": 41,
   "metadata": {
    "scrolled": true
   },
   "outputs": [
    {
     "name": "stderr",
     "output_type": "stream",
     "text": [
      "/Users/yonggeol/miniconda3/envs/py/lib/python3.6/site-packages/sklearn/utils/validation.py:578: DataConversionWarning: A column-vector y was passed when a 1d array was expected. Please change the shape of y to (n_samples, ), for example using ravel().\n",
      "  y = column_or_1d(y, warn=True)\n",
      "/Users/yonggeol/miniconda3/envs/py/lib/python3.6/site-packages/sklearn/utils/validation.py:578: DataConversionWarning: A column-vector y was passed when a 1d array was expected. Please change the shape of y to (n_samples, ), for example using ravel().\n",
      "  y = column_or_1d(y, warn=True)\n",
      "/Users/yonggeol/miniconda3/envs/py/lib/python3.6/site-packages/sklearn/utils/validation.py:578: DataConversionWarning: A column-vector y was passed when a 1d array was expected. Please change the shape of y to (n_samples, ), for example using ravel().\n",
      "  y = column_or_1d(y, warn=True)\n",
      "/Users/yonggeol/miniconda3/envs/py/lib/python3.6/site-packages/sklearn/utils/validation.py:578: DataConversionWarning: A column-vector y was passed when a 1d array was expected. Please change the shape of y to (n_samples, ), for example using ravel().\n",
      "  y = column_or_1d(y, warn=True)\n",
      "/Users/yonggeol/miniconda3/envs/py/lib/python3.6/site-packages/sklearn/utils/validation.py:578: DataConversionWarning: A column-vector y was passed when a 1d array was expected. Please change the shape of y to (n_samples, ), for example using ravel().\n",
      "  y = column_or_1d(y, warn=True)\n"
     ]
    },
    {
     "data": {
      "text/plain": [
       "array([0.71336603, 0.72286941, 0.72546012, 0.7202454 , 0.71779141])"
      ]
     },
     "execution_count": 41,
     "metadata": {},
     "output_type": "execute_result"
    }
   ],
   "source": [
    "from sklearn.model_selection import cross_val_score\n",
    "scores = cross_val_score(result, X_scaled, y, cv=5)\n",
    "scores    "
   ]
  },
  {
   "cell_type": "markdown",
   "metadata": {},
   "source": [
    "# OLS Regression Results"
   ]
  },
  {
   "cell_type": "code",
   "execution_count": null,
   "metadata": {
    "scrolled": true
   },
   "outputs": [],
   "source": [
    "import statsmodels.api as sm\n",
    "x_2 = sm.add_constant(x)\n",
    "est = sm.OLS(y,x_2.astype(float)).fit()"
   ]
  },
  {
   "cell_type": "code",
   "execution_count": null,
   "metadata": {},
   "outputs": [],
   "source": [
    "print(est.summary())"
   ]
  }
 ],
 "metadata": {
  "kernelspec": {
   "display_name": "Python 3",
   "language": "python",
   "name": "python3"
  },
  "language_info": {
   "codemirror_mode": {
    "name": "ipython",
    "version": 3
   },
   "file_extension": ".py",
   "mimetype": "text/x-python",
   "name": "python",
   "nbconvert_exporter": "python",
   "pygments_lexer": "ipython3",
   "version": "3.6.6"
  }
 },
 "nbformat": 4,
 "nbformat_minor": 2
}
