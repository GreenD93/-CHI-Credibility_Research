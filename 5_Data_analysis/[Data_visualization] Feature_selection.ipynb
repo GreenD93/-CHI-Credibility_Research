{
 "cells": [
  {
   "cell_type": "code",
   "execution_count": 1,
   "metadata": {},
   "outputs": [],
   "source": [
    "import pandas as pd"
   ]
  },
  {
   "cell_type": "code",
   "execution_count": 2,
   "metadata": {},
   "outputs": [],
   "source": [
    "df_1 = pd.read_csv('[Final]Total_csv.csv',sep='\\t')"
   ]
  },
  {
   "cell_type": "code",
   "execution_count": 124,
   "metadata": {},
   "outputs": [
    {
     "data": {
      "text/plain": [
       "(6447, 261)"
      ]
     },
     "execution_count": 124,
     "metadata": {},
     "output_type": "execute_result"
    }
   ],
   "source": [
    "df_1.dropna().shape"
   ]
  },
  {
   "cell_type": "code",
   "execution_count": 2,
   "metadata": {},
   "outputs": [],
   "source": [
    "df = pd.read_csv('[Final]Analysis_df.csv',sep='\\t')"
   ]
  },
  {
   "cell_type": "code",
   "execution_count": 7,
   "metadata": {},
   "outputs": [
    {
     "data": {
      "text/plain": [
       "['Title_len',\n",
       " 'Count_space_mistake',\n",
       " 'Map_exist',\n",
       " 'Media_count',\n",
       " 'Heart_count',\n",
       " 'Sticker_count',\n",
       " 'Comment_count',\n",
       " 'Left',\n",
       " 'Center',\n",
       " 'Right',\n",
       " 'Justify',\n",
       " 'basic_font_check',\n",
       " 'basic_font_size_check',\n",
       " 'b_strong_word_len_ratio',\n",
       " 'color_rgb_word_len_ratio',\n",
       " 'First_ratio',\n",
       " 'Second_ratio',\n",
       " 'Text_len',\n",
       " 'Img_count',\n",
       " 'FR_url',\n",
       " 'pos_ratio',\n",
       " 'neg_ratio',\n",
       " 'subjectivity',\n",
       " 'polarity',\n",
       " 'senti_diffs_per_ref',\n",
       " '가능하다',\n",
       " '가다',\n",
       " '간단하다',\n",
       " '갈다',\n",
       " '계시다',\n",
       " '궁금하다',\n",
       " '그렇다',\n",
       " '깔끔하다',\n",
       " '나가다',\n",
       " '나다',\n",
       " '나오다',\n",
       " '남다',\n",
       " '내다',\n",
       " '너무',\n",
       " '넘다',\n",
       " '넣다',\n",
       " '높다',\n",
       " '느끼다',\n",
       " '늘다',\n",
       " '다니다',\n",
       " '다르다',\n",
       " '다양하다',\n",
       " '덥다',\n",
       " '돼다',\n",
       " '되다',\n",
       " '되어다',\n",
       " '두다',\n",
       " '드리다',\n",
       " '들다',\n",
       " '들어가다',\n",
       " '들이다',\n",
       " '따르다',\n",
       " '만나다',\n",
       " '만들다',\n",
       " '많다',\n",
       " '많이',\n",
       " '말다',\n",
       " '맛있다',\n",
       " '맞다',\n",
       " '먹다',\n",
       " '모르다',\n",
       " '믿다',\n",
       " '바라다',\n",
       " '받다',\n",
       " '버리다',\n",
       " '보내다',\n",
       " '보다',\n",
       " '보이다',\n",
       " '빠르다',\n",
       " '빠지다',\n",
       " '새롭다',\n",
       " '생기다',\n",
       " '서다',\n",
       " '쉬다',\n",
       " '시원하다',\n",
       " '싶다',\n",
       " '쓰다',\n",
       " '아니다',\n",
       " '아직',\n",
       " '안녕하다',\n",
       " '안되다',\n",
       " '않다',\n",
       " '알다',\n",
       " '알아보다',\n",
       " '어떻다',\n",
       " '어렵다',\n",
       " '없다',\n",
       " '없이',\n",
       " '예쁘다',\n",
       " '오다',\n",
       " '올리다',\n",
       " '원하다',\n",
       " '유명하다',\n",
       " '이렇게',\n",
       " '이렇다',\n",
       " '이르다',\n",
       " '인하다',\n",
       " '자다',\n",
       " '자세하다',\n",
       " '작다',\n",
       " '잡다',\n",
       " '저렴하다',\n",
       " '적다',\n",
       " '좋다',\n",
       " '좋아하다',\n",
       " '주다',\n",
       " '중요하다',\n",
       " '즐기다',\n",
       " '지다',\n",
       " '찍다',\n",
       " '차다',\n",
       " '찾다',\n",
       " '크다',\n",
       " '특히',\n",
       " '편하다',\n",
       " '필요하다',\n",
       " '해드리다',\n",
       " '해보다',\n",
       " '해주다',\n",
       " '힘들다',\n",
       " 'img img img img img',\n",
       " 'img img img img text',\n",
       " 'img img img text img',\n",
       " 'img img text img img',\n",
       " 'img img text img text',\n",
       " 'img text img img img',\n",
       " 'img text img img text',\n",
       " 'img text img text img',\n",
       " 'text img img img img',\n",
       " 'text img img img text',\n",
       " 'text img img text img',\n",
       " 'text img text img img',\n",
       " 'text img text img text',\n",
       " 'Question_count',\n",
       " 'Tag_count',\n",
       " 'Blog_info_text_len',\n",
       " 'Post_interval_average',\n",
       " 'Text_similarity',\n",
       " 'User_Id_len',\n",
       " 'User_Id_contain_num',\n",
       " 'User_Id_contain_char',\n",
       " 'Comment_interaction',\n",
       " 'Count_categories',\n",
       " 'Average_comment_diff',\n",
       " 'First_comment_diff',\n",
       " 'Opening_date',\n",
       " 'effort_ratio',\n",
       " 'effort_img_ratio',\n",
       " 'experience',\n",
       " 'Credibility']"
      ]
     },
     "execution_count": 7,
     "metadata": {},
     "output_type": "execute_result"
    }
   ],
   "source": [
    "df.columns.tolist()"
   ]
  },
  {
   "cell_type": "code",
   "execution_count": 12,
   "metadata": {},
   "outputs": [
    {
     "data": {
      "text/plain": [
       "0         52.803279\n",
       "1         52.803279\n",
       "2         52.803279\n",
       "3         52.803279\n",
       "4         52.803279\n",
       "5         52.803279\n",
       "6         52.803279\n",
       "7         52.803279\n",
       "8         52.803279\n",
       "9         52.803279\n",
       "10        26.636364\n",
       "11        26.636364\n",
       "12        26.636364\n",
       "13        26.636364\n",
       "14        26.636364\n",
       "15        34.313433\n",
       "16        34.313433\n",
       "17        34.313433\n",
       "18        34.313433\n",
       "19        81.463918\n",
       "20        18.500000\n",
       "21        81.463918\n",
       "22        81.463918\n",
       "23        81.463918\n",
       "24        81.463918\n",
       "25        34.313433\n",
       "26        34.313433\n",
       "27        50.473684\n",
       "28        50.473684\n",
       "29        50.473684\n",
       "            ...    \n",
       "16274     40.850000\n",
       "16275     40.850000\n",
       "16276     39.770370\n",
       "16277     39.770370\n",
       "16278     39.770370\n",
       "16279     40.850000\n",
       "16280     39.770370\n",
       "16281     68.875502\n",
       "16282     39.770370\n",
       "16283     39.770370\n",
       "16284     39.770370\n",
       "16285     39.770370\n",
       "16286     39.770370\n",
       "16287     40.850000\n",
       "16288     40.850000\n",
       "16289     40.850000\n",
       "16290     40.850000\n",
       "16291     89.541667\n",
       "16292     37.709677\n",
       "16293     37.709677\n",
       "16294     37.709677\n",
       "16295     37.709677\n",
       "16296     37.709677\n",
       "16297     40.850000\n",
       "16298    173.476190\n",
       "16299     36.013514\n",
       "16300     36.013514\n",
       "16301     36.013514\n",
       "16302     36.013514\n",
       "16303     36.013514\n",
       "Name: experience, Length: 16304, dtype: float64"
      ]
     },
     "execution_count": 12,
     "metadata": {},
     "output_type": "execute_result"
    }
   ],
   "source": [
    "df['experience'] # 전체 글을 카테고리 수로 나눔"
   ]
  },
  {
   "cell_type": "code",
   "execution_count": 20,
   "metadata": {},
   "outputs": [],
   "source": [
    "df_test = df[['Heart_count','Comment_count','Post_interval_average','Text_similarity','Opening_date','First_comment_diff','Average_comment_diff','Comment_interaction','Credibility']]"
   ]
  },
  {
   "cell_type": "code",
   "execution_count": 21,
   "metadata": {},
   "outputs": [],
   "source": [
    "## data shuffle\n",
    "from sklearn.utils import shuffle\n",
    "df_test = shuffle(df_test)"
   ]
  },
  {
   "cell_type": "markdown",
   "metadata": {},
   "source": [
    "## MLP Model"
   ]
  },
  {
   "cell_type": "code",
   "execution_count": null,
   "metadata": {},
   "outputs": [],
   "source": [
    "import time\n",
    "from sklearn.neural_network import MLPClassifier"
   ]
  },
  {
   "cell_type": "code",
   "execution_count": null,
   "metadata": {},
   "outputs": [],
   "source": [
    "mlp_clf = MLPClassifier(\n",
    "    hidden_layer_sizes=(50,),\n",
    "    max_iter=35,\n",
    "    alpha=1e-4,\n",
    "    solver='sgd',\n",
    "    verbose=10,\n",
    "    tol=1e-4,\n",
    "    random_state=1,\n",
    "    learning_rate_init=.1\n",
    ")"
   ]
  },
  {
   "cell_type": "markdown",
   "metadata": {},
   "source": [
    "# Post_interval_average"
   ]
  },
  {
   "cell_type": "code",
   "execution_count": 77,
   "metadata": {},
   "outputs": [],
   "source": [
    "x_1 = df_test[['Post_interval_average']]"
   ]
  },
  {
   "cell_type": "code",
   "execution_count": 78,
   "metadata": {},
   "outputs": [],
   "source": [
    "y = df_test[['Credibility']]"
   ]
  },
  {
   "cell_type": "code",
   "execution_count": 79,
   "metadata": {},
   "outputs": [],
   "source": [
    "from sklearn.model_selection import train_test_split\n",
    "x_train, x_test, y_train, y_test = train_test_split(x_1 , y , test_size=0.33, random_state=42)"
   ]
  },
  {
   "cell_type": "code",
   "execution_count": 80,
   "metadata": {},
   "outputs": [
    {
     "name": "stdout",
     "output_type": "stream",
     "text": [
      "Iteration 1, loss = 0.87474799\n",
      "Iteration 2, loss = 0.66295796\n",
      "Iteration 3, loss = 0.66252897\n",
      "Iteration 4, loss = 0.66275886\n",
      "Iteration 5, loss = 0.66251127\n",
      "Iteration 6, loss = 0.66299126\n",
      "Training loss did not improve more than tol=0.000100 for two consecutive epochs. Stopping.\n",
      "Time: 0.110848s\n"
     ]
    },
    {
     "name": "stderr",
     "output_type": "stream",
     "text": [
      "/Users/yonggeol/miniconda3/envs/py/lib/python3.6/site-packages/sklearn/neural_network/multilayer_perceptron.py:912: DataConversionWarning: A column-vector y was passed when a 1d array was expected. Please change the shape of y to (n_samples, ), for example using ravel().\n",
      "  y = column_or_1d(y, warn=True)\n"
     ]
    }
   ],
   "source": [
    "start = time.time()\n",
    "mlp_clf.fit(x_train, y_train)\n",
    "end = time.time()\n",
    "print('Time: {:f}s'.format(end-start))"
   ]
  },
  {
   "cell_type": "code",
   "execution_count": 81,
   "metadata": {},
   "outputs": [
    {
     "name": "stdout",
     "output_type": "stream",
     "text": [
      "테스트 정확도: 0.619\n"
     ]
    }
   ],
   "source": [
    "from sklearn.metrics import accuracy_score\n",
    "y_pred = mlp_clf.predict(x_test)\n",
    "print(\"테스트 정확도: {:.3f}\".format(accuracy_score(y_pred, y_test)))"
   ]
  },
  {
   "cell_type": "code",
   "execution_count": 82,
   "metadata": {},
   "outputs": [
    {
     "name": "stdout",
     "output_type": "stream",
     "text": [
      "             precision    recall  f1-score   support\n",
      "\n",
      "          0       0.55      0.10      0.17      2091\n",
      "          1       0.62      0.95      0.75      3290\n",
      "\n",
      "avg / total       0.60      0.62      0.52      5381\n",
      "\n"
     ]
    }
   ],
   "source": [
    "from sklearn.metrics import classification_report\n",
    "print(classification_report(y_test, mlp_clf.predict(x_test)))"
   ]
  },
  {
   "cell_type": "markdown",
   "metadata": {},
   "source": [
    "# Text_similarity"
   ]
  },
  {
   "cell_type": "code",
   "execution_count": 83,
   "metadata": {},
   "outputs": [],
   "source": [
    "x_2 = df_test[['Text_similarity']]"
   ]
  },
  {
   "cell_type": "code",
   "execution_count": 84,
   "metadata": {},
   "outputs": [],
   "source": [
    "y = df_test[['Credibility']]"
   ]
  },
  {
   "cell_type": "code",
   "execution_count": 85,
   "metadata": {},
   "outputs": [],
   "source": [
    "from sklearn.model_selection import train_test_split\n",
    "x_train, x_test, y_train, y_test = train_test_split(x_2 , y , test_size=0.33, random_state=42)"
   ]
  },
  {
   "cell_type": "code",
   "execution_count": 86,
   "metadata": {},
   "outputs": [
    {
     "name": "stderr",
     "output_type": "stream",
     "text": [
      "/Users/yonggeol/miniconda3/envs/py/lib/python3.6/site-packages/sklearn/neural_network/multilayer_perceptron.py:912: DataConversionWarning: A column-vector y was passed when a 1d array was expected. Please change the shape of y to (n_samples, ), for example using ravel().\n",
      "  y = column_or_1d(y, warn=True)\n"
     ]
    },
    {
     "name": "stdout",
     "output_type": "stream",
     "text": [
      "Iteration 1, loss = 0.67075056\n",
      "Iteration 2, loss = 0.65719325\n",
      "Iteration 3, loss = 0.65160931\n",
      "Iteration 4, loss = 0.64684828\n",
      "Iteration 5, loss = 0.64155025\n",
      "Iteration 6, loss = 0.63690825\n",
      "Iteration 7, loss = 0.63405570\n",
      "Iteration 8, loss = 0.63245276\n",
      "Iteration 9, loss = 0.62955669\n",
      "Iteration 10, loss = 0.62780074\n",
      "Iteration 11, loss = 0.62695815\n",
      "Iteration 12, loss = 0.62638901\n",
      "Iteration 13, loss = 0.62463673\n",
      "Iteration 14, loss = 0.62384342\n",
      "Iteration 15, loss = 0.62324095\n",
      "Iteration 16, loss = 0.62352954\n",
      "Iteration 17, loss = 0.62331818\n",
      "Iteration 18, loss = 0.62297846\n",
      "Iteration 19, loss = 0.62368989\n",
      "Iteration 20, loss = 0.62295820\n",
      "Iteration 21, loss = 0.62237497\n",
      "Iteration 22, loss = 0.62224838\n",
      "Iteration 23, loss = 0.62200359\n",
      "Iteration 24, loss = 0.62246449\n",
      "Iteration 25, loss = 0.62294840\n",
      "Iteration 26, loss = 0.62151605\n",
      "Iteration 27, loss = 0.62223069\n",
      "Iteration 28, loss = 0.62237021\n",
      "Iteration 29, loss = 0.62148942\n",
      "Training loss did not improve more than tol=0.000100 for two consecutive epochs. Stopping.\n",
      "Time: 0.534710s\n"
     ]
    }
   ],
   "source": [
    "start = time.time()\n",
    "mlp_clf.fit(x_train, y_train)\n",
    "end = time.time()\n",
    "print('Time: {:f}s'.format(end-start))"
   ]
  },
  {
   "cell_type": "code",
   "execution_count": 87,
   "metadata": {},
   "outputs": [
    {
     "name": "stdout",
     "output_type": "stream",
     "text": [
      "테스트 정확도: 0.640\n"
     ]
    }
   ],
   "source": [
    "from sklearn.metrics import accuracy_score\n",
    "y_pred = mlp_clf.predict(x_test)\n",
    "print(\"테스트 정확도: {:.3f}\".format(accuracy_score(y_pred, y_test)))"
   ]
  },
  {
   "cell_type": "code",
   "execution_count": 88,
   "metadata": {
    "scrolled": true
   },
   "outputs": [
    {
     "name": "stdout",
     "output_type": "stream",
     "text": [
      "             precision    recall  f1-score   support\n",
      "\n",
      "          0       0.54      0.49      0.51      2091\n",
      "          1       0.69      0.74      0.71      3290\n",
      "\n",
      "avg / total       0.63      0.64      0.64      5381\n",
      "\n"
     ]
    }
   ],
   "source": [
    "from sklearn.metrics import classification_report\n",
    "print(classification_report(y_test, mlp_clf.predict(x_test)))"
   ]
  },
  {
   "cell_type": "markdown",
   "metadata": {},
   "source": [
    "# Comment_interaction"
   ]
  },
  {
   "cell_type": "code",
   "execution_count": 89,
   "metadata": {},
   "outputs": [],
   "source": [
    "x_3 = df_test[['Comment_interaction']]"
   ]
  },
  {
   "cell_type": "code",
   "execution_count": 90,
   "metadata": {},
   "outputs": [],
   "source": [
    "y = df_test[['Credibility']]"
   ]
  },
  {
   "cell_type": "code",
   "execution_count": 91,
   "metadata": {},
   "outputs": [],
   "source": [
    "from sklearn.model_selection import train_test_split\n",
    "x_train, x_test, y_train, y_test = train_test_split(x_3 , y , test_size=0.33, random_state=42)"
   ]
  },
  {
   "cell_type": "code",
   "execution_count": 92,
   "metadata": {},
   "outputs": [
    {
     "name": "stdout",
     "output_type": "stream",
     "text": [
      "Iteration 1, loss = 0.60074616\n",
      "Iteration 2, loss = 0.57595595\n",
      "Iteration 3, loss = 0.57587414\n",
      "Iteration 4, loss = 0.57648005\n",
      "Iteration 5, loss = 0.57590413\n",
      "Training loss did not improve more than tol=0.000100 for two consecutive epochs. Stopping.\n",
      "Time: 0.105100s\n"
     ]
    },
    {
     "name": "stderr",
     "output_type": "stream",
     "text": [
      "/Users/yonggeol/miniconda3/envs/py/lib/python3.6/site-packages/sklearn/neural_network/multilayer_perceptron.py:912: DataConversionWarning: A column-vector y was passed when a 1d array was expected. Please change the shape of y to (n_samples, ), for example using ravel().\n",
      "  y = column_or_1d(y, warn=True)\n"
     ]
    }
   ],
   "source": [
    "start = time.time()\n",
    "mlp_clf.fit(x_train, y_train)\n",
    "end = time.time()\n",
    "print('Time: {:f}s'.format(end-start))"
   ]
  },
  {
   "cell_type": "code",
   "execution_count": 93,
   "metadata": {},
   "outputs": [
    {
     "name": "stdout",
     "output_type": "stream",
     "text": [
      "테스트 정확도: 0.631\n"
     ]
    }
   ],
   "source": [
    "from sklearn.metrics import accuracy_score\n",
    "y_pred = mlp_clf.predict(x_test)\n",
    "print(\"테스트 정확도: {:.3f}\".format(accuracy_score(y_pred, y_test)))"
   ]
  },
  {
   "cell_type": "code",
   "execution_count": 94,
   "metadata": {
    "scrolled": true
   },
   "outputs": [
    {
     "name": "stdout",
     "output_type": "stream",
     "text": [
      "             precision    recall  f1-score   support\n",
      "\n",
      "          0       0.51      0.96      0.67      2091\n",
      "          1       0.94      0.43      0.58      3290\n",
      "\n",
      "avg / total       0.77      0.63      0.62      5381\n",
      "\n"
     ]
    }
   ],
   "source": [
    "from sklearn.metrics import classification_report\n",
    "print(classification_report(y_test, mlp_clf.predict(x_test)))"
   ]
  },
  {
   "cell_type": "markdown",
   "metadata": {},
   "source": [
    "# First_comment_diff"
   ]
  },
  {
   "cell_type": "code",
   "execution_count": 95,
   "metadata": {},
   "outputs": [],
   "source": [
    "x_4 = df_test[['First_comment_diff']]"
   ]
  },
  {
   "cell_type": "code",
   "execution_count": 96,
   "metadata": {},
   "outputs": [],
   "source": [
    "y = df_test[['Credibility']]"
   ]
  },
  {
   "cell_type": "code",
   "execution_count": 97,
   "metadata": {},
   "outputs": [],
   "source": [
    "from sklearn.model_selection import train_test_split\n",
    "x_train, x_test, y_train, y_test = train_test_split(x_4 , y , test_size=0.33, random_state=42)"
   ]
  },
  {
   "cell_type": "code",
   "execution_count": 98,
   "metadata": {},
   "outputs": [
    {
     "name": "stdout",
     "output_type": "stream",
     "text": [
      "Iteration 1, loss = 173331311970486247465393586176.00000000\n",
      "Iteration 2, loss = 246729226100387132064103683115205844633947071586569193259008.00000000\n",
      "Iteration 3, loss = 6178677265501731646120762871870837266998824340295655097101087026875120358576430986022851969024.00000000\n",
      "Iteration 4, loss = 202279574319228730876475122411619885599938358676246576414415843686956687642288288657900124460381063228677687499371390697472000.00000000\n",
      "Training loss did not improve more than tol=0.000100 for two consecutive epochs. Stopping.\n",
      "Time: 0.082292s\n"
     ]
    },
    {
     "name": "stderr",
     "output_type": "stream",
     "text": [
      "/Users/yonggeol/miniconda3/envs/py/lib/python3.6/site-packages/sklearn/neural_network/multilayer_perceptron.py:912: DataConversionWarning: A column-vector y was passed when a 1d array was expected. Please change the shape of y to (n_samples, ), for example using ravel().\n",
      "  y = column_or_1d(y, warn=True)\n"
     ]
    }
   ],
   "source": [
    "start = time.time()\n",
    "mlp_clf.fit(x_train, y_train)\n",
    "end = time.time()\n",
    "print('Time: {:f}s'.format(end-start))"
   ]
  },
  {
   "cell_type": "code",
   "execution_count": 99,
   "metadata": {},
   "outputs": [
    {
     "name": "stdout",
     "output_type": "stream",
     "text": [
      "테스트 정확도: 0.611\n"
     ]
    }
   ],
   "source": [
    "from sklearn.metrics import accuracy_score\n",
    "y_pred = mlp_clf.predict(x_test)\n",
    "print(\"테스트 정확도: {:.3f}\".format(accuracy_score(y_pred, y_test)))"
   ]
  },
  {
   "cell_type": "code",
   "execution_count": 100,
   "metadata": {
    "scrolled": false
   },
   "outputs": [
    {
     "name": "stdout",
     "output_type": "stream",
     "text": [
      "             precision    recall  f1-score   support\n",
      "\n",
      "          0       0.00      0.00      0.00      2091\n",
      "          1       0.61      1.00      0.76      3290\n",
      "\n",
      "avg / total       0.37      0.61      0.46      5381\n",
      "\n"
     ]
    },
    {
     "name": "stderr",
     "output_type": "stream",
     "text": [
      "/Users/yonggeol/miniconda3/envs/py/lib/python3.6/site-packages/sklearn/metrics/classification.py:1135: UndefinedMetricWarning: Precision and F-score are ill-defined and being set to 0.0 in labels with no predicted samples.\n",
      "  'precision', 'predicted', average, warn_for)\n"
     ]
    }
   ],
   "source": [
    "from sklearn.metrics import classification_report\n",
    "print(classification_report(y_test, mlp_clf.predict(x_test)))"
   ]
  },
  {
   "cell_type": "markdown",
   "metadata": {},
   "source": [
    "# Average_comment_diff"
   ]
  },
  {
   "cell_type": "code",
   "execution_count": 101,
   "metadata": {},
   "outputs": [],
   "source": [
    "x_5 = df_test[['Average_comment_diff']]"
   ]
  },
  {
   "cell_type": "code",
   "execution_count": 102,
   "metadata": {},
   "outputs": [],
   "source": [
    "y = df_test[['Credibility']]"
   ]
  },
  {
   "cell_type": "code",
   "execution_count": 103,
   "metadata": {},
   "outputs": [],
   "source": [
    "from sklearn.model_selection import train_test_split\n",
    "x_train, x_test, y_train, y_test = train_test_split(x_5 , y , test_size=0.33, random_state=42)"
   ]
  },
  {
   "cell_type": "code",
   "execution_count": 104,
   "metadata": {
    "scrolled": true
   },
   "outputs": [
    {
     "name": "stdout",
     "output_type": "stream",
     "text": [
      "Iteration 1, loss = 787314546373870702438974007226993968433510481920.00000000\n",
      "Iteration 2, loss = 167135618595766870035691031482801320905585680867655812840806101543607329541159203539693349109760.00000000\n",
      "Iteration 3, loss = 190041410538178607190232133480782618652104754095923336938915429444896528436847513319312944405941413792091568582668214669810738411079987079818510336.00000000\n",
      "Iteration 4, loss = 4166271490875955675560518271548716858379252632974018470121600120031274219738004926453085439336242578972835738769251695034618405976047292440312368621532719171689532071290861689889400941375326781440.00000000\n",
      "Training loss did not improve more than tol=0.000100 for two consecutive epochs. Stopping.\n",
      "Time: 0.101156s\n"
     ]
    },
    {
     "name": "stderr",
     "output_type": "stream",
     "text": [
      "/Users/yonggeol/miniconda3/envs/py/lib/python3.6/site-packages/sklearn/neural_network/multilayer_perceptron.py:912: DataConversionWarning: A column-vector y was passed when a 1d array was expected. Please change the shape of y to (n_samples, ), for example using ravel().\n",
      "  y = column_or_1d(y, warn=True)\n"
     ]
    }
   ],
   "source": [
    "start = time.time()\n",
    "mlp_clf.fit(x_train, y_train)\n",
    "end = time.time()\n",
    "print('Time: {:f}s'.format(end-start))"
   ]
  },
  {
   "cell_type": "code",
   "execution_count": 105,
   "metadata": {},
   "outputs": [
    {
     "name": "stdout",
     "output_type": "stream",
     "text": [
      "테스트 정확도: 0.611\n"
     ]
    }
   ],
   "source": [
    "from sklearn.metrics import accuracy_score\n",
    "y_pred = mlp_clf.predict(x_test)\n",
    "print(\"테스트 정확도: {:.3f}\".format(accuracy_score(y_pred, y_test)))"
   ]
  },
  {
   "cell_type": "code",
   "execution_count": 106,
   "metadata": {
    "scrolled": false
   },
   "outputs": [
    {
     "name": "stdout",
     "output_type": "stream",
     "text": [
      "             precision    recall  f1-score   support\n",
      "\n",
      "          0       0.00      0.00      0.00      2091\n",
      "          1       0.61      1.00      0.76      3290\n",
      "\n",
      "avg / total       0.37      0.61      0.46      5381\n",
      "\n"
     ]
    },
    {
     "name": "stderr",
     "output_type": "stream",
     "text": [
      "/Users/yonggeol/miniconda3/envs/py/lib/python3.6/site-packages/sklearn/metrics/classification.py:1135: UndefinedMetricWarning: Precision and F-score are ill-defined and being set to 0.0 in labels with no predicted samples.\n",
      "  'precision', 'predicted', average, warn_for)\n"
     ]
    }
   ],
   "source": [
    "from sklearn.metrics import classification_report\n",
    "print(classification_report(y_test, mlp_clf.predict(x_test)))"
   ]
  },
  {
   "cell_type": "markdown",
   "metadata": {},
   "source": [
    "# Opening_date"
   ]
  },
  {
   "cell_type": "code",
   "execution_count": 107,
   "metadata": {},
   "outputs": [],
   "source": [
    "x_6 = df_test[['Opening_date']]"
   ]
  },
  {
   "cell_type": "code",
   "execution_count": 108,
   "metadata": {},
   "outputs": [],
   "source": [
    "y = df_test[['Credibility']]"
   ]
  },
  {
   "cell_type": "code",
   "execution_count": 109,
   "metadata": {},
   "outputs": [],
   "source": [
    "from sklearn.model_selection import train_test_split\n",
    "x_train, x_test, y_train, y_test = train_test_split(x_6 , y , test_size=0.33, random_state=42)"
   ]
  },
  {
   "cell_type": "code",
   "execution_count": 110,
   "metadata": {
    "scrolled": true
   },
   "outputs": [
    {
     "name": "stdout",
     "output_type": "stream",
     "text": [
      "Iteration 1, loss = 697204923888386131139493888.00000000\n",
      "Iteration 2, loss = 950097773762628389275959296.00000000\n",
      "Iteration 3, loss = 951090284226192223317786624.00000000\n",
      "Iteration 4, loss = 951040563945482259301138432.00000000\n",
      "Training loss did not improve more than tol=0.000100 for two consecutive epochs. Stopping.\n",
      "Time: 0.077098s\n"
     ]
    },
    {
     "name": "stderr",
     "output_type": "stream",
     "text": [
      "/Users/yonggeol/miniconda3/envs/py/lib/python3.6/site-packages/sklearn/neural_network/multilayer_perceptron.py:912: DataConversionWarning: A column-vector y was passed when a 1d array was expected. Please change the shape of y to (n_samples, ), for example using ravel().\n",
      "  y = column_or_1d(y, warn=True)\n"
     ]
    }
   ],
   "source": [
    "start = time.time()\n",
    "mlp_clf.fit(x_train, y_train)\n",
    "end = time.time()\n",
    "print('Time: {:f}s'.format(end-start))"
   ]
  },
  {
   "cell_type": "code",
   "execution_count": 111,
   "metadata": {},
   "outputs": [
    {
     "name": "stdout",
     "output_type": "stream",
     "text": [
      "테스트 정확도: 0.611\n"
     ]
    }
   ],
   "source": [
    "from sklearn.metrics import accuracy_score\n",
    "y_pred = mlp_clf.predict(x_test)\n",
    "print(\"테스트 정확도: {:.3f}\".format(accuracy_score(y_pred, y_test)))"
   ]
  },
  {
   "cell_type": "code",
   "execution_count": 112,
   "metadata": {
    "scrolled": false
   },
   "outputs": [
    {
     "name": "stdout",
     "output_type": "stream",
     "text": [
      "             precision    recall  f1-score   support\n",
      "\n",
      "          0       0.00      0.00      0.00      2091\n",
      "          1       0.61      1.00      0.76      3290\n",
      "\n",
      "avg / total       0.37      0.61      0.46      5381\n",
      "\n"
     ]
    },
    {
     "name": "stderr",
     "output_type": "stream",
     "text": [
      "/Users/yonggeol/miniconda3/envs/py/lib/python3.6/site-packages/sklearn/metrics/classification.py:1135: UndefinedMetricWarning: Precision and F-score are ill-defined and being set to 0.0 in labels with no predicted samples.\n",
      "  'precision', 'predicted', average, warn_for)\n"
     ]
    }
   ],
   "source": [
    "from sklearn.metrics import classification_report\n",
    "print(classification_report(y_test, mlp_clf.predict(x_test)))"
   ]
  }
 ],
 "metadata": {
  "kernelspec": {
   "display_name": "Python 3",
   "language": "python",
   "name": "python3"
  },
  "language_info": {
   "codemirror_mode": {
    "name": "ipython",
    "version": 3
   },
   "file_extension": ".py",
   "mimetype": "text/x-python",
   "name": "python",
   "nbconvert_exporter": "python",
   "pygments_lexer": "ipython3",
   "version": "3.6.6"
  }
 },
 "nbformat": 4,
 "nbformat_minor": 2
}
