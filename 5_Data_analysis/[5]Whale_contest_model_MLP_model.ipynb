{
 "cells": [
  {
   "cell_type": "code",
   "execution_count": 1,
   "metadata": {},
   "outputs": [],
   "source": [
    "import pandas as pd\n",
    "import numpy as np\n",
    "import matplotlib.pyplot as plt"
   ]
  },
  {
   "cell_type": "code",
   "execution_count": 2,
   "metadata": {},
   "outputs": [],
   "source": [
    "df_polarity = pd.read_csv('polarity_socre.csv',sep='\\t',encoding='utf-8')"
   ]
  },
  {
   "cell_type": "code",
   "execution_count": 3,
   "metadata": {},
   "outputs": [],
   "source": [
    "df = pd.read_csv('[Final]Best_feautres_df.csv',sep='\\t',encoding='utf-8')"
   ]
  },
  {
   "cell_type": "code",
   "execution_count": 4,
   "metadata": {},
   "outputs": [],
   "source": [
    "df1 = pd.read_csv('additional_feature_from_user_study.csv',sep='\\t',encoding='utf-8')"
   ]
  },
  {
   "cell_type": "code",
   "execution_count": 5,
   "metadata": {},
   "outputs": [],
   "source": [
    "df2 = pd.read_csv('Count_mistake.csv',sep='\\t',encoding='utf-8')"
   ]
  },
  {
   "cell_type": "code",
   "execution_count": 6,
   "metadata": {},
   "outputs": [],
   "source": [
    "Total_df = pd.merge(df,df1)"
   ]
  },
  {
   "cell_type": "code",
   "execution_count": 7,
   "metadata": {},
   "outputs": [],
   "source": [
    "Total_df = pd.merge(Total_df,df2)"
   ]
  },
  {
   "cell_type": "code",
   "execution_count": null,
   "metadata": {},
   "outputs": [],
   "source": []
  },
  {
   "cell_type": "code",
   "execution_count": null,
   "metadata": {},
   "outputs": [],
   "source": []
  },
  {
   "cell_type": "code",
   "execution_count": 10,
   "metadata": {},
   "outputs": [
    {
     "data": {
      "text/plain": [
       "['Post_id',\n",
       " 'FR_url',\n",
       " 'Question_count',\n",
       " 'First_ratio',\n",
       " 'Second_ratio',\n",
       " 'Tag_count',\n",
       " 'Blog_info_text_len',\n",
       " 'Count_neighbors',\n",
       " 'Text_len',\n",
       " 'Post_interval_average',\n",
       " 'Text_similarity',\n",
       " 'Total_post',\n",
       " 'User_Id_len',\n",
       " 'Comment_interaction',\n",
       " 'Blog_mobile_profile_img',\n",
       " 'Opening_date',\n",
       " 'senti_diffs_per_ref',\n",
       " 'pos_ratio',\n",
       " 'neg_ratio',\n",
       " 'subjectivity',\n",
       " 'Sticker_count',\n",
       " 'Credibility',\n",
       " 'effort_img_ratio',\n",
       " 'effort_ratio',\n",
       " 'img img img img img',\n",
       " 'img img img img text',\n",
       " 'img img img text img',\n",
       " 'img img text img img',\n",
       " 'img img text img text',\n",
       " 'img text img img img',\n",
       " 'img text img img text',\n",
       " 'img text img text img',\n",
       " 'text img img img img',\n",
       " 'text img img img text',\n",
       " 'text img img text img',\n",
       " 'text img text img img',\n",
       " 'text img text img text',\n",
       " 'Left',\n",
       " 'Center',\n",
       " 'Right',\n",
       " 'Justify',\n",
       " 'Count_space_mistake']"
      ]
     },
     "execution_count": 10,
     "metadata": {},
     "output_type": "execute_result"
    }
   ],
   "source": [
    "Total_df.columns.tolist()"
   ]
  },
  {
   "cell_type": "code",
   "execution_count": null,
   "metadata": {},
   "outputs": [],
   "source": []
  },
  {
   "cell_type": "code",
   "execution_count": null,
   "metadata": {},
   "outputs": [],
   "source": []
  },
  {
   "cell_type": "code",
   "execution_count": null,
   "metadata": {},
   "outputs": [],
   "source": []
  },
  {
   "cell_type": "code",
   "execution_count": null,
   "metadata": {},
   "outputs": [],
   "source": []
  }
 ],
 "metadata": {
  "kernelspec": {
   "display_name": "Python 3",
   "language": "python",
   "name": "python3"
  },
  "language_info": {
   "codemirror_mode": {
    "name": "ipython",
    "version": 3
   },
   "file_extension": ".py",
   "mimetype": "text/x-python",
   "name": "python",
   "nbconvert_exporter": "python",
   "pygments_lexer": "ipython3",
   "version": "3.6.7"
  }
 },
 "nbformat": 4,
 "nbformat_minor": 2
}
