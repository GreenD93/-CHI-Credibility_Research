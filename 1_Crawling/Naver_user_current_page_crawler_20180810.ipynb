{
 "cells": [
  {
   "cell_type": "markdown",
   "metadata": {},
   "source": [
    "## Import Package"
   ]
  },
  {
   "cell_type": "code",
   "execution_count": 4,
   "metadata": {},
   "outputs": [],
   "source": [
    "from bs4 import BeautifulSoup \n",
    "import re\n",
    "import urllib\n",
    "import requests\n",
    "import shutil \n",
    "from selenium import webdriver\n",
    "import os\n",
    "import time\n",
    "import copy\n",
    "from tqdm import tqdm\n",
    "from pykospacing import spacing\n",
    "import pandas as pd\n",
    "import copy\n",
    "import string, random ## generate random str package\n",
    "from collections import OrderedDict ## repetition removal package\n",
    "from collections import Counter"
   ]
  },
  {
   "cell_type": "markdown",
   "metadata": {},
   "source": [
    "# Function Definition"
   ]
  },
  {
   "cell_type": "code",
   "execution_count": 5,
   "metadata": {},
   "outputs": [],
   "source": [
    "def hangul(text):\n",
    "    hangul = re.compile('[^ ㄱ-ㅣ가-힣]+') # 한글과 띄어쓰기를 제외한 모든 글자\n",
    "    # hangul = re.compile('[^ \\u3131-\\u3163\\uac00-\\ud7a3]+')  # 위와 동일\n",
    "    result = hangul.sub('', text) # 한글과 띄어쓰기를 제외한 모든 부분을 제거\n",
    "    return str(result)\n",
    "\n",
    "def find_categories():\n",
    "    test = driver.find_elements_by_css_selector(\"body > div.lyr_category_lst1 > ul > li:nth-child(1) > ul > li > a\")\n",
    "    Categories = []\n",
    "    for i in test:\n",
    "        Categories.append(i.text.split(\"\\n\")[:2])\n",
    "    Count_Categories = len(Categories)\n",
    "    return Categories, Count_Categories\n",
    "\n",
    "def find_post_id():\n",
    "    post = driver.find_element_by_css_selector('#rego_cover > div.cover_cont > div.tit_area > div.bloger > span.thumb > a')\n",
    "    r = re.compile('logNo=.*')\n",
    "    string = r.findall(post.get_attribute('ng-href'))\n",
    "    return re.sub(\"logNo=\",'',\"\".join(string))\n",
    "\n",
    "def random_id():\n",
    "    passkey='' # an empty str key\n",
    "    for x in range(10): # length of the random passkeys\n",
    "\n",
    "        if random.choice([1,2]) == 1:\n",
    "            passkey += passkey.join(random.choice(string.ascii_letters)) # upper & lower cased letter\n",
    "        else:\n",
    "            passkey += passkey.join(random.choice(string.digits)) # numbers\n",
    "    return passkey\n",
    "\n",
    "def Spacing_text(text_list):\n",
    "    spacing_list = []\n",
    "    for i in text_list:\n",
    "        if len(i) < 197:\n",
    "            spacing_list.append(spacing(i))\n",
    "        else:\n",
    "            iteration = int(len(i) / 197)\n",
    "            mod = len(i) % 197\n",
    "            start = 0\n",
    "            end = 197\n",
    "            check = 0\n",
    "            while True:\n",
    "                # 시행횟수 < 몫\n",
    "                if check < iteration:\n",
    "                    spacing_list.append(spacing(i[start:end]))\n",
    "                    start+=197\n",
    "                    end+=197\n",
    "                    check +=1\n",
    "                else:\n",
    "                    # 마지막 횟수 + 나머지 더 slice \n",
    "                    spacing_list.append(spacing(i[iteration*197:(iteration*197)+mod]))\n",
    "                    break\n",
    "    return spacing_list\n",
    "\n",
    "def remove_odd(x):\n",
    "    x = re.sub(\"&nbsp\",\" \",x)\n",
    "    x = re.sub(\"nbsp\",\" \",x)\n",
    "    x = re.sub(\"\\xa0\",\"\",x)\n",
    "    x = re.sub(\"\\u200b\",\"\",x)\n",
    "    x = re.sub(\"\\n\",\"\",x)\n",
    "    x = re.sub(\"\\t\",\"\",x)\n",
    "    x = re.sub(\"\\r\",\"\",x)\n",
    "    x = re.sub('   ',' ',x)\n",
    "    return x.strip()\n",
    "\n",
    "def find_rgb(value):\n",
    "    p = re.compile('rgb.*\\)')\n",
    "    rgb = p.findall(value)\n",
    "    rgb = str(rgb[0])\n",
    "    return rgb\n",
    "\n",
    "def numeric_value(string):\n",
    "    number = re.sub('[^0-9]', '', string) \n",
    "    return(number)"
   ]
  },
  {
   "cell_type": "code",
   "execution_count": null,
   "metadata": {},
   "outputs": [],
   "source": []
  }
 ],
 "metadata": {
  "kernelspec": {
   "display_name": "Python 3",
   "language": "python",
   "name": "python3"
  },
  "language_info": {
   "codemirror_mode": {
    "name": "ipython",
    "version": 3
   },
   "file_extension": ".py",
   "mimetype": "text/x-python",
   "name": "python",
   "nbconvert_exporter": "python",
   "pygments_lexer": "ipython3",
   "version": "3.6.7"
  }
 },
 "nbformat": 4,
 "nbformat_minor": 2
}
