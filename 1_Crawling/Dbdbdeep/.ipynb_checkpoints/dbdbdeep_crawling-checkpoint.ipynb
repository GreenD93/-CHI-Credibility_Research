{
 "cells": [
  {
   "cell_type": "code",
   "execution_count": 1,
   "metadata": {},
   "outputs": [],
   "source": [
    "from bs4 import BeautifulSoup # html을 soup에 넣고 특정 class or data를 가져오는 library\n",
    "import re\n",
    "from urllib.parse import urlencode\n",
    "from urllib.request import Request, urlopen\n",
    "import requests\n",
    "from selenium import webdriver\n",
    "import os\n",
    "import time\n",
    "import shutil"
   ]
  },
  {
   "cell_type": "code",
   "execution_count": 2,
   "metadata": {},
   "outputs": [],
   "source": [
    "def link_return(text):\n",
    "    url = \"http://www.dbdbdeep.com/ma2/inc/file_down.php?\"\n",
    "    p = re.compile('p_seq=.*\"')\n",
    "    value = p.search(str(text)).group()\n",
    "    value = re.sub('amp;','',value)\n",
    "    return url + value[:-1]"
   ]
  },
  {
   "cell_type": "code",
   "execution_count": 4,
   "metadata": {},
   "outputs": [],
   "source": [
    "# dbdbdeep 사이트 접속\n",
    "driver = webdriver.Chrome('./chromedriver')\n",
    "# driver = webdriver.PhantomJS('/Users/yonggeoljo/phantomjs-2.1.1-macosx/bin/phantomjs')\n",
    "driver.implicitly_wait(3)"
   ]
  },
  {
   "cell_type": "code",
   "execution_count": 5,
   "metadata": {},
   "outputs": [],
   "source": [
    "driver.get(\"http://www.dbdbdeep.com/ma2/post/posting_main.php\")\n",
    "driver.find_element_by_class_name('margin_right10').click()"
   ]
  },
  {
   "cell_type": "code",
   "execution_count": 6,
   "metadata": {},
   "outputs": [],
   "source": [
    "# 2중 로그인창 접속\n",
    "\n",
    "window_before = driver.window_handles[0]\n",
    "window_after = driver.window_handles[1]\n",
    "driver.switch_to_window(window_after)\n",
    "\n",
    "ID = 'yonggeol_test'\n",
    "PWD = 'ghazlvk1'\n",
    "e = driver.find_element_by_id(\"id\")\n",
    "e.clear()\n",
    "e.send_keys(ID)\n",
    "e = driver.find_element_by_id(\"pw\")\n",
    "e.clear()\n",
    "e.send_keys(PWD)\n",
    "driver.find_element_by_class_name('btn_global').click()"
   ]
  },
  {
   "cell_type": "code",
   "execution_count": 7,
   "metadata": {},
   "outputs": [],
   "source": [
    "# 원래 페이지로 돌아와서 포스팅 클릭\n",
    "driver.switch_to_window(window_before)\n",
    "driver.find_element_by_css_selector(\"body > div.sub_BackgroundIMG > div.sub_MenuArea > ul > a:nth-child(1) > li\").click()"
   ]
  },
  {
   "cell_type": "code",
   "execution_count": 7,
   "metadata": {},
   "outputs": [],
   "source": [
    "with open('dbdbdeep.txt', 'w',encoding='utf-8') as f:\n",
    "    f.write(\"start\\n\")"
   ]
  },
  {
   "cell_type": "code",
   "execution_count": 9,
   "metadata": {},
   "outputs": [],
   "source": [
    "dir = '/Users/yonggeoljo/workspace/Graduate_school/Research/Credibility'\n",
    "os.chdir(dir)"
   ]
  },
  {
   "cell_type": "code",
   "execution_count": null,
   "metadata": {},
   "outputs": [],
   "source": [
    "#for문 하단 page 클릭\n",
    "for page in range(0,len(driver.find_elements_by_class_name(\"sub_PageBTN\"))):\n",
    "    number = driver.find_elements_by_class_name(\"sub_PageBTN\")\n",
    "    number[page].click()\n",
    "    time.sleep(1)\n",
    "    \n",
    "    # for문 게시글 클릭\n",
    "    \n",
    "    click_elements = driver.find_elements_by_class_name(\"Table_title\")\n",
    "    for i in range(0,len(click_elements)):\n",
    "        click_elements = driver.find_elements_by_class_name(\"Table_title\")\n",
    "        click_elements[i].click()\n",
    "        \n",
    "        # 제목 Parsing\n",
    "        title = driver.find_element_by_class_name(\"sub_detail_title\")\n",
    "        title = re,sub(\",\",\"_\",title.text)\n",
    "        \n",
    "        # 내용 Parsing\n",
    "        box = driver.find_element_by_class_name(\"sub_detail_textArea\")\n",
    "        bs = BeautifulSoup(box.get_attribute('innerHTML'), 'html.parser')\n",
    "        subject = bs.find_all('th',{'class':'sub_detal_text'})\n",
    "        subject = [i.text for i in subject]\n",
    "        subject_content = bs.find_all('th',{'class':'sub_detal_text1'})\n",
    "        subject_content = [i.text for i in subject_content]\n",
    "\n",
    "        subject_content =list(map(str.strip,subject_content))\n",
    "        numeric_value = [''.join(filter(lambda x: x.isdigit(), i)) for i in subject_content[1].split(\",\")]\n",
    "        subject_content[3:4] = subject_content[3].split('/')\n",
    "        subject_content[1:2] = numeric_value\n",
    "        subject_content[0] = subject_content[0].split(\",\")[0] + '000원'\n",
    "        subject_content.insert(0,title)\n",
    "        subject_content = list(map(str.strip,subject_content))\n",
    "\n",
    "        with open('dbdbdeep.txt', 'a',encoding='utf-8') as f:\n",
    "            f.write(','.join(subject_content) +'\\n')\n",
    "\n",
    "            \n",
    "        # 폴더 만들기\n",
    "        folder_name = subject_content[6] + \"_\"+ title\n",
    "        folder_name = re.sub('[=.#/?:$}]', '', folder_name)\n",
    "        os.chdir(\"Source\")\n",
    "        if not os.path.exists(folder_name):\n",
    "            os.makedirs(folder_name)\n",
    "        os.chdir(folder_name)\n",
    "\n",
    "        # Html 저장\n",
    "        title_box = driver.find_element_by_class_name(\"sub_detail_textArea\").get_attribute('innerHTML')\n",
    "        specific_context = driver.find_element_by_class_name(\"sub_detail_substance_area\").get_attribute('innerHTML')\n",
    "        Html = title_box + specific_context\n",
    "        with open(folder_name+'.html', 'w',encoding='utf-8') as f:\n",
    "            f.write(Html)\n",
    "\n",
    "\n",
    "        #첨부파일 다운로드\n",
    "        downloads = driver.find_elements_by_css_selector(\"body > div.sub_ContentArea > div.sub_center_area > form > div.sub_detail_substance_area > div:nth-child(10) > table > tbody > tr > th:nth-child(2)\")\n",
    "        if len(downloads) != 0: \n",
    "            for i in downloads:\n",
    "                i.click()\n",
    "                window_before = driver.window_handles[0]\n",
    "                window_after = driver.window_handles[1]\n",
    "                driver.switch_to_window(window_after)\n",
    "                a_links = driver.find_elements_by_tag_name('a')\n",
    "                for i in a_links:\n",
    "                    try:\n",
    "                        i.click()\n",
    "                        time.sleep(5)\n",
    "                    except:\n",
    "                        pass\n",
    "                time.sleep(3)\n",
    "                driver.close()\n",
    "                driver.switch_to_window(window_before)\n",
    "            os.chdir(dir)\n",
    "            download_list = os.listdir(\"/Users/yonggeoljo/Downloads\")\n",
    "            download_path = \"/Users/yonggeoljo/Downloads\"\n",
    "\n",
    "            for i in download_list:\n",
    "                try:\n",
    "                    shutil.move(os.path.join(download_path,i),os.path.join(os.getcwd(),\"Source\",folder_name))\n",
    "                except:\n",
    "                    pass\n",
    "            #클릭 다시\n",
    "            driver.back()\n",
    "            driver.refresh()\n",
    "            time.sleep(2)\n",
    "            number = driver.find_elements_by_class_name(\"sub_PageBTN\")\n",
    "            number[page].click()\n",
    "        else:\n",
    "            #클릭 다시\n",
    "            os.chdir(dir)\n",
    "            driver.back()\n",
    "            driver.refresh()\n",
    "            time.sleep(2)\n",
    "            os.chdir(dir)\n",
    "            number = driver.find_elements_by_class_name(\"sub_PageBTN\")\n",
    "            number[page].click()\n",
    "driver.close()"
   ]
  }
 ],
 "metadata": {
  "kernelspec": {
   "display_name": "Python 3",
   "language": "python",
   "name": "python3"
  },
  "language_info": {
   "codemirror_mode": {
    "name": "ipython",
    "version": 3
   },
   "file_extension": ".py",
   "mimetype": "text/x-python",
   "name": "python",
   "nbconvert_exporter": "python",
   "pygments_lexer": "ipython3",
   "version": "3.6.3"
  }
 },
 "nbformat": 4,
 "nbformat_minor": 2
}
