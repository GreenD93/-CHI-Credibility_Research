{
 "cells": [
  {
   "cell_type": "code",
   "execution_count": 2,
   "metadata": {},
   "outputs": [],
   "source": [
    "import pandas as pd"
   ]
  },
  {
   "cell_type": "code",
   "execution_count": 4,
   "metadata": {},
   "outputs": [],
   "source": [
    "Naver = pd.read_csv('Naver_final_user_table.csv',sep='\\t',encoding='utf-8')"
   ]
  },
  {
   "cell_type": "code",
   "execution_count": 7,
   "metadata": {},
   "outputs": [],
   "source": [
    "Naver_user_id = Naver['User_id'].tolist()"
   ]
  },
  {
   "cell_type": "code",
   "execution_count": null,
   "metadata": {},
   "outputs": [],
   "source": [
    "def Opening_Date_Get(user_id):\n",
    "    opening_url = 'http://blog.naver.com/profile/intro.nhn?blogId='+ user_id\n",
    "    driver = webdriver.Chrome('.//exe_file//chromedriver.exe')\n",
    "    driver.get(opening_url)\n",
    "    driver.implicitly_wait(3)\n",
    "    driver.find_element_by_id('category2').click()\n",
    "    years = driver.find_elements_by_css_selector('#post-area > div:nth-child(4) > table:nth-child(2) > tbody > tr > td > table > tbody > tr > td > table > tbody > tr:nth-child(3) > td:nth-child(2)')\n",
    "    for year in years:\n",
    "        if len(year.text) > 4:\n",
    "            blog_opening_date = year.text\n",
    "        driver.close()\n",
    "    return blog_opening_date"
   ]
  },
  {
   "cell_type": "code",
   "execution_count": null,
   "metadata": {},
   "outputs": [],
   "source": [
    "Naver_opening_date = []\n",
    "for user_id in Naver_user_id:\n",
    "    date = Opening_Date_Get(user_id)\n",
    "    Naver_opening_date.append(date)"
   ]
  },
  {
   "cell_type": "code",
   "execution_count": 9,
   "metadata": {},
   "outputs": [],
   "source": [
    "dbdbdeep = pd.read_csv('dbdbdeep_final_user_table.csv',sep='\\t',encoding='utf-8')"
   ]
  },
  {
   "cell_type": "code",
   "execution_count": 11,
   "metadata": {},
   "outputs": [],
   "source": [
    "dbdbdeep_user_id = dbdbdeep['User_id'].tolist()"
   ]
  },
  {
   "cell_type": "code",
   "execution_count": null,
   "metadata": {},
   "outputs": [],
   "source": [
    "dbdbdeep_opening_date = []\n",
    "for user_id in Naver_user_id:\n",
    "    date = Opening_Date_Get(user_id)\n",
    "    dbdbdeep_opening_date.append(date)"
   ]
  }
 ],
 "metadata": {
  "kernelspec": {
   "display_name": "Python 3",
   "language": "python",
   "name": "python3"
  },
  "language_info": {
   "codemirror_mode": {
    "name": "ipython",
    "version": 3
   },
   "file_extension": ".py",
   "mimetype": "text/x-python",
   "name": "python",
   "nbconvert_exporter": "python",
   "pygments_lexer": "ipython3",
   "version": "3.5.5"
  }
 },
 "nbformat": 4,
 "nbformat_minor": 2
}
