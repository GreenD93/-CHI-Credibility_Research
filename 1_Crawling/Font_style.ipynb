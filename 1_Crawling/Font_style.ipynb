{
 "cells": [
  {
   "cell_type": "markdown",
   "metadata": {},
   "source": [
    "## Import package"
   ]
  },
  {
   "cell_type": "code",
   "execution_count": 1,
   "metadata": {},
   "outputs": [
    {
     "name": "stderr",
     "output_type": "stream",
     "text": [
      "Using TensorFlow backend.\n"
     ]
    },
    {
     "name": "stdout",
     "output_type": "stream",
     "text": [
      "WARNING:tensorflow:From C:\\Users\\AjouHCI\\Miniconda3\\envs\\study\\lib\\site-packages\\tensorflow\\python\\util\\deprecation.py:497: calling conv1d (from tensorflow.python.ops.nn_ops) with data_format=NHWC is deprecated and will be removed in a future version.\n",
      "Instructions for updating:\n",
      "`NHWC` for data_format is deprecated, use `NWC` instead\n"
     ]
    }
   ],
   "source": [
    "from bs4 import BeautifulSoup \n",
    "import re\n",
    "import urllib\n",
    "import requests\n",
    "import shutil \n",
    "from selenium import webdriver\n",
    "import os\n",
    "import time\n",
    "import copy\n",
    "from tqdm import tqdm\n",
    "from pykospacing import spacing\n",
    "import pandas as pd\n",
    "import copy\n",
    "import string, random ## generate random str package\n",
    "from collections import OrderedDict ## repetition removal package\n",
    "from collections import Counter"
   ]
  },
  {
   "cell_type": "code",
   "execution_count": 2,
   "metadata": {},
   "outputs": [],
   "source": [
    "def find_rgb(value):\n",
    "    p = re.compile('rgb.*\\)')\n",
    "    rgb = p.findall(value)\n",
    "    rgb = str(rgb[0])\n",
    "    return rgb"
   ]
  },
  {
   "cell_type": "code",
   "execution_count": 3,
   "metadata": {},
   "outputs": [],
   "source": [
    "def numeric_value(string):\n",
    "    number = re.sub('[^0-9]', '', string) \n",
    "    return(number)"
   ]
  },
  {
   "cell_type": "code",
   "execution_count": 21,
   "metadata": {},
   "outputs": [],
   "source": [
    "User_id = 'icej10'\n",
    "Post_id = '221321717810'\n",
    "\n",
    "\n",
    "url = \"http://blog.naver.com/PostView.nhn?blogId=\"+User_id+ \"&logNo=\" + Post_id +\"&redirect=Dlog&widgetTypeCall=true\"\n",
    "r = requests.get(url)\n",
    "bs = BeautifulSoup(re.sub('&nbsp;',' ',r.text).encode(\"utf-8\"), \"html.parser\")"
   ]
  },
  {
   "cell_type": "code",
   "execution_count": 22,
   "metadata": {},
   "outputs": [],
   "source": [
    "# structure\n",
    "structure = bs.find(\"div\", {\"id\": \"postViewArea\"})\n",
    "if structure == None:\n",
    "    structure = bs.find(\"div\",{\"class\",\"se_component_wrap sect_dsc __se_component_area\"})"
   ]
  },
  {
   "cell_type": "markdown",
   "metadata": {},
   "source": [
    "## Align"
   ]
  },
  {
   "cell_type": "code",
   "execution_count": 23,
   "metadata": {},
   "outputs": [],
   "source": [
    "split_structure =  remove_odd(str(structure)).split('>')\n",
    "center= 0\n",
    "left = 0\n",
    "right = 0\n",
    "justify = 0\n",
    "for item in split_structure:\n",
    "    if 'align' or 'ALIGN' in str(item):\n",
    "        if 'center' in str(item):\n",
    "            center +=1\n",
    "        if 'left' in str(item):\n",
    "            left += 1\n",
    "        if 'right' in str(item):\n",
    "            right +=1\n",
    "        if 'justify' in str(item):\n",
    "            justify +=1"
   ]
  },
  {
   "cell_type": "code",
   "execution_count": 24,
   "metadata": {},
   "outputs": [
    {
     "data": {
      "text/plain": [
       "[8, 48, 1, 24]"
      ]
     },
     "execution_count": 24,
     "metadata": {},
     "output_type": "execute_result"
    }
   ],
   "source": [
    "## Maximum or 0이면 default값으로 셋팅 한 것.\n",
    "Align = [left, center, right, justify]\n",
    "Align"
   ]
  },
  {
   "cell_type": "markdown",
   "metadata": {},
   "source": [
    "## Font Style"
   ]
  },
  {
   "cell_type": "code",
   "execution_count": 76,
   "metadata": {},
   "outputs": [],
   "source": [
    "fonts = ['sans-serif','nanumbarungothic','nanumgothic','nanummyeongjo','돋움','돋움체','굴림','굴림체','바탕','바탕체','궁서','Arial','Tahoma','Times New Roman','Verdana','Couier New']"
   ]
  },
  {
   "cell_type": "code",
   "execution_count": 77,
   "metadata": {},
   "outputs": [],
   "source": [
    "font_list = []\n",
    "for item in split_structure:\n",
    "    for font in fonts:\n",
    "        if font in item:\n",
    "            font_list.append(font)\n",
    "cnt = Counter(font_list)\n",
    "basic_font = cnt.most_common(1)\n",
    "if basic_font == []:\n",
    "    basic_font = 'default'"
   ]
  },
  {
   "cell_type": "code",
   "execution_count": 78,
   "metadata": {},
   "outputs": [
    {
     "data": {
      "text/plain": [
       "'default'"
      ]
     },
     "execution_count": 78,
     "metadata": {},
     "output_type": "execute_result"
    }
   ],
   "source": [
    "basic_font"
   ]
  },
  {
   "cell_type": "markdown",
   "metadata": {},
   "source": [
    "## Font_size"
   ]
  },
  {
   "cell_type": "code",
   "execution_count": 79,
   "metadata": {},
   "outputs": [],
   "source": [
    "def numeric_value(string):\n",
    "    number = re.sub('[^0-9]', '', string) \n",
    "    return(number)"
   ]
  },
  {
   "cell_type": "code",
   "execution_count": 80,
   "metadata": {},
   "outputs": [],
   "source": [
    "font_size_list = []\n",
    "for item in split_structure:\n",
    "    if 'font' in item:\n",
    "        p = re.compile('font-size:.*pt;')\n",
    "        font_size = p.findall(str(item))\n",
    "        string = \"\".join(font_size)\n",
    "        size = numeric_value(string)\n",
    "        if len(size) < 3 and 0 < len(size):\n",
    "            font_size_list.append(numeric_value(string))\n",
    "cnt = Counter(font_size_list)\n",
    "basic_font_size = cnt.most_common(1)\n",
    "if basic_font_size == []:\n",
    "    basic_font_size = 'default'"
   ]
  },
  {
   "cell_type": "markdown",
   "metadata": {},
   "source": [
    "## B,strong_tag "
   ]
  },
  {
   "cell_type": "code",
   "execution_count": 81,
   "metadata": {},
   "outputs": [],
   "source": [
    "b_strong_tag = structure.find_all(['b','strong'])"
   ]
  },
  {
   "cell_type": "code",
   "execution_count": 82,
   "metadata": {},
   "outputs": [],
   "source": [
    "## word는 무조건 remove_odd 하기!!!\n",
    "b_strong_rgb_list = []\n",
    "b_strong_rgb_word_list = []\n",
    "b_strong_rgb_word_len = 0\n",
    "for item in b_strong_tag:\n",
    "    if len(item.text) > 1 and len(item.text) < 22:\n",
    "        b_strong_rgb_list.append(find_rgb(str(item)))\n",
    "        b_strong_rgb_word_list.append(remove_odd(item.text))\n",
    "        b_strong_rgb_word_len += len(remove_odd(item.text))\n",
    "b_strong_count = len(b_strong_rgb_list)"
   ]
  },
  {
   "cell_type": "code",
   "execution_count": 83,
   "metadata": {},
   "outputs": [
    {
     "data": {
      "text/plain": [
       "[['rgb(58, 50, 195)',\n",
       "  'rgb(255, 0, 0)',\n",
       "  'rgb(255, 0, 0)',\n",
       "  'rgb(58, 50, 195)',\n",
       "  'rgb(255, 0, 0)',\n",
       "  'rgb(255, 0, 0)',\n",
       "  'rgb(255, 0, 0)',\n",
       "  'rgb(255, 0, 0)'],\n",
       " ['ice J의 음악이야기',\n",
       "  '\"독식하려 하지 말고 나누라!\"',\n",
       "  '답: 사용자',\n",
       "  '3. 네이버 이탈인가? 검색 이탈인가?',\n",
       "  '파워블로그...',\n",
       "  '1. 전업 블로거를 양산해야 한다.',\n",
       "  '2. 파워 블로그를 부활 시켜야 한다.',\n",
       "  '3. 광고성 블로그를 정리해야 한다.'],\n",
       " 8,\n",
       " 124]"
      ]
     },
     "execution_count": 83,
     "metadata": {},
     "output_type": "execute_result"
    }
   ],
   "source": [
    "[b_strong_rgb_list,b_strong_rgb_word_list,b_strong_count,b_strong_rgb_word_len]"
   ]
  },
  {
   "cell_type": "markdown",
   "metadata": {},
   "source": [
    "## Color_tag\n",
    "- rgb 0, 0, 0 or rgb(000,000,000) 이상으로 뽑기"
   ]
  },
  {
   "cell_type": "code",
   "execution_count": 84,
   "metadata": {},
   "outputs": [],
   "source": [
    "color_tag =  structure.find_all('span')"
   ]
  },
  {
   "cell_type": "code",
   "execution_count": 85,
   "metadata": {},
   "outputs": [],
   "source": [
    "## word는 무조건 remove_odd 하기!!!\n",
    "color_rgb_list = []\n",
    "color_rgb_word_list = []\n",
    "color_rgb_word_len = 0\n",
    "for item in color_tag:\n",
    "    if 'rgb' in str(item):\n",
    "        if len(item.text)>1 and len(item.text) < 25:\n",
    "            color_rgb_list.append(find_rgb(str(item)))\n",
    "            color_rgb_word_list.append(remove_odd(item.text))\n",
    "            color_rgb_word_len += len(remove_odd(item.text))\n",
    "color_count = len(color_rgb_word_list)"
   ]
  },
  {
   "cell_type": "code",
   "execution_count": 86,
   "metadata": {},
   "outputs": [
    {
     "data": {
      "text/plain": [
       "[['rgb(58, 50, 195)',\n",
       "  'rgb(255, 0, 0)',\n",
       "  'rgb(255, 0, 0)',\n",
       "  'rgb(58, 50, 195)',\n",
       "  'rgb(58, 50, 195)',\n",
       "  'rgb(58, 50, 195)',\n",
       "  'rgb(255, 0, 0)',\n",
       "  'rgb(255, 0, 0)',\n",
       "  'rgb(255, 0, 0)',\n",
       "  'rgb(255, 0, 0)'],\n",
       " ['ice J의 음악이야기',\n",
       "  '\"독식하려 하지 말고 나누라!\"',\n",
       "  '답: 사용자',\n",
       "  '3. 네이버 이탈인가? 검색 이탈인가?',\n",
       "  '4. 네이버 이탈의 근본 원인은 ',\n",
       "  '이다.',\n",
       "  '파워블로그...',\n",
       "  '전업 블로거',\n",
       "  '파워 블로그',\n",
       "  '광고성 블로그'],\n",
       " 10,\n",
       " 104]"
      ]
     },
     "execution_count": 86,
     "metadata": {},
     "output_type": "execute_result"
    }
   ],
   "source": [
    "[color_rgb_list,color_rgb_word_list,color_count,color_rgb_word_len]"
   ]
  },
  {
   "cell_type": "markdown",
   "metadata": {},
   "source": [
    "## Total_features"
   ]
  },
  {
   "cell_type": "code",
   "execution_count": 91,
   "metadata": {},
   "outputs": [],
   "source": [
    "save_content_list = [Align,basic_font,basic_font_size,b_strong_rgb_list,b_strong_rgb_word_list,b_strong_count,b_strong_rgb_word_len,color_rgb_list,color_rgb_word_list,color_count,color_rgb_word_len]"
   ]
  },
  {
   "cell_type": "code",
   "execution_count": 94,
   "metadata": {},
   "outputs": [],
   "source": [
    "save_content = \"\\t\".join(list(map(str,save_content_list)))"
   ]
  },
  {
   "cell_type": "code",
   "execution_count": 95,
   "metadata": {},
   "outputs": [],
   "source": [
    "with open('test_font.csv', 'a', encoding='utf-8') as f:\n",
    "    f.write(save_content+\"\\n\")"
   ]
  }
 ],
 "metadata": {
  "kernelspec": {
   "display_name": "Python 3",
   "language": "python",
   "name": "python3"
  },
  "language_info": {
   "codemirror_mode": {
    "name": "ipython",
    "version": 3
   },
   "file_extension": ".py",
   "mimetype": "text/x-python",
   "name": "python",
   "nbconvert_exporter": "python",
   "pygments_lexer": "ipython3",
   "version": "3.6.7"
  }
 },
 "nbformat": 4,
 "nbformat_minor": 2
}
