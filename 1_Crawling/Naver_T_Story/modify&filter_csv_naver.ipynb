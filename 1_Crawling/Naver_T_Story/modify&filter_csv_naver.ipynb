{
 "cells": [
  {
   "cell_type": "code",
   "execution_count": 1,
   "metadata": {},
   "outputs": [],
   "source": [
    "import pandas as pd"
   ]
  },
  {
   "cell_type": "code",
   "execution_count": 2,
   "metadata": {},
   "outputs": [],
   "source": [
    "df = pd.read_csv(\"Naver_total_ID_06_18.csv\",encoding='utf-8')"
   ]
  },
  {
   "cell_type": "code",
   "execution_count": 3,
   "metadata": {},
   "outputs": [],
   "source": [
    "df['Child'] = df['Child'].apply(lambda x : 'IT·컴퓨터' if x == 'IT·웹·프로그램' else x)"
   ]
  },
  {
   "cell_type": "code",
   "execution_count": 4,
   "metadata": {},
   "outputs": [],
   "source": [
    "df['Child'] = df['Child'].apply(lambda x : '교육·외국어' if x == '어학·외국어' else x)"
   ]
  },
  {
   "cell_type": "code",
   "execution_count": 6,
   "metadata": {},
   "outputs": [],
   "source": [
    "#conditional\n",
    "#df[(df['Child']=='책')]"
   ]
  },
  {
   "cell_type": "code",
   "execution_count": 8,
   "metadata": {},
   "outputs": [],
   "source": [
    "save_naver_df = df[(df['Child']=='IT·컴퓨터')|(df['Child']=='건강·의학')|(df['Child']=='공연·전시')|(df['Child']=='어학·외국어')|(df['Child']=='교육·학문')|(df['Child']=='국내여행')|(df['Child']=='드라마·방송')|(df['Child']=='등산·낚시·레저')|(df['Child']=='만화·애니')|(df['Child']=='맛집')|(df['Child']=='시사·인문·경제')|(df['Child']=='사진')|(df['Child']=='스포츠')|(df['Child']=='와인·술')|(df['Child']=='육아·결혼')|(df['Child']=='자동차')|(df['Child']=='차·커피·디저트')|(df['Child']=='패션·뷰티')]"
   ]
  },
  {
   "cell_type": "code",
   "execution_count": 9,
   "metadata": {},
   "outputs": [],
   "source": [
    "save_naver_df.to_csv('Filter_naver_category_18.csv',encoding='utf-8',index=None)"
   ]
  },
  {
   "cell_type": "code",
   "execution_count": 11,
   "metadata": {},
   "outputs": [],
   "source": [
    "new_df = pd.read_csv('Filter_naver_category_18.csv',encoding='utf-8')"
   ]
  },
  {
   "cell_type": "code",
   "execution_count": 13,
   "metadata": {},
   "outputs": [
    {
     "data": {
      "text/plain": [
       "1520"
      ]
     },
     "execution_count": 13,
     "metadata": {},
     "output_type": "execute_result"
    }
   ],
   "source": [
    "len(new_df)"
   ]
  },
  {
   "cell_type": "code",
   "execution_count": 18,
   "metadata": {},
   "outputs": [
    {
     "data": {
      "text/plain": [
       "960"
      ]
     },
     "execution_count": 18,
     "metadata": {},
     "output_type": "execute_result"
    }
   ],
   "source": [
    "len(new_df.drop_duplicates(subset=['ID']))"
   ]
  },
  {
   "cell_type": "code",
   "execution_count": 20,
   "metadata": {},
   "outputs": [],
   "source": [
    "save_naver_df = new_df.drop_duplicates(subset=['ID'])"
   ]
  },
  {
   "cell_type": "code",
   "execution_count": 21,
   "metadata": {},
   "outputs": [],
   "source": [
    "save_naver_df.to_csv('Filter_naver_category_18_drop_duplicated_ID.csv',encoding='utf-8',index=None)"
   ]
  }
 ],
 "metadata": {
  "kernelspec": {
   "display_name": "Python 3",
   "language": "python",
   "name": "python3"
  },
  "language_info": {
   "codemirror_mode": {
    "name": "ipython",
    "version": 3
   },
   "file_extension": ".py",
   "mimetype": "text/x-python",
   "name": "python",
   "nbconvert_exporter": "python",
   "pygments_lexer": "ipython3",
   "version": "3.6.3"
  }
 },
 "nbformat": 4,
 "nbformat_minor": 2
}
