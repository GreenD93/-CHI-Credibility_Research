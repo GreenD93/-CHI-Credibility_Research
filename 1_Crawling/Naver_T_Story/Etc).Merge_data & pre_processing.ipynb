{
 "cells": [
  {
   "cell_type": "code",
   "execution_count": 73,
   "metadata": {},
   "outputs": [],
   "source": [
    "import pandas as pd\n",
    "import re"
   ]
  },
  {
   "cell_type": "code",
   "execution_count": 74,
   "metadata": {},
   "outputs": [],
   "source": [
    "df_1 = pd.read_csv('.//Naver_data//1.Naver_month_blog_id.txt',names=['Year','Category','url'],sep=',',encoding='utf-8')\n",
    "df_2 = pd.read_csv('.//Naver_data//1.Naver_power_blog_id.txt',names=['Year','Parent','Category','url'],sep=',',encoding='utf-8')"
   ]
  },
  {
   "cell_type": "code",
   "execution_count": 75,
   "metadata": {},
   "outputs": [],
   "source": [
    "df_1['Parent'] = ''\n",
    "col_name = df_1.columns.tolist()\n",
    "col_name.insert(1,'Parent')\n",
    "col_name = col_name[:4]"
   ]
  },
  {
   "cell_type": "code",
   "execution_count": 76,
   "metadata": {},
   "outputs": [],
   "source": [
    "df_1 = df_1[col_name]\n",
    "df_1['url'] = df_1['url'].apply(lambda x : x.split('/')[3])"
   ]
  },
  {
   "cell_type": "code",
   "execution_count": 77,
   "metadata": {},
   "outputs": [],
   "source": [
    "df_2['Year'] = df_2['Year'].apply(lambda x : int(x))\n",
    "df_2 = df_2.sort_values(by=['Year'])\n",
    "df_2['url'] = df_2['url'].apply(lambda x : x.split('?')[0].split('/')[3])"
   ]
  },
  {
   "cell_type": "code",
   "execution_count": 78,
   "metadata": {},
   "outputs": [],
   "source": [
    "concat_df = pd.concat([df_2,df_1]).reset_index(drop=True)"
   ]
  },
  {
   "cell_type": "code",
   "execution_count": 80,
   "metadata": {},
   "outputs": [
    {
     "data": {
      "text/html": [
       "<div>\n",
       "<style scoped>\n",
       "    .dataframe tbody tr th:only-of-type {\n",
       "        vertical-align: middle;\n",
       "    }\n",
       "\n",
       "    .dataframe tbody tr th {\n",
       "        vertical-align: top;\n",
       "    }\n",
       "\n",
       "    .dataframe thead th {\n",
       "        text-align: right;\n",
       "    }\n",
       "</style>\n",
       "<table border=\"1\" class=\"dataframe\">\n",
       "  <thead>\n",
       "    <tr style=\"text-align: right;\">\n",
       "      <th></th>\n",
       "      <th>Year</th>\n",
       "      <th>Parent</th>\n",
       "      <th>Category</th>\n",
       "      <th>url</th>\n",
       "    </tr>\n",
       "  </thead>\n",
       "  <tbody>\n",
       "    <tr>\n",
       "      <th>4105</th>\n",
       "      <td>2018-4</td>\n",
       "      <td></td>\n",
       "      <td>국내여행</td>\n",
       "      <td>risapa</td>\n",
       "    </tr>\n",
       "    <tr>\n",
       "      <th>4106</th>\n",
       "      <td>2018-4</td>\n",
       "      <td></td>\n",
       "      <td>국내여행</td>\n",
       "      <td>logenjjem</td>\n",
       "    </tr>\n",
       "    <tr>\n",
       "      <th>4107</th>\n",
       "      <td>2018-4</td>\n",
       "      <td></td>\n",
       "      <td>국내여행</td>\n",
       "      <td>elkjbc</td>\n",
       "    </tr>\n",
       "    <tr>\n",
       "      <th>4108</th>\n",
       "      <td>2018-4</td>\n",
       "      <td></td>\n",
       "      <td>국내여행</td>\n",
       "      <td>snslive</td>\n",
       "    </tr>\n",
       "    <tr>\n",
       "      <th>4109</th>\n",
       "      <td>2018-4</td>\n",
       "      <td></td>\n",
       "      <td>국내여행</td>\n",
       "      <td>ydl1</td>\n",
       "    </tr>\n",
       "  </tbody>\n",
       "</table>\n",
       "</div>"
      ],
      "text/plain": [
       "        Year Parent Category        url\n",
       "4105  2018-4            국내여행     risapa\n",
       "4106  2018-4            국내여행  logenjjem\n",
       "4107  2018-4            국내여행     elkjbc\n",
       "4108  2018-4            국내여행    snslive\n",
       "4109  2018-4            국내여행       ydl1"
      ]
     },
     "execution_count": 80,
     "metadata": {},
     "output_type": "execute_result"
    }
   ],
   "source": [
    "concat_df.tail()"
   ]
  },
  {
   "cell_type": "code",
   "execution_count": 82,
   "metadata": {},
   "outputs": [],
   "source": [
    "concat_df.to_csv('Naver_total_id.csv',index=False,encoding='utf-8')"
   ]
  }
 ],
 "metadata": {
  "kernelspec": {
   "display_name": "Python 3",
   "language": "python",
   "name": "python3"
  },
  "language_info": {
   "codemirror_mode": {
    "name": "ipython",
    "version": 3
   },
   "file_extension": ".py",
   "mimetype": "text/x-python",
   "name": "python",
   "nbconvert_exporter": "python",
   "pygments_lexer": "ipython3",
   "version": "3.6.3"
  }
 },
 "nbformat": 4,
 "nbformat_minor": 2
}
