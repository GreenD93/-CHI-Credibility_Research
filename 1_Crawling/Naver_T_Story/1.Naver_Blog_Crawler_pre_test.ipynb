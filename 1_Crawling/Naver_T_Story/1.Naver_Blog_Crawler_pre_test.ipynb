{
 "cells": [
  {
   "cell_type": "markdown",
   "metadata": {},
   "source": [
    "## 1. Import packages"
   ]
  },
  {
   "cell_type": "code",
   "execution_count": null,
   "metadata": {},
   "outputs": [],
   "source": [
    "from bs4 import BeautifulSoup # html을 soup에 넣고 특정 class or data를 가져오는 library\n",
    "import re\n",
    "import urllib\n",
    "import requests\n",
    "import shutil\n",
    "import collections\n",
    "import codecs\n",
    "import json\n",
    "from selenium import webdriver"
   ]
  },
  {
   "cell_type": "code",
   "execution_count": 2,
   "metadata": {},
   "outputs": [],
   "source": [
    "def hangul(text):\n",
    "    hangul = re.compile('[^ ㄱ-ㅣ가-힣]+') # 한글과 띄어쓰기를 제외한 모든 글자\n",
    "    # hangul = re.compile('[^ \\u3131-\\u3163\\uac00-\\ud7a3]+')  # 위와 동일\n",
    "    result = hangul.sub('', text) # 한글과 띄어쓰기를 제외한 모든 부분을 제거\n",
    "    return str(result)"
   ]
  },
  {
   "cell_type": "markdown",
   "metadata": {},
   "source": [
    "## 2. Input : User_name + logNo"
   ]
  },
  {
   "cell_type": "code",
   "execution_count": 3,
   "metadata": {},
   "outputs": [],
   "source": [
    "# http://blog.naver.com/PostList.nhn?blogId= *id*\n",
    "doc = collections.OrderedDict()\n",
    "\n",
    "move_folder = \"C:\\\\Users\\\\AjouHCI\\\\Desktop\\\\Pic_sample\\\\Non_Credible\"\n",
    "\n",
    "blog_id= 'dosinam777'\n",
    "post_No= '221293220120'\n",
    "\n",
    "url = \"http://blog.naver.com/PostView.nhn?blogId=\"+blog_id+ \"&logNo=\" + post_No +\"&redirect=Dlog&widgetTypeCall=true\""
   ]
  },
  {
   "cell_type": "code",
   "execution_count": 4,
   "metadata": {},
   "outputs": [],
   "source": [
    "r = requests.get(url)\n",
    "bs = BeautifulSoup(r.text.encode(\"utf-8\"), \"html.parser\")"
   ]
  },
  {
   "cell_type": "markdown",
   "metadata": {},
   "source": [
    "## 2-1. Input : User_name + page number"
   ]
  },
  {
   "cell_type": "code",
   "execution_count": 5,
   "metadata": {},
   "outputs": [],
   "source": [
    "# doc = collections.OrderedDict()\n",
    "\n",
    "# page = 10\n",
    "# move_folder = \"C:\\\\Users\\\\AjouHCI\\\\Desktop\\\\Pic_sample\\\\Non_Credible\"\n",
    "# #move_folder = \"C:\\\\Users\\\\AjouHCI\\\\Desktop\\\\Pic_sample\\\\Credible\""
   ]
  },
  {
   "cell_type": "code",
   "execution_count": 6,
   "metadata": {},
   "outputs": [],
   "source": [
    "# credible = []\n",
    "# Non_credible = []"
   ]
  },
  {
   "cell_type": "code",
   "execution_count": 7,
   "metadata": {},
   "outputs": [],
   "source": [
    "# url = \"http://blog.naver.com/PostList.nhn?blogId=\" + blog_id + \"&currentPage=\" + str(page)"
   ]
  },
  {
   "cell_type": "code",
   "execution_count": 8,
   "metadata": {},
   "outputs": [],
   "source": [
    "# r = requests.get(url)\n",
    "# bs = BeautifulSoup(r.text.encode(\"utf-8\"), \"html.parser\")"
   ]
  },
  {
   "cell_type": "markdown",
   "metadata": {},
   "source": [
    "## 3. Data_parsing"
   ]
  },
  {
   "cell_type": "markdown",
   "metadata": {},
   "source": [
    "### 3-1. Get a Title"
   ]
  },
  {
   "cell_type": "code",
   "execution_count": 9,
   "metadata": {},
   "outputs": [],
   "source": [
    "title = bs.find(\"h3\", {\"class\": \"se_textarea\"})\n",
    "if (title == None):\n",
    "    title = bs.find(\"span\", {\"class\": \"pcol1 itemSubjectBoldfont\"})\n",
    "if (title != None):\n",
    "    doc[\"title\"] = title.text.strip()\n",
    "else:\n",
    "    doc[\"title\"] = \"TITLE ERROR\""
   ]
  },
  {
   "cell_type": "markdown",
   "metadata": {},
   "source": [
    "### 3-2. Get a Date"
   ]
  },
  {
   "cell_type": "code",
   "execution_count": 10,
   "metadata": {},
   "outputs": [],
   "source": [
    "date = bs.find(\"span\", {\"class\": \"se_publishDate pcol2 fil5\"})"
   ]
  },
  {
   "cell_type": "code",
   "execution_count": 11,
   "metadata": {},
   "outputs": [],
   "source": [
    "date_text = date.text\n",
    "date_text = re.sub(\"\\n\",\"\",date_text)\n",
    "date = re.sub(\"\\t\",\"\",date_text)"
   ]
  },
  {
   "cell_type": "markdown",
   "metadata": {},
   "source": [
    "### 3-3. Get a Tag & Content Structure& text"
   ]
  },
  {
   "cell_type": "code",
   "execution_count": 12,
   "metadata": {},
   "outputs": [],
   "source": [
    "structure = bs.find(\"div\", {\"id\": \"postViewArea\"})\n",
    "\n",
    "if structure == None:\n",
    "    structure = bs.find(\"div\",{\"class\",\"se_component_wrap sect_dsc __se_component_area\"})\n",
    "\n",
    "structure_tag = structure.find_all(['p','img'])\n",
    "content_list = []\n",
    "\n",
    "for i in structure_tag:        \n",
    "    if str(i)[:2] == \"<p\":\n",
    "        content_list.append(\"<p>\")\n",
    "        check = i.find_all(['span','br'])\n",
    "        for j in check:\n",
    "            if str(j)[:2] == '<s':\n",
    "                if hangul(j.text.strip()) != '':\n",
    "                    content_list.append(j)\n",
    "            else:\n",
    "                content_list.append(j)\n",
    "        content_list.append(\"</p>\")\n",
    "\n",
    "    if str(i)[:4] == \"<img\":\n",
    "        content_list.append(i)"
   ]
  },
  {
   "cell_type": "code",
   "execution_count": 13,
   "metadata": {},
   "outputs": [],
   "source": [
    "text_list = []\n",
    "for i in content_list:\n",
    "    try:\n",
    "        text_list.append(i.text)\n",
    "    except:\n",
    "        pass"
   ]
  },
  {
   "cell_type": "code",
   "execution_count": 14,
   "metadata": {},
   "outputs": [],
   "source": [
    "content_structre = \"|\".join([str(i) for i in content_list])\n",
    "text = \" \".join(list(map(lambda x : x.strip(),list(filter(lambda x: len(x)>1 ,text_list)))))\n",
    "tag_structure = \"|\".join(list(map(lambda x: str(x)[:5].strip() +'>' if str(x)[:5][-1] != '>' else str(x)[:5] ,content_list)))"
   ]
  },
  {
   "cell_type": "markdown",
   "metadata": {},
   "source": [
    "### 3-4. Get a categry_list"
   ]
  },
  {
   "cell_type": "code",
   "execution_count": 15,
   "metadata": {},
   "outputs": [],
   "source": [
    "driver = webdriver.Chrome('.//exe_file//chromedriver.exe')\n",
    "driver.get(url)\n",
    "driver.implicitly_wait(3)\n",
    "category = driver.find_element_by_class_name(\"cm-body\")\n",
    "bs = BeautifulSoup(category.text.encode(\"utf-8\"), \"html.parser\")\n",
    "\n",
    "total_post_count = int(re.sub('\\D',\"\",bs.text.split(\"\\n\")[0].split(\" \")[1]))\n",
    "category = bs.text.split(\"\\n\")[1:]\n",
    "category_count = len(category)\n",
    "\n",
    "driver.close()"
   ]
  },
  {
   "cell_type": "markdown",
   "metadata": {},
   "source": [
    "## 4. Save  a file to json"
   ]
  },
  {
   "cell_type": "code",
   "execution_count": 16,
   "metadata": {},
   "outputs": [],
   "source": [
    "save_list = []"
   ]
  },
  {
   "cell_type": "code",
   "execution_count": 17,
   "metadata": {},
   "outputs": [],
   "source": [
    "doc['title'] = title.text\n",
    "doc['tag_structure'] = tag_structure\n",
    "doc['content'] = content_structre\n",
    "doc['text'] = text\n",
    "doc['date'] = date\n",
    "doc['total_post_count'] = total_post_count\n",
    "doc['category'] = category\n",
    "doc['category_count'] = category_count\n",
    "\n",
    "save_list.append(dict(doc))"
   ]
  },
  {
   "cell_type": "code",
   "execution_count": 18,
   "metadata": {},
   "outputs": [],
   "source": [
    "with open('Crawling_text.json', 'w') as f:\n",
    "    f.write(json.dumps(save_list))"
   ]
  },
  {
   "cell_type": "markdown",
   "metadata": {},
   "source": [
    "## Read json_file"
   ]
  },
  {
   "cell_type": "code",
   "execution_count": 19,
   "metadata": {},
   "outputs": [],
   "source": [
    "with open('Crawling_text.json', 'r') as read_file:\n",
    "    loaded_dictionaries = json.loads(read_file.read())"
   ]
  },
  {
   "cell_type": "code",
   "execution_count": 20,
   "metadata": {},
   "outputs": [
    {
     "data": {
      "text/plain": [
       "[{'category': ['창업정보',\n",
       "   '창업아이템소개',\n",
       "   '성공창업노하우',\n",
       "   '맛집,멋집',\n",
       "   'IT.컴퓨터',\n",
       "   '재테크',\n",
       "   '사진여행',\n",
       "   '상품리뷰',\n",
       "   '라이프',\n",
       "   '모임 생활정보 책자',\n",
       "   '서울 생활정보',\n",
       "   '인천 생활정보',\n",
       "   '부천 생활정보',\n",
       "   '대전 생활정보',\n",
       "   '세종 생활정보',\n",
       "   '전주 생활정보',\n",
       "   '부산 생활책자'],\n",
       "  'category_count': 17,\n",
       "  'content': '<p>|<span class=\"se_fs_T2\"><b>대전갈마동맛집 독도새우전문점 황금새우나라 </b><br/></span>|<br/>|<span class=\"se_fs_T1\" style=\"color: rgb(241, 47, 34);\"><b>1주년기념 할인행사 </b></span>|<span class=\"se_fs_T2\"><b>하네요~~~~~~</b><br/></span>|<br/>|<span class=\"se_fs_T3\"><b><b>대전독도새우,갈마동꽃새우,대전닭새우,독도새우가격,대전도하새우,대전독도새우전문점,대전새우전문점,새우코스요리전문점,</b></b><br/></span>|<br/>|<span class=\"se_fs_T3\"><b><b>대전갈마동맛집,대전독도새우이벤트,새우할인행사,</b></b></span>|<br/>|</p>|<img alt=\"\" class=\"se_mediaImage __se_img_el\" data-attachment-id=\"IQpsv_YrgPnCwA3TreUMm8cCkd_Y\" height=\"440\" id=\"SEDOC-1528358776638-159508495_image_0_img\" src=\"http://postfiles9.naver.net/MjAxODA2MDVfMjMw/MDAxNTI4MTcyNzI2MjY0.76IM_l0SXLvM-U_jtkHHi6xvaGDTDoZSnufxJ8kafjMg.uaFHja7xvrqTjOYYlf7sKwWpWpQNd5sqvDtC29fJxPUg.PNG.dosinam777/%EC%BA%A1%EC%B2%986.PNG?type=w966\" width=\"619\"/>|<p>|<span class=\"se_fs_T2\"><b>오늘은 새우중에서도 귀한 동해자연산새우전문점으로 유명한 </b><br/></span>|<br/>|<span class=\"se_fs_T1\" style=\"color: rgb(240, 44, 140);\"><b>황금새우나라\\xa0</b><br/></span>|<br/>|<span class=\"se_fs_T2\"><b> 독도새우를 소개할까해요~~</b><br/></span>|<br/>|</p>|<img alt=\"스티커 이미지\" class=\"__se_img_el\" height=\"160\" src=\"https://storep-phinf.pstatic.net\\u200b/linebiz21_01/original_12.png?type=p50_50\" width=\"185\"/>|<img alt=\"\" class=\"se_mediaImage __se_img_el\" data-attachment-id=\"ILYaFr90etGWWQyLEhEDi5rvuuAA\" id=\"_img_0\" src=\"http://postfiles4.naver.net/MjAxODA2MDVfNzQg/MDAxNTI4MTcyNzI1OTc0.gB-fn1gm9ViJOUjvMUez1Qtas-NP7b77kFq6-92AERkg.r007tx09ErUKB2fhKMbTZfrJ7-QISUJn1_whkDxxawkg.JPEG.dosinam777/KakaoTalk_20180605_124023859.jpg?type=w966\"/>|<img alt=\"\" class=\"se_mediaImage __se_img_el\" data-attachment-id=\"Io_JXOC0Qwl0wBb5f674vXvaGT6o\" id=\"_img_1\" src=\"http://postfiles2.naver.net/MjAxODA2MDVfMTAy/MDAxNTI4MTcyNzI1OTg0.q-RqI6yDGZBzgC3ZrJc698o-rIfkyfwrEyzTtny3ATUg.ZFzBj2h9_sBnygOeBVL4u-bJgs3Alald8Xu844L-TmIg.JPEG.dosinam777/KakaoTalk_20180605_124023410.jpg?type=w966\"/>|<img alt=\"\" class=\"se_mediaImage __se_img_el\" data-attachment-id=\"IyzkePITKXBaBa0uH35LxEUn3HnQ\" height=\"540\" id=\"SEDOC-1528358776638-159508495_image_1_img\" src=\"http://postfiles12.naver.net/MjAxODA2MDVfMTIw/MDAxNTI4MTcyNzI1OTc3.PHrjyVJZHg6S59lCYv7LBUFsoLn2Yr47Z8g_YhnmJBIg.XvmR5KGW9ju-z0VHtg05MbSTsx3_DscPGyM8cabjW8Ig.JPEG.dosinam777/KakaoTalk_20180605_124024177.jpg?type=w966\" width=\"960\"/>|<p>|<span class=\"se_fs_T3\"><b><b>독도새우는 독도 주변해역에서 잡히는 물렁가시붉은새우,가시배새우,도화새우를</b></b><br/></span>|<br/>|<span class=\"se_fs_T3\"><b><b>아울러 이르는 말이고 살이 단단하고 단맛이 뛰어나 미식가들 사이에</b></b><br/></span>|<br/>|<span class=\"se_fs_T3\"><b><b>명성이 높은 새우라고하네요~~</b></b><br/></span>|<br/>|<span class=\"se_fs_T3\"><b><b>2017년 11월 도널드트럼프 미국대통령 국빈방문시 청와대 공식 만찬 메뉴에</b></b><br/></span>|<br/>|<span class=\"se_fs_T3\"><b><b>올라오면서 주목을 받았다고해요~~</b></b><br/></span>|<br/>|<span class=\"se_fs_T3\"><b><b>어획량이 많지않은 귀~~~~~한 독도새우네요~~@@</b></b></span>|<br/>|</p>|<img alt=\"스티커 이미지\" class=\"__se_img_el\" height=\"151\" src=\"https://storep-phinf.pstatic.net\\u200b/line_characters_in_love/original_15.png?type=p50_50\" width=\"173\"/>|<p>|<br/>|<br/>|</p>|<img alt=\"\" class=\"se_mediaImage __se_img_el\" data-attachment-id=\"IkaupfJ6jGDJnHMR08Gl9gcAAOVY\" height=\"440\" id=\"SEDOC-1528358776638-159508495_image_2_img\" src=\"http://postfiles16.naver.net/MjAxODA2MDVfODcg/MDAxNTI4MTcyNzI2Mjgw.HRiTi3NEtJ7Sx9Of8Z_FFZpUR-NFL2FJqgaC6EBZW8Ug.kdBL-RFtbYXv5wrpmhjC2Ir76ZY0PfJlf5bbM6GPbhwg.PNG.dosinam777/%EC%BA%A1%EC%B2%9880.PNG?type=w966\" width=\"763\"/>|<p>|<span class=\"se_fs_T2\"><b>깔끔한 내부모습이에요~~</b></span>|<br/>|<br/>|</p>|<img alt=\"\" class=\"se_mediaImage __se_img_el\" data-attachment-id=\"IRLZdbqJiBFk1BJ757sJ6nTBCn9A\" id=\"_img_0\" src=\"http://postfiles2.naver.net/MjAxODA2MDVfNTYg/MDAxNTI4MTczNjQxMTk3.qR40iNvAv8eTGnfWmHVFTlkq_VFCGvBoIsbq4aKgwqwg.1wJUrlJh0FVlR58ob_9hFO-YVc_tt7yy6wput_-Rkrkg.PNG.dosinam777/%EC%BA%A1%EC%B2%9861.PNG?type=w966\"/>|<img alt=\"\" class=\"se_mediaImage __se_img_el\" data-attachment-id=\"IvVIlSRb1K9qnZVMpMbUiL4tA1Yg\" id=\"_img_1\" src=\"http://postfiles1.naver.net/MjAxODA2MDVfMTM1/MDAxNTI4MTczNjQxMjA4.c1l9qnJLLByAUEKkE8nbY13_8J01oCKq-Sfn2XQojhEg.0vIlT5_770tn_GuYg0C7jTN6Ts3Da6cFHc2GiRrlyyog.PNG.dosinam777/%EC%BA%A1%EC%B2%9862.PNG?type=w966\"/>|<img alt=\"\" class=\"se_mediaImage __se_img_el\" data-attachment-id=\"I2jyPX6dzCoQJxalR0CCMGnUhbWQ\" id=\"_img_0\" src=\"http://postfiles9.naver.net/MjAxODA2MDVfMTQ5/MDAxNTI4MTc1MjAyMTY3.HLWregkc_qBXtRJUxi21MiCgan2DUuROLONA-c24ESwg.tQ_067D_GYKvldCCPyg8U7ziOJ_a9TzedR7_OHn3Whog.JPEG.dosinam777/KakaoTalk_20180605_124032061.jpg?type=w966\"/>|<img alt=\"\" class=\"se_mediaImage __se_img_el\" data-attachment-id=\"I_YTS27Jb4Wf1W7PWMxglhUIdLxQ\" id=\"_img_1\" src=\"http://postfiles1.naver.net/MjAxODA2MDVfMTEy/MDAxNTI4MTc1MjAyMjM3.9ddbAywATHHThHDKV10bApQxXR8u-pZudUJsKx--Q9Mg.gejPIaOElyY_8KS1v_ZWgU-4Vu_Hvpg4C9bBA8Ilvp0g.JPEG.dosinam777/KakaoTalk_20180605_124033002.jpg?type=w966\"/>|<p>|<span class=\"se_fs_T2\"><b>수족관에 새우들이 가득있어요~~</b><br/></span>|<br/>|<span class=\"se_fs_T2\"><b>수심깊은곳에서 서식하기때문에 불빛을 </b><br/></span>|<br/>|<span class=\"se_fs_T2\"><b>밝게하지 </b></span>|<span class=\"se_fs_T2\"><b>않는다고 하시네요~~</b><br/></span>|<br/>|</p>|<img alt=\"\" class=\"se_mediaImage __se_img_el\" data-attachment-id=\"IN_6QSWgnyvlQyj6iYShFCcelgpk\" id=\"_img_0\" src=\"http://postfiles13.naver.net/MjAxODA2MDVfMTky/MDAxNTI4MTczMDg2MDU0.VGG72u0ohm9J8I1u8qgj_AznfoMwullIyf1hzy2M3Xgg.hahvmeQ55kQoZL-cB6JW7ddbdCIZLYEwZ-QeS6_3AUUg.PNG.dosinam777/%EC%BA%A1%EC%B2%9865.PNG?type=w966\"/>|<img alt=\"\" class=\"se_mediaImage __se_img_el\" data-attachment-id=\"I5TmBI4zkMQW7LrspTTPWbovv6pI\" id=\"_img_1\" src=\"http://postfiles7.naver.net/MjAxODA2MDVfMTcw/MDAxNTI4MTczMDg2MDU2.6hH_Vw9JDppwkW-Jfe6JAQ7GmYquDuxxXzOO9nPkOcUg.0XbMXtsLj4yv6-hTsVPGnkqEXFatEhOXsvlmiLwOkecg.PNG.dosinam777/%EC%BA%A1%EC%B2%9866.PNG?type=w966\"/>|<img alt=\"\" class=\"se_mediaImage __se_img_el\" data-attachment-id=\"ITF_0fCjHM1trHf9gOijPQLszBKo\" id=\"_img_0\" src=\"http://postfiles15.naver.net/MjAxODA2MDVfMjEz/MDAxNTI4MTczMDg2MDc2.i2mw-w6tLJtLTRg8-LQYzRud0VEI2GiF9WMSF9OupTsg.nnhc7AlPJVguLUhk_DB8iI7_XcTfxQGKmw1UoLN253gg.PNG.dosinam777/%EC%BA%A1%EC%B2%9867.PNG?type=w966\"/>|<img alt=\"\" class=\"se_mediaImage __se_img_el\" data-attachment-id=\"IWTWxgHiRI_qvkQx1Db2BnLtkKh4\" id=\"_img_1\" src=\"http://postfiles9.naver.net/MjAxODA2MDVfMjMg/MDAxNTI4MTczMDg2MDg1.Peiy_ZTJ0y9QMX5AZKDQ35ydNNTTUP_OgYdOoWC7p-kg.oY41D-xF5ChMS1CnSeznSWSfUWTYcQrPVaS4kVmIHc0g.PNG.dosinam777/%EC%BA%A1%EC%B2%9868.PNG?type=w966\"/>|<p>|<span class=\"se_fs_T2\"><b>새우는 까먹기가 힘들어서 그렇지</b><br/></span>|<br/>|<span class=\"se_fs_T2\"><b>영양면에서나 맛에서나 으뜸이지요!!!</b><br/></span>|<br/>|<span class=\"se_fs_T2\"><b>구이,찜,탕,튀김등 다양한 요리로 즐길수있는</b><br/></span>|<br/>|<span class=\"se_fs_T2\"><b>1등 식재료이기도해요</b><br/></span>|<br/>|<span class=\"se_fs_T2\"><b>오호호~~~남자분들 스테미너나 여자분들에게도</b><br/></span>|<br/>|<span class=\"se_fs_T2\"><b>정말 좋은 새우네요</b><br/></span>|<br/>|</p>|<img alt=\"스티커 이미지\" class=\"__se_img_el\" height=\"110\" src=\"https://storep-phinf.pstatic.net\\u200b/moon_and_james/original_8.png?type=p50_50\" width=\"125\"/>|<p>|<br/>|</p>|<p>|<br/>|</p>|<img alt=\"\" class=\"se_mediaImage __se_img_el\" data-attachment-id=\"IWJo5MDMWQRKK1DPhbEWbF35lqa0\" id=\"_img_0\" src=\"http://postfiles15.naver.net/MjAxODA2MDVfODMg/MDAxNTI4MTcyOTEzMzg4.YohTw7LTQP3Qd30zzLhh-XekikGxfR1UKvzHcdaGjWYg.1Db6Nw3tRi-jzHBKLYnskakfMUmrvzQIs_kwQ5GG35Ig.PNG.dosinam777/%EC%BA%A1%EC%B2%98.PNG?type=w966\"/>|<img alt=\"\" class=\"se_mediaImage __se_img_el\" data-attachment-id=\"Itw2qv2u6O1l--o2S7xKKbYg6fd0\" id=\"_img_1\" src=\"http://postfiles8.naver.net/MjAxODA2MDVfMjY4/MDAxNTI4MTcyOTEzMzM5.C2AVPNOcGsTd30VGXN-h1xVBZp0TnH4ZApSjJzctMn8g.lIGNlNKM3yEPC84ynoCOd86FISfl7R02hpyDCIAfgXUg.PNG.dosinam777/%EC%BA%A1%EC%B2%981.PNG?type=w966\"/>|<p>|<span class=\"se_fs_T2\"><b>새우크기 비교~~ㅎㅎ</b><br/></span>|<br/>|<span class=\"se_fs_T2\"><b>볼펜과 소주병으로 크기 알아보기~~ㅋㅋㅋ</b><br/></span>|<br/>|<span class=\"se_fs_T2\"><b>다리를 쭈~~~~욱 뻗은 새우</b><br/></span>|<br/>|<span class=\"se_fs_T2\"><b>ㅎㅎㅎ 크기가 정말크네요</b></span>|</p>|<img alt=\"\" class=\"se_mediaImage __se_img_el\" data-attachment-id=\"InX7gNoJF8kogmbLD6KYBTfvmwOw\" id=\"_img_0\" src=\"http://postfiles4.naver.net/MjAxODA2MDVfMjg0/MDAxNTI4MTczNDc2MTA3.SisjDUAQz8xBYMjvl6B2ZdOPQgxtX_GMRxIjsvWF1WIg.0ZZu2erNzeQUpHrv7m5m62_jCv4SyLDyS0qBtEwFLWUg.JPEG.dosinam777/KakaoTalk_20180605_124027646.jpg?type=w966\"/>|<img alt=\"\" class=\"se_mediaImage __se_img_el\" data-attachment-id=\"IMoB6ZmpoIzyFLniHDPm-vixA3vU\" id=\"_img_1\" src=\"http://postfiles4.naver.net/MjAxODA2MDVfMTI2/MDAxNTI4MTczNDc2MTA4.TITyc5PDiyRuzeQYmWB7-OP5yzhtKjOUZGQQx4L4-fMg.EqMWlz1-TyfHsD0C38O41RdTCuE8dNPYNF8wvQc6KmIg.JPEG.dosinam777/KakaoTalk_20180605_124028054.jpg?type=w966\"/>|<p>|<span class=\"se_fs_T2\"><b>기본찬으로 나온 문어숙회,버섯전,김치전등</b><br/></span>|<br/>|<span class=\"se_fs_T2\"><b>기본찬은 매일 바뀐다고 하시더라구요~~</b></span>|</p>|<img alt=\"\" class=\"se_mediaImage __se_img_el\" data-attachment-id=\"IEt7rZu739Ml0EJgumhcEDovr2v4\" height=\"378\" id=\"SEDOC-1528358776638-159508495_image_3_img\" src=\"http://postfiles14.naver.net/MjAxODA2MDVfMjEg/MDAxNTI4MTcyOTEzNjk3.Uutabuj00_O7bx_Aw3RGHyHNzhSIMjKK-GSB6uRXaXEg.Jvgz403rTakchn2PF4gdfQMAGet3MD0F4bTq338DEBYg.PNG.dosinam777/%EC%BA%A1%EC%B2%9832.PNG?type=w966\" width=\"779\"/>|<p>|<span class=\"se_fs_T2\"><b>새우를 통째로 튀겨주신건데요</b><br/></span>|<br/>|<span class=\"se_fs_T2\"><b>껍질 버릴필요없이 머리부터 꼬리까지</b><br/></span>|<br/>|<span class=\"se_fs_T2\"><b>다먹었어요~~</b><br/></span>|<br/>|<span class=\"se_fs_T2\"><b>바삭바삭~~고소고소~~ㅎㅎ </b><br/></span>|<br/>|<span class=\"se_fs_T2\"><b>맛나요~~맛나!!!</b><br/></span>|<br/>|</p>|<img alt=\"스티커 이미지\" class=\"__se_img_el\" height=\"108\" src=\"https://storep-phinf.pstatic.net\\u200b/moon_and_james/original_20.png?type=p50_50\" width=\"140\"/>|<img alt=\"\" class=\"se_mediaImage __se_img_el\" data-attachment-id=\"IatRPcm8Xll-0lPcfeQiY2adBsys\" id=\"_img_0\" src=\"http://postfiles4.naver.net/MjAxODA2MDVfMjg4/MDAxNTI4MTcyOTEzNzU3.Y0dbWetELsVWcaXveFrCv6QTiPlihJA5oyEjbixDAa8g.UP627PlHh5LWbpbKCeorAG4Mngq4TW7mz38mZ_IYnqUg.PNG.dosinam777/%EC%BA%A1%EC%B2%9855.PNG?type=w966\"/>|<img alt=\"\" class=\"se_mediaImage __se_img_el\" data-attachment-id=\"I716o1XqhgTEIJyKukrlBq5aPXJM\" id=\"_img_1\" src=\"http://postfiles2.naver.net/MjAxODA2MDVfMjY0/MDAxNTI4MTcyOTEzODE5.CAl6YWT29nNH3Y4OQ6obDRRgD4sqhpRTlyxkP_oBfIcg.lIIEa81f2Ty-MFPONZMCriMZIybosToqfjxRgAEIWQQg.PNG.dosinam777/%EC%BA%A1%EC%B2%9856.PNG?type=w966\"/>|<p>|<span class=\"se_fs_T2\"><b>싱싱한 새우찜과 보들보들 고소한 문어숙회!!!</b></span>|</p>|<img alt=\"\" class=\"se_mediaImage __se_img_el\" data-attachment-id=\"Io8Mzy29zIUwTFzyCUrSufQhJamk\" id=\"_img_0\" src=\"http://postfiles9.naver.net/MjAxODA2MDVfMjkx/MDAxNTI4MTczMDg2MTY5.RuPR-pX1KERBcC0jKUKOXTzPwgJ3K7F1Y_ln03M0TE8g.7hVYKZ8BwpwekWDzWFh3-fFW6u0Gj2OFCL4j3p313VYg.PNG.dosinam777/%EC%BA%A1%EC%B2%9869.PNG?type=w966\"/>|<img alt=\"\" class=\"se_mediaImage __se_img_el\" data-attachment-id=\"I9ixisiktEFe6g1-OS2iunEDb2XY\" id=\"_img_1\" src=\"http://postfiles10.naver.net/MjAxODA2MDVfNiAg/MDAxNTI4MTczMDg2MTYy.ZSJyzEn7TX8p4iThG8DBNlGURpBZaC6RlHImqwEu6okg.DOB1GPHek-dUgF38UzBqjhGkMeByplrqNNSCL1a86vMg.PNG.dosinam777/%EC%BA%A1%EC%B2%9870.PNG?type=w966\"/>|<p>|<span class=\"se_fs_T2\"><b>사장님께서 특별추천해주시는 독도새우코스요리!!!</b><br/></span>|<br/>|<span class=\"se_fs_T2\"><b>회 - 찜 - 튀김등 다양한 새우요리와 적어찜과 문어숙회,해물짬뽕까지</b><br/></span>|<br/>|<span class=\"se_fs_T2\"><b>푸짐하게 먹을수 있네요~~</b><br/></span>|<br/>|</p>|<img alt=\"\" class=\"se_mediaImage __se_img_el\" data-attachment-id=\"I2kE-_YO2RXO4uPcxeZwFhlqRqcs\" id=\"_img_0\" src=\"http://postfiles1.naver.net/MjAxODA2MDVfMjAg/MDAxNTI4MTcyOTEzODgz.mwYtl1cb2xhEjci1izF0RoxXsPxXBAqdsBj4S893sUgg.xrsnDwT6LEktvXkxuCoDbdRf-aZWDGIbBBaQkprEDlgg.PNG.dosinam777/%EC%BA%A1%EC%B2%9871.PNG?type=w966\"/>|<img alt=\"\" class=\"se_mediaImage __se_img_el\" data-attachment-id=\"I5IzHABa-4U8x5cUby4-3tcxJtSQ\" id=\"_img_1\" src=\"http://postfiles2.naver.net/MjAxODA2MDVfMjEz/MDAxNTI4MTcyOTEzODk5.86adswy1PIjgm7-gfWGM6INbwMKEEjhGYn89FICa2m8g.Q-YX4tYT9c4ddCu5ItdXIwo1-GQzAV7bISPGJw9Tbisg.PNG.dosinam777/%EC%BA%A1%EC%B2%9872.PNG?type=w966\"/>|<p>|<span class=\"se_fs_T2\"><b>점심특선메뉴로 해물짬뽕과 새우볶음밥!!!</b></span>|</p>|<img alt=\"\" class=\"se_mediaImage __se_img_el\" data-attachment-id=\"IFejrmIS5wo-e0Rmti1M0gGfIGHQ\" id=\"_img_0\" src=\"http://postfiles9.naver.net/MjAxODA2MDVfNzYg/MDAxNTI4MTcyOTEzOTMz.qdtR4UoouFQCt8ezjg4E0ptI0CqQQtDNA3duDSnXUZIg.fEJhstQLfR62pZDedfQZsX4DptglbxyIOq7RJ5-OkGwg.PNG.dosinam777/%EC%BA%A1%EC%B2%9873.PNG?type=w966\"/>|<img alt=\"\" class=\"se_mediaImage __se_img_el\" data-attachment-id=\"Iu-Q6gHiB7c5f5YsbpRXAxAf7BYw\" id=\"_img_1\" src=\"http://postfiles3.naver.net/MjAxODA2MDVfMTYz/MDAxNTI4MTcyOTE0MDA1.NAxbfOcx46hL2NkH_ai2UnFpLLDTbHsabnLXT8Rs2tIg.B0FgvVvh5nEgDR3Qgnn4TB9YrjGy4Jp5cRwDpE1eAkEg.PNG.dosinam777/%EC%BA%A1%EC%B2%9874.PNG?type=w966\"/>|<p>|<span class=\"se_fs_T2\"><b>지인들과 간단하게 술한잔 즐기실 분들을위해 </b><br/></span>|<br/>|<span class=\"se_fs_T2\"><b>적어와 문어숙회가 준비되어있네요~~</b><br/></span>|<br/>|</p>|<img alt=\"\" class=\"se_mediaImage __se_img_el\" data-attachment-id=\"IiRVl9jY18kqZMGbk7MPs2TrzYXE\" height=\"353\" id=\"SEDOC-1528358776638-159508495_image_4_img\" src=\"http://postfiles13.naver.net/MjAxODA2MDVfMTE5/MDAxNTI4MTcyOTE0MDc5.0ma4A8O7In4ZhAwuQnzAYMnxJaLx_SPVpdFeIrfcfGAg.e25M6uWnWIyd_36KaSYu_hwkX5XxpeSLV5kUvTwJGk4g.PNG.dosinam777/%EC%BA%A1%EC%B2%9875.PNG?type=w966\" width=\"619\"/>|<img alt=\"\" class=\"se_mediaImage __se_img_el\" data-attachment-id=\"Ixl3bM5zv1l9IKrsyZgW4qT8BuOs\" id=\"_img_0\" src=\"http://postfiles5.naver.net/MjAxODA2MDVfMjc3/MDAxNTI4MTcyOTE0MTY0.GPdCCNSW1UPod7e9RyyVd4daloiaULdLz1ISP-wbZicg.2zjk5dLsumJTndkwNrsoPQoh3TyCSxJAZhQRFbo_UgMg.PNG.dosinam777/%EC%BA%A1%EC%B2%9876.PNG?type=w966\"/>|<img alt=\"\" class=\"se_mediaImage __se_img_el\" data-attachment-id=\"IHcByYlU4MEkg7-hy8DXTmFrgWgY\" id=\"_img_1\" src=\"http://postfiles11.naver.net/MjAxODA2MDVfMjE4/MDAxNTI4MTcyOTE0MTk3.jileJ-I3piix2vmRRVa3WEBqNrusxH9FZGJ3sbWgqe0g.EuxIfjibpHmzlaKcTGZEfNXsci9kbByrPTES7wEBzgMg.PNG.dosinam777/%EC%BA%A1%EC%B2%9877.PNG?type=w966\"/>|<p>|<span class=\"se_fs_T2\"><b>새우의 기본은 튀김이죵~~</b></span>|<br/>|</p>|<img alt=\"스티커 이미지\" class=\"__se_img_el\" height=\"160\" src=\"https://storep-phinf.pstatic.net\\u200b/line_characters_in_love/original_12.png?type=p50_50\" width=\"119\"/>|<p>|</p>|<img alt=\"\" class=\"se_mediaImage __se_img_el\" data-attachment-id=\"IZnXalHXfPwzRYb7mj9ESVbV6-mI\" id=\"_img_0\" src=\"http://postfiles13.naver.net/MjAxODA2MDVfMjM3/MDAxNTI4MTc0MDE3Mjg5.m2s342WTXfWxxmmYQxNsVhABjVANJCb0a3yGcgOYfBMg.WXfD75FGPkFC-vJHpl8_nETMk4b_65vGcP2sjw-k-yEg.PNG.dosinam777/%EC%BA%A1%EC%B2%9818.PNG?type=w966\"/>|<img alt=\"\" class=\"se_mediaImage __se_img_el\" data-attachment-id=\"IpmlptqlHhJHe_LgWxi8X5ZdM-sg\" id=\"_img_1\" src=\"http://postfiles12.naver.net/MjAxODA2MDVfMzIg/MDAxNTI4MTc0MDE3MjM0.7HpGtaVtgIqO9i-5AWjpOkTGUzzHWNjJQhin_CpP3WEg.qaQOoN3OR-npN60Q05gMULP-th_QGiAilUmXE0MXLg0g.PNG.dosinam777/%EC%BA%A1%EC%B2%9810.PNG?type=w966\"/>|<p>|<span class=\"se_fs_T2\"><b>살아있는 생새우를 사장님이 직접잡으셔서 </b><br/></span>|<br/>|<span class=\"se_fs_T2\"><b>이~~~뿌게 담아주셨네요</b><br/></span>|<br/>|<span class=\"se_fs_T2\"><b>가만~~히 있는 애들도 있는데 톡톡튀는애!!</b><br/></span>|<br/>|<span class=\"se_fs_T2\"><b>까만 눈알을 이리저리 굴리는 애!!</b><br/></span>|<br/>|<span class=\"se_fs_T2\"><b>그러다 저와 눈이 딱 마주쳤네요~~ㅎㅎ</b><br/></span>|<br/>|<span class=\"se_fs_T2\"><b>미안하게스리~~~~</b><br/></span>|<br/>|</p>|<img alt=\"스티커 이미지\" class=\"__se_img_el\" height=\"160\" src=\"https://storep-phinf.pstatic.net\\u200b/line_choco/original_7.png?type=p50_50\" width=\"160\"/>|<img alt=\"\" class=\"se_mediaImage __se_img_el\" data-attachment-id=\"I5FJIRr_zlp-FuNkDBKI6xkJW46M\" height=\"442\" id=\"SEDOC-1528358776638-159508495_image_5_img\" src=\"http://postfiles9.naver.net/MjAxODA2MDVfMjMx/MDAxNTI4MTc0MDE3MzEy.Hjk-yN-YqZl_373msd3SXKb2LsvoGe3T-dCpQ9cGaJ8g.SimvWab9b5qjNYEAai5d-QVA8PJGOP3Dt-s68lqRnX8g.PNG.dosinam777/%EC%BA%A1%EC%B2%9834.PNG?type=w966\" width=\"745\"/>|<p>|</p>|<img alt=\"\" class=\"se_mediaImage __se_img_el\" data-attachment-id=\"IKe760U3xyiO8TW3Qg_8M1depROw\" height=\"439\" id=\"SEDOC-1528358776638-159508495_image_6_img\" src=\"http://postfiles6.naver.net/MjAxODA2MDVfMzAg/MDAxNTI4MTc0MDE3MzAz.YEOj3kEe0l9G5a7xH7Vjni70LqsYjKZ7ot0-J6FfVY0g.fSGBxj-yRB6rL4hFJxONByN4fVgosodua4_4C7Omb00g.PNG.dosinam777/%EC%BA%A1%EC%B2%9841.PNG?type=w966\" width=\"774\"/>|<p>|<span class=\"se_fs_T2\"><b>회로 먹을수있게 사장님께서 직접 잡아주셨어요</b></span>|</p>|<img alt=\"\" class=\"se_mediaImage __se_img_el\" data-attachment-id=\"IlLkFFUdI5cB4pE41XQoX5LFoDMY\" id=\"_img_0\" src=\"http://postfiles9.naver.net/MjAxODA2MDVfMjE0/MDAxNTI4MTc0MDE3MzEw.Iz7p7fw6glmBoN3AnC3e1zJapzbKBMnCEnth-gfv32wg.n9-BNQVEPgKFkP_7R4R7cQmmMxMKwDvTdKSfwdxzrtkg.PNG.dosinam777/%EC%BA%A1%EC%B2%9844.PNG?type=w966\"/>|<img alt=\"\" class=\"se_mediaImage __se_img_el\" data-attachment-id=\"IIHwRKTCTJpsEsmYGwOIbQv7cges\" id=\"_img_1\" src=\"http://postfiles2.naver.net/MjAxODA2MDVfMjcx/MDAxNTI4MTc0MDE3NTc4.UAJFI2ugfs7bFFUabnZe8HDfagVKTjT9m4YEMHUTl9Ug.slNh0OnuEwywFmf9nk4PwN8ikKie4VuUW9CgQap0WXkg.PNG.dosinam777/%EC%BA%A1%EC%B2%9846.PNG?type=w966\"/>|<p>|<span class=\"se_fs_T2\"><b>고추냉이 간장에 살짝 찍어먹어보니</b><br/></span>|<br/>|<span class=\"se_fs_T2\"><b>달달한 맛이 끝내주네요</b><br/></span>|<br/>|<span class=\"se_fs_T2\"><b>개중에 알을품은 새우도 있었는데</b><br/></span>|<br/>|<span class=\"se_fs_T2\"><b>입안에서 톡톡터지는 고소한 맛이 일품이었어요</b><br/></span>|<br/>|<span class=\"se_fs_T2\"><b>신선함 그 자체네요~~~</b><br/></span>|<br/>|<span class=\"se_fs_T2\"><b>새우회는 처음이라 걱정했는데 정말 맛있더라구요</b><br/></span>|<br/>|</p>|<img alt=\"스티커 이미지\" class=\"__se_img_el\" height=\"160\" src=\"https://storep-phinf.pstatic.net\\u200b/linebiz21_01/original_3.png?type=p50_50\" width=\"185\"/>|<img alt=\"\" class=\"se_mediaImage __se_img_el\" data-attachment-id=\"ILtZuw4Sn0w0V-kmhJTsj0AZtpxM\" id=\"_img_0\" src=\"http://postfiles14.naver.net/MjAxODA2MDVfMjQ2/MDAxNTI4MTc0MDE3NDEx.dfw3XcGyhJjqv-Sg2o7mRQBePEJ9yfxnPGrKwoVEH9og.3oCzq5c8ie7vgVgkfMgX4lQHoiirzHIDw31eKePyQaYg.PNG.dosinam777/%EC%BA%A1%EC%B2%9845.PNG?type=w966\"/>|<img alt=\"\" class=\"se_mediaImage __se_img_el\" data-attachment-id=\"I8_H9JNXCffrnMmHcdiqO5EuwBu0\" id=\"_img_1\" src=\"http://postfiles1.naver.net/MjAxODA2MDVfMTc4/MDAxNTI4MTc0MDE3NjU4.bGY9D0eWefD5Swbby4Ffq9ejBcG4iCuz8dR1-KUGRsMg.NFYGh8Ji7ql6oy-u67zTZkVyydGZGc1Sjf0iWUFYXNwg.PNG.dosinam777/%EC%BA%A1%EC%B2%9848.PNG?type=w966\"/>|<p>|<span class=\"se_fs_T2\"><b>손질한 새우머리는 찜으로 해주셨네요</b><br/></span>|<br/>|<span class=\"se_fs_T2\"><b>새우머리는 내장이 있어서 새우드실줄 아는분들은</b><br/></span>|<br/>|<span class=\"se_fs_T2\"><b>내장의 고소함때문에 즐겨하시죠!!</b><br/></span>|<br/>|<span class=\"se_fs_T2\"><b>집에서도 우리 애들은 새우머리 안먹더라구요</b><br/></span>|<br/>|</p>|<img alt=\"\" class=\"se_mediaImage __se_img_el\" data-attachment-id=\"I_az1zPnRJn0bpwyxOBxmPp7aqeA\" height=\"442\" id=\"SEDOC-1528358776638-159508495_image_7_img\" src=\"http://postfiles14.naver.net/MjAxODA2MDVfMjg1/MDAxNTI4MTc1MTA5MTQ3.he4C1qv4enqbej7Bpwt7Z0rZD4gfwpXJIMK9hFam3ZMg.gNQsY0EYUtFDgETFKi--7yNrkXNww1O1DY6br1nCp1Ug.PNG.dosinam777/%EC%BA%A1%EC%B2%9815.PNG?type=w966\" width=\"766\"/>|<p>|<span class=\"se_fs_T2\"><b>적어찜이에요~~(빨간고기~~)</b><br/></span>|<br/>|<span class=\"se_fs_T2\"><b>비리지도않고 생선에 밑간이 되어있어서 </b><br/></span>|<br/>|<span class=\"se_fs_T2\"><b>다른 소스가 필요없더라구요</b><br/></span>|<br/>|<span class=\"se_fs_T2\"><b>살도 토실토실한게 깔끔하게 먹었네요</b></span>|</p>|<img alt=\"\" class=\"se_mediaImage __se_img_el\" data-attachment-id=\"IkDMwdiEaIpsSkjHsRwnUuj9GGxQ\" height=\"441\" id=\"SEDOC-1528358776638-159508495_image_8_img\" src=\"http://postfiles10.naver.net/MjAxODA2MDVfMTMz/MDAxNTI4MTc1MTA5MjE0.1UWCyQFOkRSsdZDplaEW7XXE3eShNoCz4IW8wd646Ukg.arevbOglhCW66bt2Grql0JTBrwwqQUvhCHE87KCBRKIg.PNG.dosinam777/%EC%BA%A1%EC%B2%9849.PNG?type=w966\" width=\"758\"/>|<p>|<span class=\"se_fs_T2\"><b>깊은맛이 일품이었던 해물짬뽕이에요</b><br/></span>|<br/>|<span class=\"se_fs_T2\"><b>꽃게,홍합,조개등 갖가지 해산물과 고사리등 채소와함께</b><br/></span>|<br/>|<span class=\"se_fs_T2\"><b>어우러져 먹기좋은 매운맛으로 정말 깊은맛이더라구요</b><br/></span>|<br/>|<span class=\"se_fs_T2\"><b>전문 짬뽕집보다 맛있었어요~~</b><br/></span>|<br/>|</p>|<img alt=\"\" class=\"se_mediaImage __se_img_el\" data-attachment-id=\"I2pY5InQ2qSsKtV6U8DxShVtHUXo\" height=\"437\" id=\"SEDOC-1528358776638-159508495_image_9_img\" src=\"http://postfiles16.naver.net/MjAxODA2MDVfMjQ3/MDAxNTI4MTc1MTA5MTc5.m0X-YAWEEr_JWXV5XfkMH6mnL5cPsT3fq8LcofWuGj0g.nKAZkF7z0mFqWspWfQVB-prTb6d1HMs8bDVFWttZ6Ukg.PNG.dosinam777/%EC%BA%A1%EC%B2%9850.PNG?type=w966\" width=\"723\"/>|<img alt=\"\" class=\"se_mediaImage __se_img_el\" data-attachment-id=\"If_RJHdAqaDoJPo2E_R8GUIHV8vg\" id=\"_img_0\" src=\"http://postfiles1.naver.net/MjAxODA2MDVfNDQg/MDAxNTI4MTc1MTA5MjE4.phkWwZVHhBBoOm_MbNQ1yLX0ms59uTojxCiavbNmKsIg.bEvDK2biaSpVE1ViTb-ZMymJ5G6ulbZJhvMKsxRWEl4g.PNG.dosinam777/%EC%BA%A1%EC%B2%9851.PNG?type=w966\"/>|<img alt=\"\" class=\"se_mediaImage __se_img_el\" data-attachment-id=\"I1mRNgzm4vShBLsBuBI9-FRNVmVU\" id=\"_img_1\" src=\"http://postfiles7.naver.net/MjAxODA2MDVfMjQ1/MDAxNTI4MTc1MTA5MjE4.CE0uQ73AsyPGqRwMeD7afklUs-_iLyXEulB5EfXrayIg.Qx9C-XgydEuvuGQozIt5R9v9iCXXhcYcDof8r55Ww9Yg.PNG.dosinam777/%EC%BA%A1%EC%B2%9852.PNG?type=w966\"/>|<img alt=\"\" class=\"se_mediaImage __se_img_el\" data-attachment-id=\"IbHhIpNEodDOs0c2hsdF_HxubA7g\" id=\"_img_0\" src=\"http://postfiles4.naver.net/MjAxODA2MDVfMjgw/MDAxNTI4MTc1MTA5MjA1.CmphtuehCgFBfHbXdY4Mxp5KkP4ekwphGGcV17T6G8Yg.pxdqj3ynWt-tMq0syNlpifaydCri2JPOKM9QlSuI-skg.PNG.dosinam777/%EC%BA%A1%EC%B2%9853.PNG?type=w966\"/>|<img alt=\"\" class=\"se_mediaImage __se_img_el\" data-attachment-id=\"IJVGA2Z2BeuquPcG4cEQmxoXfNPA\" id=\"_img_1\" src=\"http://postfiles7.naver.net/MjAxODA2MDVfMjU0/MDAxNTI4MTc1MTA5MzEx.v2NboLxcWLe1by4zOeUPlh97fk0yXuoJme8hZ09Au-Eg.dA85VKfpVm86Lu_v3nzymNjMcuH2eyKLpX8fFjqJLiUg.PNG.dosinam777/%EC%BA%A1%EC%B2%9854.PNG?type=w966\"/>|<p>|<span class=\"se_fs_T2\"><b>살이꽉찬 꽃게와 통통한 홍합살</b><br/></span>|<br/>|<span class=\"se_fs_T2\"><b>생면으로 만들어 쫄깃한 식감이 일품이에요</b><br/></span>|<br/>|<span class=\"se_fs_T2\"><b>점심메뉴로도 손색이 없어요~~~</b><br/></span>|<br/>|<br/>|</p>|<img alt=\"\" class=\"se_mediaImage __se_img_el\" data-attachment-id=\"IwxdT-ZeBLOu34-oynSVrG1nDi7E\" id=\"_img_0\" src=\"http://postfiles5.naver.net/MjAxODA2MDVfMTQy/MDAxNTI4MTgxMDkzMDI1.PYrm-WcciIbhNyTupxmC9iVIuC0Z2mrKpgrky8H92Ekg.XfNVFI-ufEtHLg8IOe4-DJfsavBbAxTMow52uTyT1a8g.PNG.dosinam777/%EC%BA%A1%EC%B2%9878.PNG?type=w966\"/>|<img alt=\"\" class=\"se_mediaImage __se_img_el\" data-attachment-id=\"IBlilpkIxagUMRsnGg4JIQJG9VqY\" id=\"_img_1\" src=\"http://postfiles1.naver.net/MjAxODA2MDVfMTMz/MDAxNTI4MTgxMDkzMDMw.WBbXiAAeFbSB-Bqig2BzFjEu1YCAu3t_NgKvIJhTWX4g.mZt_ZvnWTQA0UhQrlLq0Hb8m_9chIDJrY8xiRXHBBrAg.PNG.dosinam777/%EC%BA%A1%EC%B2%9879.PNG?type=w966\"/>|<p>|</p>|<img alt=\"\" class=\"se_mediaImage __se_img_el\" data-attachment-id=\"Issqcxjm3yqjiCOgK5EuMDGyLU_Q\" height=\"323\" id=\"SEDOC-1528358776638-159508495_image_10_img\" src=\"http://postfiles2.naver.net/MjAxODA2MDdfMTk2/MDAxNTI4Mjk4ODQ5ODE2.Wd0hHXWaJqbLeV7isC6rMHkRcI4Dfi4VpdAOgzIOzNog.1oaeIP4alYdx3b0eQbYqCnqIP_zvFnzgu9UE214bO4Qg.PNG.dosinam777/KakaoTalk_20180605_213142582.png?type=w966\" width=\"532\"/>|<p>|<span class=\"se_fs_T2\"><b>황금새우나라 1주년기념 할인행사로</b><br/></span>|<br/>|<span class=\"se_fs_T2\"><b>6월 30일까지 </b><br/></span>|<br/>|<span class=\"se_fs_T2\"><b>독도 활 새우(닭새우/꽃새우)를</b><br/></span>|<br/>|<span class=\"se_fs_T1\" style=\"color: rgb(241, 47, 34);\"><b>20% 할인행사 </b></span>|<span class=\"se_fs_T2\"><b>하네요!!</b><br/></span>|<br/>|</p>|<img alt=\"스티커 이미지\" class=\"__se_img_el\" height=\"160\" src=\"https://storep-phinf.pstatic.net\\u200b/line_choco/original_11.png?type=p50_50\" width=\"160\"/>|<p>|<br/>|<br/>|</p>|<img src=\"https://simg.pstatic.net/static.map/image?version=1.1¢er=127.3678782,36.3487845&amp;level=12&amp;w=886&amp;h=415&amp;baselayer=default&amp;markers=type,default,127.3678782,36.3487845&amp;caller=naver_se3_blog&amp;scale=2&amp;dataversion=194.0\" width=\"100%\"/>|<p>|<span class=\"se_fs_T1\"><b>황금새우나라</b><br/></span>|<br/>|</p>',\n",
       "  'date': '2018. 6. 7. 0:43',\n",
       "  'tag_structure': '<p>|<span>|<br/>|<span>|<span>|<br/>|<span>|<br/>|<span>|<br/>|</p>|<img>|<p>|<span>|<br/>|<span>|<br/>|<span>|<br/>|</p>|<img>|<img>|<img>|<img>|<p>|<span>|<br/>|<span>|<br/>|<span>|<br/>|<span>|<br/>|<span>|<br/>|<span>|<br/>|</p>|<img>|<p>|<br/>|<br/>|</p>|<img>|<p>|<span>|<br/>|<br/>|</p>|<img>|<img>|<img>|<img>|<p>|<span>|<br/>|<span>|<br/>|<span>|<span>|<br/>|</p>|<img>|<img>|<img>|<img>|<p>|<span>|<br/>|<span>|<br/>|<span>|<br/>|<span>|<br/>|<span>|<br/>|<span>|<br/>|</p>|<img>|<p>|<br/>|</p>|<p>|<br/>|</p>|<img>|<img>|<p>|<span>|<br/>|<span>|<br/>|<span>|<br/>|<span>|</p>|<img>|<img>|<p>|<span>|<br/>|<span>|</p>|<img>|<p>|<span>|<br/>|<span>|<br/>|<span>|<br/>|<span>|<br/>|<span>|<br/>|</p>|<img>|<img>|<img>|<p>|<span>|</p>|<img>|<img>|<p>|<span>|<br/>|<span>|<br/>|<span>|<br/>|</p>|<img>|<img>|<p>|<span>|</p>|<img>|<img>|<p>|<span>|<br/>|<span>|<br/>|</p>|<img>|<img>|<img>|<p>|<span>|<br/>|</p>|<img>|<p>|</p>|<img>|<img>|<p>|<span>|<br/>|<span>|<br/>|<span>|<br/>|<span>|<br/>|<span>|<br/>|<span>|<br/>|</p>|<img>|<img>|<p>|</p>|<img>|<p>|<span>|</p>|<img>|<img>|<p>|<span>|<br/>|<span>|<br/>|<span>|<br/>|<span>|<br/>|<span>|<br/>|<span>|<br/>|</p>|<img>|<img>|<img>|<p>|<span>|<br/>|<span>|<br/>|<span>|<br/>|<span>|<br/>|</p>|<img>|<p>|<span>|<br/>|<span>|<br/>|<span>|<br/>|<span>|</p>|<img>|<p>|<span>|<br/>|<span>|<br/>|<span>|<br/>|<span>|<br/>|</p>|<img>|<img>|<img>|<img>|<img>|<p>|<span>|<br/>|<span>|<br/>|<span>|<br/>|<br/>|</p>|<img>|<img>|<p>|</p>|<img>|<p>|<span>|<br/>|<span>|<br/>|<span>|<br/>|<span>|<span>|<br/>|</p>|<img>|<p>|<br/>|<br/>|</p>|<img>|<p>|<span>|<br/>|</p>',\n",
       "  'text': '대전갈마동맛집 독도새우전문점 황금새우나라 1주년기념 할인행사 하네요~~~~~~ 대전독도새우,갈마동꽃새우,대전닭새우,독도새우가격,대전도하새우,대전독도새우전문점,대전새우전문점,새우코스요리전문점, 대전갈마동맛집,대전독도새우이벤트,새우할인행사, 오늘은 새우중에서도 귀한 동해자연산새우전문점으로 유명한 황금새우나라 독도새우를 소개할까해요~~ 독도새우는 독도 주변해역에서 잡히는 물렁가시붉은새우,가시배새우,도화새우를 아울러 이르는 말이고 살이 단단하고 단맛이 뛰어나 미식가들 사이에 명성이 높은 새우라고하네요~~ 2017년 11월 도널드트럼프 미국대통령 국빈방문시 청와대 공식 만찬 메뉴에 올라오면서 주목을 받았다고해요~~ 어획량이 많지않은 귀~~~~~한 독도새우네요~~@@ 깔끔한 내부모습이에요~~ 수족관에 새우들이 가득있어요~~ 수심깊은곳에서 서식하기때문에 불빛을 밝게하지 않는다고 하시네요~~ 새우는 까먹기가 힘들어서 그렇지 영양면에서나 맛에서나 으뜸이지요!!! 구이,찜,탕,튀김등 다양한 요리로 즐길수있는 1등 식재료이기도해요 오호호~~~남자분들 스테미너나 여자분들에게도 정말 좋은 새우네요 새우크기 비교~~ㅎㅎ 볼펜과 소주병으로 크기 알아보기~~ㅋㅋㅋ 다리를 쭈~~~~욱 뻗은 새우 ㅎㅎㅎ 크기가 정말크네요 기본찬으로 나온 문어숙회,버섯전,김치전등 기본찬은 매일 바뀐다고 하시더라구요~~ 새우를 통째로 튀겨주신건데요 껍질 버릴필요없이 머리부터 꼬리까지 다먹었어요~~ 바삭바삭~~고소고소~~ㅎㅎ 맛나요~~맛나!!! 싱싱한 새우찜과 보들보들 고소한 문어숙회!!! 사장님께서 특별추천해주시는 독도새우코스요리!!! 회 - 찜 - 튀김등 다양한 새우요리와 적어찜과 문어숙회,해물짬뽕까지 푸짐하게 먹을수 있네요~~ 점심특선메뉴로 해물짬뽕과 새우볶음밥!!! 지인들과 간단하게 술한잔 즐기실 분들을위해 적어와 문어숙회가 준비되어있네요~~ 새우의 기본은 튀김이죵~~ 살아있는 생새우를 사장님이 직접잡으셔서 이~~~뿌게 담아주셨네요 가만~~히 있는 애들도 있는데 톡톡튀는애!! 까만 눈알을 이리저리 굴리는 애!! 그러다 저와 눈이 딱 마주쳤네요~~ㅎㅎ 미안하게스리~~~~ 회로 먹을수있게 사장님께서 직접 잡아주셨어요 고추냉이 간장에 살짝 찍어먹어보니 달달한 맛이 끝내주네요 개중에 알을품은 새우도 있었는데 입안에서 톡톡터지는 고소한 맛이 일품이었어요 신선함 그 자체네요~~~ 새우회는 처음이라 걱정했는데 정말 맛있더라구요 손질한 새우머리는 찜으로 해주셨네요 새우머리는 내장이 있어서 새우드실줄 아는분들은 내장의 고소함때문에 즐겨하시죠!! 집에서도 우리 애들은 새우머리 안먹더라구요 적어찜이에요~~(빨간고기~~) 비리지도않고 생선에 밑간이 되어있어서 다른 소스가 필요없더라구요 살도 토실토실한게 깔끔하게 먹었네요 깊은맛이 일품이었던 해물짬뽕이에요 꽃게,홍합,조개등 갖가지 해산물과 고사리등 채소와함께 어우러져 먹기좋은 매운맛으로 정말 깊은맛이더라구요 전문 짬뽕집보다 맛있었어요~~ 살이꽉찬 꽃게와 통통한 홍합살 생면으로 만들어 쫄깃한 식감이 일품이에요 점심메뉴로도 손색이 없어요~~~ 황금새우나라 1주년기념 할인행사로 6월 30일까지 독도 활 새우(닭새우/꽃새우)를 20% 할인행사 하네요!! 황금새우나라',\n",
       "  'title': '\\n[공지] 대전갈마동맛집 독도새우전문점 황금새우나라 1주년기념 할인행사하네요~~~\\n',\n",
       "  'total_post_count': 131}]"
      ]
     },
     "execution_count": 20,
     "metadata": {},
     "output_type": "execute_result"
    }
   ],
   "source": [
    "loaded_dictionaries"
   ]
  },
  {
   "cell_type": "markdown",
   "metadata": {},
   "source": [
    "## 5. All Imgs Download"
   ]
  },
  {
   "cell_type": "code",
   "execution_count": 21,
   "metadata": {},
   "outputs": [],
   "source": [
    "move_folder = \"C:\\\\Users\\\\AjouHCI\\\\Desktop\\\\Pic_sample\\\\Non_Credible\""
   ]
  },
  {
   "cell_type": "code",
   "execution_count": 22,
   "metadata": {},
   "outputs": [],
   "source": [
    "bs = BeautifulSoup(r.text.encode(\"utf-8\"), \"html.parser\")\n",
    "imgs = bs.find_all('img',class_='se_mediaImage __se_img_el')\n",
    "for num,img in enumerate(imgs):\n",
    "    url = str(img).split('src=')[1][1:].split(\" \")[0].split(\"\\\"\")[0]\n",
    "    savename =  hangul(title.text)[:10] + str(num) + \".jpg\"\n",
    "    urllib.request.urlretrieve(url,savename)\n",
    "    shutil.move(savename,move_folder)"
   ]
  }
 ],
 "metadata": {
  "kernelspec": {
   "display_name": "Python 3",
   "language": "python",
   "name": "python3"
  },
  "language_info": {
   "codemirror_mode": {
    "name": "ipython",
    "version": 3
   },
   "file_extension": ".py",
   "mimetype": "text/x-python",
   "name": "python",
   "nbconvert_exporter": "python",
   "pygments_lexer": "ipython3",
   "version": "3.6.3"
  }
 },
 "nbformat": 4,
 "nbformat_minor": 2
}
