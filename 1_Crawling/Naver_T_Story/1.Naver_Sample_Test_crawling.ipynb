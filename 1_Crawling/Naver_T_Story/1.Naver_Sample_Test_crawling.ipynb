{
 "cells": [
  {
   "cell_type": "markdown",
   "metadata": {},
   "source": [
    "# 1. Import packages"
   ]
  },
  {
   "cell_type": "code",
   "execution_count": 184,
   "metadata": {},
   "outputs": [],
   "source": [
    "from bs4 import BeautifulSoup # html을 soup에 넣고 특정 class or data를 가져오는 library\n",
    "import re\n",
    "import urllib\n",
    "import requests\n",
    "import shutil\n",
    "import collections\n",
    "import codecs\n",
    "import json\n",
    "from selenium import webdriver\n",
    "import pandas as pd\n",
    "import numpy as np\n",
    "import os"
   ]
  },
  {
   "cell_type": "code",
   "execution_count": 241,
   "metadata": {},
   "outputs": [],
   "source": [
    "def hangul(text):\n",
    "    hangul = re.compile('[^ ㄱ-ㅣ가-힣]+') # 한글과 띄어쓰기를 제외한 모든 글자\n",
    "    # hangul = re.compile('[^ \\u3131-\\u3163\\uac00-\\ud7a3]+')  # 위와 동일\n",
    "    result = hangul.sub('', text) # 한글과 띄어쓰기를 제외한 모든 부분을 제거\n",
    "    return str(result)\n",
    "\n",
    "\n",
    "def find_profile_img():\n",
    "    test = driver.find_elements_by_tag_name(\"img\")\n",
    "    for i in test:\n",
    "        if blog_id in i.get_attribute(\"src\"): \n",
    "            blog_profile_img = i.get_attribute(\"src\")\n",
    "            break\n",
    "    return blog_profile_img\n",
    "\n",
    "def find_categories():\n",
    "    test = driver.find_elements_by_css_selector(\"body > div.lyr_category_lst1 > ul > li:nth-child(1) > ul > li > a\")\n",
    "    Categories = []\n",
    "    for i in test:\n",
    "        Categories.append(i.text.split(\"\\n\")[:2])\n",
    "    Count_Categories = len(Categories)\n",
    "    return Categories, Count_Categories\n",
    "\n",
    "def find_post_id(post):\n",
    "    r = re.compile('logNo=.*')\n",
    "    string = r.findall(post.get_attribute('ng-href'))\n",
    "    return re.sub(\"logNo=\",'',\"\".join(string))"
   ]
  },
  {
   "cell_type": "markdown",
   "metadata": {},
   "source": [
    "# 2. Read_data"
   ]
  },
  {
   "cell_type": "code",
   "execution_count": 186,
   "metadata": {},
   "outputs": [],
   "source": [
    "#driver = webdriver.PhantomJS('.//Exe_file//phantomjs.exe')\n",
    "driver = webdriver.Chrome('.//exe_file//chromedriver.exe')\n",
    "sample_data = pd.read_csv('Test_data.txt',encoding='euc-kr')"
   ]
  },
  {
   "cell_type": "code",
   "execution_count": 187,
   "metadata": {},
   "outputs": [
    {
     "data": {
      "text/html": [
       "<div>\n",
       "<style scoped>\n",
       "    .dataframe tbody tr th:only-of-type {\n",
       "        vertical-align: middle;\n",
       "    }\n",
       "\n",
       "    .dataframe tbody tr th {\n",
       "        vertical-align: top;\n",
       "    }\n",
       "\n",
       "    .dataframe thead th {\n",
       "        text-align: right;\n",
       "    }\n",
       "</style>\n",
       "<table border=\"1\" class=\"dataframe\">\n",
       "  <thead>\n",
       "    <tr style=\"text-align: right;\">\n",
       "      <th></th>\n",
       "      <th>ID</th>\n",
       "      <th>Post_ID</th>\n",
       "      <th>Category</th>\n",
       "      <th>Crediblity</th>\n",
       "      <th>Source</th>\n",
       "    </tr>\n",
       "  </thead>\n",
       "  <tbody>\n",
       "    <tr>\n",
       "      <th>0</th>\n",
       "      <td>yjoshjh</td>\n",
       "      <td>221296055589</td>\n",
       "      <td>맛집</td>\n",
       "      <td>1</td>\n",
       "      <td>Naver</td>\n",
       "    </tr>\n",
       "    <tr>\n",
       "      <th>1</th>\n",
       "      <td>emptyh</td>\n",
       "      <td>221284843491</td>\n",
       "      <td>맛집</td>\n",
       "      <td>1</td>\n",
       "      <td>Naver</td>\n",
       "    </tr>\n",
       "    <tr>\n",
       "      <th>2</th>\n",
       "      <td>youngchayoungcha</td>\n",
       "      <td>221183788830</td>\n",
       "      <td>어학·외국어</td>\n",
       "      <td>1</td>\n",
       "      <td>Naver</td>\n",
       "    </tr>\n",
       "    <tr>\n",
       "      <th>3</th>\n",
       "      <td>angelpyj2</td>\n",
       "      <td>221294255542</td>\n",
       "      <td>어학·외국어</td>\n",
       "      <td>1</td>\n",
       "      <td>Naver</td>\n",
       "    </tr>\n",
       "    <tr>\n",
       "      <th>4</th>\n",
       "      <td>seoulvitamin</td>\n",
       "      <td>220218119352</td>\n",
       "      <td>건강·의학</td>\n",
       "      <td>1</td>\n",
       "      <td>Naver</td>\n",
       "    </tr>\n",
       "  </tbody>\n",
       "</table>\n",
       "</div>"
      ],
      "text/plain": [
       "                 ID       Post_ID Category  Crediblity Source\n",
       "0           yjoshjh  221296055589       맛집           1  Naver\n",
       "1            emptyh  221284843491       맛집           1  Naver\n",
       "2  youngchayoungcha  221183788830   어학·외국어           1  Naver\n",
       "3         angelpyj2  221294255542   어학·외국어           1  Naver\n",
       "4      seoulvitamin  220218119352    건강·의학           1  Naver"
      ]
     },
     "execution_count": 187,
     "metadata": {},
     "output_type": "execute_result"
    }
   ],
   "source": [
    "sample_data.head()"
   ]
  },
  {
   "cell_type": "markdown",
   "metadata": {},
   "source": [
    "# 3.Make csv_file"
   ]
  },
  {
   "cell_type": "code",
   "execution_count": 156,
   "metadata": {},
   "outputs": [],
   "source": [
    "csv_name = 'Naver_Crawling_text.csv'\n",
    "if not os.path.exists(csv_name):\n",
    "    with open('Naver_Crawling_text.csv', 'w') as f:\n",
    "        f.write('')"
   ]
  },
  {
   "cell_type": "markdown",
   "metadata": {},
   "source": [
    "# 4. Data_Crwaling"
   ]
  },
  {
   "cell_type": "markdown",
   "metadata": {},
   "source": [
    "## User_Table Crwaling"
   ]
  },
  {
   "cell_type": "code",
   "execution_count": 321,
   "metadata": {},
   "outputs": [],
   "source": [
    "User_id = sample_data['ID'][0]\n",
    "Post_id = sample_data['Post_ID'][0]\n",
    "Category = sample_data['Category'][0]\n",
    "Source = sample_data['Source'][0]\n",
    "credibility = sample_data['Crediblity'][0]\n",
    "    \n",
    "url = \"http://blog.naver.com/PostView.nhn?blogId=\"+User_id+ \"&logNo=\" + Post_id +\"&redirect=Dlog&widgetTypeCall=true\"\n",
    "mobile_url = \"http://m.blog.naver.com/PostView.nhn?blogId=\"+blog_id"
   ]
  },
  {
   "cell_type": "code",
   "execution_count": 297,
   "metadata": {},
   "outputs": [],
   "source": [
    "driver = webdriver.Chrome('.//exe_file//chromedriver.exe')\n",
    "driver.get(mobile_url)\n",
    "driver.find_element_by_class_name(\"btn_area\").click()"
   ]
  },
  {
   "cell_type": "code",
   "execution_count": 356,
   "metadata": {},
   "outputs": [],
   "source": [
    "# get mobile_url\n",
    "\n",
    "driver = webdriver.Chrome('.//exe_file//chromedriver.exe')\n",
    "driver.get(mobile_url)\n",
    "\n",
    "# 존재하지 않는 게시물 클릭\n",
    "driver.find_element_by_class_name(\"btn_area\").click()\n",
    "driver.implicitly_wait(3)\n",
    "\n",
    "# Blog_name, Blog_nickname, Blog_mobile_profile_img, Blog_info_text\n",
    "Blog_name = driver.find_element_by_css_selector('#rego_cover > div.cover_cont > div.tit_area > h2 > a > span').text\n",
    "Blog_nickname =driver.find_element_by_class_name(\"user_name\").text\n",
    "Blog_mobile_profile_img = find_profile_img()\n",
    "Blog_info_text = driver.find_element_by_class_name(\"text\").text\n",
    "\n",
    "# Count_neighbors\n",
    "neighbors_string = re.sub(\",\",\"\",driver.find_element_by_class_name(\"count_buddy\").text)\n",
    "Count_neighbors = int(re.findall('\\d+', neighbors_string)[0])\n",
    "\n",
    "# Count_visitors\n",
    "visitor_stirng = driver.find_elements_by_class_name('count')[0].text\n",
    "Count_visitors = re.sub(\",\",\"\",visitor_stirng.split(\"전체\")[1]).strip()\n",
    "\n",
    "# download_img\n",
    "Mobile_cover_img = driver.find_element_by_class_name(\"cover_img\").get_attribute('bg-lazy-img')\n",
    "\n",
    "# category 버튼 클릭\n",
    "driver.find_element_by_css_selector(\"#rego_cover > div.cover_cont > div.btn_area > div > div:nth-child(2) > a > span.txt\").click()\n",
    "driver.implicitly_wait(3)\n",
    "\n",
    "# Total_Post, Categories, Count_Categories, \n",
    "\n",
    "Categories, Count_categories =  find_categories()\n",
    "Total_post = driver.find_element_by_class_name(\"num\").text"
   ]
  },
  {
   "cell_type": "code",
   "execution_count": null,
   "metadata": {},
   "outputs": [],
   "source": [
    "+-"
   ]
  },
  {
   "cell_type": "code",
   "execution_count": 362,
   "metadata": {},
   "outputs": [
    {
     "name": "stdout",
     "output_type": "stream",
     "text": [
      "221297882299\n",
      "221297411013\n",
      "221296890227\n",
      "221296316274\n",
      "221296055589\n",
      "221295389068\n",
      "221295041071\n",
      "221294592109\n",
      "221294518505\n",
      "221293145488\n",
      "221293080533\n",
      "221291968255\n",
      "221291472684\n",
      "221291033906\n",
      "221289450904\n",
      "221289135362\n",
      "221288350583\n",
      "221287832536\n",
      "221287378059\n",
      "221286987853\n"
     ]
    }
   ],
   "source": [
    "# post\n",
    "\n",
    "for i in driver.find_elements_by_class_name(\"thumb_link\"):\n",
    "    print(find_post_id(i))"
   ]
  },
  {
   "cell_type": "code",
   "execution_count": 361,
   "metadata": {},
   "outputs": [
    {
     "data": {
      "text/plain": [
       "'[역삼동 맛집] 평양옥 : 연중무휴 평양냉면 전문 식당 - 평양냉면의 신흥 강자 - 깔끔한 곰탕도 맛있는'"
      ]
     },
     "execution_count": 361,
     "metadata": {},
     "output_type": "execute_result"
    }
   ],
   "source": [
    "driver.find_element_by_class_name(\"tit_h3\").text"
   ]
  },
  {
   "cell_type": "markdown",
   "metadata": {},
   "source": [
    "## Post_Table Crwaling"
   ]
  },
  {
   "cell_type": "code",
   "execution_count": 176,
   "metadata": {},
   "outputs": [
    {
     "name": "stdout",
     "output_type": "stream",
     "text": [
      "http://blog.naver.com/PostView.nhn?blogId=yjoshjh\n"
     ]
    }
   ],
   "source": [
    "print(main_url)"
   ]
  },
  {
   "cell_type": "code",
   "execution_count": 177,
   "metadata": {},
   "outputs": [
    {
     "name": "stdout",
     "output_type": "stream",
     "text": [
      "http://m.blog.naver.com/PostView.nhn?blogId=yjoshjh\n"
     ]
    }
   ],
   "source": [
    "print(mobile_url)"
   ]
  },
  {
   "cell_type": "markdown",
   "metadata": {},
   "source": [
    "## Tag_Table Crwaling"
   ]
  },
  {
   "cell_type": "code",
   "execution_count": null,
   "metadata": {},
   "outputs": [],
   "source": [
    "http://blog.naver.com/PostList.nhn?blogId=yjoshjh"
   ]
  },
  {
   "cell_type": "markdown",
   "metadata": {},
   "source": [
    "## Img_Tabe Crwaling"
   ]
  },
  {
   "cell_type": "code",
   "execution_count": null,
   "metadata": {},
   "outputs": [],
   "source": []
  },
  {
   "cell_type": "code",
   "execution_count": null,
   "metadata": {},
   "outputs": [],
   "source": [
    "for i in range(0,len(sample_data)):\n",
    "    \n",
    "    blog_id = sample_data['Id'][i]\n",
    "    post_No = str(sample_data['post_No'][i]) \n",
    "    category = sample_data['Category'][i]\n",
    "    source = sample_data['source'][i]\n",
    "    credibility = sample_data['Crediblity'][i]\n",
    "    \n",
    "    url = \"http://blog.naver.com/PostView.nhn?blogId=\"+blog_id+ \"&logNo=\" + post_No +\"&redirect=Dlog&widgetTypeCall=true\"\n",
    "    \n",
    "     # if check credible or Non_credible    \n",
    "    if sample_data['Crediblity'][i] == 1:\n",
    "        check = \"Credible\"\n",
    "    else:\n",
    "        check = \"Non_Credible\"\n",
    "    move_folder = \"C:\\\\Users\\\\AjouHCI\\\\Desktop\\\\Pic_sample\\\\\" + check\n",
    "    \n",
    "    r = requests.get(url)\n",
    "    bs = BeautifulSoup(r.text.encode(\"utf-8\"), \"html.parser\")\n",
    "\n",
    "    #title\n",
    "    # Append_value\n",
    "    title = bs.find(\"h3\", {\"class\": \"se_textarea\"})\n",
    "    if (title == None):\n",
    "        title = bs.find(\"span\", {\"class\": \"pcol1 itemSubjectBoldfont\"})\n",
    "    if (title != None):\n",
    "        title = title.text.strip()\n",
    "    else:\n",
    "        title = \"TITLE ERROR\"\n",
    "    title = title.text\n",
    "\n",
    "    #date\n",
    "    # Append_value\n",
    "    date = bs.find(\"span\", {\"class\": \"se_publishDate pcol2 fil5\"})\n",
    "    if date == None:\n",
    "        date = bs.find(\"p\",{\"class\":\"date fil5 pcol2 _postAddDate\"})\n",
    "        \n",
    "    date_text = re.sub(\"\\n\",\"\",date.text)\n",
    "    date = re.sub(\"\\t\",\"\",date_text)\n",
    "\n",
    "    #Teg, Content_structure, Text\n",
    "\n",
    "    # structure\n",
    "    structure = bs.find(\"div\", {\"id\": \"postViewArea\"})\n",
    "    if structure == None:\n",
    "        structure = bs.find(\"div\",{\"class\",\"se_component_wrap sect_dsc __se_component_area\"})\n",
    "\n",
    "    # structure tag\n",
    "    structure_tag = structure.find_all(['p','img'])\n",
    "    \n",
    "    # content\n",
    "    content_list = []\n",
    "    for i in structure_tag:        \n",
    "        if str(i)[:2] == \"<p\":\n",
    "            content_list.append(\"<p>\")\n",
    "            check = i.find_all(['span','br'])\n",
    "            for j in check:\n",
    "                if str(j)[:2] == '<s':\n",
    "                    if hangul(j.text.strip()) != '':\n",
    "                        content_list.append(j)\n",
    "                else:\n",
    "                    content_list.append(j)\n",
    "            content_list.append(\"</p>\")\n",
    "\n",
    "        if str(i)[:4] == \"<img\":\n",
    "            content_list.append(i)\n",
    "            \n",
    "    # content_text\n",
    "    text_list = []\n",
    "    for i in content_list:\n",
    "        try:\n",
    "            text_list.append(i.text)\n",
    "        except:\n",
    "            pass\n",
    "    \n",
    "    # Append_value\n",
    "    content_structre = \"|\".join([str(i) for i in content_list])\n",
    "    text = \" \".join(list(map(lambda x : x.strip(),list(filter(lambda x: len(x)>1 ,text_list)))))\n",
    "    tag_structure = \"|\".join(list(map(lambda x: str(x)[:5].strip() +'>' if str(x)[:5][-1] != '>' else str(x)[:5] ,content_list)))\n",
    "\n",
    "    #Category_list & open webdriver\n",
    "    \n",
    "    driver = webdriver.PhantomJS('.//Exe_file//phantomjs.exe')\n",
    "    driver.get(url)\n",
    "    driver.implicitly_wait(3)\n",
    "    category = driver.find_element_by_class_name(\"cm-body\")\n",
    "    bs = BeautifulSoup(category.text.encode(\"utf-8\"), \"html.parser\")\n",
    "    \n",
    "    try:\n",
    "        total_post_count = int(re.sub('\\D',\"\",bs.text.split(\"\\n\")[0].split(\" \")[1]))\n",
    "    except ValueError:\n",
    "        category = driver.find_element_by_id(\"category-list\")\n",
    "        bs = BeautifulSoup(category.text.encode(\"utf-8\"), \"html.parser\")\n",
    "        total_post_count = int(re.sub('\\D',\"\",bs.text.split(\"\\n\")[0].split(\" \")[1]))\n",
    "    \n",
    "    category = bs.text.split(\"\\n\")[1:]\n",
    "    category_count = len(category)\n",
    "    driver.close()\n",
    "    \n",
    "    #Img downloads\n",
    "    imgs = structure.find_all('img')\n",
    "    \n",
    "    ## make img category folder + user_id folder\n",
    "    \n",
    "    \n",
    "    ############################################\n",
    "    for num,img in enumerate(imgs):\n",
    "        \n",
    "        if \"스티커 이미지\" in str(i):\n",
    "            savename = \"sticker_\" + blog_id + \"_\" + str(num) + \".jpg\"\n",
    "        else:\n",
    "            img_url = re.sub(\"\\u200b\",\"\",str(img['src']))\n",
    "            savename =  blog_id + \"_\" + str(num) + \".jpg\"\n",
    "            map_exist = 0\n",
    "        \n",
    "        try:\n",
    "            urllib.request.urlretrieve(img_url,savename)\n",
    "            shutil.move(savename,move_folder)\n",
    "        except UnicodeEncodeError:\n",
    "            if 'map' not in str(img_url):\n",
    "                driver = webdriver.PhantomJS('.//Exe_file//phantomjs.exe')\n",
    "                driver.get(url)\n",
    "                driver.implicitly_wait(3)\n",
    "                img = driver.find_element_by_tag_name('img')\n",
    "                src = re.sub(\"\\u200b\",\"\",str(img.get_attribute('src')))\n",
    "                urllib.request.urlretrieve(src, savename)\n",
    "                shutil.move(savename,move_folder)\n",
    "                driver.close()\n",
    "            else:\n",
    "                map_exist = 1\n",
    "\n",
    "    \n",
    "    # make a save list\n",
    "    save_content = blog_id + \"||\" + post_No + \"||\" + category + \"||\" + category_count + title + \"||\" + date + \"||\" + text + \"||\" \\\n",
    "    + content_structre + \"||\" + tag_structure + \"||\" +  total_post_count + \"||\" + category_count + \"||\" + map_exist\n",
    "\n",
    "    # save to json\n",
    "    with open('Naver_Crawling_text.csv', 'a') as f:\n",
    "        f.write(save_content + \"\\n\")"
   ]
  },
  {
   "cell_type": "markdown",
   "metadata": {},
   "source": [
    "# 4. load_json_file"
   ]
  },
  {
   "cell_type": "markdown",
   "metadata": {},
   "source": [
    "# 방문자 숫자"
   ]
  },
  {
   "cell_type": "code",
   "execution_count": null,
   "metadata": {},
   "outputs": [],
   "source": [
    "mobile_url = "
   ]
  },
  {
   "cell_type": "code",
   "execution_count": 29,
   "metadata": {},
   "outputs": [],
   "source": [
    "blog_id = \"ghatyvlddl1\"\n",
    "post_No = str(221291478698) \n",
    "\n",
    "url = \"http://blog.naver.com/PostView.nhn?blogId=\"+blog_id+ \"&logNo=\" + post_No +\"&redirect=Dlog&widgetTypeCall=true\""
   ]
  },
  {
   "cell_type": "code",
   "execution_count": 39,
   "metadata": {},
   "outputs": [
    {
     "data": {
      "text/plain": [
       "'http://blog.naver.com/PostView.nhn?blogId=ghatyvlddl1&logNo=221291478698&redirect=Dlog&widgetTypeCall=true'"
      ]
     },
     "execution_count": 39,
     "metadata": {},
     "output_type": "execute_result"
    }
   ],
   "source": [
    "url"
   ]
  },
  {
   "cell_type": "code",
   "execution_count": 33,
   "metadata": {},
   "outputs": [],
   "source": [
    "r = requests.get(url)\n",
    "bs = BeautifulSoup(r.text.encode(\"utf-8\"), \"html.parser\")\n",
    "structure = bs.find(\"div\", {\"id\": \"postViewArea\"})\n",
    "if structure == None:\n",
    "    structure = bs.find(\"div\",{\"class\",\"se_component_wrap sect_dsc __se_component_area\"})\n",
    "imgs = structure.find_all('img')"
   ]
  },
  {
   "cell_type": "code",
   "execution_count": 38,
   "metadata": {},
   "outputs": [
    {
     "name": "stdout",
     "output_type": "stream",
     "text": [
      "<img alt=\"스티커 이미지\" class=\"__se_img_el\" height=\"147\" src=\"https://storep-phinf.pstatic.net​/brown_and_cony/original_65.png?type=p50_50\" width=\"137\"/>\n",
      "<img alt=\"스티커 이미지\" class=\"__se_img_el\" height=\"132\" src=\"https://storep-phinf.pstatic.net​/brown_and_cony/original_43.png?type=p50_50\" width=\"183\"/>\n",
      "<img alt=\"스티커 이미지\" class=\"__se_img_el\" height=\"150\" src=\"https://storep-phinf.pstatic.net​/line_characters_in_love/original_29.png?type=p50_50\" width=\"155\"/>\n"
     ]
    }
   ],
   "source": [
    "for i in imgs:\n",
    "    if \"스티커 이미지\" in str(i):\n",
    "        print(i)"
   ]
  },
  {
   "cell_type": "code",
   "execution_count": 45,
   "metadata": {},
   "outputs": [
    {
     "name": "stdout",
     "output_type": "stream",
     "text": [
      "https://m.blog.naver.com/PostList.nhn?blogId=yjoshjh\n",
      "https://m.blog.naver.com/PostList.nhn?blogId=emptyh\n",
      "https://m.blog.naver.com/PostList.nhn?blogId=youngchayoungcha\n",
      "https://m.blog.naver.com/PostList.nhn?blogId=angelpyj2\n",
      "https://m.blog.naver.com/PostList.nhn?blogId=seoulvitamin\n",
      "https://m.blog.naver.com/PostList.nhn?blogId=ra7575\n",
      "https://m.blog.naver.com/PostList.nhn?blogId=namu0808\n",
      "https://m.blog.naver.com/PostList.nhn?blogId=darkbior\n",
      "https://m.blog.naver.com/PostList.nhn?blogId=thkim0511\n",
      "https://m.blog.naver.com/PostList.nhn?blogId=rockview\n",
      "https://m.blog.naver.com/PostList.nhn?blogId=b852d\n",
      "https://m.blog.naver.com/PostList.nhn?blogId=sdhee99\n",
      "https://m.blog.naver.com/PostList.nhn?blogId=dkla062500\n",
      "https://m.blog.naver.com/PostList.nhn?blogId=ljc715555\n",
      "https://m.blog.naver.com/PostList.nhn?blogId=shawnlover\n",
      "https://m.blog.naver.com/PostList.nhn?blogId=ghatyvlddl1\n",
      "https://m.blog.naver.com/PostList.nhn?blogId=blacktea1015\n",
      "https://m.blog.naver.com/PostList.nhn?blogId=sbni1045\n",
      "https://m.blog.naver.com/PostList.nhn?blogId=emforhsgnfmc\n",
      "https://m.blog.naver.com/PostList.nhn?blogId=cs15321\n"
     ]
    }
   ],
   "source": [
    "for i in range(0,len(sample_data)):\n",
    "    blog_id = sample_data['ID'][i]\n",
    "    m_url = \"https://m.blog.naver.com/PostList.nhn?blogId=\" + blog_id\n",
    "    print(m_url)"
   ]
  },
  {
   "cell_type": "code",
   "execution_count": null,
   "metadata": {},
   "outputs": [],
   "source": []
  },
  {
   "cell_type": "code",
   "execution_count": null,
   "metadata": {},
   "outputs": [],
   "source": [
    "m_url = \"https://m.blog.naver.com/PostList.nhn?blogId=\" + blog_id"
   ]
  }
 ],
 "metadata": {
  "kernelspec": {
   "display_name": "Python 3",
   "language": "python",
   "name": "python3"
  },
  "language_info": {
   "codemirror_mode": {
    "name": "ipython",
    "version": 3
   },
   "file_extension": ".py",
   "mimetype": "text/x-python",
   "name": "python",
   "nbconvert_exporter": "python",
   "pygments_lexer": "ipython3",
   "version": "3.6.3"
  }
 },
 "nbformat": 4,
 "nbformat_minor": 2
}
