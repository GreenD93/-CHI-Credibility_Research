{
 "cells": [
  {
   "cell_type": "code",
   "execution_count": null,
   "metadata": {},
   "outputs": [],
   "source": []
  },
  {
   "cell_type": "code",
   "execution_count": 25,
   "metadata": {},
   "outputs": [],
   "source": [
    "import pandas as pd\n",
    "from konlpy.tag import Twitter"
   ]
  },
  {
   "cell_type": "code",
   "execution_count": 28,
   "metadata": {},
   "outputs": [],
   "source": [
    "naver_user = pd.read_csv('[Revised_c]Final_Naver_user_table.csv',sep='\\t',encoding='utf-8')"
   ]
  },
  {
   "cell_type": "code",
   "execution_count": 21,
   "metadata": {},
   "outputs": [],
   "source": [
    "dbdbdeep_user = pd.read_csv('[Revised]Final_dbdbdeep_user_table.csv',sep='\\t',encoding='utf-8')"
   ]
  },
  {
   "cell_type": "code",
   "execution_count": 22,
   "metadata": {},
   "outputs": [],
   "source": [
    "dbdbdeep_user['Categories'] = dbdbdeep_user['Categories'].apply(lambda x : refined_category(x))"
   ]
  },
  {
   "cell_type": "code",
   "execution_count": 23,
   "metadata": {},
   "outputs": [
    {
     "data": {
      "text/plain": [
       "[(24, \"'소소한 일상'\"),\n",
       " (6, \"'photo'\"),\n",
       " (0, \"'꼼지락꼼지락♬'\"),\n",
       " (0, \"'영화이야기♪'\"),\n",
       " (1, \"'맛집냠냠◁'\")]"
      ]
     },
     "execution_count": 23,
     "metadata": {},
     "output_type": "execute_result"
    }
   ],
   "source": [
    "dbdbdeep_user['Categories'].iloc[0]"
   ]
  },
  {
   "cell_type": "code",
   "execution_count": 24,
   "metadata": {},
   "outputs": [],
   "source": [
    "naver_user.to_csv('[Revised]Final_Naver_user_table.csv',sep='\\t',encoding='utf-8',index=False)\n",
    "dbdbdeep_user.to_csv('[Revised]Final_dbdbdeep_user_table.csv',sep='\\t',encoding='utf-8',index=False)"
   ]
  },
  {
   "cell_type": "code",
   "execution_count": 9,
   "metadata": {},
   "outputs": [],
   "source": [
    "def refined_category(category):\n",
    "    refined_list = []\n",
    "    for i in category.split('], '):\n",
    "        try:\n",
    "            category_count = int(i.split(', ')[0].replace('[','').replace(\"'\",''))\n",
    "            categoty_title = i.split(', ')[1]\n",
    "            categoty_title = i.split(', ')[1].replace(']]','')\n",
    "            categoty_title = categoty_title.replace(')]','')\n",
    "            refined_list.append((category_count,categoty_title))\n",
    "        except:\n",
    "            pass\n",
    "    return refined_list"
   ]
  },
  {
   "cell_type": "code",
   "execution_count": 4,
   "metadata": {},
   "outputs": [],
   "source": [
    "def refined_category_title(category):\n",
    "    refined_list = []\n",
    "    for i in category.split('], '):\n",
    "        try:\n",
    "            categoty_title = i.split(', ')[1]\n",
    "            categoty_title = i.split(', ')[1].replace(']]','')\n",
    "            categoty_title = categoty_title.replace(')]','')\n",
    "            refined_list.append((categoty_title))\n",
    "        except:\n",
    "            pass\n",
    "    return refined_list"
   ]
  },
  {
   "cell_type": "code",
   "execution_count": 5,
   "metadata": {},
   "outputs": [],
   "source": [
    "korean_stopword = pd.read_csv('Korean_stopwords.txt',encoding='utf-8',header=None)\n",
    "korean_stopword_list = korean_stopword[0].tolist()\n",
    "stopwords = ['하다', ',', '들', '이', '..', '.', '것', '다', '이다', '~', '그', '그녀', '저', '...', '\"', '~~',\"'\",':','&','[',']','{','}','(',')','-'] \n",
    "sum_stopwords = stopwords + korean_stopword_list"
   ]
  },
  {
   "cell_type": "code",
   "execution_count": 6,
   "metadata": {},
   "outputs": [],
   "source": [
    "def Korean_tagger(Text):\n",
    "\n",
    "    twitter = Twitter()\n",
    "\n",
    "    try:\n",
    "        \n",
    "        \n",
    "        malist = twitter.pos(Text, norm=True, stem=True)\n",
    "        r = []\n",
    "        remove_tag =['Eomi','PreEomi','Josa','Determiner','Foreign','Alpha','Number','Punctuation','Suffix','Unknown','Hashtag','KoreanParticle','ScreenName']\n",
    "\n",
    "        stopwords = sum_stopwords\n",
    "\n",
    "\n",
    "        for word in malist:\n",
    "            # 어미/조사/구두점/ㅋㅋ^^ㅎㅎ/음표살림/Alphabet/부사는 대상에서 제외\n",
    "            if not word[1] in remove_tag:\n",
    "                if not word[0] in r:\n",
    "                    if not word[0] in stopwords:\n",
    "                       # 숫자, 특수문자 제거.\n",
    "                        r.append(word[0])\n",
    "        return ' '.join(r)\n",
    "    except Exception as e:\n",
    "        return ''"
   ]
  },
  {
   "cell_type": "code",
   "execution_count": 7,
   "metadata": {},
   "outputs": [
    {
     "name": "stderr",
     "output_type": "stream",
     "text": [
      "C:\\Users\\AjouHCI\\Anaconda3\\envs\\py\\lib\\site-packages\\konlpy\\tag\\_okt.py:16: UserWarning: \"Twitter\" has changed to \"Okt\" since KoNLPy v0.4.5.\n",
      "  warn('\"Twitter\" has changed to \"Okt\" since KoNLPy v0.4.5.')\n"
     ]
    }
   ],
   "source": [
    "naver_user['Categories_embedding'] = naver_user['Categories'].apply(lambda x : \"\".join(refined_category_title(x)))\n",
    "naver_user['Categories_embedding'] = naver_user['Categories_embedding'].apply(lambda x : Korean_tagger(x))"
   ]
  },
  {
   "cell_type": "code",
   "execution_count": 8,
   "metadata": {},
   "outputs": [
    {
     "name": "stderr",
     "output_type": "stream",
     "text": [
      "C:\\Users\\AjouHCI\\Anaconda3\\envs\\py\\lib\\site-packages\\konlpy\\tag\\_okt.py:16: UserWarning: \"Twitter\" has changed to \"Okt\" since KoNLPy v0.4.5.\n",
      "  warn('\"Twitter\" has changed to \"Okt\" since KoNLPy v0.4.5.')\n"
     ]
    }
   ],
   "source": [
    "dbdbdeep_user['Categories_embedding'] = dbdbdeep_user['Categories'].apply(lambda x : \"\".join(refined_category_title(x)))\n",
    "dbdbdeep_user['Categories_embedding'] = dbdbdeep_user['Categories_embedding'].apply(lambda x : Korean_tagger(x))"
   ]
  },
  {
   "cell_type": "code",
   "execution_count": 9,
   "metadata": {},
   "outputs": [],
   "source": [
    "Total_user = pd.concat([naver_user,dbdbdeep_user])"
   ]
  },
  {
   "cell_type": "code",
   "execution_count": 10,
   "metadata": {},
   "outputs": [],
   "source": [
    "Total_test = Total_user[['Categories_embedding','Credibility']]"
   ]
  },
  {
   "cell_type": "code",
   "execution_count": 11,
   "metadata": {},
   "outputs": [],
   "source": [
    "Categories_text = Total_test['Categories_embedding'].tolist()"
   ]
  },
  {
   "cell_type": "markdown",
   "metadata": {},
   "source": [
    "## Tfidf"
   ]
  },
  {
   "cell_type": "code",
   "execution_count": 12,
   "metadata": {},
   "outputs": [],
   "source": [
    "from sklearn.feature_extraction.text import TfidfVectorizer\n",
    "v = TfidfVectorizer(max_features=391)\n",
    "x = v.fit_transform(Categories_text)"
   ]
  },
  {
   "cell_type": "code",
   "execution_count": 13,
   "metadata": {},
   "outputs": [],
   "source": [
    "y = Total_test['Credibility'].tolist()"
   ]
  },
  {
   "cell_type": "code",
   "execution_count": 14,
   "metadata": {},
   "outputs": [],
   "source": [
    "from sklearn.model_selection import train_test_split\n",
    "x_train, x_test, y_train, y_test = train_test_split(x , y , test_size=0.33, random_state=42)"
   ]
  },
  {
   "cell_type": "code",
   "execution_count": 15,
   "metadata": {},
   "outputs": [
    {
     "name": "stdout",
     "output_type": "stream",
     "text": [
      "SVM : 0.8300395256916996\n"
     ]
    }
   ],
   "source": [
    "from sklearn.metrics import accuracy_score\n",
    "from sklearn.svm import LinearSVC\n",
    "\n",
    "result = LinearSVC(random_state=0).fit(x_train, y_train)\n",
    "result.predict(x_test)\n",
    "print(\"SVM :\",accuracy_score(result.predict(x_test),y_test))"
   ]
  },
  {
   "cell_type": "code",
   "execution_count": 16,
   "metadata": {
    "scrolled": true
   },
   "outputs": [
    {
     "name": "stdout",
     "output_type": "stream",
     "text": [
      "             precision    recall  f1-score   support\n",
      "\n",
      "          0       0.85      0.91      0.88       672\n",
      "          1       0.79      0.67      0.73       340\n",
      "\n",
      "avg / total       0.83      0.83      0.83      1012\n",
      "\n"
     ]
    }
   ],
   "source": [
    "from sklearn.metrics import classification_report\n",
    "print(classification_report(y_test, result.predict(x_test)))"
   ]
  },
  {
   "cell_type": "code",
   "execution_count": 17,
   "metadata": {},
   "outputs": [
    {
     "data": {
      "text/plain": [
       "array([0.85504886, 0.84201954, 0.72430669, 0.8120915 , 0.81372549])"
      ]
     },
     "execution_count": 17,
     "metadata": {},
     "output_type": "execute_result"
    }
   ],
   "source": [
    "from sklearn.model_selection import cross_val_score\n",
    "scores = cross_val_score(result, x, y, cv=5)\n",
    "scores                                              "
   ]
  },
  {
   "cell_type": "markdown",
   "metadata": {},
   "source": [
    "## Doc2vec"
   ]
  },
  {
   "cell_type": "code",
   "execution_count": 18,
   "metadata": {},
   "outputs": [
    {
     "name": "stderr",
     "output_type": "stream",
     "text": [
      "C:\\Users\\AjouHCI\\Anaconda3\\envs\\py\\lib\\site-packages\\gensim\\utils.py:1197: UserWarning: detected Windows; aliasing chunkize to chunkize_serial\n",
      "  warnings.warn(\"detected Windows; aliasing chunkize to chunkize_serial\")\n"
     ]
    }
   ],
   "source": [
    "from gensim.models.doc2vec import Doc2Vec, TaggedDocument"
   ]
  },
  {
   "cell_type": "code",
   "execution_count": 19,
   "metadata": {},
   "outputs": [],
   "source": [
    "Total_test = Total_user[['Categories_embedding','Credibility']]"
   ]
  },
  {
   "cell_type": "code",
   "execution_count": 20,
   "metadata": {},
   "outputs": [],
   "source": [
    "text = Total_test['Categories_embedding'].tolist()"
   ]
  },
  {
   "cell_type": "code",
   "execution_count": 21,
   "metadata": {},
   "outputs": [],
   "source": [
    "sentences = [TaggedDocument(words=_d, tags=[str(i)]) for i, _d in enumerate(text)]"
   ]
  },
  {
   "cell_type": "code",
   "execution_count": 22,
   "metadata": {},
   "outputs": [],
   "source": [
    "import logging\n",
    "logging.basicConfig(format='%(asctime)s : %(levelname)s : %(message)s', level=logging.INFO)"
   ]
  },
  {
   "cell_type": "code",
   "execution_count": 23,
   "metadata": {},
   "outputs": [],
   "source": [
    "import multiprocessing\n",
    "cores = multiprocessing.cpu_count()"
   ]
  },
  {
   "cell_type": "code",
   "execution_count": 24,
   "metadata": {},
   "outputs": [
    {
     "name": "stderr",
     "output_type": "stream",
     "text": [
      "C:\\Users\\AjouHCI\\Anaconda3\\envs\\py\\lib\\site-packages\\gensim\\models\\doc2vec.py:366: UserWarning: The parameter `size` is deprecated, will be removed in 4.0.0, use `vector_size` instead.\n",
      "  warnings.warn(\"The parameter `size` is deprecated, will be removed in 4.0.0, use `vector_size` instead.\")\n",
      "2018-09-04 12:37:15,424 : WARNING : consider setting layer size to a multiple of 4 for greater performance\n"
     ]
    }
   ],
   "source": [
    "doc_vectorizer = Doc2Vec(\n",
    "    dm=0,            # PV-DBOW / default 1\n",
    "    dbow_words=1,    # w2v simultaneous with DBOW d2v / default 0\n",
    "    window=8,        # distance between the predicted word and context words\n",
    "    size=391,        # vector size\n",
    "    alpha=0.025,     # learning-rate\n",
    "    seed=1234,\n",
    "    min_count=20,    # ignore with freq lower\n",
    "    min_alpha=0.025, # min learning-rate\n",
    "    workers=cores,   # multi cpu\n",
    "    hs = 1,          # hierarchical softmax / default 0\n",
    "    negative = 10,   # negative sampling / default 5\n",
    ")"
   ]
  },
  {
   "cell_type": "code",
   "execution_count": 25,
   "metadata": {},
   "outputs": [
    {
     "name": "stderr",
     "output_type": "stream",
     "text": [
      "2018-09-04 12:37:15,432 : INFO : collecting all words and their counts\n",
      "2018-09-04 12:37:15,433 : WARNING : Each 'words' should be a list of words (usually unicode strings). First 'words' here is instead plain <class 'str'>.\n",
      "2018-09-04 12:37:15,434 : INFO : PROGRESS: at example #0, processed 0 words (0/s), 0 word types, 0 tags\n",
      "2018-09-04 12:37:15,472 : INFO : collected 1337 word types and 3065 unique tags from a corpus of 3065 examples and 229662 words\n",
      "2018-09-04 12:37:15,473 : INFO : Loading a fresh vocabulary\n",
      "2018-09-04 12:37:15,474 : INFO : min_count=20 retains 613 unique words (45% of original 1337, drops 724)\n",
      "2018-09-04 12:37:15,476 : INFO : min_count=20 leaves 225765 word corpus (98% of original 229662, drops 3897)\n",
      "2018-09-04 12:37:15,478 : INFO : deleting the raw counts dictionary of 1337 items\n",
      "2018-09-04 12:37:15,478 : INFO : sample=0.001 downsamples 78 most-common words\n",
      "2018-09-04 12:37:15,479 : INFO : downsampling leaves estimated 126697 word corpus (56.1% of prior 225765)\n",
      "2018-09-04 12:37:15,480 : INFO : constructing a huffman tree from 613 words\n",
      "2018-09-04 12:37:15,491 : INFO : built huffman tree with maximum node depth 13\n",
      "2018-09-04 12:37:15,493 : INFO : estimated required memory for 613 words and 391 dimensions: 8711956 bytes\n",
      "2018-09-04 12:37:15,494 : INFO : resetting layer weights\n"
     ]
    }
   ],
   "source": [
    "doc_vectorizer.build_vocab(sentences)"
   ]
  },
  {
   "cell_type": "code",
   "execution_count": 26,
   "metadata": {},
   "outputs": [
    {
     "name": "stdout",
     "output_type": "stream",
     "text": [
      "Doc2Vec(dbow+w,d391,n10,hs,w8,mc20,s0.001,t12)\n"
     ]
    }
   ],
   "source": [
    "print(str(doc_vectorizer))"
   ]
  },
  {
   "cell_type": "code",
   "execution_count": 27,
   "metadata": {},
   "outputs": [
    {
     "data": {
      "text/plain": [
       "91.95"
      ]
     },
     "execution_count": 27,
     "metadata": {},
     "output_type": "execute_result"
    }
   ],
   "source": [
    "doc_vectorizer.corpus_count*0.03"
   ]
  },
  {
   "cell_type": "code",
   "execution_count": 28,
   "metadata": {},
   "outputs": [
    {
     "name": "stderr",
     "output_type": "stream",
     "text": [
      "C:\\Users\\AjouHCI\\Anaconda3\\envs\\py\\lib\\site-packages\\ipykernel_launcher.py:1: DeprecationWarning: Call to deprecated `iter` (Attribute will be removed in 4.0.0, use self.epochs instead).\n",
      "  \"\"\"Entry point for launching an IPython kernel.\n"
     ]
    },
    {
     "data": {
      "text/plain": [
       "5"
      ]
     },
     "execution_count": 28,
     "metadata": {},
     "output_type": "execute_result"
    }
   ],
   "source": [
    "doc_vectorizer.iter"
   ]
  },
  {
   "cell_type": "code",
   "execution_count": 29,
   "metadata": {},
   "outputs": [
    {
     "name": "stderr",
     "output_type": "stream",
     "text": [
      "C:\\Users\\AjouHCI\\Anaconda3\\envs\\py\\lib\\site-packages\\ipykernel_launcher.py:4: DeprecationWarning: Call to deprecated `iter` (Attribute will be removed in 4.0.0, use self.epochs instead).\n",
      "  after removing the cwd from sys.path.\n",
      "2018-09-04 12:37:15,610 : INFO : training model with 12 workers on 613 vocabulary and 391 features, using sg=1 hs=1 sample=0.001 negative=10 window=8\n",
      "2018-09-04 12:37:16,505 : INFO : worker thread finished; awaiting finish of 11 more threads\n",
      "2018-09-04 12:37:16,776 : INFO : EPOCH 1 - PROGRESS: at 37.88% examples, 64741 words/s, in_qsize 10, out_qsize 1\n",
      "2018-09-04 12:37:16,778 : INFO : worker thread finished; awaiting finish of 10 more threads\n",
      "2018-09-04 12:37:16,781 : INFO : worker thread finished; awaiting finish of 9 more threads\n",
      "2018-09-04 12:37:16,803 : INFO : worker thread finished; awaiting finish of 8 more threads\n",
      "2018-09-04 12:37:16,803 : INFO : worker thread finished; awaiting finish of 7 more threads\n",
      "2018-09-04 12:37:16,813 : INFO : worker thread finished; awaiting finish of 6 more threads\n",
      "2018-09-04 12:37:16,832 : INFO : worker thread finished; awaiting finish of 5 more threads\n",
      "2018-09-04 12:37:16,839 : INFO : worker thread finished; awaiting finish of 4 more threads\n",
      "2018-09-04 12:37:16,840 : INFO : worker thread finished; awaiting finish of 3 more threads\n",
      "2018-09-04 12:37:16,854 : INFO : worker thread finished; awaiting finish of 2 more threads\n",
      "2018-09-04 12:37:16,856 : INFO : worker thread finished; awaiting finish of 1 more threads\n",
      "2018-09-04 12:37:16,864 : INFO : worker thread finished; awaiting finish of 0 more threads\n",
      "2018-09-04 12:37:16,864 : INFO : EPOCH - 1 : training on 229662 raw words (129814 effective words) took 1.2s, 105250 effective words/s\n",
      "2018-09-04 12:37:17,680 : INFO : worker thread finished; awaiting finish of 11 more threads\n",
      "2018-09-04 12:37:18,022 : INFO : EPOCH 2 - PROGRESS: at 38.60% examples, 63917 words/s, in_qsize 10, out_qsize 1\n",
      "2018-09-04 12:37:18,025 : INFO : worker thread finished; awaiting finish of 10 more threads\n",
      "2018-09-04 12:37:18,027 : INFO : worker thread finished; awaiting finish of 9 more threads\n",
      "2018-09-04 12:37:18,039 : INFO : worker thread finished; awaiting finish of 8 more threads\n",
      "2018-09-04 12:37:18,069 : INFO : worker thread finished; awaiting finish of 7 more threads\n",
      "2018-09-04 12:37:18,070 : INFO : worker thread finished; awaiting finish of 6 more threads\n",
      "2018-09-04 12:37:18,073 : INFO : worker thread finished; awaiting finish of 5 more threads\n",
      "2018-09-04 12:37:18,077 : INFO : worker thread finished; awaiting finish of 4 more threads\n",
      "2018-09-04 12:37:18,080 : INFO : worker thread finished; awaiting finish of 3 more threads\n",
      "2018-09-04 12:37:18,086 : INFO : worker thread finished; awaiting finish of 2 more threads\n",
      "2018-09-04 12:37:18,090 : INFO : worker thread finished; awaiting finish of 1 more threads\n",
      "2018-09-04 12:37:18,091 : INFO : worker thread finished; awaiting finish of 0 more threads\n",
      "2018-09-04 12:37:18,091 : INFO : EPOCH - 2 : training on 229662 raw words (129776 effective words) took 1.2s, 106299 effective words/s\n",
      "2018-09-04 12:37:19,014 : INFO : worker thread finished; awaiting finish of 11 more threads\n",
      "2018-09-04 12:37:19,274 : INFO : EPOCH 3 - PROGRESS: at 38.60% examples, 62570 words/s, in_qsize 10, out_qsize 1\n",
      "2018-09-04 12:37:19,275 : INFO : worker thread finished; awaiting finish of 10 more threads\n",
      "2018-09-04 12:37:19,283 : INFO : worker thread finished; awaiting finish of 9 more threads\n",
      "2018-09-04 12:37:19,293 : INFO : worker thread finished; awaiting finish of 8 more threads\n",
      "2018-09-04 12:37:19,296 : INFO : worker thread finished; awaiting finish of 7 more threads\n",
      "2018-09-04 12:37:19,298 : INFO : worker thread finished; awaiting finish of 6 more threads\n",
      "2018-09-04 12:37:19,321 : INFO : worker thread finished; awaiting finish of 5 more threads\n",
      "2018-09-04 12:37:19,326 : INFO : worker thread finished; awaiting finish of 4 more threads\n",
      "2018-09-04 12:37:19,334 : INFO : worker thread finished; awaiting finish of 3 more threads\n",
      "2018-09-04 12:37:19,343 : INFO : worker thread finished; awaiting finish of 2 more threads\n",
      "2018-09-04 12:37:19,352 : INFO : worker thread finished; awaiting finish of 1 more threads\n",
      "2018-09-04 12:37:19,355 : INFO : worker thread finished; awaiting finish of 0 more threads\n",
      "2018-09-04 12:37:19,356 : INFO : EPOCH - 3 : training on 229662 raw words (129724 effective words) took 1.3s, 103184 effective words/s\n",
      "2018-09-04 12:37:20,209 : INFO : worker thread finished; awaiting finish of 11 more threads\n",
      "2018-09-04 12:37:20,495 : INFO : EPOCH 4 - PROGRESS: at 38.60% examples, 64813 words/s, in_qsize 10, out_qsize 1\n",
      "2018-09-04 12:37:20,500 : INFO : worker thread finished; awaiting finish of 10 more threads\n",
      "2018-09-04 12:37:20,530 : INFO : worker thread finished; awaiting finish of 9 more threads\n",
      "2018-09-04 12:37:20,538 : INFO : worker thread finished; awaiting finish of 8 more threads\n",
      "2018-09-04 12:37:20,543 : INFO : worker thread finished; awaiting finish of 7 more threads\n",
      "2018-09-04 12:37:20,557 : INFO : worker thread finished; awaiting finish of 6 more threads\n",
      "2018-09-04 12:37:20,565 : INFO : worker thread finished; awaiting finish of 5 more threads\n",
      "2018-09-04 12:37:20,565 : INFO : worker thread finished; awaiting finish of 4 more threads\n",
      "2018-09-04 12:37:20,565 : INFO : worker thread finished; awaiting finish of 3 more threads\n",
      "2018-09-04 12:37:20,572 : INFO : worker thread finished; awaiting finish of 2 more threads\n",
      "2018-09-04 12:37:20,579 : INFO : worker thread finished; awaiting finish of 1 more threads\n",
      "2018-09-04 12:37:20,594 : INFO : worker thread finished; awaiting finish of 0 more threads\n",
      "2018-09-04 12:37:20,595 : INFO : EPOCH - 4 : training on 229662 raw words (129561 effective words) took 1.2s, 105134 effective words/s\n",
      "2018-09-04 12:37:21,487 : INFO : worker thread finished; awaiting finish of 11 more threads\n",
      "2018-09-04 12:37:21,728 : INFO : EPOCH 5 - PROGRESS: at 38.60% examples, 65337 words/s, in_qsize 10, out_qsize 1\n",
      "2018-09-04 12:37:21,730 : INFO : worker thread finished; awaiting finish of 10 more threads\n",
      "2018-09-04 12:37:21,767 : INFO : worker thread finished; awaiting finish of 9 more threads\n",
      "2018-09-04 12:37:21,779 : INFO : worker thread finished; awaiting finish of 8 more threads\n",
      "2018-09-04 12:37:21,787 : INFO : worker thread finished; awaiting finish of 7 more threads\n",
      "2018-09-04 12:37:21,795 : INFO : worker thread finished; awaiting finish of 6 more threads\n",
      "2018-09-04 12:37:21,813 : INFO : worker thread finished; awaiting finish of 5 more threads\n",
      "2018-09-04 12:37:21,814 : INFO : worker thread finished; awaiting finish of 4 more threads\n",
      "2018-09-04 12:37:21,815 : INFO : worker thread finished; awaiting finish of 3 more threads\n",
      "2018-09-04 12:37:21,830 : INFO : worker thread finished; awaiting finish of 2 more threads\n",
      "2018-09-04 12:37:21,836 : INFO : worker thread finished; awaiting finish of 1 more threads\n",
      "2018-09-04 12:37:21,840 : INFO : worker thread finished; awaiting finish of 0 more threads\n",
      "2018-09-04 12:37:21,841 : INFO : EPOCH - 5 : training on 229662 raw words (129789 effective words) took 1.2s, 104683 effective words/s\n",
      "2018-09-04 12:37:21,843 : INFO : training on a 1148310 raw words (648664 effective words) took 6.2s, 104258 effective words/s\n",
      "2018-09-04 12:37:21,843 : INFO : training model with 12 workers on 613 vocabulary and 391 features, using sg=1 hs=1 sample=0.001 negative=10 window=8\n",
      "2018-09-04 12:37:22,708 : INFO : worker thread finished; awaiting finish of 11 more threads\n",
      "2018-09-04 12:37:22,995 : INFO : EPOCH 1 - PROGRESS: at 38.60% examples, 64288 words/s, in_qsize 10, out_qsize 1\n",
      "2018-09-04 12:37:22,995 : INFO : worker thread finished; awaiting finish of 10 more threads\n",
      "2018-09-04 12:37:23,007 : INFO : worker thread finished; awaiting finish of 9 more threads\n",
      "2018-09-04 12:37:23,015 : INFO : worker thread finished; awaiting finish of 8 more threads\n",
      "2018-09-04 12:37:23,045 : INFO : worker thread finished; awaiting finish of 7 more threads\n",
      "2018-09-04 12:37:23,048 : INFO : worker thread finished; awaiting finish of 6 more threads\n",
      "2018-09-04 12:37:23,050 : INFO : worker thread finished; awaiting finish of 5 more threads\n",
      "2018-09-04 12:37:23,060 : INFO : worker thread finished; awaiting finish of 4 more threads\n"
     ]
    },
    {
     "name": "stderr",
     "output_type": "stream",
     "text": [
      "2018-09-04 12:37:23,066 : INFO : worker thread finished; awaiting finish of 3 more threads\n",
      "2018-09-04 12:37:23,072 : INFO : worker thread finished; awaiting finish of 2 more threads\n",
      "2018-09-04 12:37:23,082 : INFO : worker thread finished; awaiting finish of 1 more threads\n",
      "2018-09-04 12:37:23,088 : INFO : worker thread finished; awaiting finish of 0 more threads\n",
      "2018-09-04 12:37:23,088 : INFO : EPOCH - 1 : training on 229662 raw words (129577 effective words) took 1.2s, 104773 effective words/s\n",
      "2018-09-04 12:37:23,945 : INFO : worker thread finished; awaiting finish of 11 more threads\n",
      "2018-09-04 12:37:24,271 : INFO : EPOCH 2 - PROGRESS: at 38.60% examples, 62614 words/s, in_qsize 9, out_qsize 3\n",
      "2018-09-04 12:37:24,272 : INFO : worker thread finished; awaiting finish of 10 more threads\n",
      "2018-09-04 12:37:24,274 : INFO : worker thread finished; awaiting finish of 9 more threads\n",
      "2018-09-04 12:37:24,275 : INFO : worker thread finished; awaiting finish of 8 more threads\n",
      "2018-09-04 12:37:24,276 : INFO : worker thread finished; awaiting finish of 7 more threads\n",
      "2018-09-04 12:37:24,293 : INFO : worker thread finished; awaiting finish of 6 more threads\n",
      "2018-09-04 12:37:24,304 : INFO : worker thread finished; awaiting finish of 5 more threads\n",
      "2018-09-04 12:37:24,309 : INFO : worker thread finished; awaiting finish of 4 more threads\n",
      "2018-09-04 12:37:24,323 : INFO : worker thread finished; awaiting finish of 3 more threads\n",
      "2018-09-04 12:37:24,331 : INFO : worker thread finished; awaiting finish of 2 more threads\n",
      "2018-09-04 12:37:24,339 : INFO : worker thread finished; awaiting finish of 1 more threads\n",
      "2018-09-04 12:37:24,339 : INFO : worker thread finished; awaiting finish of 0 more threads\n",
      "2018-09-04 12:37:24,340 : INFO : EPOCH - 2 : training on 229662 raw words (129709 effective words) took 1.2s, 104167 effective words/s\n",
      "2018-09-04 12:37:25,261 : INFO : worker thread finished; awaiting finish of 11 more threads\n",
      "2018-09-04 12:37:25,504 : INFO : EPOCH 3 - PROGRESS: at 38.60% examples, 63533 words/s, in_qsize 10, out_qsize 1\n",
      "2018-09-04 12:37:25,514 : INFO : worker thread finished; awaiting finish of 10 more threads\n",
      "2018-09-04 12:37:25,530 : INFO : worker thread finished; awaiting finish of 9 more threads\n",
      "2018-09-04 12:37:25,547 : INFO : worker thread finished; awaiting finish of 8 more threads\n",
      "2018-09-04 12:37:25,552 : INFO : worker thread finished; awaiting finish of 7 more threads\n",
      "2018-09-04 12:37:25,555 : INFO : worker thread finished; awaiting finish of 6 more threads\n",
      "2018-09-04 12:37:25,571 : INFO : worker thread finished; awaiting finish of 5 more threads\n",
      "2018-09-04 12:37:25,576 : INFO : worker thread finished; awaiting finish of 4 more threads\n",
      "2018-09-04 12:37:25,576 : INFO : worker thread finished; awaiting finish of 3 more threads\n",
      "2018-09-04 12:37:25,580 : INFO : worker thread finished; awaiting finish of 2 more threads\n",
      "2018-09-04 12:37:25,588 : INFO : worker thread finished; awaiting finish of 1 more threads\n",
      "2018-09-04 12:37:25,589 : INFO : worker thread finished; awaiting finish of 0 more threads\n",
      "2018-09-04 12:37:25,590 : INFO : EPOCH - 3 : training on 229662 raw words (129509 effective words) took 1.2s, 104262 effective words/s\n",
      "2018-09-04 12:37:26,493 : INFO : worker thread finished; awaiting finish of 11 more threads\n",
      "2018-09-04 12:37:26,804 : INFO : EPOCH 4 - PROGRESS: at 38.60% examples, 61030 words/s, in_qsize 10, out_qsize 1\n",
      "2018-09-04 12:37:26,805 : INFO : worker thread finished; awaiting finish of 10 more threads\n",
      "2018-09-04 12:37:26,809 : INFO : worker thread finished; awaiting finish of 9 more threads\n",
      "2018-09-04 12:37:26,814 : INFO : worker thread finished; awaiting finish of 8 more threads\n",
      "2018-09-04 12:37:26,814 : INFO : worker thread finished; awaiting finish of 7 more threads\n",
      "2018-09-04 12:37:26,818 : INFO : worker thread finished; awaiting finish of 6 more threads\n",
      "2018-09-04 12:37:26,823 : INFO : worker thread finished; awaiting finish of 5 more threads\n",
      "2018-09-04 12:37:26,849 : INFO : worker thread finished; awaiting finish of 4 more threads\n",
      "2018-09-04 12:37:26,855 : INFO : worker thread finished; awaiting finish of 3 more threads\n",
      "2018-09-04 12:37:26,858 : INFO : worker thread finished; awaiting finish of 2 more threads\n",
      "2018-09-04 12:37:26,867 : INFO : worker thread finished; awaiting finish of 1 more threads\n",
      "2018-09-04 12:37:26,870 : INFO : worker thread finished; awaiting finish of 0 more threads\n",
      "2018-09-04 12:37:26,871 : INFO : EPOCH - 4 : training on 229662 raw words (129856 effective words) took 1.3s, 102040 effective words/s\n",
      "2018-09-04 12:37:27,836 : INFO : worker thread finished; awaiting finish of 11 more threads\n",
      "2018-09-04 12:37:28,033 : INFO : EPOCH 5 - PROGRESS: at 38.60% examples, 63795 words/s, in_qsize 10, out_qsize 1\n",
      "2018-09-04 12:37:28,035 : INFO : worker thread finished; awaiting finish of 10 more threads\n",
      "2018-09-04 12:37:28,070 : INFO : worker thread finished; awaiting finish of 9 more threads\n",
      "2018-09-04 12:37:28,082 : INFO : worker thread finished; awaiting finish of 8 more threads\n",
      "2018-09-04 12:37:28,084 : INFO : worker thread finished; awaiting finish of 7 more threads\n",
      "2018-09-04 12:37:28,090 : INFO : worker thread finished; awaiting finish of 6 more threads\n",
      "2018-09-04 12:37:28,127 : INFO : worker thread finished; awaiting finish of 5 more threads\n",
      "2018-09-04 12:37:28,134 : INFO : worker thread finished; awaiting finish of 4 more threads\n",
      "2018-09-04 12:37:28,137 : INFO : worker thread finished; awaiting finish of 3 more threads\n",
      "2018-09-04 12:37:28,139 : INFO : worker thread finished; awaiting finish of 2 more threads\n",
      "2018-09-04 12:37:28,140 : INFO : worker thread finished; awaiting finish of 1 more threads\n",
      "2018-09-04 12:37:28,142 : INFO : worker thread finished; awaiting finish of 0 more threads\n",
      "2018-09-04 12:37:28,143 : INFO : EPOCH - 5 : training on 229662 raw words (129990 effective words) took 1.3s, 102690 effective words/s\n",
      "2018-09-04 12:37:28,143 : INFO : training on a 1148310 raw words (648641 effective words) took 6.3s, 103002 effective words/s\n",
      "2018-09-04 12:37:28,144 : INFO : training model with 12 workers on 613 vocabulary and 391 features, using sg=1 hs=1 sample=0.001 negative=10 window=8\n",
      "2018-09-04 12:37:29,034 : INFO : worker thread finished; awaiting finish of 11 more threads\n",
      "2018-09-04 12:37:29,293 : INFO : EPOCH 1 - PROGRESS: at 38.60% examples, 64455 words/s, in_qsize 10, out_qsize 1\n",
      "2018-09-04 12:37:29,294 : INFO : worker thread finished; awaiting finish of 10 more threads\n",
      "2018-09-04 12:37:29,329 : INFO : worker thread finished; awaiting finish of 9 more threads\n",
      "2018-09-04 12:37:29,343 : INFO : worker thread finished; awaiting finish of 8 more threads\n",
      "2018-09-04 12:37:29,349 : INFO : worker thread finished; awaiting finish of 7 more threads\n",
      "2018-09-04 12:37:29,359 : INFO : worker thread finished; awaiting finish of 6 more threads\n",
      "2018-09-04 12:37:29,372 : INFO : worker thread finished; awaiting finish of 5 more threads\n",
      "2018-09-04 12:37:29,373 : INFO : worker thread finished; awaiting finish of 4 more threads\n",
      "2018-09-04 12:37:29,378 : INFO : worker thread finished; awaiting finish of 3 more threads\n",
      "2018-09-04 12:37:29,384 : INFO : worker thread finished; awaiting finish of 2 more threads\n",
      "2018-09-04 12:37:29,398 : INFO : worker thread finished; awaiting finish of 1 more threads\n",
      "2018-09-04 12:37:29,407 : INFO : worker thread finished; awaiting finish of 0 more threads\n",
      "2018-09-04 12:37:29,407 : INFO : EPOCH - 1 : training on 229662 raw words (129574 effective words) took 1.3s, 103168 effective words/s\n",
      "2018-09-04 12:37:30,331 : INFO : worker thread finished; awaiting finish of 11 more threads\n",
      "2018-09-04 12:37:30,553 : INFO : EPOCH 2 - PROGRESS: at 38.60% examples, 64492 words/s, in_qsize 10, out_qsize 1\n",
      "2018-09-04 12:37:30,570 : INFO : worker thread finished; awaiting finish of 10 more threads\n",
      "2018-09-04 12:37:30,576 : INFO : worker thread finished; awaiting finish of 9 more threads\n",
      "2018-09-04 12:37:30,577 : INFO : worker thread finished; awaiting finish of 8 more threads\n",
      "2018-09-04 12:37:30,590 : INFO : worker thread finished; awaiting finish of 7 more threads\n",
      "2018-09-04 12:37:30,599 : INFO : worker thread finished; awaiting finish of 6 more threads\n",
      "2018-09-04 12:37:30,605 : INFO : worker thread finished; awaiting finish of 5 more threads\n"
     ]
    },
    {
     "name": "stderr",
     "output_type": "stream",
     "text": [
      "2018-09-04 12:37:30,634 : INFO : worker thread finished; awaiting finish of 4 more threads\n",
      "2018-09-04 12:37:30,646 : INFO : worker thread finished; awaiting finish of 3 more threads\n",
      "2018-09-04 12:37:30,647 : INFO : worker thread finished; awaiting finish of 2 more threads\n",
      "2018-09-04 12:37:30,647 : INFO : worker thread finished; awaiting finish of 1 more threads\n",
      "2018-09-04 12:37:30,648 : INFO : worker thread finished; awaiting finish of 0 more threads\n",
      "2018-09-04 12:37:30,648 : INFO : EPOCH - 2 : training on 229662 raw words (129688 effective words) took 1.2s, 105039 effective words/s\n",
      "2018-09-04 12:37:31,521 : INFO : worker thread finished; awaiting finish of 11 more threads\n",
      "2018-09-04 12:37:31,809 : INFO : EPOCH 3 - PROGRESS: at 38.60% examples, 63888 words/s, in_qsize 10, out_qsize 1\n",
      "2018-09-04 12:37:31,810 : INFO : worker thread finished; awaiting finish of 10 more threads\n",
      "2018-09-04 12:37:31,815 : INFO : worker thread finished; awaiting finish of 9 more threads\n",
      "2018-09-04 12:37:31,837 : INFO : worker thread finished; awaiting finish of 8 more threads\n",
      "2018-09-04 12:37:31,838 : INFO : worker thread finished; awaiting finish of 7 more threads\n",
      "2018-09-04 12:37:31,856 : INFO : worker thread finished; awaiting finish of 6 more threads\n",
      "2018-09-04 12:37:31,866 : INFO : worker thread finished; awaiting finish of 5 more threads\n",
      "2018-09-04 12:37:31,869 : INFO : worker thread finished; awaiting finish of 4 more threads\n",
      "2018-09-04 12:37:31,872 : INFO : worker thread finished; awaiting finish of 3 more threads\n",
      "2018-09-04 12:37:31,878 : INFO : worker thread finished; awaiting finish of 2 more threads\n",
      "2018-09-04 12:37:31,892 : INFO : worker thread finished; awaiting finish of 1 more threads\n",
      "2018-09-04 12:37:31,898 : INFO : worker thread finished; awaiting finish of 0 more threads\n",
      "2018-09-04 12:37:31,899 : INFO : EPOCH - 3 : training on 229662 raw words (129733 effective words) took 1.2s, 104341 effective words/s\n",
      "2018-09-04 12:37:32,796 : INFO : worker thread finished; awaiting finish of 11 more threads\n",
      "2018-09-04 12:37:33,092 : INFO : EPOCH 4 - PROGRESS: at 38.60% examples, 61909 words/s, in_qsize 10, out_qsize 1\n",
      "2018-09-04 12:37:33,095 : INFO : worker thread finished; awaiting finish of 10 more threads\n",
      "2018-09-04 12:37:33,100 : INFO : worker thread finished; awaiting finish of 9 more threads\n",
      "2018-09-04 12:37:33,112 : INFO : worker thread finished; awaiting finish of 8 more threads\n",
      "2018-09-04 12:37:33,124 : INFO : worker thread finished; awaiting finish of 7 more threads\n",
      "2018-09-04 12:37:33,130 : INFO : worker thread finished; awaiting finish of 6 more threads\n",
      "2018-09-04 12:37:33,130 : INFO : worker thread finished; awaiting finish of 5 more threads\n",
      "2018-09-04 12:37:33,131 : INFO : worker thread finished; awaiting finish of 4 more threads\n",
      "2018-09-04 12:37:33,133 : INFO : worker thread finished; awaiting finish of 3 more threads\n",
      "2018-09-04 12:37:33,139 : INFO : worker thread finished; awaiting finish of 2 more threads\n",
      "2018-09-04 12:37:33,148 : INFO : worker thread finished; awaiting finish of 1 more threads\n",
      "2018-09-04 12:37:33,153 : INFO : worker thread finished; awaiting finish of 0 more threads\n",
      "2018-09-04 12:37:33,153 : INFO : EPOCH - 4 : training on 229662 raw words (129510 effective words) took 1.2s, 103833 effective words/s\n",
      "2018-09-04 12:37:34,027 : INFO : worker thread finished; awaiting finish of 11 more threads\n",
      "2018-09-04 12:37:34,347 : INFO : EPOCH 5 - PROGRESS: at 38.60% examples, 62039 words/s, in_qsize 10, out_qsize 1\n",
      "2018-09-04 12:37:34,348 : INFO : worker thread finished; awaiting finish of 10 more threads\n",
      "2018-09-04 12:37:34,371 : INFO : worker thread finished; awaiting finish of 9 more threads\n",
      "2018-09-04 12:37:34,386 : INFO : worker thread finished; awaiting finish of 8 more threads\n",
      "2018-09-04 12:37:34,399 : INFO : worker thread finished; awaiting finish of 7 more threads\n",
      "2018-09-04 12:37:34,403 : INFO : worker thread finished; awaiting finish of 6 more threads\n",
      "2018-09-04 12:37:34,411 : INFO : worker thread finished; awaiting finish of 5 more threads\n",
      "2018-09-04 12:37:34,413 : INFO : worker thread finished; awaiting finish of 4 more threads\n",
      "2018-09-04 12:37:34,415 : INFO : worker thread finished; awaiting finish of 3 more threads\n",
      "2018-09-04 12:37:34,417 : INFO : worker thread finished; awaiting finish of 2 more threads\n",
      "2018-09-04 12:37:34,436 : INFO : worker thread finished; awaiting finish of 1 more threads\n",
      "2018-09-04 12:37:34,451 : INFO : worker thread finished; awaiting finish of 0 more threads\n",
      "2018-09-04 12:37:34,451 : INFO : EPOCH - 5 : training on 229662 raw words (129772 effective words) took 1.3s, 100546 effective words/s\n",
      "2018-09-04 12:37:34,452 : INFO : training on a 1148310 raw words (648277 effective words) took 6.3s, 102773 effective words/s\n",
      "2018-09-04 12:37:34,452 : INFO : training model with 12 workers on 613 vocabulary and 391 features, using sg=1 hs=1 sample=0.001 negative=10 window=8\n",
      "2018-09-04 12:37:35,345 : INFO : worker thread finished; awaiting finish of 11 more threads\n",
      "2018-09-04 12:37:35,638 : INFO : EPOCH 1 - PROGRESS: at 38.60% examples, 62518 words/s, in_qsize 10, out_qsize 1\n",
      "2018-09-04 12:37:35,640 : INFO : worker thread finished; awaiting finish of 10 more threads\n",
      "2018-09-04 12:37:35,675 : INFO : worker thread finished; awaiting finish of 9 more threads\n",
      "2018-09-04 12:37:35,678 : INFO : worker thread finished; awaiting finish of 8 more threads\n",
      "2018-09-04 12:37:35,681 : INFO : worker thread finished; awaiting finish of 7 more threads\n",
      "2018-09-04 12:37:35,684 : INFO : worker thread finished; awaiting finish of 6 more threads\n",
      "2018-09-04 12:37:35,690 : INFO : worker thread finished; awaiting finish of 5 more threads\n",
      "2018-09-04 12:37:35,698 : INFO : worker thread finished; awaiting finish of 4 more threads\n",
      "2018-09-04 12:37:35,705 : INFO : worker thread finished; awaiting finish of 3 more threads\n",
      "2018-09-04 12:37:35,717 : INFO : worker thread finished; awaiting finish of 2 more threads\n",
      "2018-09-04 12:37:35,723 : INFO : worker thread finished; awaiting finish of 1 more threads\n",
      "2018-09-04 12:37:35,725 : INFO : worker thread finished; awaiting finish of 0 more threads\n",
      "2018-09-04 12:37:35,725 : INFO : EPOCH - 1 : training on 229662 raw words (129598 effective words) took 1.3s, 102425 effective words/s\n",
      "2018-09-04 12:37:36,663 : INFO : worker thread finished; awaiting finish of 11 more threads\n",
      "2018-09-04 12:37:36,928 : INFO : EPOCH 2 - PROGRESS: at 38.60% examples, 61407 words/s, in_qsize 10, out_qsize 1\n",
      "2018-09-04 12:37:36,929 : INFO : worker thread finished; awaiting finish of 10 more threads\n",
      "2018-09-04 12:37:36,931 : INFO : worker thread finished; awaiting finish of 9 more threads\n",
      "2018-09-04 12:37:36,956 : INFO : worker thread finished; awaiting finish of 8 more threads\n",
      "2018-09-04 12:37:36,958 : INFO : worker thread finished; awaiting finish of 7 more threads\n",
      "2018-09-04 12:37:36,967 : INFO : worker thread finished; awaiting finish of 6 more threads\n",
      "2018-09-04 12:37:36,971 : INFO : worker thread finished; awaiting finish of 5 more threads\n",
      "2018-09-04 12:37:37,016 : INFO : worker thread finished; awaiting finish of 4 more threads\n",
      "2018-09-04 12:37:37,017 : INFO : worker thread finished; awaiting finish of 3 more threads\n",
      "2018-09-04 12:37:37,020 : INFO : worker thread finished; awaiting finish of 2 more threads\n",
      "2018-09-04 12:37:37,025 : INFO : worker thread finished; awaiting finish of 1 more threads\n",
      "2018-09-04 12:37:37,027 : INFO : worker thread finished; awaiting finish of 0 more threads\n",
      "2018-09-04 12:37:37,027 : INFO : EPOCH - 2 : training on 229662 raw words (129750 effective words) took 1.3s, 100108 effective words/s\n",
      "2018-09-04 12:37:37,977 : INFO : worker thread finished; awaiting finish of 11 more threads\n",
      "2018-09-04 12:37:38,303 : INFO : EPOCH 3 - PROGRESS: at 38.04% examples, 58252 words/s, in_qsize 10, out_qsize 1\n",
      "2018-09-04 12:37:38,304 : INFO : worker thread finished; awaiting finish of 10 more threads\n",
      "2018-09-04 12:37:38,317 : INFO : worker thread finished; awaiting finish of 9 more threads\n",
      "2018-09-04 12:37:38,327 : INFO : worker thread finished; awaiting finish of 8 more threads\n",
      "2018-09-04 12:37:38,329 : INFO : worker thread finished; awaiting finish of 7 more threads\n",
      "2018-09-04 12:37:38,331 : INFO : worker thread finished; awaiting finish of 6 more threads\n"
     ]
    },
    {
     "name": "stderr",
     "output_type": "stream",
     "text": [
      "2018-09-04 12:37:38,332 : INFO : worker thread finished; awaiting finish of 5 more threads\n",
      "2018-09-04 12:37:38,359 : INFO : worker thread finished; awaiting finish of 4 more threads\n",
      "2018-09-04 12:37:38,387 : INFO : worker thread finished; awaiting finish of 3 more threads\n",
      "2018-09-04 12:37:38,389 : INFO : worker thread finished; awaiting finish of 2 more threads\n",
      "2018-09-04 12:37:38,397 : INFO : worker thread finished; awaiting finish of 1 more threads\n",
      "2018-09-04 12:37:38,403 : INFO : worker thread finished; awaiting finish of 0 more threads\n",
      "2018-09-04 12:37:38,404 : INFO : EPOCH - 3 : training on 229662 raw words (129737 effective words) took 1.4s, 94761 effective words/s\n",
      "2018-09-04 12:37:39,395 : INFO : worker thread finished; awaiting finish of 11 more threads\n",
      "2018-09-04 12:37:39,687 : INFO : EPOCH 4 - PROGRESS: at 38.60% examples, 57925 words/s, in_qsize 10, out_qsize 1\n",
      "2018-09-04 12:37:39,689 : INFO : worker thread finished; awaiting finish of 10 more threads\n",
      "2018-09-04 12:37:39,714 : INFO : worker thread finished; awaiting finish of 9 more threads\n",
      "2018-09-04 12:37:39,720 : INFO : worker thread finished; awaiting finish of 8 more threads\n",
      "2018-09-04 12:37:39,728 : INFO : worker thread finished; awaiting finish of 7 more threads\n",
      "2018-09-04 12:37:39,728 : INFO : worker thread finished; awaiting finish of 6 more threads\n",
      "2018-09-04 12:37:39,746 : INFO : worker thread finished; awaiting finish of 5 more threads\n",
      "2018-09-04 12:37:39,753 : INFO : worker thread finished; awaiting finish of 4 more threads\n",
      "2018-09-04 12:37:39,768 : INFO : worker thread finished; awaiting finish of 3 more threads\n",
      "2018-09-04 12:37:39,771 : INFO : worker thread finished; awaiting finish of 2 more threads\n",
      "2018-09-04 12:37:39,791 : INFO : worker thread finished; awaiting finish of 1 more threads\n",
      "2018-09-04 12:37:39,800 : INFO : worker thread finished; awaiting finish of 0 more threads\n",
      "2018-09-04 12:37:39,801 : INFO : EPOCH - 4 : training on 229662 raw words (129895 effective words) took 1.4s, 93654 effective words/s\n",
      "2018-09-04 12:37:40,811 : INFO : EPOCH 5 - PROGRESS: at 32.43% examples, 68440 words/s, in_qsize 11, out_qsize 1\n",
      "2018-09-04 12:37:40,818 : INFO : worker thread finished; awaiting finish of 11 more threads\n",
      "2018-09-04 12:37:41,112 : INFO : worker thread finished; awaiting finish of 10 more threads\n",
      "2018-09-04 12:37:41,143 : INFO : worker thread finished; awaiting finish of 9 more threads\n",
      "2018-09-04 12:37:41,148 : INFO : worker thread finished; awaiting finish of 8 more threads\n",
      "2018-09-04 12:37:41,181 : INFO : worker thread finished; awaiting finish of 7 more threads\n",
      "2018-09-04 12:37:41,208 : INFO : worker thread finished; awaiting finish of 6 more threads\n",
      "2018-09-04 12:37:41,211 : INFO : worker thread finished; awaiting finish of 5 more threads\n",
      "2018-09-04 12:37:41,217 : INFO : worker thread finished; awaiting finish of 4 more threads\n",
      "2018-09-04 12:37:41,243 : INFO : worker thread finished; awaiting finish of 3 more threads\n",
      "2018-09-04 12:37:41,244 : INFO : worker thread finished; awaiting finish of 2 more threads\n",
      "2018-09-04 12:37:41,258 : INFO : worker thread finished; awaiting finish of 1 more threads\n",
      "2018-09-04 12:37:41,258 : INFO : worker thread finished; awaiting finish of 0 more threads\n",
      "2018-09-04 12:37:41,259 : INFO : EPOCH - 5 : training on 229662 raw words (129757 effective words) took 1.5s, 89480 effective words/s\n",
      "2018-09-04 12:37:41,259 : INFO : training on a 1148310 raw words (648737 effective words) took 6.8s, 95311 effective words/s\n",
      "2018-09-04 12:37:41,260 : INFO : training model with 12 workers on 613 vocabulary and 391 features, using sg=1 hs=1 sample=0.001 negative=10 window=8\n",
      "2018-09-04 12:37:42,220 : INFO : worker thread finished; awaiting finish of 11 more threads\n",
      "2018-09-04 12:37:42,516 : INFO : EPOCH 1 - PROGRESS: at 38.60% examples, 59209 words/s, in_qsize 10, out_qsize 1\n",
      "2018-09-04 12:37:42,520 : INFO : worker thread finished; awaiting finish of 10 more threads\n",
      "2018-09-04 12:37:42,524 : INFO : worker thread finished; awaiting finish of 9 more threads\n",
      "2018-09-04 12:37:42,536 : INFO : worker thread finished; awaiting finish of 8 more threads\n",
      "2018-09-04 12:37:42,557 : INFO : worker thread finished; awaiting finish of 7 more threads\n",
      "2018-09-04 12:37:42,576 : INFO : worker thread finished; awaiting finish of 6 more threads\n",
      "2018-09-04 12:37:42,576 : INFO : worker thread finished; awaiting finish of 5 more threads\n",
      "2018-09-04 12:37:42,586 : INFO : worker thread finished; awaiting finish of 4 more threads\n",
      "2018-09-04 12:37:42,601 : INFO : worker thread finished; awaiting finish of 3 more threads\n",
      "2018-09-04 12:37:42,604 : INFO : worker thread finished; awaiting finish of 2 more threads\n",
      "2018-09-04 12:37:42,610 : INFO : worker thread finished; awaiting finish of 1 more threads\n",
      "2018-09-04 12:37:42,611 : INFO : worker thread finished; awaiting finish of 0 more threads\n",
      "2018-09-04 12:37:42,611 : INFO : EPOCH - 1 : training on 229662 raw words (129786 effective words) took 1.3s, 97137 effective words/s\n",
      "2018-09-04 12:37:43,578 : INFO : worker thread finished; awaiting finish of 11 more threads\n",
      "2018-09-04 12:37:43,886 : INFO : EPOCH 2 - PROGRESS: at 37.88% examples, 58622 words/s, in_qsize 10, out_qsize 1\n",
      "2018-09-04 12:37:43,887 : INFO : worker thread finished; awaiting finish of 10 more threads\n",
      "2018-09-04 12:37:43,894 : INFO : worker thread finished; awaiting finish of 9 more threads\n",
      "2018-09-04 12:37:43,929 : INFO : worker thread finished; awaiting finish of 8 more threads\n",
      "2018-09-04 12:37:43,933 : INFO : worker thread finished; awaiting finish of 7 more threads\n",
      "2018-09-04 12:37:43,934 : INFO : worker thread finished; awaiting finish of 6 more threads\n",
      "2018-09-04 12:37:43,976 : INFO : worker thread finished; awaiting finish of 5 more threads\n",
      "2018-09-04 12:37:43,983 : INFO : worker thread finished; awaiting finish of 4 more threads\n",
      "2018-09-04 12:37:43,988 : INFO : worker thread finished; awaiting finish of 3 more threads\n",
      "2018-09-04 12:37:43,996 : INFO : worker thread finished; awaiting finish of 2 more threads\n",
      "2018-09-04 12:37:44,005 : INFO : worker thread finished; awaiting finish of 1 more threads\n",
      "2018-09-04 12:37:44,006 : INFO : worker thread finished; awaiting finish of 0 more threads\n",
      "2018-09-04 12:37:44,007 : INFO : EPOCH - 2 : training on 229662 raw words (130091 effective words) took 1.4s, 93671 effective words/s\n",
      "2018-09-04 12:37:44,984 : INFO : worker thread finished; awaiting finish of 11 more threads\n",
      "2018-09-04 12:37:45,279 : INFO : EPOCH 3 - PROGRESS: at 38.60% examples, 58138 words/s, in_qsize 10, out_qsize 1\n",
      "2018-09-04 12:37:45,280 : INFO : worker thread finished; awaiting finish of 10 more threads\n",
      "2018-09-04 12:37:45,285 : INFO : worker thread finished; awaiting finish of 9 more threads\n",
      "2018-09-04 12:37:45,299 : INFO : worker thread finished; awaiting finish of 8 more threads\n",
      "2018-09-04 12:37:45,300 : INFO : worker thread finished; awaiting finish of 7 more threads\n",
      "2018-09-04 12:37:45,325 : INFO : worker thread finished; awaiting finish of 6 more threads\n",
      "2018-09-04 12:37:45,331 : INFO : worker thread finished; awaiting finish of 5 more threads\n",
      "2018-09-04 12:37:45,383 : INFO : worker thread finished; awaiting finish of 4 more threads\n",
      "2018-09-04 12:37:45,389 : INFO : worker thread finished; awaiting finish of 3 more threads\n",
      "2018-09-04 12:37:45,389 : INFO : worker thread finished; awaiting finish of 2 more threads\n",
      "2018-09-04 12:37:45,397 : INFO : worker thread finished; awaiting finish of 1 more threads\n",
      "2018-09-04 12:37:45,402 : INFO : worker thread finished; awaiting finish of 0 more threads\n",
      "2018-09-04 12:37:45,403 : INFO : EPOCH - 3 : training on 229662 raw words (129768 effective words) took 1.4s, 93415 effective words/s\n",
      "2018-09-04 12:37:46,374 : INFO : worker thread finished; awaiting finish of 11 more threads\n",
      "2018-09-04 12:37:46,665 : INFO : EPOCH 4 - PROGRESS: at 38.04% examples, 58755 words/s, in_qsize 10, out_qsize 1\n",
      "2018-09-04 12:37:46,671 : INFO : worker thread finished; awaiting finish of 10 more threads\n",
      "2018-09-04 12:37:46,696 : INFO : worker thread finished; awaiting finish of 9 more threads\n",
      "2018-09-04 12:37:46,722 : INFO : worker thread finished; awaiting finish of 8 more threads\n",
      "2018-09-04 12:37:46,734 : INFO : worker thread finished; awaiting finish of 7 more threads\n"
     ]
    },
    {
     "name": "stderr",
     "output_type": "stream",
     "text": [
      "2018-09-04 12:37:46,748 : INFO : worker thread finished; awaiting finish of 6 more threads\n",
      "2018-09-04 12:37:46,753 : INFO : worker thread finished; awaiting finish of 5 more threads\n",
      "2018-09-04 12:37:46,757 : INFO : worker thread finished; awaiting finish of 4 more threads\n",
      "2018-09-04 12:37:46,758 : INFO : worker thread finished; awaiting finish of 3 more threads\n",
      "2018-09-04 12:37:46,766 : INFO : worker thread finished; awaiting finish of 2 more threads\n",
      "2018-09-04 12:37:46,772 : INFO : worker thread finished; awaiting finish of 1 more threads\n",
      "2018-09-04 12:37:46,786 : INFO : worker thread finished; awaiting finish of 0 more threads\n",
      "2018-09-04 12:37:46,787 : INFO : EPOCH - 4 : training on 229662 raw words (129680 effective words) took 1.4s, 94134 effective words/s\n",
      "2018-09-04 12:37:47,782 : INFO : worker thread finished; awaiting finish of 11 more threads\n",
      "2018-09-04 12:37:48,053 : INFO : EPOCH 5 - PROGRESS: at 38.04% examples, 58767 words/s, in_qsize 10, out_qsize 1\n",
      "2018-09-04 12:37:48,054 : INFO : worker thread finished; awaiting finish of 10 more threads\n",
      "2018-09-04 12:37:48,063 : INFO : worker thread finished; awaiting finish of 9 more threads\n",
      "2018-09-04 12:37:48,095 : INFO : worker thread finished; awaiting finish of 8 more threads\n",
      "2018-09-04 12:37:48,103 : INFO : worker thread finished; awaiting finish of 7 more threads\n",
      "2018-09-04 12:37:48,110 : INFO : worker thread finished; awaiting finish of 6 more threads\n",
      "2018-09-04 12:37:48,125 : INFO : worker thread finished; awaiting finish of 5 more threads\n",
      "2018-09-04 12:37:48,130 : INFO : worker thread finished; awaiting finish of 4 more threads\n",
      "2018-09-04 12:37:48,142 : INFO : worker thread finished; awaiting finish of 3 more threads\n",
      "2018-09-04 12:37:48,145 : INFO : worker thread finished; awaiting finish of 2 more threads\n",
      "2018-09-04 12:37:48,150 : INFO : worker thread finished; awaiting finish of 1 more threads\n",
      "2018-09-04 12:37:48,152 : INFO : worker thread finished; awaiting finish of 0 more threads\n",
      "2018-09-04 12:37:48,152 : INFO : EPOCH - 5 : training on 229662 raw words (129757 effective words) took 1.4s, 95511 effective words/s\n",
      "2018-09-04 12:37:48,153 : INFO : training on a 1148310 raw words (649082 effective words) took 6.9s, 94179 effective words/s\n",
      "2018-09-04 12:37:48,153 : INFO : training model with 12 workers on 613 vocabulary and 391 features, using sg=1 hs=1 sample=0.001 negative=10 window=8\n",
      "2018-09-04 12:37:49,271 : INFO : EPOCH 1 - PROGRESS: at 32.43% examples, 61503 words/s, in_qsize 11, out_qsize 1\n",
      "2018-09-04 12:37:49,275 : INFO : worker thread finished; awaiting finish of 11 more threads\n",
      "2018-09-04 12:37:49,426 : INFO : worker thread finished; awaiting finish of 10 more threads\n",
      "2018-09-04 12:37:49,458 : INFO : worker thread finished; awaiting finish of 9 more threads\n",
      "2018-09-04 12:37:49,458 : INFO : worker thread finished; awaiting finish of 8 more threads\n",
      "2018-09-04 12:37:49,492 : INFO : worker thread finished; awaiting finish of 7 more threads\n",
      "2018-09-04 12:37:49,498 : INFO : worker thread finished; awaiting finish of 6 more threads\n",
      "2018-09-04 12:37:49,501 : INFO : worker thread finished; awaiting finish of 5 more threads\n",
      "2018-09-04 12:37:49,535 : INFO : worker thread finished; awaiting finish of 4 more threads\n",
      "2018-09-04 12:37:49,543 : INFO : worker thread finished; awaiting finish of 3 more threads\n",
      "2018-09-04 12:37:49,565 : INFO : worker thread finished; awaiting finish of 2 more threads\n",
      "2018-09-04 12:37:49,565 : INFO : worker thread finished; awaiting finish of 1 more threads\n",
      "2018-09-04 12:37:49,566 : INFO : worker thread finished; awaiting finish of 0 more threads\n",
      "2018-09-04 12:37:49,566 : INFO : EPOCH - 1 : training on 229662 raw words (129360 effective words) took 1.4s, 92000 effective words/s\n",
      "2018-09-04 12:37:50,612 : INFO : EPOCH 2 - PROGRESS: at 32.43% examples, 66083 words/s, in_qsize 11, out_qsize 1\n",
      "2018-09-04 12:37:50,616 : INFO : worker thread finished; awaiting finish of 11 more threads\n",
      "2018-09-04 12:37:50,880 : INFO : worker thread finished; awaiting finish of 10 more threads\n",
      "2018-09-04 12:37:50,886 : INFO : worker thread finished; awaiting finish of 9 more threads\n",
      "2018-09-04 12:37:50,899 : INFO : worker thread finished; awaiting finish of 8 more threads\n",
      "2018-09-04 12:37:50,900 : INFO : worker thread finished; awaiting finish of 7 more threads\n",
      "2018-09-04 12:37:50,904 : INFO : worker thread finished; awaiting finish of 6 more threads\n",
      "2018-09-04 12:37:50,916 : INFO : worker thread finished; awaiting finish of 5 more threads\n",
      "2018-09-04 12:37:50,940 : INFO : worker thread finished; awaiting finish of 4 more threads\n",
      "2018-09-04 12:37:50,943 : INFO : worker thread finished; awaiting finish of 3 more threads\n",
      "2018-09-04 12:37:50,951 : INFO : worker thread finished; awaiting finish of 2 more threads\n",
      "2018-09-04 12:37:50,955 : INFO : worker thread finished; awaiting finish of 1 more threads\n",
      "2018-09-04 12:37:50,956 : INFO : worker thread finished; awaiting finish of 0 more threads\n",
      "2018-09-04 12:37:50,957 : INFO : EPOCH - 2 : training on 229662 raw words (129710 effective words) took 1.4s, 93814 effective words/s\n",
      "2018-09-04 12:37:51,977 : INFO : EPOCH 3 - PROGRESS: at 32.43% examples, 67637 words/s, in_qsize 11, out_qsize 1\n",
      "2018-09-04 12:37:51,980 : INFO : worker thread finished; awaiting finish of 11 more threads\n",
      "2018-09-04 12:37:52,255 : INFO : worker thread finished; awaiting finish of 10 more threads\n",
      "2018-09-04 12:37:52,265 : INFO : worker thread finished; awaiting finish of 9 more threads\n",
      "2018-09-04 12:37:52,268 : INFO : worker thread finished; awaiting finish of 8 more threads\n",
      "2018-09-04 12:37:52,270 : INFO : worker thread finished; awaiting finish of 7 more threads\n",
      "2018-09-04 12:37:52,293 : INFO : worker thread finished; awaiting finish of 6 more threads\n",
      "2018-09-04 12:37:52,294 : INFO : worker thread finished; awaiting finish of 5 more threads\n",
      "2018-09-04 12:37:52,333 : INFO : worker thread finished; awaiting finish of 4 more threads\n",
      "2018-09-04 12:37:52,336 : INFO : worker thread finished; awaiting finish of 3 more threads\n",
      "2018-09-04 12:37:52,352 : INFO : worker thread finished; awaiting finish of 2 more threads\n",
      "2018-09-04 12:37:52,353 : INFO : worker thread finished; awaiting finish of 1 more threads\n",
      "2018-09-04 12:37:52,353 : INFO : worker thread finished; awaiting finish of 0 more threads\n",
      "2018-09-04 12:37:52,354 : INFO : EPOCH - 3 : training on 229662 raw words (129789 effective words) took 1.4s, 93328 effective words/s\n",
      "2018-09-04 12:37:53,387 : INFO : EPOCH 4 - PROGRESS: at 32.43% examples, 66800 words/s, in_qsize 11, out_qsize 1\n",
      "2018-09-04 12:37:53,391 : INFO : worker thread finished; awaiting finish of 11 more threads\n",
      "2018-09-04 12:37:53,662 : INFO : worker thread finished; awaiting finish of 10 more threads\n",
      "2018-09-04 12:37:53,663 : INFO : worker thread finished; awaiting finish of 9 more threads\n",
      "2018-09-04 12:37:53,685 : INFO : worker thread finished; awaiting finish of 8 more threads\n",
      "2018-09-04 12:37:53,693 : INFO : worker thread finished; awaiting finish of 7 more threads\n",
      "2018-09-04 12:37:53,696 : INFO : worker thread finished; awaiting finish of 6 more threads\n",
      "2018-09-04 12:37:53,713 : INFO : worker thread finished; awaiting finish of 5 more threads\n",
      "2018-09-04 12:37:53,720 : INFO : worker thread finished; awaiting finish of 4 more threads\n",
      "2018-09-04 12:37:53,721 : INFO : worker thread finished; awaiting finish of 3 more threads\n",
      "2018-09-04 12:37:53,723 : INFO : worker thread finished; awaiting finish of 2 more threads\n",
      "2018-09-04 12:37:53,725 : INFO : worker thread finished; awaiting finish of 1 more threads\n",
      "2018-09-04 12:37:53,741 : INFO : worker thread finished; awaiting finish of 0 more threads\n",
      "2018-09-04 12:37:53,742 : INFO : EPOCH - 4 : training on 229662 raw words (129509 effective words) took 1.4s, 93881 effective words/s\n",
      "2018-09-04 12:37:54,696 : INFO : worker thread finished; awaiting finish of 11 more threads\n",
      "2018-09-04 12:37:55,027 : INFO : EPOCH 5 - PROGRESS: at 38.60% examples, 57559 words/s, in_qsize 10, out_qsize 1\n",
      "2018-09-04 12:37:55,028 : INFO : worker thread finished; awaiting finish of 10 more threads\n",
      "2018-09-04 12:37:55,043 : INFO : worker thread finished; awaiting finish of 9 more threads\n",
      "2018-09-04 12:37:55,051 : INFO : worker thread finished; awaiting finish of 8 more threads\n"
     ]
    },
    {
     "name": "stderr",
     "output_type": "stream",
     "text": [
      "2018-09-04 12:37:55,052 : INFO : worker thread finished; awaiting finish of 7 more threads\n",
      "2018-09-04 12:37:55,053 : INFO : worker thread finished; awaiting finish of 6 more threads\n",
      "2018-09-04 12:37:55,065 : INFO : worker thread finished; awaiting finish of 5 more threads\n",
      "2018-09-04 12:37:55,068 : INFO : worker thread finished; awaiting finish of 4 more threads\n",
      "2018-09-04 12:37:55,085 : INFO : worker thread finished; awaiting finish of 3 more threads\n",
      "2018-09-04 12:37:55,088 : INFO : worker thread finished; awaiting finish of 2 more threads\n",
      "2018-09-04 12:37:55,089 : INFO : worker thread finished; awaiting finish of 1 more threads\n",
      "2018-09-04 12:37:55,095 : INFO : worker thread finished; awaiting finish of 0 more threads\n",
      "2018-09-04 12:37:55,095 : INFO : EPOCH - 5 : training on 229662 raw words (129879 effective words) took 1.3s, 96434 effective words/s\n",
      "2018-09-04 12:37:55,096 : INFO : training on a 1148310 raw words (648247 effective words) took 6.9s, 93380 effective words/s\n",
      "2018-09-04 12:37:55,097 : INFO : training model with 12 workers on 613 vocabulary and 391 features, using sg=1 hs=1 sample=0.001 negative=10 window=8\n",
      "2018-09-04 12:37:56,056 : INFO : worker thread finished; awaiting finish of 11 more threads\n",
      "2018-09-04 12:37:56,396 : INFO : EPOCH 1 - PROGRESS: at 38.40% examples, 57156 words/s, in_qsize 9, out_qsize 3\n",
      "2018-09-04 12:37:56,397 : INFO : worker thread finished; awaiting finish of 10 more threads\n",
      "2018-09-04 12:37:56,398 : INFO : worker thread finished; awaiting finish of 9 more threads\n",
      "2018-09-04 12:37:56,400 : INFO : worker thread finished; awaiting finish of 8 more threads\n",
      "2018-09-04 12:37:56,418 : INFO : worker thread finished; awaiting finish of 7 more threads\n",
      "2018-09-04 12:37:56,429 : INFO : worker thread finished; awaiting finish of 6 more threads\n",
      "2018-09-04 12:37:56,431 : INFO : worker thread finished; awaiting finish of 5 more threads\n",
      "2018-09-04 12:37:56,459 : INFO : worker thread finished; awaiting finish of 4 more threads\n",
      "2018-09-04 12:37:56,461 : INFO : worker thread finished; awaiting finish of 3 more threads\n",
      "2018-09-04 12:37:56,462 : INFO : worker thread finished; awaiting finish of 2 more threads\n",
      "2018-09-04 12:37:56,476 : INFO : worker thread finished; awaiting finish of 1 more threads\n",
      "2018-09-04 12:37:56,480 : INFO : worker thread finished; awaiting finish of 0 more threads\n",
      "2018-09-04 12:37:56,481 : INFO : EPOCH - 1 : training on 229662 raw words (129777 effective words) took 1.4s, 94221 effective words/s\n",
      "2018-09-04 12:37:57,389 : INFO : worker thread finished; awaiting finish of 11 more threads\n",
      "2018-09-04 12:37:57,741 : INFO : EPOCH 2 - PROGRESS: at 38.60% examples, 58898 words/s, in_qsize 10, out_qsize 1\n",
      "2018-09-04 12:37:57,743 : INFO : worker thread finished; awaiting finish of 10 more threads\n",
      "2018-09-04 12:37:57,760 : INFO : worker thread finished; awaiting finish of 9 more threads\n",
      "2018-09-04 12:37:57,789 : INFO : worker thread finished; awaiting finish of 8 more threads\n",
      "2018-09-04 12:37:57,789 : INFO : worker thread finished; awaiting finish of 7 more threads\n",
      "2018-09-04 12:37:57,790 : INFO : worker thread finished; awaiting finish of 6 more threads\n",
      "2018-09-04 12:37:57,790 : INFO : worker thread finished; awaiting finish of 5 more threads\n",
      "2018-09-04 12:37:57,791 : INFO : worker thread finished; awaiting finish of 4 more threads\n",
      "2018-09-04 12:37:57,795 : INFO : worker thread finished; awaiting finish of 3 more threads\n",
      "2018-09-04 12:37:57,804 : INFO : worker thread finished; awaiting finish of 2 more threads\n",
      "2018-09-04 12:37:57,812 : INFO : worker thread finished; awaiting finish of 1 more threads\n",
      "2018-09-04 12:37:57,813 : INFO : worker thread finished; awaiting finish of 0 more threads\n",
      "2018-09-04 12:37:57,813 : INFO : EPOCH - 2 : training on 229662 raw words (129994 effective words) took 1.3s, 98059 effective words/s\n",
      "2018-09-04 12:37:58,740 : INFO : worker thread finished; awaiting finish of 11 more threads\n",
      "2018-09-04 12:37:59,080 : INFO : EPOCH 3 - PROGRESS: at 38.60% examples, 58488 words/s, in_qsize 10, out_qsize 1\n",
      "2018-09-04 12:37:59,083 : INFO : worker thread finished; awaiting finish of 10 more threads\n",
      "2018-09-04 12:37:59,099 : INFO : worker thread finished; awaiting finish of 9 more threads\n",
      "2018-09-04 12:37:59,108 : INFO : worker thread finished; awaiting finish of 8 more threads\n",
      "2018-09-04 12:37:59,109 : INFO : worker thread finished; awaiting finish of 7 more threads\n",
      "2018-09-04 12:37:59,126 : INFO : worker thread finished; awaiting finish of 6 more threads\n",
      "2018-09-04 12:37:59,127 : INFO : worker thread finished; awaiting finish of 5 more threads\n",
      "2018-09-04 12:37:59,144 : INFO : worker thread finished; awaiting finish of 4 more threads\n",
      "2018-09-04 12:37:59,147 : INFO : worker thread finished; awaiting finish of 3 more threads\n",
      "2018-09-04 12:37:59,161 : INFO : worker thread finished; awaiting finish of 2 more threads\n",
      "2018-09-04 12:37:59,161 : INFO : worker thread finished; awaiting finish of 1 more threads\n",
      "2018-09-04 12:37:59,167 : INFO : worker thread finished; awaiting finish of 0 more threads\n",
      "2018-09-04 12:37:59,167 : INFO : EPOCH - 3 : training on 229662 raw words (130099 effective words) took 1.3s, 96541 effective words/s\n",
      "2018-09-04 12:38:00,051 : INFO : worker thread finished; awaiting finish of 11 more threads\n",
      "2018-09-04 12:38:00,451 : INFO : EPOCH 4 - PROGRESS: at 38.04% examples, 57938 words/s, in_qsize 9, out_qsize 3\n",
      "2018-09-04 12:38:00,452 : INFO : worker thread finished; awaiting finish of 10 more threads\n",
      "2018-09-04 12:38:00,461 : INFO : worker thread finished; awaiting finish of 9 more threads\n",
      "2018-09-04 12:38:00,462 : INFO : worker thread finished; awaiting finish of 8 more threads\n",
      "2018-09-04 12:38:00,466 : INFO : worker thread finished; awaiting finish of 7 more threads\n",
      "2018-09-04 12:38:00,467 : INFO : worker thread finished; awaiting finish of 6 more threads\n",
      "2018-09-04 12:38:00,468 : INFO : worker thread finished; awaiting finish of 5 more threads\n",
      "2018-09-04 12:38:00,477 : INFO : worker thread finished; awaiting finish of 4 more threads\n",
      "2018-09-04 12:38:00,492 : INFO : worker thread finished; awaiting finish of 3 more threads\n",
      "2018-09-04 12:38:00,495 : INFO : worker thread finished; awaiting finish of 2 more threads\n",
      "2018-09-04 12:38:00,496 : INFO : worker thread finished; awaiting finish of 1 more threads\n",
      "2018-09-04 12:38:00,500 : INFO : worker thread finished; awaiting finish of 0 more threads\n",
      "2018-09-04 12:38:00,500 : INFO : EPOCH - 4 : training on 229662 raw words (129736 effective words) took 1.3s, 97896 effective words/s\n",
      "2018-09-04 12:38:01,501 : INFO : worker thread finished; awaiting finish of 11 more threads\n",
      "2018-09-04 12:38:01,741 : INFO : EPOCH 5 - PROGRESS: at 38.60% examples, 59374 words/s, in_qsize 10, out_qsize 1\n",
      "2018-09-04 12:38:01,742 : INFO : worker thread finished; awaiting finish of 10 more threads\n",
      "2018-09-04 12:38:01,771 : INFO : worker thread finished; awaiting finish of 9 more threads\n",
      "2018-09-04 12:38:01,792 : INFO : worker thread finished; awaiting finish of 8 more threads\n",
      "2018-09-04 12:38:01,801 : INFO : worker thread finished; awaiting finish of 7 more threads\n",
      "2018-09-04 12:38:01,801 : INFO : worker thread finished; awaiting finish of 6 more threads\n",
      "2018-09-04 12:38:01,811 : INFO : worker thread finished; awaiting finish of 5 more threads\n",
      "2018-09-04 12:38:01,812 : INFO : worker thread finished; awaiting finish of 4 more threads\n",
      "2018-09-04 12:38:01,837 : INFO : worker thread finished; awaiting finish of 3 more threads\n",
      "2018-09-04 12:38:01,837 : INFO : worker thread finished; awaiting finish of 2 more threads\n",
      "2018-09-04 12:38:01,840 : INFO : worker thread finished; awaiting finish of 1 more threads\n",
      "2018-09-04 12:38:01,842 : INFO : worker thread finished; awaiting finish of 0 more threads\n",
      "2018-09-04 12:38:01,842 : INFO : EPOCH - 5 : training on 229662 raw words (129489 effective words) took 1.3s, 96875 effective words/s\n",
      "2018-09-04 12:38:01,843 : INFO : training on a 1148310 raw words (649095 effective words) took 6.7s, 96214 effective words/s\n",
      "2018-09-04 12:38:01,843 : INFO : training model with 12 workers on 613 vocabulary and 391 features, using sg=1 hs=1 sample=0.001 negative=10 window=8\n",
      "2018-09-04 12:38:02,886 : INFO : EPOCH 1 - PROGRESS: at 32.43% examples, 66105 words/s, in_qsize 11, out_qsize 1\n"
     ]
    },
    {
     "name": "stderr",
     "output_type": "stream",
     "text": [
      "2018-09-04 12:38:02,897 : INFO : worker thread finished; awaiting finish of 11 more threads\n",
      "2018-09-04 12:38:03,103 : INFO : worker thread finished; awaiting finish of 10 more threads\n",
      "2018-09-04 12:38:03,115 : INFO : worker thread finished; awaiting finish of 9 more threads\n",
      "2018-09-04 12:38:03,123 : INFO : worker thread finished; awaiting finish of 8 more threads\n",
      "2018-09-04 12:38:03,132 : INFO : worker thread finished; awaiting finish of 7 more threads\n",
      "2018-09-04 12:38:03,153 : INFO : worker thread finished; awaiting finish of 6 more threads\n",
      "2018-09-04 12:38:03,158 : INFO : worker thread finished; awaiting finish of 5 more threads\n",
      "2018-09-04 12:38:03,161 : INFO : worker thread finished; awaiting finish of 4 more threads\n",
      "2018-09-04 12:38:03,168 : INFO : worker thread finished; awaiting finish of 3 more threads\n",
      "2018-09-04 12:38:03,171 : INFO : worker thread finished; awaiting finish of 2 more threads\n",
      "2018-09-04 12:38:03,177 : INFO : worker thread finished; awaiting finish of 1 more threads\n",
      "2018-09-04 12:38:03,191 : INFO : worker thread finished; awaiting finish of 0 more threads\n",
      "2018-09-04 12:38:03,191 : INFO : EPOCH - 1 : training on 229662 raw words (129540 effective words) took 1.3s, 96588 effective words/s\n",
      "2018-09-04 12:38:04,147 : INFO : worker thread finished; awaiting finish of 11 more threads\n",
      "2018-09-04 12:38:04,442 : INFO : EPOCH 2 - PROGRESS: at 38.60% examples, 59117 words/s, in_qsize 10, out_qsize 1\n",
      "2018-09-04 12:38:04,443 : INFO : worker thread finished; awaiting finish of 10 more threads\n",
      "2018-09-04 12:38:04,464 : INFO : worker thread finished; awaiting finish of 9 more threads\n",
      "2018-09-04 12:38:04,467 : INFO : worker thread finished; awaiting finish of 8 more threads\n",
      "2018-09-04 12:38:04,471 : INFO : worker thread finished; awaiting finish of 7 more threads\n",
      "2018-09-04 12:38:04,485 : INFO : worker thread finished; awaiting finish of 6 more threads\n",
      "2018-09-04 12:38:04,486 : INFO : worker thread finished; awaiting finish of 5 more threads\n",
      "2018-09-04 12:38:04,488 : INFO : worker thread finished; awaiting finish of 4 more threads\n",
      "2018-09-04 12:38:04,502 : INFO : worker thread finished; awaiting finish of 3 more threads\n",
      "2018-09-04 12:38:04,510 : INFO : worker thread finished; awaiting finish of 2 more threads\n",
      "2018-09-04 12:38:04,513 : INFO : worker thread finished; awaiting finish of 1 more threads\n",
      "2018-09-04 12:38:04,518 : INFO : worker thread finished; awaiting finish of 0 more threads\n",
      "2018-09-04 12:38:04,519 : INFO : EPOCH - 2 : training on 229662 raw words (129463 effective words) took 1.3s, 98154 effective words/s\n",
      "2018-09-04 12:38:05,442 : INFO : worker thread finished; awaiting finish of 11 more threads\n",
      "2018-09-04 12:38:05,769 : INFO : EPOCH 3 - PROGRESS: at 38.60% examples, 59210 words/s, in_qsize 10, out_qsize 1\n",
      "2018-09-04 12:38:05,770 : INFO : worker thread finished; awaiting finish of 10 more threads\n",
      "2018-09-04 12:38:05,797 : INFO : worker thread finished; awaiting finish of 9 more threads\n",
      "2018-09-04 12:38:05,799 : INFO : worker thread finished; awaiting finish of 8 more threads\n",
      "2018-09-04 12:38:05,805 : INFO : worker thread finished; awaiting finish of 7 more threads\n",
      "2018-09-04 12:38:05,819 : INFO : worker thread finished; awaiting finish of 6 more threads\n",
      "2018-09-04 12:38:05,823 : INFO : worker thread finished; awaiting finish of 5 more threads\n",
      "2018-09-04 12:38:05,834 : INFO : worker thread finished; awaiting finish of 4 more threads\n",
      "2018-09-04 12:38:05,840 : INFO : worker thread finished; awaiting finish of 3 more threads\n",
      "2018-09-04 12:38:05,840 : INFO : worker thread finished; awaiting finish of 2 more threads\n",
      "2018-09-04 12:38:05,844 : INFO : worker thread finished; awaiting finish of 1 more threads\n",
      "2018-09-04 12:38:05,850 : INFO : worker thread finished; awaiting finish of 0 more threads\n",
      "2018-09-04 12:38:05,851 : INFO : EPOCH - 3 : training on 229662 raw words (129749 effective words) took 1.3s, 97945 effective words/s\n",
      "2018-09-04 12:38:06,833 : INFO : worker thread finished; awaiting finish of 11 more threads\n",
      "2018-09-04 12:38:07,105 : INFO : EPOCH 4 - PROGRESS: at 38.60% examples, 58966 words/s, in_qsize 10, out_qsize 1\n",
      "2018-09-04 12:38:07,120 : INFO : worker thread finished; awaiting finish of 10 more threads\n",
      "2018-09-04 12:38:07,144 : INFO : worker thread finished; awaiting finish of 9 more threads\n",
      "2018-09-04 12:38:07,146 : INFO : worker thread finished; awaiting finish of 8 more threads\n",
      "2018-09-04 12:38:07,149 : INFO : worker thread finished; awaiting finish of 7 more threads\n",
      "2018-09-04 12:38:07,162 : INFO : worker thread finished; awaiting finish of 6 more threads\n",
      "2018-09-04 12:38:07,170 : INFO : worker thread finished; awaiting finish of 5 more threads\n",
      "2018-09-04 12:38:07,177 : INFO : worker thread finished; awaiting finish of 4 more threads\n",
      "2018-09-04 12:38:07,184 : INFO : worker thread finished; awaiting finish of 3 more threads\n",
      "2018-09-04 12:38:07,197 : INFO : worker thread finished; awaiting finish of 2 more threads\n",
      "2018-09-04 12:38:07,207 : INFO : worker thread finished; awaiting finish of 1 more threads\n",
      "2018-09-04 12:38:07,212 : INFO : worker thread finished; awaiting finish of 0 more threads\n",
      "2018-09-04 12:38:07,213 : INFO : EPOCH - 4 : training on 229662 raw words (129690 effective words) took 1.4s, 95725 effective words/s\n",
      "2018-09-04 12:38:08,170 : INFO : worker thread finished; awaiting finish of 11 more threads\n",
      "2018-09-04 12:38:08,490 : INFO : EPOCH 5 - PROGRESS: at 38.40% examples, 58308 words/s, in_qsize 10, out_qsize 1\n",
      "2018-09-04 12:38:08,493 : INFO : worker thread finished; awaiting finish of 10 more threads\n",
      "2018-09-04 12:38:08,514 : INFO : worker thread finished; awaiting finish of 9 more threads\n",
      "2018-09-04 12:38:08,523 : INFO : worker thread finished; awaiting finish of 8 more threads\n",
      "2018-09-04 12:38:08,536 : INFO : worker thread finished; awaiting finish of 7 more threads\n",
      "2018-09-04 12:38:08,558 : INFO : worker thread finished; awaiting finish of 6 more threads\n",
      "2018-09-04 12:38:08,564 : INFO : worker thread finished; awaiting finish of 5 more threads\n",
      "2018-09-04 12:38:08,565 : INFO : worker thread finished; awaiting finish of 4 more threads\n",
      "2018-09-04 12:38:08,565 : INFO : worker thread finished; awaiting finish of 3 more threads\n",
      "2018-09-04 12:38:08,574 : INFO : worker thread finished; awaiting finish of 2 more threads\n",
      "2018-09-04 12:38:08,585 : INFO : worker thread finished; awaiting finish of 1 more threads\n",
      "2018-09-04 12:38:08,598 : INFO : worker thread finished; awaiting finish of 0 more threads\n",
      "2018-09-04 12:38:08,599 : INFO : EPOCH - 5 : training on 229662 raw words (129780 effective words) took 1.4s, 94056 effective words/s\n",
      "2018-09-04 12:38:08,599 : INFO : training on a 1148310 raw words (648222 effective words) took 6.8s, 95956 effective words/s\n",
      "2018-09-04 12:38:08,600 : INFO : training model with 12 workers on 613 vocabulary and 391 features, using sg=1 hs=1 sample=0.001 negative=10 window=8\n",
      "2018-09-04 12:38:09,543 : INFO : worker thread finished; awaiting finish of 11 more threads\n",
      "2018-09-04 12:38:09,826 : INFO : EPOCH 1 - PROGRESS: at 38.60% examples, 60429 words/s, in_qsize 10, out_qsize 1\n",
      "2018-09-04 12:38:09,827 : INFO : worker thread finished; awaiting finish of 10 more threads\n",
      "2018-09-04 12:38:09,865 : INFO : worker thread finished; awaiting finish of 9 more threads\n",
      "2018-09-04 12:38:09,866 : INFO : worker thread finished; awaiting finish of 8 more threads\n",
      "2018-09-04 12:38:09,874 : INFO : worker thread finished; awaiting finish of 7 more threads\n",
      "2018-09-04 12:38:09,895 : INFO : worker thread finished; awaiting finish of 6 more threads\n",
      "2018-09-04 12:38:09,896 : INFO : worker thread finished; awaiting finish of 5 more threads\n",
      "2018-09-04 12:38:09,913 : INFO : worker thread finished; awaiting finish of 4 more threads\n",
      "2018-09-04 12:38:09,930 : INFO : worker thread finished; awaiting finish of 3 more threads\n",
      "2018-09-04 12:38:09,931 : INFO : worker thread finished; awaiting finish of 2 more threads\n",
      "2018-09-04 12:38:09,931 : INFO : worker thread finished; awaiting finish of 1 more threads\n",
      "2018-09-04 12:38:09,941 : INFO : worker thread finished; awaiting finish of 0 more threads\n",
      "2018-09-04 12:38:09,941 : INFO : EPOCH - 1 : training on 229662 raw words (129770 effective words) took 1.3s, 97341 effective words/s\n"
     ]
    },
    {
     "name": "stderr",
     "output_type": "stream",
     "text": [
      "2018-09-04 12:38:10,807 : INFO : worker thread finished; awaiting finish of 11 more threads\n",
      "2018-09-04 12:38:11,150 : INFO : EPOCH 2 - PROGRESS: at 38.60% examples, 61158 words/s, in_qsize 10, out_qsize 1\n",
      "2018-09-04 12:38:11,175 : INFO : worker thread finished; awaiting finish of 10 more threads\n",
      "2018-09-04 12:38:11,176 : INFO : worker thread finished; awaiting finish of 9 more threads\n",
      "2018-09-04 12:38:11,178 : INFO : worker thread finished; awaiting finish of 8 more threads\n",
      "2018-09-04 12:38:11,181 : INFO : worker thread finished; awaiting finish of 7 more threads\n",
      "2018-09-04 12:38:11,185 : INFO : worker thread finished; awaiting finish of 6 more threads\n",
      "2018-09-04 12:38:11,191 : INFO : worker thread finished; awaiting finish of 5 more threads\n",
      "2018-09-04 12:38:11,197 : INFO : worker thread finished; awaiting finish of 4 more threads\n",
      "2018-09-04 12:38:11,203 : INFO : worker thread finished; awaiting finish of 3 more threads\n",
      "2018-09-04 12:38:11,231 : INFO : worker thread finished; awaiting finish of 2 more threads\n",
      "2018-09-04 12:38:11,232 : INFO : worker thread finished; awaiting finish of 1 more threads\n",
      "2018-09-04 12:38:11,239 : INFO : worker thread finished; awaiting finish of 0 more threads\n",
      "2018-09-04 12:38:11,239 : INFO : EPOCH - 2 : training on 229662 raw words (129630 effective words) took 1.3s, 100331 effective words/s\n",
      "2018-09-04 12:38:12,185 : INFO : worker thread finished; awaiting finish of 11 more threads\n",
      "2018-09-04 12:38:12,437 : INFO : EPOCH 3 - PROGRESS: at 38.60% examples, 61921 words/s, in_qsize 10, out_qsize 1\n",
      "2018-09-04 12:38:12,440 : INFO : worker thread finished; awaiting finish of 10 more threads\n",
      "2018-09-04 12:38:12,460 : INFO : worker thread finished; awaiting finish of 9 more threads\n",
      "2018-09-04 12:38:12,460 : INFO : worker thread finished; awaiting finish of 8 more threads\n",
      "2018-09-04 12:38:12,467 : INFO : worker thread finished; awaiting finish of 7 more threads\n",
      "2018-09-04 12:38:12,480 : INFO : worker thread finished; awaiting finish of 6 more threads\n",
      "2018-09-04 12:38:12,504 : INFO : worker thread finished; awaiting finish of 5 more threads\n",
      "2018-09-04 12:38:12,505 : INFO : worker thread finished; awaiting finish of 4 more threads\n",
      "2018-09-04 12:38:12,506 : INFO : worker thread finished; awaiting finish of 3 more threads\n",
      "2018-09-04 12:38:12,515 : INFO : worker thread finished; awaiting finish of 2 more threads\n",
      "2018-09-04 12:38:12,518 : INFO : worker thread finished; awaiting finish of 1 more threads\n",
      "2018-09-04 12:38:12,526 : INFO : worker thread finished; awaiting finish of 0 more threads\n",
      "2018-09-04 12:38:12,526 : INFO : EPOCH - 3 : training on 229662 raw words (129783 effective words) took 1.3s, 101383 effective words/s\n",
      "2018-09-04 12:38:13,473 : INFO : worker thread finished; awaiting finish of 11 more threads\n",
      "2018-09-04 12:38:13,738 : INFO : EPOCH 4 - PROGRESS: at 38.60% examples, 61113 words/s, in_qsize 10, out_qsize 1\n",
      "2018-09-04 12:38:13,739 : INFO : worker thread finished; awaiting finish of 10 more threads\n",
      "2018-09-04 12:38:13,753 : INFO : worker thread finished; awaiting finish of 9 more threads\n",
      "2018-09-04 12:38:13,780 : INFO : worker thread finished; awaiting finish of 8 more threads\n",
      "2018-09-04 12:38:13,781 : INFO : worker thread finished; awaiting finish of 7 more threads\n",
      "2018-09-04 12:38:13,781 : INFO : worker thread finished; awaiting finish of 6 more threads\n",
      "2018-09-04 12:38:13,785 : INFO : worker thread finished; awaiting finish of 5 more threads\n",
      "2018-09-04 12:38:13,790 : INFO : worker thread finished; awaiting finish of 4 more threads\n",
      "2018-09-04 12:38:13,795 : INFO : worker thread finished; awaiting finish of 3 more threads\n",
      "2018-09-04 12:38:13,804 : INFO : worker thread finished; awaiting finish of 2 more threads\n",
      "2018-09-04 12:38:13,817 : INFO : worker thread finished; awaiting finish of 1 more threads\n",
      "2018-09-04 12:38:13,824 : INFO : worker thread finished; awaiting finish of 0 more threads\n",
      "2018-09-04 12:38:13,825 : INFO : EPOCH - 4 : training on 229662 raw words (129727 effective words) took 1.3s, 100476 effective words/s\n",
      "2018-09-04 12:38:14,757 : INFO : worker thread finished; awaiting finish of 11 more threads\n",
      "2018-09-04 12:38:15,049 : INFO : EPOCH 5 - PROGRESS: at 38.60% examples, 60597 words/s, in_qsize 10, out_qsize 1\n",
      "2018-09-04 12:38:15,051 : INFO : worker thread finished; awaiting finish of 10 more threads\n",
      "2018-09-04 12:38:15,052 : INFO : worker thread finished; awaiting finish of 9 more threads\n",
      "2018-09-04 12:38:15,061 : INFO : worker thread finished; awaiting finish of 8 more threads\n",
      "2018-09-04 12:38:15,062 : INFO : worker thread finished; awaiting finish of 7 more threads\n",
      "2018-09-04 12:38:15,090 : INFO : worker thread finished; awaiting finish of 6 more threads\n",
      "2018-09-04 12:38:15,107 : INFO : worker thread finished; awaiting finish of 5 more threads\n",
      "2018-09-04 12:38:15,108 : INFO : worker thread finished; awaiting finish of 4 more threads\n",
      "2018-09-04 12:38:15,111 : INFO : worker thread finished; awaiting finish of 3 more threads\n",
      "2018-09-04 12:38:15,114 : INFO : worker thread finished; awaiting finish of 2 more threads\n",
      "2018-09-04 12:38:15,123 : INFO : worker thread finished; awaiting finish of 1 more threads\n",
      "2018-09-04 12:38:15,127 : INFO : worker thread finished; awaiting finish of 0 more threads\n",
      "2018-09-04 12:38:15,127 : INFO : EPOCH - 5 : training on 229662 raw words (129781 effective words) took 1.3s, 100224 effective words/s\n",
      "2018-09-04 12:38:15,128 : INFO : training on a 1148310 raw words (648691 effective words) took 6.5s, 99378 effective words/s\n",
      "2018-09-04 12:38:15,129 : INFO : training model with 12 workers on 613 vocabulary and 391 features, using sg=1 hs=1 sample=0.001 negative=10 window=8\n",
      "2018-09-04 12:38:16,021 : INFO : worker thread finished; awaiting finish of 11 more threads\n",
      "2018-09-04 12:38:16,322 : INFO : EPOCH 1 - PROGRESS: at 38.60% examples, 61809 words/s, in_qsize 10, out_qsize 1\n",
      "2018-09-04 12:38:16,328 : INFO : worker thread finished; awaiting finish of 10 more threads\n",
      "2018-09-04 12:38:16,347 : INFO : worker thread finished; awaiting finish of 9 more threads\n",
      "2018-09-04 12:38:16,365 : INFO : worker thread finished; awaiting finish of 8 more threads\n",
      "2018-09-04 12:38:16,371 : INFO : worker thread finished; awaiting finish of 7 more threads\n",
      "2018-09-04 12:38:16,390 : INFO : worker thread finished; awaiting finish of 6 more threads\n",
      "2018-09-04 12:38:16,392 : INFO : worker thread finished; awaiting finish of 5 more threads\n",
      "2018-09-04 12:38:16,402 : INFO : worker thread finished; awaiting finish of 4 more threads\n",
      "2018-09-04 12:38:16,408 : INFO : worker thread finished; awaiting finish of 3 more threads\n",
      "2018-09-04 12:38:16,409 : INFO : worker thread finished; awaiting finish of 2 more threads\n",
      "2018-09-04 12:38:16,409 : INFO : worker thread finished; awaiting finish of 1 more threads\n",
      "2018-09-04 12:38:16,415 : INFO : worker thread finished; awaiting finish of 0 more threads\n",
      "2018-09-04 12:38:16,415 : INFO : EPOCH - 1 : training on 229662 raw words (129418 effective words) took 1.3s, 101192 effective words/s\n",
      "2018-09-04 12:38:17,306 : INFO : worker thread finished; awaiting finish of 11 more threads\n",
      "2018-09-04 12:38:17,619 : INFO : EPOCH 2 - PROGRESS: at 38.60% examples, 61472 words/s, in_qsize 10, out_qsize 1\n",
      "2018-09-04 12:38:17,620 : INFO : worker thread finished; awaiting finish of 10 more threads\n",
      "2018-09-04 12:38:17,653 : INFO : worker thread finished; awaiting finish of 9 more threads\n",
      "2018-09-04 12:38:17,673 : INFO : worker thread finished; awaiting finish of 8 more threads\n",
      "2018-09-04 12:38:17,673 : INFO : worker thread finished; awaiting finish of 7 more threads\n",
      "2018-09-04 12:38:17,674 : INFO : worker thread finished; awaiting finish of 6 more threads\n",
      "2018-09-04 12:38:17,676 : INFO : worker thread finished; awaiting finish of 5 more threads\n",
      "2018-09-04 12:38:17,676 : INFO : worker thread finished; awaiting finish of 4 more threads\n",
      "2018-09-04 12:38:17,683 : INFO : worker thread finished; awaiting finish of 3 more threads\n",
      "2018-09-04 12:38:17,690 : INFO : worker thread finished; awaiting finish of 2 more threads\n",
      "2018-09-04 12:38:17,711 : INFO : worker thread finished; awaiting finish of 1 more threads\n",
      "2018-09-04 12:38:17,712 : INFO : worker thread finished; awaiting finish of 0 more threads\n",
      "2018-09-04 12:38:17,713 : INFO : EPOCH - 2 : training on 229662 raw words (129851 effective words) took 1.3s, 100517 effective words/s\n"
     ]
    },
    {
     "name": "stderr",
     "output_type": "stream",
     "text": [
      "2018-09-04 12:38:18,586 : INFO : worker thread finished; awaiting finish of 11 more threads\n",
      "2018-09-04 12:38:18,914 : INFO : EPOCH 3 - PROGRESS: at 38.60% examples, 61654 words/s, in_qsize 10, out_qsize 1\n",
      "2018-09-04 12:38:18,918 : INFO : worker thread finished; awaiting finish of 10 more threads\n",
      "2018-09-04 12:38:18,957 : INFO : worker thread finished; awaiting finish of 9 more threads\n",
      "2018-09-04 12:38:18,957 : INFO : worker thread finished; awaiting finish of 8 more threads\n",
      "2018-09-04 12:38:18,958 : INFO : worker thread finished; awaiting finish of 7 more threads\n",
      "2018-09-04 12:38:18,962 : INFO : worker thread finished; awaiting finish of 6 more threads\n",
      "2018-09-04 12:38:18,963 : INFO : worker thread finished; awaiting finish of 5 more threads\n",
      "2018-09-04 12:38:18,965 : INFO : worker thread finished; awaiting finish of 4 more threads\n",
      "2018-09-04 12:38:18,967 : INFO : worker thread finished; awaiting finish of 3 more threads\n",
      "2018-09-04 12:38:18,980 : INFO : worker thread finished; awaiting finish of 2 more threads\n",
      "2018-09-04 12:38:18,988 : INFO : worker thread finished; awaiting finish of 1 more threads\n",
      "2018-09-04 12:38:19,001 : INFO : worker thread finished; awaiting finish of 0 more threads\n",
      "2018-09-04 12:38:19,001 : INFO : EPOCH - 3 : training on 229662 raw words (129704 effective words) took 1.3s, 101306 effective words/s\n",
      "2018-09-04 12:38:19,871 : INFO : worker thread finished; awaiting finish of 11 more threads\n",
      "2018-09-04 12:38:20,214 : INFO : EPOCH 4 - PROGRESS: at 38.60% examples, 61213 words/s, in_qsize 10, out_qsize 1\n",
      "2018-09-04 12:38:20,220 : INFO : worker thread finished; awaiting finish of 10 more threads\n",
      "2018-09-04 12:38:20,223 : INFO : worker thread finished; awaiting finish of 9 more threads\n",
      "2018-09-04 12:38:20,237 : INFO : worker thread finished; awaiting finish of 8 more threads\n",
      "2018-09-04 12:38:20,237 : INFO : worker thread finished; awaiting finish of 7 more threads\n",
      "2018-09-04 12:38:20,247 : INFO : worker thread finished; awaiting finish of 6 more threads\n",
      "2018-09-04 12:38:20,271 : INFO : worker thread finished; awaiting finish of 5 more threads\n",
      "2018-09-04 12:38:20,272 : INFO : worker thread finished; awaiting finish of 4 more threads\n",
      "2018-09-04 12:38:20,272 : INFO : worker thread finished; awaiting finish of 3 more threads\n",
      "2018-09-04 12:38:20,272 : INFO : worker thread finished; awaiting finish of 2 more threads\n",
      "2018-09-04 12:38:20,273 : INFO : worker thread finished; awaiting finish of 1 more threads\n",
      "2018-09-04 12:38:20,273 : INFO : worker thread finished; awaiting finish of 0 more threads\n",
      "2018-09-04 12:38:20,274 : INFO : EPOCH - 4 : training on 229662 raw words (129964 effective words) took 1.3s, 102821 effective words/s\n",
      "2018-09-04 12:38:21,177 : INFO : worker thread finished; awaiting finish of 11 more threads\n",
      "2018-09-04 12:38:21,526 : INFO : EPOCH 5 - PROGRESS: at 40.10% examples, 59450 words/s, in_qsize 7, out_qsize 7\n",
      "2018-09-04 12:38:21,526 : INFO : worker thread finished; awaiting finish of 10 more threads\n",
      "2018-09-04 12:38:21,527 : INFO : worker thread finished; awaiting finish of 9 more threads\n",
      "2018-09-04 12:38:21,528 : INFO : worker thread finished; awaiting finish of 8 more threads\n",
      "2018-09-04 12:38:21,529 : INFO : worker thread finished; awaiting finish of 7 more threads\n",
      "2018-09-04 12:38:21,535 : INFO : worker thread finished; awaiting finish of 6 more threads\n",
      "2018-09-04 12:38:21,546 : INFO : worker thread finished; awaiting finish of 5 more threads\n",
      "2018-09-04 12:38:21,546 : INFO : worker thread finished; awaiting finish of 4 more threads\n",
      "2018-09-04 12:38:21,562 : INFO : worker thread finished; awaiting finish of 3 more threads\n",
      "2018-09-04 12:38:21,562 : INFO : worker thread finished; awaiting finish of 2 more threads\n",
      "2018-09-04 12:38:21,563 : INFO : worker thread finished; awaiting finish of 1 more threads\n",
      "2018-09-04 12:38:21,568 : INFO : worker thread finished; awaiting finish of 0 more threads\n",
      "2018-09-04 12:38:21,568 : INFO : EPOCH - 5 : training on 229662 raw words (129520 effective words) took 1.3s, 100568 effective words/s\n",
      "2018-09-04 12:38:21,568 : INFO : training on a 1148310 raw words (648457 effective words) took 6.4s, 100708 effective words/s\n"
     ]
    },
    {
     "name": "stdout",
     "output_type": "stream",
     "text": [
      "During Time: 65.95884346961975\n"
     ]
    }
   ],
   "source": [
    "import time\n",
    "start = time.time()\n",
    "for epoch in range(10):\n",
    "    doc_vectorizer.train(sentences, total_examples=doc_vectorizer.corpus_count, epochs=doc_vectorizer.iter)\n",
    "    doc_vectorizer.alpha -= 0.002 # decrease the learning rate\n",
    "    doc_vectorizer.min_alpha = doc_vectorizer.alpha # fix the learning rate, no decay\n",
    "end = time.time()\n",
    "print(\"During Time: {}\".format(end-start))"
   ]
  },
  {
   "cell_type": "code",
   "execution_count": 30,
   "metadata": {},
   "outputs": [],
   "source": [
    "X_train = [doc_vectorizer.infer_vector(doc.words) for doc in sentences]"
   ]
  },
  {
   "cell_type": "code",
   "execution_count": 31,
   "metadata": {},
   "outputs": [],
   "source": [
    "from sklearn.model_selection import train_test_split\n",
    "x_train, x_test, y_train, y_test = train_test_split(X_train , y , test_size=0.33, random_state=42)"
   ]
  },
  {
   "cell_type": "code",
   "execution_count": 32,
   "metadata": {},
   "outputs": [
    {
     "name": "stdout",
     "output_type": "stream",
     "text": [
      "SVM : 0.7796442687747036\n"
     ]
    }
   ],
   "source": [
    "from sklearn.metrics import accuracy_score\n",
    "from sklearn.svm import LinearSVC\n",
    "\n",
    "result = LinearSVC(random_state=0).fit(x_train, y_train)\n",
    "result.predict(x_test)\n",
    "print(\"SVM :\",accuracy_score(result.predict(x_test),y_test))"
   ]
  },
  {
   "cell_type": "code",
   "execution_count": 33,
   "metadata": {},
   "outputs": [],
   "source": [
    "from sklearn.neural_network import MLPClassifier"
   ]
  },
  {
   "cell_type": "code",
   "execution_count": 34,
   "metadata": {},
   "outputs": [],
   "source": [
    "mlp_clf = MLPClassifier(\n",
    "    hidden_layer_sizes=(50,),\n",
    "    max_iter=10,\n",
    "    alpha=1e-4,\n",
    "    solver='sgd',\n",
    "    verbose=10,\n",
    "    tol=1e-4,\n",
    "    random_state=1,\n",
    "    learning_rate_init=.1\n",
    ")"
   ]
  },
  {
   "cell_type": "code",
   "execution_count": 38,
   "metadata": {},
   "outputs": [
    {
     "name": "stdout",
     "output_type": "stream",
     "text": [
      "Iteration 1, loss = 0.62487071\n",
      "Iteration 2, loss = 0.47994807\n",
      "Iteration 3, loss = 0.36777816\n",
      "Iteration 4, loss = 0.31784093\n",
      "Iteration 5, loss = 0.29063482\n",
      "Iteration 6, loss = 0.26936735\n",
      "Iteration 7, loss = 0.25290561\n",
      "Iteration 8, loss = 0.23733652\n",
      "Iteration 9, loss = 0.22322287\n",
      "Iteration 10, loss = 0.20955831\n",
      "Time: 0.139953s\n"
     ]
    },
    {
     "name": "stderr",
     "output_type": "stream",
     "text": [
      "C:\\Users\\AjouHCI\\Anaconda3\\envs\\py\\lib\\site-packages\\sklearn\\neural_network\\multilayer_perceptron.py:564: ConvergenceWarning: Stochastic Optimizer: Maximum iterations (10) reached and the optimization hasn't converged yet.\n",
      "  % self.max_iter, ConvergenceWarning)\n"
     ]
    }
   ],
   "source": [
    "start = time.time()\n",
    "mlp_clf.fit(x_train, y_train)\n",
    "end = time.time()\n",
    "print('Time: {:f}s'.format(end-start))"
   ]
  },
  {
   "cell_type": "code",
   "execution_count": 39,
   "metadata": {},
   "outputs": [
    {
     "name": "stdout",
     "output_type": "stream",
     "text": [
      "테스트 정확도: 0.826\n"
     ]
    }
   ],
   "source": [
    "y_pred = mlp_clf.predict(x_test)\n",
    "print(\"테스트 정확도: {:.3f}\".format(accuracy_score(y_pred, y_test)))"
   ]
  }
 ],
 "metadata": {
  "kernelspec": {
   "display_name": "Python 3",
   "language": "python",
   "name": "python3"
  },
  "language_info": {
   "codemirror_mode": {
    "name": "ipython",
    "version": 3
   },
   "file_extension": ".py",
   "mimetype": "text/x-python",
   "name": "python",
   "nbconvert_exporter": "python",
   "pygments_lexer": "ipython3",
   "version": "3.6.6"
  }
 },
 "nbformat": 4,
 "nbformat_minor": 2
}
