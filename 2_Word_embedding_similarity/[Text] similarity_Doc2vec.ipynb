{
 "cells": [
  {
   "cell_type": "code",
   "execution_count": 1,
   "metadata": {},
   "outputs": [],
   "source": [
    "import pandas as pd\n",
    "from sklearn.feature_extraction.text import TfidfVectorizer\n",
    "from sklearn.metrics.pairwise import cosine_similarity\n",
    "import numpy as np\n",
    "from tqdm import trange\n",
    "import pickle"
   ]
  },
  {
   "cell_type": "code",
   "execution_count": 2,
   "metadata": {},
   "outputs": [],
   "source": [
    "def CosineSimilarity(Text_list):\n",
    "    array = cosine_similarity(Text_list[0:1], Text_list)\n",
    "    array = array[0]\n",
    "    avg_similarity = np.average(array[array != array[0]])\n",
    "    return avg_similarity"
   ]
  },
  {
   "cell_type": "code",
   "execution_count": 3,
   "metadata": {},
   "outputs": [],
   "source": [
    "Naver_user = pd.read_csv('A_V_Adj_C_df_naver_post_table.csv',encoding='utf-8',sep='\\t')\n",
    "Naver_page = pd.read_csv('A_V_Adj_C_df_naver_page_table.csv',encoding='utf-8',sep='\\t')"
   ]
  },
  {
   "cell_type": "code",
   "execution_count": 4,
   "metadata": {},
   "outputs": [],
   "source": [
    "origin_Naver_user = Naver_user"
   ]
  },
  {
   "cell_type": "code",
   "execution_count": 5,
   "metadata": {},
   "outputs": [],
   "source": [
    "Naver_user = Naver_user.dropna(subset=['Embedding_text'])"
   ]
  },
  {
   "cell_type": "code",
   "execution_count": 6,
   "metadata": {},
   "outputs": [
    {
     "name": "stderr",
     "output_type": "stream",
     "text": [
      "C:\\Users\\AjouHCI\\Anaconda3\\envs\\py\\lib\\site-packages\\ipykernel_launcher.py:2: SettingWithCopyWarning: \n",
      "A value is trying to be set on a copy of a slice from a DataFrame.\n",
      "Try using .loc[row_indexer,col_indexer] = value instead\n",
      "\n",
      "See the caveats in the documentation: http://pandas.pydata.org/pandas-docs/stable/indexing.html#indexing-view-versus-copy\n",
      "  \n"
     ]
    }
   ],
   "source": [
    "# 사진 포함 33\n",
    "Naver_user['Embedding_text'] = Naver_user['Embedding_text'].apply(lambda x : \" \".join(x.split(' ')[:-33]) if len(x.split(' ')) > 33 else x )"
   ]
  },
  {
   "cell_type": "code",
   "execution_count": 7,
   "metadata": {},
   "outputs": [],
   "source": [
    "dbdbdeep_user = pd.read_csv('A_V_Adj_C_df_dbdbdeep_post_table.csv',encoding='utf-8',sep='\\t')\n",
    "dbdbdeep_page = pd.read_csv('A_V_Adj_C_df_dbdbdeep_page_table.csv',encoding='utf-8',sep='\\t')"
   ]
  },
  {
   "cell_type": "code",
   "execution_count": 8,
   "metadata": {},
   "outputs": [],
   "source": [
    "origin_dbdbdeep_user = dbdbdeep_user"
   ]
  },
  {
   "cell_type": "code",
   "execution_count": 9,
   "metadata": {},
   "outputs": [],
   "source": [
    "dbdbdeep_user = dbdbdeep_user.dropna(subset=['Embedding_text'])"
   ]
  },
  {
   "cell_type": "code",
   "execution_count": 10,
   "metadata": {},
   "outputs": [],
   "source": [
    "Naver_page = Naver_page.dropna(subset=['Embedding_text'])\n",
    "dbdbdeep_page = dbdbdeep_page.dropna(subset=['Embedding_text']) "
   ]
  },
  {
   "cell_type": "markdown",
   "metadata": {},
   "source": [
    "# Doc2vec"
   ]
  },
  {
   "cell_type": "markdown",
   "metadata": {},
   "source": [
    "## Model_load"
   ]
  },
  {
   "cell_type": "code",
   "execution_count": 11,
   "metadata": {},
   "outputs": [
    {
     "name": "stderr",
     "output_type": "stream",
     "text": [
      "C:\\Users\\AjouHCI\\Anaconda3\\envs\\py\\lib\\site-packages\\gensim\\utils.py:1197: UserWarning: detected Windows; aliasing chunkize to chunkize_serial\n",
      "  warnings.warn(\"detected Windows; aliasing chunkize to chunkize_serial\")\n"
     ]
    }
   ],
   "source": [
    "from gensim.models.doc2vec import Doc2Vec, TaggedDocument\n",
    "model_name = 'Text_Doc2vec_features_100.model'\n",
    "doc_vectorizer = Doc2Vec.load(model_name)"
   ]
  },
  {
   "cell_type": "code",
   "execution_count": 12,
   "metadata": {},
   "outputs": [],
   "source": [
    "def doc2vec_vectorizer(Text):\n",
    "    try:\n",
    "        return doc_vectorizer.infer_vector(Text)\n",
    "    except:\n",
    "        return ''"
   ]
  },
  {
   "cell_type": "code",
   "execution_count": 13,
   "metadata": {},
   "outputs": [
    {
     "name": "stderr",
     "output_type": "stream",
     "text": [
      "  9%|███████▎                                                                       | 824/8865 [00:10<01:44, 76.66it/s]C:\\Users\\AjouHCI\\Anaconda3\\envs\\py\\lib\\site-packages\\numpy\\lib\\function_base.py:356: RuntimeWarning: Mean of empty slice.\n",
      "  avg = a.mean(axis)\n",
      "C:\\Users\\AjouHCI\\Anaconda3\\envs\\py\\lib\\site-packages\\numpy\\core\\_methods.py:85: RuntimeWarning: invalid value encountered in true_divide\n",
      "  ret = ret.dtype.type(ret / rcount)\n",
      "100%|██████████████████████████████████████████████████████████████████████████████| 8865/8865 [01:40<00:00, 88.63it/s]\n"
     ]
    }
   ],
   "source": [
    "Text_similarity = []\n",
    "for i in trange(len(Naver_user)):\n",
    "    try:\n",
    "        User_id = Naver_user.iloc[i]['User_id']\n",
    "        Text = doc2vec_vectorizer(Naver_user.iloc[i]['Embedding_text'])\n",
    "        Text_list = Naver_page[Naver_page['User_id'] == User_id]['Embedding_text'].tolist()\n",
    "        Text_list = list(map(lambda x : doc2vec_vectorizer(x),Text_list))\n",
    "        if len(Text_list) > 4:\n",
    "            Text_list = Text_list[:-3]\n",
    "        Text_list.insert(0,Text)        \n",
    "        Text_Similarity_result = CosineSimilarity(Text_list)\n",
    "        Text_similarity.append(Text_Similarity_result)\n",
    "    except:\n",
    "        Text_similarity.append('')\n",
    "        print(i)"
   ]
  },
  {
   "cell_type": "code",
   "execution_count": 14,
   "metadata": {},
   "outputs": [
    {
     "name": "stderr",
     "output_type": "stream",
     "text": [
      "C:\\Users\\AjouHCI\\Anaconda3\\envs\\py\\lib\\site-packages\\ipykernel_launcher.py:1: SettingWithCopyWarning: \n",
      "A value is trying to be set on a copy of a slice from a DataFrame.\n",
      "Try using .loc[row_indexer,col_indexer] = value instead\n",
      "\n",
      "See the caveats in the documentation: http://pandas.pydata.org/pandas-docs/stable/indexing.html#indexing-view-versus-copy\n",
      "  \"\"\"Entry point for launching an IPython kernel.\n"
     ]
    }
   ],
   "source": [
    "Naver_user['Text_similarity'] = Text_similarity"
   ]
  },
  {
   "cell_type": "code",
   "execution_count": 15,
   "metadata": {},
   "outputs": [
    {
     "data": {
      "text/plain": [
       "(9942, 19)"
      ]
     },
     "execution_count": 15,
     "metadata": {},
     "output_type": "execute_result"
    }
   ],
   "source": [
    "origin_Naver_user.shape"
   ]
  },
  {
   "cell_type": "code",
   "execution_count": 16,
   "metadata": {},
   "outputs": [],
   "source": [
    "similarity = Naver_user[['Post_id','Text_similarity']]"
   ]
  },
  {
   "cell_type": "code",
   "execution_count": 17,
   "metadata": {},
   "outputs": [],
   "source": [
    "revised_df = pd.merge(origin_Naver_user,similarity,how='outer')"
   ]
  },
  {
   "cell_type": "code",
   "execution_count": 18,
   "metadata": {},
   "outputs": [],
   "source": [
    "naver_similarity = Naver_user['Text_similarity'].dropna()"
   ]
  },
  {
   "cell_type": "code",
   "execution_count": 19,
   "metadata": {},
   "outputs": [
    {
     "data": {
      "text/plain": [
       "0.1997542920731496"
      ]
     },
     "execution_count": 19,
     "metadata": {},
     "output_type": "execute_result"
    }
   ],
   "source": [
    "naver_similarity.sum()/len(naver_similarity)"
   ]
  },
  {
   "cell_type": "code",
   "execution_count": 20,
   "metadata": {},
   "outputs": [
    {
     "data": {
      "text/plain": [
       "8768"
      ]
     },
     "execution_count": 20,
     "metadata": {},
     "output_type": "execute_result"
    }
   ],
   "source": [
    "len(naver_similarity)"
   ]
  },
  {
   "cell_type": "code",
   "execution_count": 21,
   "metadata": {},
   "outputs": [],
   "source": [
    "revised_df.to_csv('[Revised]Doc2vec_Final_Naver_post_table.csv',sep='\\t',encoding='utf-8',index=False)"
   ]
  },
  {
   "cell_type": "markdown",
   "metadata": {},
   "source": [
    "# dbdbdeep"
   ]
  },
  {
   "cell_type": "code",
   "execution_count": 22,
   "metadata": {},
   "outputs": [
    {
     "name": "stderr",
     "output_type": "stream",
     "text": [
      "  2%|█▌                                                                            | 125/6208 [00:01<00:51, 118.52it/s]C:\\Users\\AjouHCI\\Anaconda3\\envs\\py\\lib\\site-packages\\numpy\\lib\\function_base.py:356: RuntimeWarning: Mean of empty slice.\n",
      "  avg = a.mean(axis)\n",
      "C:\\Users\\AjouHCI\\Anaconda3\\envs\\py\\lib\\site-packages\\numpy\\core\\_methods.py:85: RuntimeWarning: invalid value encountered in true_divide\n",
      "  ret = ret.dtype.type(ret / rcount)\n",
      "100%|█████████████████████████████████████████████████████████████████████████████| 6208/6208 [00:55<00:00, 111.33it/s]\n"
     ]
    }
   ],
   "source": [
    "dbdbdeep_Text_similarity = []\n",
    "for i in trange(len(dbdbdeep_user)):\n",
    "    try:\n",
    "        User_id = dbdbdeep_user.iloc[i]['User_id']\n",
    "        Text = doc2vec_vectorizer(dbdbdeep_user.iloc[i]['Embedding_text'])\n",
    "        Text_list = dbdbdeep_page[dbdbdeep_page['User_id'] == User_id]['Embedding_text'].tolist()\n",
    "        Text_list = list(map(lambda x : doc2vec_vectorizer(x),Text_list))\n",
    "        if len(Text_list) > 4:\n",
    "            Text_list = Text_list[:-3]\n",
    "        Text_list.insert(0,Text)        \n",
    "        Text_Similarity_result = CosineSimilarity(Text_list)\n",
    "        dbdbdeep_Text_similarity.append(Text_Similarity_result)\n",
    "    except:\n",
    "        dbdbdeep_Text_similarity.append('')"
   ]
  },
  {
   "cell_type": "code",
   "execution_count": 23,
   "metadata": {},
   "outputs": [
    {
     "name": "stderr",
     "output_type": "stream",
     "text": [
      "C:\\Users\\AjouHCI\\Anaconda3\\envs\\py\\lib\\site-packages\\ipykernel_launcher.py:1: SettingWithCopyWarning: \n",
      "A value is trying to be set on a copy of a slice from a DataFrame.\n",
      "Try using .loc[row_indexer,col_indexer] = value instead\n",
      "\n",
      "See the caveats in the documentation: http://pandas.pydata.org/pandas-docs/stable/indexing.html#indexing-view-versus-copy\n",
      "  \"\"\"Entry point for launching an IPython kernel.\n"
     ]
    }
   ],
   "source": [
    "dbdbdeep_user['Text_similarity'] = dbdbdeep_Text_similarity"
   ]
  },
  {
   "cell_type": "code",
   "execution_count": 24,
   "metadata": {},
   "outputs": [
    {
     "data": {
      "text/plain": [
       "(6364, 19)"
      ]
     },
     "execution_count": 24,
     "metadata": {},
     "output_type": "execute_result"
    }
   ],
   "source": [
    "origin_dbdbdeep_user.shape"
   ]
  },
  {
   "cell_type": "code",
   "execution_count": 25,
   "metadata": {},
   "outputs": [],
   "source": [
    "dbdbdeep_similarity = dbdbdeep_user[['Post_id','Text_similarity']]"
   ]
  },
  {
   "cell_type": "code",
   "execution_count": 26,
   "metadata": {},
   "outputs": [],
   "source": [
    "revised_dbdbdeep_df = pd.merge(origin_dbdbdeep_user,dbdbdeep_similarity,how='outer')"
   ]
  },
  {
   "cell_type": "code",
   "execution_count": 27,
   "metadata": {},
   "outputs": [],
   "source": [
    "dbdbdeep_similarity = dbdbdeep_user['Text_similarity'].dropna()"
   ]
  },
  {
   "cell_type": "code",
   "execution_count": 28,
   "metadata": {},
   "outputs": [
    {
     "data": {
      "text/plain": [
       "0.16586432611708082"
      ]
     },
     "execution_count": 28,
     "metadata": {},
     "output_type": "execute_result"
    }
   ],
   "source": [
    "dbdbdeep_similarity.sum()/len(dbdbdeep_similarity)"
   ]
  },
  {
   "cell_type": "code",
   "execution_count": 29,
   "metadata": {},
   "outputs": [
    {
     "data": {
      "text/plain": [
       "6105"
      ]
     },
     "execution_count": 29,
     "metadata": {},
     "output_type": "execute_result"
    }
   ],
   "source": [
    "len(dbdbdeep_similarity)"
   ]
  },
  {
   "cell_type": "code",
   "execution_count": 30,
   "metadata": {},
   "outputs": [],
   "source": [
    "revised_dbdbdeep_df.to_csv('[Revised]Doc2vec_Final_dbdbdeep_post_table.csv',sep='\\t',encoding='utf-8',index=False)"
   ]
  },
  {
   "cell_type": "markdown",
   "metadata": {},
   "source": [
    "# T-test (Similarity)"
   ]
  },
  {
   "cell_type": "code",
   "execution_count": 31,
   "metadata": {},
   "outputs": [],
   "source": [
    "from scipy import stats\n",
    "# If you have two independent samples but you do not know that they have equal variance, you can use Welch's t-test\n",
    "# equal_var=False\n",
    "similarity = stats.ttest_ind(naver_similarity,dbdbdeep_similarity, equal_var=False)"
   ]
  },
  {
   "cell_type": "code",
   "execution_count": 32,
   "metadata": {},
   "outputs": [
    {
     "data": {
      "text/plain": [
       "Ttest_indResult(statistic=17.170447210598613, pvalue=2.707726181127528e-65)"
      ]
     },
     "execution_count": 32,
     "metadata": {},
     "output_type": "execute_result"
    }
   ],
   "source": [
    "similarity"
   ]
  },
  {
   "cell_type": "markdown",
   "metadata": {},
   "source": [
    "# Naver"
   ]
  },
  {
   "cell_type": "markdown",
   "metadata": {},
   "source": [
    "## Date"
   ]
  },
  {
   "cell_type": "code",
   "execution_count": null,
   "metadata": {},
   "outputs": [],
   "source": [
    "user_id = pd.read_csv('[Final]Naver_user_table.csv',sep='\\t',encoding='utf-8')"
   ]
  },
  {
   "cell_type": "code",
   "execution_count": null,
   "metadata": {},
   "outputs": [],
   "source": [
    "User_list = user_id['User_id'].tolist()"
   ]
  },
  {
   "cell_type": "markdown",
   "metadata": {},
   "source": [
    "### Year,month,date"
   ]
  },
  {
   "cell_type": "code",
   "execution_count": null,
   "metadata": {},
   "outputs": [],
   "source": [
    "Naver_page = Naver_page[~Naver_page['Date'].str.contains('전')]"
   ]
  },
  {
   "cell_type": "code",
   "execution_count": null,
   "metadata": {},
   "outputs": [],
   "source": [
    "Naver_page = Naver_page[Naver_page['Date'] != ' ']"
   ]
  },
  {
   "cell_type": "code",
   "execution_count": null,
   "metadata": {},
   "outputs": [],
   "source": [
    "from datetime import date\n",
    "Time_interval_average = []\n",
    "Time_interval_std = []\n",
    "post_average_time = []\n",
    "post_std = []\n",
    "error_list = []\n",
    "for i in trange(len(User_list)):\n",
    "    Date_list = Naver_page[Naver_page['User_id'] == User_list[i]]['Date'].tolist()\n",
    "    Year = []\n",
    "    Month = []\n",
    "    Date = []\n",
    "    Hour = []\n",
    "    if len(Date_list) == 1:\n",
    "        Time_interval_average.append('')\n",
    "        Time_interval_std.append('')\n",
    "        post_average_time.append('')\n",
    "        post_std.append('')\n",
    "        error_list.append(User_list[i])\n",
    "    else:\n",
    "        if len(Date_list) > 4:\n",
    "            Date_list = Date_list[:-3]\n",
    "        for date in Date_list:\n",
    "            raw_date = date.split('.')\n",
    "            Year.append(int(raw_date[0]))\n",
    "            Month.append(int(raw_date[1]))\n",
    "            Date.append(int(raw_date[2]))\n",
    "            Hour.append(int(raw_date[3].split(':')[0]))\n",
    "\n",
    "            difference = []\n",
    "            for j in range(0,len(Year)):\n",
    "                if j != len(Year)-1:\n",
    "                    from datetime import date\n",
    "                    l_date = date(Year[j],Month[j],Date[j])\n",
    "                    f_date = date(Year[j+1],Month[j+1],Date[j+1])\n",
    "                    delta = l_date - f_date\n",
    "                    difference.append(delta.days)\n",
    "       \n",
    "        Time_interval_average.append(np.average(np.array(difference)))\n",
    "        Time_interval_std.append((np.std(np.array(difference))))\n",
    "        post_average_time.append(np.average(np.array(Hour)))\n",
    "        post_std.append(np.std(np.array(Hour)))"
   ]
  },
  {
   "cell_type": "code",
   "execution_count": null,
   "metadata": {},
   "outputs": [],
   "source": [
    "user_id['Post_interval_average'] = Time_interval_average\n",
    "user_id['Post_interval_std'] = Time_interval_std\n",
    "user_id['Post_average_time'] = post_average_time\n",
    "user_id['Post_std'] = post_std"
   ]
  },
  {
   "cell_type": "code",
   "execution_count": null,
   "metadata": {},
   "outputs": [],
   "source": [
    "user_id.to_csv('[Revised]Final_Naver_user_table.csv',sep='\\t',encoding='utf-8',index=False)"
   ]
  },
  {
   "cell_type": "code",
   "execution_count": null,
   "metadata": {},
   "outputs": [],
   "source": [
    "test = user_id[user_id['Post_interval_average'] != '']['Post_interval_average']"
   ]
  },
  {
   "cell_type": "code",
   "execution_count": null,
   "metadata": {},
   "outputs": [],
   "source": [
    "test.sum()/len(test)"
   ]
  },
  {
   "cell_type": "code",
   "execution_count": null,
   "metadata": {},
   "outputs": [],
   "source": [
    "test = user_id[user_id['Post_interval_std'] != '']['Post_interval_std']"
   ]
  },
  {
   "cell_type": "code",
   "execution_count": null,
   "metadata": {},
   "outputs": [],
   "source": [
    "test.sum()/len(test)"
   ]
  },
  {
   "cell_type": "code",
   "execution_count": null,
   "metadata": {},
   "outputs": [],
   "source": [
    "test = user_id[user_id['Post_average_time'] != '']['Post_average_time']"
   ]
  },
  {
   "cell_type": "code",
   "execution_count": null,
   "metadata": {},
   "outputs": [],
   "source": [
    "test.sum()/len(test)"
   ]
  },
  {
   "cell_type": "code",
   "execution_count": null,
   "metadata": {},
   "outputs": [],
   "source": [
    "test = user_id[user_id['Post_std'] != '']['Post_std']"
   ]
  },
  {
   "cell_type": "code",
   "execution_count": null,
   "metadata": {},
   "outputs": [],
   "source": [
    "test.sum()/len(test)"
   ]
  },
  {
   "cell_type": "markdown",
   "metadata": {},
   "source": [
    "# DBDBDEEP"
   ]
  },
  {
   "cell_type": "markdown",
   "metadata": {},
   "source": [
    "## Date"
   ]
  },
  {
   "cell_type": "code",
   "execution_count": null,
   "metadata": {},
   "outputs": [],
   "source": [
    "user_id = pd.read_csv('[Final]dbdbdeep_user_table.csv',sep='\\t',encoding='utf-8')"
   ]
  },
  {
   "cell_type": "code",
   "execution_count": null,
   "metadata": {},
   "outputs": [],
   "source": [
    "User_list = user_id['User_id'].tolist()"
   ]
  },
  {
   "cell_type": "markdown",
   "metadata": {},
   "source": [
    "### Year,month,date"
   ]
  },
  {
   "cell_type": "code",
   "execution_count": null,
   "metadata": {},
   "outputs": [],
   "source": [
    "dbdbdeep_page = dbdbdeep_page[~dbdbdeep_page['Date'].str.contains('전')]"
   ]
  },
  {
   "cell_type": "code",
   "execution_count": null,
   "metadata": {},
   "outputs": [],
   "source": [
    "dbdbdeep_page = dbdbdeep_page[dbdbdeep_page['Date'] != ' ']"
   ]
  },
  {
   "cell_type": "code",
   "execution_count": null,
   "metadata": {},
   "outputs": [],
   "source": [
    "from datetime import date\n",
    "Time_interval_average = []\n",
    "Time_interval_std = []\n",
    "post_average_time = []\n",
    "post_std = []\n",
    "error_list = []\n",
    "for i in trange(len(User_list)):\n",
    "    Date_list = dbdbdeep_page[dbdbdeep_page['User_id'] == User_list[i]]['Date'].tolist()\n",
    "    Year = []\n",
    "    Month = []\n",
    "    Date = []\n",
    "    Hour = []\n",
    "    if len(Date_list) == 1:\n",
    "        Time_interval_average.append('')\n",
    "        Time_interval_std.append('')\n",
    "        post_average_time.append('')\n",
    "        post_std.append('')\n",
    "        error_list.append(User_list[i])\n",
    "    else:\n",
    "        if len(Date_list) > 4:\n",
    "            Date_list = Date_list[:-3]\n",
    "        for date in Date_list:\n",
    "            raw_date = date.split('.')\n",
    "            Year.append(int(raw_date[0]))\n",
    "            Month.append(int(raw_date[1]))\n",
    "            Date.append(int(raw_date[2]))\n",
    "            Hour.append(int(raw_date[3].split(':')[0]))\n",
    "\n",
    "            difference = []\n",
    "            for j in range(0,len(Year)):\n",
    "                if j != len(Year)-1:\n",
    "                    from datetime import date\n",
    "                    l_date = date(Year[j],Month[j],Date[j])\n",
    "                    f_date = date(Year[j+1],Month[j+1],Date[j+1])\n",
    "                    delta = l_date - f_date\n",
    "                    difference.append(delta.days)\n",
    "       \n",
    "        Time_interval_average.append(np.average(np.array(difference)))\n",
    "        Time_interval_std.append((np.std(np.array(difference))))\n",
    "        post_average_time.append(np.average(np.array(Hour)))\n",
    "        post_std.append(np.std(np.array(Hour)))"
   ]
  },
  {
   "cell_type": "code",
   "execution_count": null,
   "metadata": {},
   "outputs": [],
   "source": [
    "user_id['Post_interval_average'] = Time_interval_average\n",
    "user_id['Post_interval_std'] = Time_interval_std\n",
    "user_id['Post_average_time'] = post_average_time\n",
    "user_id['Post_std'] = post_std"
   ]
  },
  {
   "cell_type": "code",
   "execution_count": null,
   "metadata": {},
   "outputs": [],
   "source": [
    "user_id.to_csv('[Revised]Final_dbdbdeep_user_table.csv',sep='\\t',encoding='utf-8',index=False)"
   ]
  },
  {
   "cell_type": "code",
   "execution_count": null,
   "metadata": {},
   "outputs": [],
   "source": [
    "test = user_id[user_id['Post_interval_average'] != '']['Post_interval_average']"
   ]
  },
  {
   "cell_type": "code",
   "execution_count": null,
   "metadata": {},
   "outputs": [],
   "source": [
    "test.sum()/len(test)"
   ]
  },
  {
   "cell_type": "code",
   "execution_count": null,
   "metadata": {},
   "outputs": [],
   "source": [
    "test = user_id[user_id['Post_interval_std'] != '']['Post_interval_std']"
   ]
  },
  {
   "cell_type": "code",
   "execution_count": null,
   "metadata": {},
   "outputs": [],
   "source": [
    "test.sum()/len(test)"
   ]
  },
  {
   "cell_type": "code",
   "execution_count": null,
   "metadata": {},
   "outputs": [],
   "source": [
    "test = user_id[user_id['Post_average_time'] != '']['Post_average_time']"
   ]
  },
  {
   "cell_type": "code",
   "execution_count": null,
   "metadata": {},
   "outputs": [],
   "source": [
    "test.sum()/len(test)"
   ]
  },
  {
   "cell_type": "code",
   "execution_count": null,
   "metadata": {},
   "outputs": [],
   "source": [
    "test = user_id[user_id['Post_std'] != '']['Post_std']"
   ]
  },
  {
   "cell_type": "code",
   "execution_count": null,
   "metadata": {},
   "outputs": [],
   "source": [
    "test.sum()/len(test)"
   ]
  }
 ],
 "metadata": {
  "kernelspec": {
   "display_name": "Python 3",
   "language": "python",
   "name": "python3"
  },
  "language_info": {
   "codemirror_mode": {
    "name": "ipython",
    "version": 3
   },
   "file_extension": ".py",
   "mimetype": "text/x-python",
   "name": "python",
   "nbconvert_exporter": "python",
   "pygments_lexer": "ipython3",
   "version": "3.5.5"
  }
 },
 "nbformat": 4,
 "nbformat_minor": 2
}
