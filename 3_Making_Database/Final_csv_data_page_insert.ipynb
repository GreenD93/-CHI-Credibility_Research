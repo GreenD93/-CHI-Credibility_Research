{
 "cells": [
  {
   "cell_type": "code",
   "execution_count": 73,
   "metadata": {},
   "outputs": [],
   "source": [
    "import pandas as pd\n",
    "import os\n",
    "import sqlite3"
   ]
  },
  {
   "cell_type": "code",
   "execution_count": 74,
   "metadata": {},
   "outputs": [],
   "source": [
    "db_FILE = 'Credibility_research.db'\n",
    "con = sqlite3.connect( db_FILE )\n",
    "cur = con.cursor()"
   ]
  },
  {
   "cell_type": "markdown",
   "metadata": {},
   "source": [
    "# POST"
   ]
  },
  {
   "cell_type": "code",
   "execution_count": 75,
   "metadata": {},
   "outputs": [],
   "source": [
    "Naver_post = pd.read_csv('Final_Naver_post_page_table.csv',encoding='utf-8',sep='\\t')\n",
    "Naver_post.to_sql('Post', con, if_exists='append', index=False)"
   ]
  },
  {
   "cell_type": "code",
   "execution_count": 76,
   "metadata": {},
   "outputs": [],
   "source": [
    "dbdbdeep_post = pd.read_csv('Final_dbdbdeep_Post_page_table.csv',encoding='utf-8',sep='\\t')\n",
    "dbdbdeep_post.to_sql('Post', con, if_exists='append', index=False)"
   ]
  },
  {
   "cell_type": "markdown",
   "metadata": {},
   "source": [
    "# POST_Style"
   ]
  },
  {
   "cell_type": "code",
   "execution_count": 77,
   "metadata": {},
   "outputs": [],
   "source": [
    "Naver_post_style = pd.read_csv('Final_Naver_post_style_page_table.csv',encoding='utf-8',sep='\\t')\n",
    "Naver_post_style.to_sql('Post_style', con, if_exists='append', index=False)"
   ]
  },
  {
   "cell_type": "code",
   "execution_count": 78,
   "metadata": {},
   "outputs": [],
   "source": [
    "dbdbdeep_post_style = pd.read_csv('Final_dbdbdeep_Post_style_page_table.csv',encoding='utf-8',sep='\\t')\n",
    "dbdbdeep_post_style.to_sql('Post_style', con, if_exists='append', index=False)"
   ]
  },
  {
   "cell_type": "markdown",
   "metadata": {},
   "source": [
    "# Tag"
   ]
  },
  {
   "cell_type": "code",
   "execution_count": 79,
   "metadata": {},
   "outputs": [],
   "source": [
    "Naver_tag = pd.read_csv('Final_Naver_tag_page_table.csv',encoding='utf-8',sep='\\t')\n",
    "Naver_tag.to_sql('Tag', con, if_exists='append', index=False)"
   ]
  },
  {
   "cell_type": "code",
   "execution_count": 80,
   "metadata": {},
   "outputs": [],
   "source": [
    "dbdbdeep_tag = pd.read_csv('Final_dbdbdeep_tag_page_table.csv',encoding='utf-8',sep='\\t')\n",
    "dbdbdeep_tag.to_sql('Tag', con, if_exists='append', index=False)"
   ]
  },
  {
   "cell_type": "markdown",
   "metadata": {},
   "source": [
    "# Comment_interaction"
   ]
  },
  {
   "cell_type": "code",
   "execution_count": 81,
   "metadata": {},
   "outputs": [],
   "source": [
    "Naver_comment_interaction = pd.read_csv('Final_Naver_Comment_page_table.csv',encoding='utf-8',sep='\\t')\n",
    "Naver_comment_interaction.to_sql('Comment_Interaction', con, if_exists='append', index=False)"
   ]
  },
  {
   "cell_type": "code",
   "execution_count": 82,
   "metadata": {},
   "outputs": [],
   "source": [
    "dbdbdeep_comment_interaction = pd.read_csv('Final_dbdbdeep_comment_interaction_page_table.csv',encoding='utf-8',sep='\\t')\n",
    "dbdbdeep_comment_interaction.to_sql('Comment_Interaction', con, if_exists='append', index=False)"
   ]
  },
  {
   "cell_type": "markdown",
   "metadata": {},
   "source": [
    "# Sympathy_interaction"
   ]
  },
  {
   "cell_type": "code",
   "execution_count": 83,
   "metadata": {},
   "outputs": [],
   "source": [
    "Naver_sympathy_interaction = pd.read_csv('Final_Naver_sympathy_page_table.csv',encoding='utf-8',sep='\\t')\n",
    "Naver_sympathy_interaction.to_sql('Sympathy_Interaction', con, if_exists='append', index=False)"
   ]
  },
  {
   "cell_type": "code",
   "execution_count": 84,
   "metadata": {},
   "outputs": [],
   "source": [
    "dbdbdeep_sympathy_interaction = pd.read_csv('Final_dbdbdeep_Sympathy_interaction_page_table.csv',encoding='utf-8',sep='\\t')\n",
    "dbdbdeep_sympathy_interaction.to_sql('Sympathy_Interaction', con, if_exists='append', index=False)"
   ]
  },
  {
   "cell_type": "markdown",
   "metadata": {},
   "source": [
    "# Img"
   ]
  },
  {
   "cell_type": "code",
   "execution_count": 85,
   "metadata": {},
   "outputs": [],
   "source": [
    "Naver_img = pd.read_csv('Final_Naver_Img_page_table.csv',encoding='utf-8',sep='\\t')\n",
    "Naver_img.to_sql('Img', con, if_exists='append', index=False)"
   ]
  },
  {
   "cell_type": "code",
   "execution_count": 86,
   "metadata": {},
   "outputs": [],
   "source": [
    "dbdbdeep_img = pd.read_csv('Final_dbdbdeep_img_page_table.csv',encoding='utf-8',sep='\\t')\n",
    "dbdbdeep_img.to_sql('Img', con, if_exists='append', index=False)"
   ]
  }
 ],
 "metadata": {
  "kernelspec": {
   "display_name": "Python 3",
   "language": "python",
   "name": "python3"
  },
  "language_info": {
   "codemirror_mode": {
    "name": "ipython",
    "version": 3
   },
   "file_extension": ".py",
   "mimetype": "text/x-python",
   "name": "python",
   "nbconvert_exporter": "python",
   "pygments_lexer": "ipython3",
   "version": "3.5.5"
  }
 },
 "nbformat": 4,
 "nbformat_minor": 2
}
