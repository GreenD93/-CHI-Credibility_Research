{
 "cells": [
  {
   "cell_type": "code",
   "execution_count": 82,
   "metadata": {},
   "outputs": [],
   "source": [
    "import pandas as pd\n",
    "import os\n",
    "import sqlite3"
   ]
  },
  {
   "cell_type": "code",
   "execution_count": 83,
   "metadata": {},
   "outputs": [],
   "source": [
    "db_name = 'Credibility_research_20180826.db' #DB 파일명\n",
    "# db 생성\n",
    "con = sqlite3.connect( db_name )\n",
    "cur = con.cursor()"
   ]
  },
  {
   "cell_type": "code",
   "execution_count": 4,
   "metadata": {},
   "outputs": [],
   "source": [
    "removed_list= ['choiys1989', 'dlfdhtk00', 'bhjang3', 'livwilly', 'hi_angie', 'blueleehosun']"
   ]
  },
  {
   "cell_type": "markdown",
   "metadata": {},
   "source": [
    "# POST"
   ]
  },
  {
   "cell_type": "code",
   "execution_count": 25,
   "metadata": {},
   "outputs": [],
   "source": [
    "df_1 = pd.read_csv('dbdbdeep_page_post_table.csv', encoding='utf-8', sep='\\t')"
   ]
  },
  {
   "cell_type": "code",
   "execution_count": 26,
   "metadata": {},
   "outputs": [
    {
     "name": "stderr",
     "output_type": "stream",
     "text": [
      "b'Skipping line 3357: expected 15 fields, saw 16\\nSkipping line 6425: expected 15 fields, saw 16\\n'\n"
     ]
    }
   ],
   "source": [
    "df_2 = pd.read_csv('wo_dbdbdeep_page_post_table.csv', encoding='utf-8', sep='\\t', error_bad_lines=False)"
   ]
  },
  {
   "cell_type": "code",
   "execution_count": 27,
   "metadata": {},
   "outputs": [],
   "source": [
    "df_post = pd.concat([df_1,df_2])"
   ]
  },
  {
   "cell_type": "code",
   "execution_count": 28,
   "metadata": {},
   "outputs": [
    {
     "data": {
      "text/plain": [
       "(16752, 15)"
      ]
     },
     "execution_count": 28,
     "metadata": {},
     "output_type": "execute_result"
    }
   ],
   "source": [
    "df_post.shape"
   ]
  },
  {
   "cell_type": "code",
   "execution_count": 29,
   "metadata": {},
   "outputs": [],
   "source": [
    "df_total_post = df_post.drop_duplicates(subset=['Post_id'])"
   ]
  },
  {
   "cell_type": "code",
   "execution_count": 30,
   "metadata": {},
   "outputs": [
    {
     "data": {
      "text/plain": [
       "(16693, 15)"
      ]
     },
     "execution_count": 30,
     "metadata": {},
     "output_type": "execute_result"
    }
   ],
   "source": [
    "df_total_post.shape"
   ]
  },
  {
   "cell_type": "code",
   "execution_count": 33,
   "metadata": {},
   "outputs": [],
   "source": [
    "df_total_post = df_total_post[df_total_post['Category']=='무작위']"
   ]
  },
  {
   "cell_type": "code",
   "execution_count": 34,
   "metadata": {},
   "outputs": [],
   "source": [
    "df_total_post = df_total_post[df_total_post[\"User_id\"].isin(removed_list) == False]"
   ]
  },
  {
   "cell_type": "code",
   "execution_count": 35,
   "metadata": {},
   "outputs": [
    {
     "data": {
      "text/plain": [
       "(16631, 15)"
      ]
     },
     "execution_count": 35,
     "metadata": {},
     "output_type": "execute_result"
    }
   ],
   "source": [
    "df_total_post.shape"
   ]
  },
  {
   "cell_type": "code",
   "execution_count": 130,
   "metadata": {},
   "outputs": [],
   "source": [
    "df_total_post.to_csv('Total_random_dbdbdeep_post.csv',encoding='utf-8',sep='\\t',index=False)"
   ]
  },
  {
   "cell_type": "code",
   "execution_count": null,
   "metadata": {},
   "outputs": [],
   "source": [
    "Final_Naver_Comment_page_table.csv"
   ]
  },
  {
   "cell_type": "code",
   "execution_count": 36,
   "metadata": {},
   "outputs": [],
   "source": [
    "df_total_post.to_csv('Final_dbdbdeep_Post_page_table.csv',encoding='utf-8',sep='\\t',index=False)"
   ]
  },
  {
   "cell_type": "code",
   "execution_count": 37,
   "metadata": {},
   "outputs": [],
   "source": [
    "df_total_post.to_sql('Post', con, if_exists='append', index=False,)"
   ]
  },
  {
   "cell_type": "markdown",
   "metadata": {},
   "source": [
    "# Post_style"
   ]
  },
  {
   "cell_type": "code",
   "execution_count": 38,
   "metadata": {},
   "outputs": [],
   "source": [
    "style_df_1 = pd.read_csv('dbdbdeep_page_Post_style_table.csv', encoding='utf-8', sep='\\t')"
   ]
  },
  {
   "cell_type": "code",
   "execution_count": 39,
   "metadata": {},
   "outputs": [],
   "source": [
    "style_df_2 = pd.read_csv('wo_dbdbdeep_page_Post_style_table.csv', encoding='utf-8', sep='\\t', error_bad_lines=False)"
   ]
  },
  {
   "cell_type": "code",
   "execution_count": 40,
   "metadata": {},
   "outputs": [],
   "source": [
    "total_style = pd.concat([style_df_1,style_df_2])"
   ]
  },
  {
   "cell_type": "code",
   "execution_count": 41,
   "metadata": {},
   "outputs": [],
   "source": [
    "total_style = total_style.drop_duplicates() "
   ]
  },
  {
   "cell_type": "code",
   "execution_count": 44,
   "metadata": {},
   "outputs": [
    {
     "data": {
      "text/plain": [
       "(16697, 11)"
      ]
     },
     "execution_count": 44,
     "metadata": {},
     "output_type": "execute_result"
    }
   ],
   "source": [
    "total_style.shape"
   ]
  },
  {
   "cell_type": "code",
   "execution_count": 45,
   "metadata": {},
   "outputs": [],
   "source": [
    "total_style.to_csv('Final_dbdbdeep_Post_style_page_table.csv',encoding='utf-8',sep='\\t',index=False)"
   ]
  },
  {
   "cell_type": "code",
   "execution_count": 46,
   "metadata": {},
   "outputs": [],
   "source": [
    "total_style.to_sql('Post_style', con, if_exists='append', index=False)"
   ]
  },
  {
   "cell_type": "markdown",
   "metadata": {},
   "source": [
    "# Sympathy_interaction"
   ]
  },
  {
   "cell_type": "code",
   "execution_count": 47,
   "metadata": {},
   "outputs": [],
   "source": [
    "sympathy_df_1 = pd.read_csv('dbdbdeep_page_Sympathy_table.csv', encoding='utf-8', sep='\\t')\n",
    "sympathy_df_2 = pd.read_csv('wo_dbdbdeep_page_Sympathy_table.csv', encoding='utf-8', sep='\\t', error_bad_lines=False)\n",
    "total_sympathy = pd.concat([sympathy_df_1,sympathy_df_2])\n",
    "total_sympathy = total_sympathy.drop_duplicates()"
   ]
  },
  {
   "cell_type": "code",
   "execution_count": 48,
   "metadata": {},
   "outputs": [],
   "source": [
    "total_sympathy.columns = ['Post_id','Sympathy_id']"
   ]
  },
  {
   "cell_type": "code",
   "execution_count": 49,
   "metadata": {},
   "outputs": [],
   "source": [
    "total_sympathy.to_sql('Sympathy_Interaction', con, if_exists='append', index=False)"
   ]
  },
  {
   "cell_type": "code",
   "execution_count": 50,
   "metadata": {},
   "outputs": [],
   "source": [
    "total_sympathy.to_csv('Final_dbdbdeep_Sympathy_interaction_table.csv',encoding='utf-8',sep='\\t',index=False)"
   ]
  },
  {
   "cell_type": "markdown",
   "metadata": {},
   "source": [
    "# Comment_interaction"
   ]
  },
  {
   "cell_type": "code",
   "execution_count": 51,
   "metadata": {},
   "outputs": [],
   "source": [
    "comment_df_1 = pd.read_csv('dbdbdeep_page_Comment_table.csv', encoding='utf-8', sep='\\t')\n",
    "comment_df_2 = pd.read_csv('wo_dbdbdeep_page_Comment_table.csv', encoding='utf-8', sep='\\t', error_bad_lines=False)\n",
    "total_comment = pd.concat([comment_df_1,comment_df_2])\n",
    "total_comment = total_comment.drop_duplicates()"
   ]
  },
  {
   "cell_type": "code",
   "execution_count": 52,
   "metadata": {},
   "outputs": [],
   "source": [
    "remove_tag = ['h','i','d','e']\n",
    "total_comment = total_comment[total_comment[\"Comment_Text\"].isin(remove_tag) == False]"
   ]
  },
  {
   "cell_type": "code",
   "execution_count": 53,
   "metadata": {},
   "outputs": [],
   "source": [
    "total_comment = total_comment[total_comment['Comment_id'] != 'about:blank']"
   ]
  },
  {
   "cell_type": "code",
   "execution_count": 56,
   "metadata": {},
   "outputs": [
    {
     "name": "stdout",
     "output_type": "stream",
     "text": [
      "6909\n",
      "Post_id                                              seulki0803_9\n",
      "Comment_id                                                    NaN\n",
      "Comment_Text    포스팅 잘봤습니다^^다이어트에 관심 있으세요?정말 좋은 곳이 있어서 추천해 드리려구...\n",
      "Comment_Time                                      2012.9.8. 08:42\n",
      "Name: 9334, dtype: object\n",
      "14442\n",
      "Post_id                                              eunice_lee_3\n",
      "Comment_id                                                    NaN\n",
      "Comment_Text    @Eunice방가요 유니스님. 저는 원래 교육기관에 관심이 없어서 런던스쿨이 이렇게...\n",
      "Comment_Time                                     2011.3.23. 10:06\n",
      "Name: 8128, dtype: object\n"
     ]
    }
   ],
   "source": [
    "for i in range(len(total_comment)):\n",
    "    try:\n",
    "        total_comment.iloc[i:i+1].to_sql(\"Comment_Interaction\",con,if_exists='append',index=False)\n",
    "    except:\n",
    "        print(i)\n",
    "        print(total_comment.iloc[i])"
   ]
  },
  {
   "cell_type": "code",
   "execution_count": 60,
   "metadata": {},
   "outputs": [],
   "source": [
    "total_comment = total_comment.reset_index(drop=True)"
   ]
  },
  {
   "cell_type": "code",
   "execution_count": 62,
   "metadata": {},
   "outputs": [],
   "source": [
    "total_comment = total_comment.drop([6909,14442])"
   ]
  },
  {
   "cell_type": "code",
   "execution_count": 63,
   "metadata": {},
   "outputs": [],
   "source": [
    "total_comment.to_csv('Final_dbdbdeep_comment_interaction_table.csv',encoding='utf-8',sep='\\t',index=False)"
   ]
  },
  {
   "cell_type": "markdown",
   "metadata": {},
   "source": [
    "# Img_table"
   ]
  },
  {
   "cell_type": "code",
   "execution_count": 64,
   "metadata": {},
   "outputs": [],
   "source": [
    "img_df_1 = pd.read_csv('dbdbdeep_page_img_table.csv', encoding='utf-8', sep='\\t')\n",
    "img_df_2 = pd.read_csv('wo_dbdbdeep_page_img_table.csv', encoding='utf-8', sep='\\t', error_bad_lines=False)\n",
    "total_img = pd.concat([img_df_1,img_df_2])\n",
    "total_img = total_img.drop_duplicates()"
   ]
  },
  {
   "cell_type": "code",
   "execution_count": 65,
   "metadata": {},
   "outputs": [],
   "source": [
    "total_img.to_sql('Img', con, if_exists='append', index=False)"
   ]
  },
  {
   "cell_type": "code",
   "execution_count": 66,
   "metadata": {},
   "outputs": [],
   "source": [
    "total_img.to_csv('Final_dbdbdeep_img_table.csv',encoding='utf-8',sep='\\t',index=False)"
   ]
  },
  {
   "cell_type": "code",
   "execution_count": 79,
   "metadata": {},
   "outputs": [
    {
     "data": {
      "text/html": [
       "<div>\n",
       "<style scoped>\n",
       "    .dataframe tbody tr th:only-of-type {\n",
       "        vertical-align: middle;\n",
       "    }\n",
       "\n",
       "    .dataframe tbody tr th {\n",
       "        vertical-align: top;\n",
       "    }\n",
       "\n",
       "    .dataframe thead th {\n",
       "        text-align: right;\n",
       "    }\n",
       "</style>\n",
       "<table border=\"1\" class=\"dataframe\">\n",
       "  <thead>\n",
       "    <tr style=\"text-align: right;\">\n",
       "      <th></th>\n",
       "      <th>Img_id</th>\n",
       "      <th>Post_id</th>\n",
       "    </tr>\n",
       "  </thead>\n",
       "  <tbody>\n",
       "    <tr>\n",
       "      <th>0</th>\n",
       "      <td>dbdbdeep\\soye0705\\soye0705_2\\soye0705_45052598...</td>\n",
       "      <td>soye0705_2</td>\n",
       "    </tr>\n",
       "    <tr>\n",
       "      <th>1</th>\n",
       "      <td>dbdbdeep\\soye0705\\soye0705_2\\soye0705_434265fc...</td>\n",
       "      <td>soye0705_2</td>\n",
       "    </tr>\n",
       "    <tr>\n",
       "      <th>2</th>\n",
       "      <td>dbdbdeep\\soye0705\\soye0705_2\\soye0705_582217c0...</td>\n",
       "      <td>soye0705_2</td>\n",
       "    </tr>\n",
       "    <tr>\n",
       "      <th>3</th>\n",
       "      <td>dbdbdeep\\soye0705\\soye0705_2\\soye0705_912669c2...</td>\n",
       "      <td>soye0705_2</td>\n",
       "    </tr>\n",
       "    <tr>\n",
       "      <th>4</th>\n",
       "      <td>dbdbdeep\\soye0705\\soye0705_2\\soye0705_4563fd69...</td>\n",
       "      <td>soye0705_2</td>\n",
       "    </tr>\n",
       "  </tbody>\n",
       "</table>\n",
       "</div>"
      ],
      "text/plain": [
       "                                              Img_id     Post_id\n",
       "0  dbdbdeep\\soye0705\\soye0705_2\\soye0705_45052598...  soye0705_2\n",
       "1  dbdbdeep\\soye0705\\soye0705_2\\soye0705_434265fc...  soye0705_2\n",
       "2  dbdbdeep\\soye0705\\soye0705_2\\soye0705_582217c0...  soye0705_2\n",
       "3  dbdbdeep\\soye0705\\soye0705_2\\soye0705_912669c2...  soye0705_2\n",
       "4  dbdbdeep\\soye0705\\soye0705_2\\soye0705_4563fd69...  soye0705_2"
      ]
     },
     "execution_count": 79,
     "metadata": {},
     "output_type": "execute_result"
    }
   ],
   "source": [
    "total_img.head()"
   ]
  },
  {
   "cell_type": "markdown",
   "metadata": {},
   "source": [
    "# Tag_table"
   ]
  },
  {
   "cell_type": "code",
   "execution_count": 73,
   "metadata": {},
   "outputs": [],
   "source": [
    "tag_df_1 = pd.read_csv('dbdbdeep_page_tag_table.csv', encoding='utf-8', sep='\\t')\n",
    "tag_df_2 = pd.read_csv('wo_dbdbdeep_page_tag_table.csv', encoding='utf-8', sep='\\t', error_bad_lines=False)\n",
    "total_tag = pd.concat([tag_df_1,tag_df_2])\n",
    "total_tag = total_tag.drop_duplicates()"
   ]
  },
  {
   "cell_type": "code",
   "execution_count": 74,
   "metadata": {},
   "outputs": [
    {
     "data": {
      "text/html": [
       "<div>\n",
       "<style scoped>\n",
       "    .dataframe tbody tr th:only-of-type {\n",
       "        vertical-align: middle;\n",
       "    }\n",
       "\n",
       "    .dataframe tbody tr th {\n",
       "        vertical-align: top;\n",
       "    }\n",
       "\n",
       "    .dataframe thead th {\n",
       "        text-align: right;\n",
       "    }\n",
       "</style>\n",
       "<table border=\"1\" class=\"dataframe\">\n",
       "  <thead>\n",
       "    <tr style=\"text-align: right;\">\n",
       "      <th></th>\n",
       "      <th>Post_id</th>\n",
       "      <th>Post_tag</th>\n",
       "    </tr>\n",
       "  </thead>\n",
       "  <tbody>\n",
       "    <tr>\n",
       "      <th>35904</th>\n",
       "      <td>eun3707_10</td>\n",
       "      <td>참치김치찌개황금레시피</td>\n",
       "    </tr>\n",
       "    <tr>\n",
       "      <th>35905</th>\n",
       "      <td>eun3707_11</td>\n",
       "      <td>포항문덕맛집</td>\n",
       "    </tr>\n",
       "    <tr>\n",
       "      <th>35906</th>\n",
       "      <td>eun3707_11</td>\n",
       "      <td>문덕꼬꼬싸롱</td>\n",
       "    </tr>\n",
       "    <tr>\n",
       "      <th>35907</th>\n",
       "      <td>eun3707_11</td>\n",
       "      <td>꼬꼬싸롱</td>\n",
       "    </tr>\n",
       "    <tr>\n",
       "      <th>35908</th>\n",
       "      <td>eun3707_11</td>\n",
       "      <td>가마솥옛날통닭</td>\n",
       "    </tr>\n",
       "  </tbody>\n",
       "</table>\n",
       "</div>"
      ],
      "text/plain": [
       "          Post_id     Post_tag\n",
       "35904  eun3707_10  참치김치찌개황금레시피\n",
       "35905  eun3707_11       포항문덕맛집\n",
       "35906  eun3707_11       문덕꼬꼬싸롱\n",
       "35907  eun3707_11         꼬꼬싸롱\n",
       "35908  eun3707_11      가마솥옛날통닭"
      ]
     },
     "execution_count": 74,
     "metadata": {},
     "output_type": "execute_result"
    }
   ],
   "source": [
    "total_tag.tail()"
   ]
  },
  {
   "cell_type": "code",
   "execution_count": 80,
   "metadata": {},
   "outputs": [],
   "source": [
    "total_tag.to_csv('Final_dbdbdeep_tag_table.csv',encoding='utf-8',sep='\\t',index=False)"
   ]
  },
  {
   "cell_type": "code",
   "execution_count": 81,
   "metadata": {},
   "outputs": [],
   "source": [
    "total_tag.to_sql('Tag', con, if_exists='append', index=False)"
   ]
  }
 ],
 "metadata": {
  "kernelspec": {
   "display_name": "Python 3",
   "language": "python",
   "name": "python3"
  },
  "language_info": {
   "codemirror_mode": {
    "name": "ipython",
    "version": 3
   },
   "file_extension": ".py",
   "mimetype": "text/x-python",
   "name": "python",
   "nbconvert_exporter": "python",
   "pygments_lexer": "ipython3",
   "version": "3.5.5"
  }
 },
 "nbformat": 4,
 "nbformat_minor": 2
}
