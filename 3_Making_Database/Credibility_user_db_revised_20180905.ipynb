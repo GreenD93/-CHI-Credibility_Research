{
 "cells": [
  {
   "cell_type": "code",
   "execution_count": 1,
   "metadata": {},
   "outputs": [],
   "source": [
    "# Column_name\n",
    "# names = [name[0] for name in cur.description]"
   ]
  },
  {
   "cell_type": "code",
   "execution_count": 2,
   "metadata": {},
   "outputs": [],
   "source": [
    "# SQLITE Process"
   ]
  },
  {
   "cell_type": "markdown",
   "metadata": {},
   "source": [
    "### 1. 환경설정"
   ]
  },
  {
   "cell_type": "code",
   "execution_count": 3,
   "metadata": {},
   "outputs": [],
   "source": [
    "import os\n",
    "import sqlite3\n",
    "import pandas as pd\n",
    "import tqdm"
   ]
  },
  {
   "cell_type": "code",
   "execution_count": 4,
   "metadata": {},
   "outputs": [],
   "source": [
    "db_name = '[TFIDF]Credibility_research_20180906.db' #DB 파일명\n",
    "# db 생성\n",
    "con = sqlite3.connect( db_name )\n",
    "cur = con.cursor()"
   ]
  },
  {
   "cell_type": "markdown",
   "metadata": {},
   "source": [
    "### 2. Table 생성\n",
    "- 2.1 User\n",
    "- 2.2 Post\n",
    "- 2.3 Post_style\n",
    "- 2.4 Sympathy_interaction\n",
    "- 2.5 Tag\n",
    "- 2.6 Coment_interaction\n",
    "- 2.7 Img_table"
   ]
  },
  {
   "cell_type": "markdown",
   "metadata": {},
   "source": [
    "### 2.1 User"
   ]
  },
  {
   "cell_type": "code",
   "execution_count": 5,
   "metadata": {},
   "outputs": [
    {
     "data": {
      "text/plain": [
       "<sqlite3.Cursor at 0x10a3233b0>"
      ]
     },
     "execution_count": 5,
     "metadata": {},
     "output_type": "execute_result"
    }
   ],
   "source": [
    "sql =  ''' Create Table if not exists User(\n",
    "  User_Id  varchar(20)  NOT NULL,\n",
    "  Blog_name varchar(100)  NULL,\n",
    "  Blog_nickname varchar(50)  NULL,\n",
    "  Blog_info_text TEXT  NULL,\n",
    "  Count_neighbors INT(10)  NULL,\n",
    "  Count_visitors INT(10)  NULL,\n",
    "  Categories varchar(255)  NULL,\n",
    "  Count_categories INT(10)  NULL,\n",
    "  Total_post INT(10)  NULL,\n",
    "  Credibility INT(1)  NOT NULL,\n",
    "  Source varchar(10)  NOT NULL, \n",
    "  Blog_mobile_profile_img varchar(100)  NULL,\n",
    "  Blog_mobile_cover_img varchar(50)  NULL,\n",
    "  Opening_date varchar(20)  NULL,\n",
    "  Post_interval_average INT(20)  NULL,\n",
    "  Post_interval_std INT(20)  NULL,\n",
    "  Post_average_time INT(20)  NULL,\n",
    "  Post_std INT(20)  NULL,\n",
    "  PRIMARY KEY (User_ID)\n",
    "        ) '''\n",
    "cur.execute(sql)"
   ]
  },
  {
   "cell_type": "markdown",
   "metadata": {},
   "source": [
    "##### NAVER "
   ]
  },
  {
   "cell_type": "code",
   "execution_count": 6,
   "metadata": {},
   "outputs": [],
   "source": [
    "import pandas as pd\n",
    "df = pd.read_csv('[Revised]Final_Naver_user_table.csv',sep='\\t',encoding='utf-8')"
   ]
  },
  {
   "cell_type": "code",
   "execution_count": 7,
   "metadata": {},
   "outputs": [],
   "source": [
    "df.to_sql('User', con, if_exists='append', index = False)"
   ]
  },
  {
   "cell_type": "markdown",
   "metadata": {},
   "source": [
    "##### DBDBDEEP"
   ]
  },
  {
   "cell_type": "code",
   "execution_count": 8,
   "metadata": {},
   "outputs": [],
   "source": [
    "import pandas as pd\n",
    "df_dbdbdeep = pd.read_csv('[Revised]Final_dbdbdeep_user_table.csv',sep='\\t',encoding='utf-8')"
   ]
  },
  {
   "cell_type": "code",
   "execution_count": 9,
   "metadata": {},
   "outputs": [],
   "source": [
    "df_dbdbdeep.to_sql('User', con, if_exists='append', index = False)"
   ]
  },
  {
   "cell_type": "markdown",
   "metadata": {},
   "source": [
    "### 2.2 Post"
   ]
  },
  {
   "cell_type": "code",
   "execution_count": 10,
   "metadata": {},
   "outputs": [
    {
     "data": {
      "text/plain": [
       "<sqlite3.Cursor at 0x10a3233b0>"
      ]
     },
     "execution_count": 10,
     "metadata": {},
     "output_type": "execute_result"
    }
   ],
   "source": [
    "sql =  '''CREATE TABLE if not exists Post(\n",
    "  Post_id varchar(20)  NOT NULL,\n",
    "  User_id  varchar(20)  NOT NULL,\n",
    "  Category varchar(10) NOT NULL,\n",
    "  Title varchar(30) NULL,\n",
    "  Date varchar(20) NULL,\n",
    "  Structure Text NULL,\n",
    "  Structure_tag Text NULL,\n",
    "  Text Text NULL,\n",
    "  Embedding_text Text NULL,\n",
    "  Space_text Text NULL,\n",
    "  Count_space_mistake INT(3) NULL,\n",
    "  Map_exist INT(3) NULL,\n",
    "  Media_count INT(3) NULL,\n",
    "  Heart_count varchar(5) NULL,\n",
    "  Sticker_count INT(3) NULL,\n",
    "  Comment_count varchar(5) NULL,\n",
    "  Text_similarity INT(20) NULL,\n",
    "  PRIMARY KEY (Post_id),\n",
    "  FOREIGN KEY (User_id)\n",
    "      REFERENCES User (User_id) ON DELETE CASCADE  ON UPDATE CASCADE\n",
    "        ) ''' \n",
    "cur.execute(sql)"
   ]
  },
  {
   "cell_type": "markdown",
   "metadata": {},
   "source": [
    "##### NAVER"
   ]
  },
  {
   "cell_type": "code",
   "execution_count": 11,
   "metadata": {},
   "outputs": [],
   "source": [
    "post_naver = pd.read_csv('[Revised]TFIDF_Final_Naver_post_table.csv',sep='\\t',encoding='utf-8')\n",
    "Column_name = post_naver.columns.tolist()\n",
    "Column_name.remove('label')\n",
    "Column_name.remove('check')\n",
    "Column_name.remove('Structure_text')\n",
    "post_naver = post_naver[Column_name]\n",
    "post_naver.to_sql('Post', con, if_exists='append', index=False,)"
   ]
  },
  {
   "cell_type": "code",
   "execution_count": 12,
   "metadata": {},
   "outputs": [
    {
     "data": {
      "text/plain": [
       "(1587, 17)"
      ]
     },
     "execution_count": 12,
     "metadata": {},
     "output_type": "execute_result"
    }
   ],
   "source": [
    "post_naver[(post_naver['Comment_count'] == 'hide') | (post_naver['Heart_count'] == 'hide')].shape"
   ]
  },
  {
   "cell_type": "markdown",
   "metadata": {},
   "source": [
    "##### DBDBDEEP"
   ]
  },
  {
   "cell_type": "code",
   "execution_count": 13,
   "metadata": {},
   "outputs": [],
   "source": [
    "post_dbdbdeep = pd.read_csv('[Revised]TFIDF_Final_dbdbdeep_post_table.csv',sep='\\t',encoding='utf-8')\n",
    "Column_name = post_dbdbdeep.columns.tolist()\n",
    "Column_name.remove('label')\n",
    "Column_name.remove('check')\n",
    "Column_name.remove('Structure_text')\n",
    "post_dbdbdeep = post_dbdbdeep[Column_name]\n",
    "post_dbdbdeep.to_sql('Post', con, if_exists='append', index=False)"
   ]
  },
  {
   "cell_type": "code",
   "execution_count": 14,
   "metadata": {},
   "outputs": [
    {
     "data": {
      "text/plain": [
       "(6362, 17)"
      ]
     },
     "execution_count": 14,
     "metadata": {},
     "output_type": "execute_result"
    }
   ],
   "source": [
    "post_dbdbdeep.shape"
   ]
  },
  {
   "cell_type": "code",
   "execution_count": 15,
   "metadata": {},
   "outputs": [
    {
     "data": {
      "text/plain": [
       "(2591, 17)"
      ]
     },
     "execution_count": 15,
     "metadata": {},
     "output_type": "execute_result"
    }
   ],
   "source": [
    "post_dbdbdeep[(post_dbdbdeep['Comment_count'] == 'hide') | (post_dbdbdeep['Heart_count'] == 'hide')].shape"
   ]
  },
  {
   "cell_type": "markdown",
   "metadata": {},
   "source": [
    "### 2.3 Post_style"
   ]
  },
  {
   "cell_type": "code",
   "execution_count": 16,
   "metadata": {},
   "outputs": [
    {
     "data": {
      "text/plain": [
       "<sqlite3.Cursor at 0x10a3233b0>"
      ]
     },
     "execution_count": 16,
     "metadata": {},
     "output_type": "execute_result"
    }
   ],
   "source": [
    "sql =  '''CREATE TABLE if not exists Post_style(\n",
    "  Post_id varchar(20)  NOT NULL,\n",
    "  Align varchar(20)  NOT NULL,\n",
    "  basic_font varchar(10) NULL,\n",
    "  basic_font_size varchar(30) NULL,\n",
    "  b_strong_word_list varchar(20) NULL,\n",
    "  b_strong_word_len Text NULL,\n",
    "  b_tag_len Text NULL,\n",
    "  color_rgb_list Text NULL,\n",
    "  color_rgb_word_list Text NULL,\n",
    "  color_rgb_word_len INT(3) NULL,\n",
    "  color_tag_len INT(3) NULL,  \n",
    "  FOREIGN KEY (Post_id)\n",
    "      REFERENCES Post (Post_id) ON DELETE CASCADE  ON UPDATE CASCADE\n",
    "        ) ''' \n",
    "cur.execute(sql)"
   ]
  },
  {
   "cell_type": "markdown",
   "metadata": {},
   "source": [
    "##### NAVER"
   ]
  },
  {
   "cell_type": "code",
   "execution_count": 17,
   "metadata": {},
   "outputs": [],
   "source": [
    "post_style_naver = pd.read_csv('[Final]Naver_post_style_table.csv',sep='\\t',encoding='utf-8')"
   ]
  },
  {
   "cell_type": "code",
   "execution_count": 18,
   "metadata": {},
   "outputs": [],
   "source": [
    "post_style_naver.to_sql('Post_style', con, if_exists='append', index=False)"
   ]
  },
  {
   "cell_type": "markdown",
   "metadata": {},
   "source": [
    "##### DBDBDEEP"
   ]
  },
  {
   "cell_type": "code",
   "execution_count": 19,
   "metadata": {},
   "outputs": [],
   "source": [
    "post_style_dbdbdeep = pd.read_csv('[Final]dbdbdeep_post_style_table.csv',sep='\\t',encoding='utf-8')\n",
    "post_style_dbdbdeep.to_sql('Post_style', con, if_exists='append', index=False)"
   ]
  },
  {
   "cell_type": "code",
   "execution_count": 20,
   "metadata": {},
   "outputs": [
    {
     "data": {
      "text/plain": [
       "(6291, 11)"
      ]
     },
     "execution_count": 20,
     "metadata": {},
     "output_type": "execute_result"
    }
   ],
   "source": [
    "post_style_dbdbdeep.shape"
   ]
  },
  {
   "cell_type": "code",
   "execution_count": 21,
   "metadata": {},
   "outputs": [
    {
     "data": {
      "text/plain": [
       "(6291, 11)"
      ]
     },
     "execution_count": 21,
     "metadata": {},
     "output_type": "execute_result"
    }
   ],
   "source": [
    "post_style_dbdbdeep.drop_duplicates().shape"
   ]
  },
  {
   "cell_type": "markdown",
   "metadata": {},
   "source": [
    "### 2.4 Sympathy_interaction"
   ]
  },
  {
   "cell_type": "code",
   "execution_count": 22,
   "metadata": {},
   "outputs": [
    {
     "data": {
      "text/plain": [
       "<sqlite3.Cursor at 0x10a3233b0>"
      ]
     },
     "execution_count": 22,
     "metadata": {},
     "output_type": "execute_result"
    }
   ],
   "source": [
    "sql =  '''CREATE TABLE if not exists Sympathy_Interaction(\n",
    "  Post_id varchar(20)  NOT NULL,\n",
    "  Sympathy_id varchar(20)NOT NULL,\n",
    "  FOREIGN KEY (Post_id) \n",
    "    REFERENCES Post_id (Post_id) ON DELETE CASCADE  ON UPDATE CASCADE\n",
    "    ) ''' \n",
    "cur.execute(sql)"
   ]
  },
  {
   "cell_type": "markdown",
   "metadata": {},
   "source": [
    "##### NAVER"
   ]
  },
  {
   "cell_type": "code",
   "execution_count": 23,
   "metadata": {},
   "outputs": [],
   "source": [
    "Sympathy_interaction_naver = pd.read_csv('[Final]Naver_Sympathy_interaction_table.csv',sep='\\t',encoding='utf-8')\n",
    "Sympathy_interaction_naver.to_sql('Sympathy_Interaction', con, if_exists='append', index=False)"
   ]
  },
  {
   "cell_type": "markdown",
   "metadata": {},
   "source": [
    "##### DBDBDEEP"
   ]
  },
  {
   "cell_type": "code",
   "execution_count": 24,
   "metadata": {},
   "outputs": [],
   "source": [
    "Sympathy_interaction_dbdbdeep = pd.read_csv('[Final]dbdbdeep_Sympathy_interaction_table.csv',sep='\\t',encoding='utf-8')"
   ]
  },
  {
   "cell_type": "code",
   "execution_count": 25,
   "metadata": {},
   "outputs": [],
   "source": [
    "Sympathy_interaction_dbdbdeep.to_sql('Sympathy_Interaction', con, if_exists='append', index=False)"
   ]
  },
  {
   "cell_type": "markdown",
   "metadata": {},
   "source": [
    "### 2.5 Tags "
   ]
  },
  {
   "cell_type": "code",
   "execution_count": 26,
   "metadata": {},
   "outputs": [
    {
     "data": {
      "text/plain": [
       "<sqlite3.Cursor at 0x10a3233b0>"
      ]
     },
     "execution_count": 26,
     "metadata": {},
     "output_type": "execute_result"
    }
   ],
   "source": [
    "sql =  '''CREATE TABLE if not exists Tag(\n",
    "  Post_id varchar(20)  NOT NULL,\n",
    "  Post_tag VARCHAR(50) NOT NULL,\n",
    "  FOREIGN KEY (Post_id) \n",
    "    REFERENCES Post (Post_id) ON DELETE CASCADE  ON UPDATE CASCADE\n",
    "        ) ''' \n",
    "cur.execute(sql)"
   ]
  },
  {
   "cell_type": "code",
   "execution_count": 27,
   "metadata": {},
   "outputs": [],
   "source": [
    "Tag_naver = pd.read_csv('[Final]naver_tag_table.csv',sep='\\t',encoding='utf-8')"
   ]
  },
  {
   "cell_type": "code",
   "execution_count": 28,
   "metadata": {},
   "outputs": [],
   "source": [
    "Tag_naver.to_sql('Tag', con, if_exists='append', index=False)"
   ]
  },
  {
   "cell_type": "markdown",
   "metadata": {},
   "source": [
    "##### DBDBDEEP"
   ]
  },
  {
   "cell_type": "code",
   "execution_count": 29,
   "metadata": {},
   "outputs": [],
   "source": [
    "Tag_dbdbdeep = pd.read_csv('[Final]dbdbdeep_tag_table.csv',sep='\\t',encoding='utf-8')"
   ]
  },
  {
   "cell_type": "code",
   "execution_count": 30,
   "metadata": {},
   "outputs": [],
   "source": [
    "Tag_dbdbdeep.to_sql('Tag', con, if_exists='append', index=False)"
   ]
  },
  {
   "cell_type": "markdown",
   "metadata": {},
   "source": [
    "### 2.6 Comment_Interaction"
   ]
  },
  {
   "cell_type": "code",
   "execution_count": 31,
   "metadata": {},
   "outputs": [
    {
     "data": {
      "text/plain": [
       "<sqlite3.Cursor at 0x10a3233b0>"
      ]
     },
     "execution_count": 31,
     "metadata": {},
     "output_type": "execute_result"
    }
   ],
   "source": [
    "sql =  '''CREATE TABLE if not exists Comment_Interaction (\n",
    "  Post_id varchar(20) NOT NULL,\n",
    "  Comment_Id varchar(20) NOT NULL,\n",
    "  Comment_Text Text NULL,\n",
    "  Comment_Time varchar(20) NOT NULL,\n",
    "  FOREIGN KEY (Post_id) \n",
    "    REFERENCES Post (Post_id) ON DELETE CASCADE  ON UPDATE CASCADE\n",
    ") '''\n",
    "cur.execute(sql)"
   ]
  },
  {
   "cell_type": "markdown",
   "metadata": {},
   "source": [
    "##### Naver"
   ]
  },
  {
   "cell_type": "code",
   "execution_count": 32,
   "metadata": {},
   "outputs": [],
   "source": [
    "Comment_naver = pd.read_csv('[Final]naver_comment_interaction_table.csv',sep='\\t',encoding='utf-8')"
   ]
  },
  {
   "cell_type": "code",
   "execution_count": 33,
   "metadata": {},
   "outputs": [
    {
     "data": {
      "text/plain": [
       "(69070, 4)"
      ]
     },
     "execution_count": 33,
     "metadata": {},
     "output_type": "execute_result"
    }
   ],
   "source": [
    "Comment_naver.shape"
   ]
  },
  {
   "cell_type": "code",
   "execution_count": 34,
   "metadata": {},
   "outputs": [],
   "source": [
    "Comment_naver.to_sql('Comment_Interaction', con, if_exists='append', index=False)"
   ]
  },
  {
   "cell_type": "markdown",
   "metadata": {},
   "source": [
    "##### DBDBDEEP"
   ]
  },
  {
   "cell_type": "code",
   "execution_count": 35,
   "metadata": {},
   "outputs": [],
   "source": [
    "Comment_dbdbdeep = pd.read_csv('[Final]dbdbdeep_Comment_interaction_table.csv',sep='\\t',encoding='utf-8')\n",
    "Comment_dbdbdeep.to_sql('Comment_Interaction', con, if_exists='append', index=False)"
   ]
  },
  {
   "cell_type": "markdown",
   "metadata": {},
   "source": [
    "### 2.7 Img_table"
   ]
  },
  {
   "cell_type": "code",
   "execution_count": 36,
   "metadata": {},
   "outputs": [
    {
     "data": {
      "text/plain": [
       "<sqlite3.Cursor at 0x10a3233b0>"
      ]
     },
     "execution_count": 36,
     "metadata": {},
     "output_type": "execute_result"
    }
   ],
   "source": [
    "sql =  '''CREATE TABLE if not exists Img(\n",
    "  Img_Id varchar(40) NOT NULL,\n",
    "  Post_Id varchar(20) NOT NULL,\n",
    "  PRIMARY KEY (Img_ID),\n",
    "  FOREIGN KEY (Post_Id) \n",
    "    REFERENCES Post (Post_Id) ON DELETE CASCADE  ON UPDATE CASCADE  \n",
    ") ''' \n",
    "cur.execute(sql)"
   ]
  },
  {
   "cell_type": "markdown",
   "metadata": {},
   "source": [
    "##### Naver"
   ]
  },
  {
   "cell_type": "code",
   "execution_count": 37,
   "metadata": {},
   "outputs": [],
   "source": [
    "Img_table_naver = pd.read_csv('[Final]Naver_img_table.csv',sep='\\t',encoding='utf-8')\n",
    "Img_table_naver.to_sql('Img', con, if_exists='append', index=False)"
   ]
  },
  {
   "cell_type": "markdown",
   "metadata": {},
   "source": [
    "#### DBDBDEEP"
   ]
  },
  {
   "cell_type": "code",
   "execution_count": 38,
   "metadata": {},
   "outputs": [],
   "source": [
    "Img_table_dbdbdeep = pd.read_csv('[Final]dbdbdeep_img_table.csv',sep='\\t',encoding='utf-8')\n",
    "Img_table_dbdbdeep.to_sql('Img', con, if_exists='append', index=False)"
   ]
  }
 ],
 "metadata": {
  "kernelspec": {
   "display_name": "Python 3",
   "language": "python",
   "name": "python3"
  },
  "language_info": {
   "codemirror_mode": {
    "name": "ipython",
    "version": 3
   },
   "file_extension": ".py",
   "mimetype": "text/x-python",
   "name": "python",
   "nbconvert_exporter": "python",
   "pygments_lexer": "ipython3",
   "version": "3.6.6"
  }
 },
 "nbformat": 4,
 "nbformat_minor": 2
}
