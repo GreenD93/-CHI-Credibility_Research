{
 "cells": [
  {
   "cell_type": "code",
   "execution_count": 116,
   "metadata": {},
   "outputs": [],
   "source": [
    "import pandas as pd"
   ]
  },
  {
   "cell_type": "code",
   "execution_count": 117,
   "metadata": {},
   "outputs": [],
   "source": [
    "df = pd.read_csv('[Final]Total_csv.csv',sep='\\t')"
   ]
  },
  {
   "cell_type": "code",
   "execution_count": 118,
   "metadata": {},
   "outputs": [],
   "source": [
    "category = pd.read_csv('Category.csv')"
   ]
  },
  {
   "cell_type": "code",
   "execution_count": 119,
   "metadata": {},
   "outputs": [],
   "source": [
    "category_df = category.drop(columns=['Unnamed: 0'])"
   ]
  },
  {
   "cell_type": "code",
   "execution_count": 120,
   "metadata": {},
   "outputs": [
    {
     "data": {
      "text/plain": [
       "['Post_id',\n",
       " 'Title_len',\n",
       " 'Count_space_mistake',\n",
       " 'Map_exist',\n",
       " 'Media_count',\n",
       " 'Heart_count',\n",
       " 'Sticker_count',\n",
       " 'Comment_count',\n",
       " 'Left',\n",
       " 'Center',\n",
       " 'Right',\n",
       " 'Justify',\n",
       " 'basic_font_check',\n",
       " 'basic_font_size_check',\n",
       " 'b_strong_word_len_ratio',\n",
       " 'color_rgb_word_len_ratio',\n",
       " 'First_ratio',\n",
       " 'Second_ratio',\n",
       " 'Text_len',\n",
       " 'Img_count',\n",
       " 'FR_url',\n",
       " 'pos_ratio',\n",
       " 'neg_ratio',\n",
       " 'subjectivity',\n",
       " 'polarity',\n",
       " 'senti_diffs_per_ref',\n",
       " '가능하다',\n",
       " '가다',\n",
       " '간단하다',\n",
       " '갈다',\n",
       " '계시다',\n",
       " '궁금하다',\n",
       " '그렇다',\n",
       " '깔끔하다',\n",
       " '나가다',\n",
       " '나다',\n",
       " '나오다',\n",
       " '남다',\n",
       " '내다',\n",
       " '너무',\n",
       " '넘다',\n",
       " '넣다',\n",
       " '높다',\n",
       " '느끼다',\n",
       " '늘다',\n",
       " '다니다',\n",
       " '다르다',\n",
       " '다양하다',\n",
       " '덥다',\n",
       " '돼다',\n",
       " '되다',\n",
       " '되어다',\n",
       " '두다',\n",
       " '드리다',\n",
       " '들다',\n",
       " '들어가다',\n",
       " '들이다',\n",
       " '따르다',\n",
       " '만나다',\n",
       " '만들다',\n",
       " '많다',\n",
       " '많이',\n",
       " '말다',\n",
       " '맛있다',\n",
       " '맞다',\n",
       " '먹다',\n",
       " '모르다',\n",
       " '믿다',\n",
       " '바라다',\n",
       " '받다',\n",
       " '버리다',\n",
       " '보내다',\n",
       " '보다',\n",
       " '보이다',\n",
       " '빠르다',\n",
       " '빠지다',\n",
       " '새롭다',\n",
       " '생기다',\n",
       " '서다',\n",
       " '쉬다',\n",
       " '시원하다',\n",
       " '싶다',\n",
       " '쓰다',\n",
       " '아니다',\n",
       " '아직',\n",
       " '안녕하다',\n",
       " '안되다',\n",
       " '않다',\n",
       " '알다',\n",
       " '알아보다',\n",
       " '어떻다',\n",
       " '어렵다',\n",
       " '없다',\n",
       " '없이',\n",
       " '예쁘다',\n",
       " '오다',\n",
       " '올리다',\n",
       " '원하다',\n",
       " '유명하다',\n",
       " '이렇게',\n",
       " '이렇다',\n",
       " '이르다',\n",
       " '인하다',\n",
       " '자다',\n",
       " '자세하다',\n",
       " '작다',\n",
       " '잡다',\n",
       " '저렴하다',\n",
       " '적다',\n",
       " '좋다',\n",
       " '좋아하다',\n",
       " '주다',\n",
       " '중요하다',\n",
       " '즐기다',\n",
       " '지다',\n",
       " '찍다',\n",
       " '차다',\n",
       " '찾다',\n",
       " '크다',\n",
       " '특히',\n",
       " '편하다',\n",
       " '필요하다',\n",
       " '해드리다',\n",
       " '해보다',\n",
       " '해주다',\n",
       " '힘들다',\n",
       " 'img img img img img',\n",
       " 'img img img img text',\n",
       " 'img img img text img',\n",
       " 'img img text img img',\n",
       " 'img img text img text',\n",
       " 'img text img img img',\n",
       " 'img text img img text',\n",
       " 'img text img text img',\n",
       " 'text img img img img',\n",
       " 'text img img img text',\n",
       " 'text img img text img',\n",
       " 'text img text img img',\n",
       " 'text img text img text',\n",
       " '24시스터디카페',\n",
       " 'it',\n",
       " 'lg액정수리',\n",
       " '강남서울밝은안과',\n",
       " '결혼',\n",
       " '결혼준비',\n",
       " '골프',\n",
       " '공연',\n",
       " '교육',\n",
       " '국내여행',\n",
       " '귀성형수술',\n",
       " '김앤방여성의원',\n",
       " '누운귀성형',\n",
       " '눈썹문신',\n",
       " '다이어트',\n",
       " '대전맛집',\n",
       " '더새로이',\n",
       " '데일리룩',\n",
       " '돌출귀성형',\n",
       " '드라마',\n",
       " '디자인',\n",
       " '로맨틱그랑서울',\n",
       " '리뷰',\n",
       " '만화',\n",
       " '맛집',\n",
       " '몬스터폰',\n",
       " '미용',\n",
       " '뱃살성형',\n",
       " '뱃살수술',\n",
       " '복부성형',\n",
       " '복부성형가격',\n",
       " '복부성형후기',\n",
       " '복부수술',\n",
       " '본스타트레이닝센터',\n",
       " '부산',\n",
       " '부산치과',\n",
       " '비에이블스터디카페',\n",
       " '사진',\n",
       " '생각',\n",
       " '세계여행',\n",
       " '스터디장소',\n",
       " '스터디카페',\n",
       " '스터디카페추천',\n",
       " '스포츠',\n",
       " '스포츠분석',\n",
       " '스포츠중계',\n",
       " '시험준비',\n",
       " '신차드림',\n",
       " '아나레슨',\n",
       " '아나운서학원',\n",
       " '아이폰배터리할인',\n",
       " '아이폰수리',\n",
       " '아이폰액정수리',\n",
       " '애니',\n",
       " '애니메이션',\n",
       " '어린이영양제',\n",
       " '에이치비성형외과',\n",
       " '여행',\n",
       " '연기학원',\n",
       " '영어공부',\n",
       " '영어회화',\n",
       " '영화',\n",
       " '웨딩박람회',\n",
       " '육아',\n",
       " '이벤트',\n",
       " '일본여행',\n",
       " '일상',\n",
       " '임플란트',\n",
       " '입꼬리성형',\n",
       " '입꼬리성형수술',\n",
       " '입꼬리수술',\n",
       " '입꼬리수술비용',\n",
       " '입꼬리수술잘하는곳',\n",
       " '자격증',\n",
       " '자동차',\n",
       " '자동차리스',\n",
       " '장기렌트',\n",
       " '장기렌트카',\n",
       " '재택알바',\n",
       " '제주도',\n",
       " '제주도여행',\n",
       " '제주여행',\n",
       " '주식',\n",
       " '주식투자',\n",
       " '줄기세포가슴지방이식',\n",
       " '중간고사',\n",
       " '중고폰매입',\n",
       " '직장인미팅',\n",
       " '직장인솔로대첩',\n",
       " '창업',\n",
       " '처진뱃살',\n",
       " '첫글',\n",
       " '청담여신성형외과',\n",
       " '취미',\n",
       " '키성장영양제',\n",
       " '키영양제',\n",
       " '키크는방법',\n",
       " '키크는법',\n",
       " '패션',\n",
       " '학문',\n",
       " 'Question_count',\n",
       " 'Tag_count',\n",
       " 'Blog_info_text_len',\n",
       " 'Count_neighbors',\n",
       " 'Count_visitors',\n",
       " 'Post_interval_average',\n",
       " 'Text_similarity',\n",
       " 'Total_post',\n",
       " 'User_Id_len',\n",
       " 'User_Id_contain_num',\n",
       " 'User_Id_contain_char',\n",
       " 'Comment_interaction',\n",
       " 'Count_categories',\n",
       " 'Average_comment_diff',\n",
       " 'First_comment_diff',\n",
       " 'Opening_date',\n",
       " 'Blog_mobile_profile_img',\n",
       " 'Blog_mobile_cover_img',\n",
       " 'effort_ratio',\n",
       " 'effort_img_ratio',\n",
       " 'experience',\n",
       " 'Credibility']"
      ]
     },
     "execution_count": 120,
     "metadata": {},
     "output_type": "execute_result"
    }
   ],
   "source": [
    "df.columns.tolist()"
   ]
  },
  {
   "cell_type": "code",
   "execution_count": 48,
   "metadata": {},
   "outputs": [],
   "source": [
    "df = df[['Post_id','Question_count','First_ratio','Second_ratio','Tag_count','pos_ratio',\n",
    " 'neg_ratio','subjectivity','polarity','senti_diffs_per_ref','Sticker_count','Text_len','Count_space_mistake',\n",
    "   'effort_ratio','effort_img_ratio','Left','Center','Right','Justify',\n",
    "   'img img img img img','img img img img text','img img img text img','img img text img img','img img text img text',\n",
    " 'img text img img img','img text img img text','img text img text img','text img img img img','text img img img text',\n",
    " 'text img img text img','text img text img img','text img text img text','가능하다',\n",
    " '가다',\n",
    " '간단하다',\n",
    " '갈다',\n",
    " '계시다',\n",
    " '궁금하다',\n",
    " '그렇다',\n",
    " '깔끔하다',\n",
    " '나가다',\n",
    " '나다',\n",
    " '나오다',\n",
    " '남다',\n",
    " '내다',\n",
    " '너무',\n",
    " '넘다',\n",
    " '넣다',\n",
    " '높다',\n",
    " '느끼다',\n",
    " '늘다',\n",
    " '다니다',\n",
    " '다르다',\n",
    " '다양하다',\n",
    " '덥다',\n",
    " '돼다',\n",
    " '되다',\n",
    " '되어다',\n",
    " '두다',\n",
    " '드리다',\n",
    " '들다',\n",
    " '들어가다',\n",
    " '들이다',\n",
    " '따르다',\n",
    " '만나다',\n",
    " '만들다',\n",
    " '많다',\n",
    " '많이',\n",
    " '말다',\n",
    " '맛있다',\n",
    " '맞다',\n",
    " '먹다',\n",
    " '모르다',\n",
    " '믿다',\n",
    " '바라다',\n",
    " '받다',\n",
    " '버리다',\n",
    " '보내다',\n",
    " '보다',\n",
    " '보이다',\n",
    " '빠르다',\n",
    " '빠지다',\n",
    " '새롭다',\n",
    " '생기다',\n",
    " '서다',\n",
    " '쉬다',\n",
    " '시원하다',\n",
    " '싶다',\n",
    " '쓰다',\n",
    " '아니다',\n",
    " '아직',\n",
    " '안녕하다',\n",
    " '안되다',\n",
    " '않다',\n",
    " '알다',\n",
    " '알아보다',\n",
    " '어떻다',\n",
    " '어렵다',\n",
    " '없다',\n",
    " '없이',\n",
    " '예쁘다',\n",
    " '오다',\n",
    " '올리다',\n",
    " '원하다',\n",
    " '유명하다',\n",
    " '이렇게',\n",
    " '이렇다',\n",
    " '이르다',\n",
    " '인하다',\n",
    " '자다',\n",
    " '자세하다',\n",
    " '작다',\n",
    " '잡다',\n",
    " '저렴하다',\n",
    " '적다',\n",
    " '좋다',\n",
    " '좋아하다',\n",
    " '주다',\n",
    " '중요하다',\n",
    " '즐기다',\n",
    " '지다',\n",
    " '찍다',\n",
    " '차다',\n",
    " '찾다',\n",
    " '크다',\n",
    " '특히',\n",
    " '편하다',\n",
    " '필요하다',\n",
    " '해드리다',\n",
    " '해보다',\n",
    " '해주다',\n",
    " '힘들다',]]"
   ]
  },
  {
   "cell_type": "code",
   "execution_count": 69,
   "metadata": {},
   "outputs": [
    {
     "data": {
      "text/plain": [
       "(16304, 132)"
      ]
     },
     "execution_count": 69,
     "metadata": {},
     "output_type": "execute_result"
    }
   ],
   "source": [
    "df.shape"
   ]
  },
  {
   "cell_type": "code",
   "execution_count": 49,
   "metadata": {},
   "outputs": [],
   "source": [
    "test_df = pd.merge(df,category_df)"
   ]
  },
  {
   "cell_type": "code",
   "execution_count": 50,
   "metadata": {},
   "outputs": [],
   "source": [
    "from sklearn import preprocessing\n",
    "le = preprocessing.LabelEncoder()"
   ]
  },
  {
   "cell_type": "code",
   "execution_count": 51,
   "metadata": {},
   "outputs": [
    {
     "data": {
      "text/plain": [
       "LabelEncoder()"
      ]
     },
     "execution_count": 51,
     "metadata": {},
     "output_type": "execute_result"
    }
   ],
   "source": [
    "le.fit(test_df['Category'])"
   ]
  },
  {
   "cell_type": "code",
   "execution_count": 52,
   "metadata": {},
   "outputs": [
    {
     "data": {
      "text/plain": [
       "array(['IT·컴퓨터', '건강·의학', '공연·전시', '교육·학문', '국내여행', '드라마·방송', '등산·낚시·레저',\n",
       "       '만화·애니', '맛집', '사진', '스포츠', '시사·인문·경제', '어학·외국어', '와인·술', '육아·결혼',\n",
       "       '자동차', '차·커피·디저트', '패션·뷰티'], dtype=object)"
      ]
     },
     "execution_count": 52,
     "metadata": {},
     "output_type": "execute_result"
    }
   ],
   "source": [
    "le.classes_"
   ]
  },
  {
   "cell_type": "code",
   "execution_count": 53,
   "metadata": {},
   "outputs": [],
   "source": [
    "test_df['Category'] =le.transform(test_df['Category'])"
   ]
  },
  {
   "cell_type": "code",
   "execution_count": 54,
   "metadata": {},
   "outputs": [],
   "source": [
    "test_df = test_df.drop(columns=['Post_id'])"
   ]
  },
  {
   "cell_type": "code",
   "execution_count": 55,
   "metadata": {},
   "outputs": [],
   "source": [
    "test_df = test_df.dropna()"
   ]
  },
  {
   "cell_type": "code",
   "execution_count": 56,
   "metadata": {},
   "outputs": [],
   "source": [
    "from sklearn.utils import shuffle\n",
    "test_df = shuffle(test_df)"
   ]
  },
  {
   "cell_type": "code",
   "execution_count": 57,
   "metadata": {},
   "outputs": [],
   "source": [
    "x = test_df.drop(columns='Category',axis=1)\n",
    "y = test_df[['Category']]\n",
    "from sklearn.preprocessing import StandardScaler\n",
    "scaler = StandardScaler()\n",
    "scaler.fit(x) \n",
    "X_scaled = pd.DataFrame(scaler.transform(x),columns = x.columns)"
   ]
  },
  {
   "cell_type": "code",
   "execution_count": 58,
   "metadata": {},
   "outputs": [],
   "source": [
    "feature_name = X_scaled.columns.tolist()"
   ]
  },
  {
   "cell_type": "code",
   "execution_count": 59,
   "metadata": {},
   "outputs": [],
   "source": [
    "from sklearn.model_selection import train_test_split\n",
    "x_train, x_test, y_train, y_test = train_test_split(X_scaled , y , test_size=0.33, random_state=42)"
   ]
  },
  {
   "cell_type": "markdown",
   "metadata": {},
   "source": [
    "## Random Forest"
   ]
  },
  {
   "cell_type": "code",
   "execution_count": 60,
   "metadata": {},
   "outputs": [
    {
     "name": "stderr",
     "output_type": "stream",
     "text": [
      "/Users/yonggeol/miniconda3/envs/py/lib/python3.6/site-packages/ipykernel_launcher.py:6: DataConversionWarning: A column-vector y was passed when a 1d array was expected. Please change the shape of y to (n_samples,), for example using ravel().\n",
      "  \n"
     ]
    },
    {
     "data": {
      "text/plain": [
       "RandomForestClassifier(bootstrap=True, class_weight=None, criterion='gini',\n",
       "            max_depth=2, max_features='auto', max_leaf_nodes=None,\n",
       "            min_impurity_decrease=0.0, min_impurity_split=None,\n",
       "            min_samples_leaf=1, min_samples_split=2,\n",
       "            min_weight_fraction_leaf=0.0, n_estimators=10, n_jobs=1,\n",
       "            oob_score=False, random_state=0, verbose=0, warm_start=False)"
      ]
     },
     "execution_count": 60,
     "metadata": {},
     "output_type": "execute_result"
    }
   ],
   "source": [
    "from sklearn.metrics import accuracy_score\n",
    "from sklearn.ensemble import RandomForestClassifier\n",
    "from sklearn.datasets import make_classification\n",
    "\n",
    "clf = RandomForestClassifier(max_depth=2, random_state=0)\n",
    "clf.fit(x_train, y_train)"
   ]
  },
  {
   "cell_type": "code",
   "execution_count": 61,
   "metadata": {},
   "outputs": [
    {
     "name": "stdout",
     "output_type": "stream",
     "text": [
      "RF : 0.26368903008783406\n"
     ]
    }
   ],
   "source": [
    "print(\"RF :\",accuracy_score(clf.predict(x_test),y_test))"
   ]
  },
  {
   "cell_type": "code",
   "execution_count": 62,
   "metadata": {},
   "outputs": [
    {
     "name": "stdout",
     "output_type": "stream",
     "text": [
      "             precision    recall  f1-score   support\n",
      "\n",
      "          0       0.00      0.00      0.00       321\n",
      "          1       0.60      0.02      0.04       478\n",
      "          2       0.00      0.00      0.00       306\n",
      "          3       0.00      0.00      0.00       402\n",
      "          4       0.00      0.00      0.00       190\n",
      "          5       0.00      0.00      0.00       228\n",
      "          6       0.00      0.00      0.00        86\n",
      "          7       0.00      0.00      0.00       213\n",
      "          8       0.41      0.84      0.55       550\n",
      "          9       0.30      0.66      0.42       560\n",
      "         10       0.00      0.00      0.00       285\n",
      "         11       0.00      0.00      0.00       217\n",
      "         12       0.00      0.00      0.00       117\n",
      "         13       0.00      0.00      0.00        46\n",
      "         14       0.00      0.00      0.00       100\n",
      "         15       0.00      0.00      0.00       313\n",
      "         16       0.00      0.00      0.00       269\n",
      "         17       0.19      0.84      0.31       670\n",
      "\n",
      "avg / total       0.15      0.26      0.14      5351\n",
      "\n"
     ]
    },
    {
     "name": "stderr",
     "output_type": "stream",
     "text": [
      "/Users/yonggeol/miniconda3/envs/py/lib/python3.6/site-packages/sklearn/metrics/classification.py:1135: UndefinedMetricWarning: Precision and F-score are ill-defined and being set to 0.0 in labels with no predicted samples.\n",
      "  'precision', 'predicted', average, warn_for)\n"
     ]
    }
   ],
   "source": [
    "from sklearn.metrics import classification_report\n",
    "print(classification_report(y_test, clf.predict(x_test)))"
   ]
  },
  {
   "cell_type": "markdown",
   "metadata": {},
   "source": [
    "## Logistic Regression"
   ]
  },
  {
   "cell_type": "code",
   "execution_count": 63,
   "metadata": {},
   "outputs": [
    {
     "name": "stderr",
     "output_type": "stream",
     "text": [
      "/Users/yonggeol/miniconda3/envs/py/lib/python3.6/site-packages/sklearn/utils/validation.py:578: DataConversionWarning: A column-vector y was passed when a 1d array was expected. Please change the shape of y to (n_samples, ), for example using ravel().\n",
      "  y = column_or_1d(y, warn=True)\n",
      "/Users/yonggeol/miniconda3/envs/py/lib/python3.6/site-packages/sklearn/linear_model/sag.py:326: ConvergenceWarning: The max_iter was reached which means the coef_ did not converge\n",
      "  \"the coef_ did not converge\", ConvergenceWarning)\n"
     ]
    },
    {
     "data": {
      "text/plain": [
       "LogisticRegression(C=2.0, class_weight=None, dual=False, fit_intercept=True,\n",
       "          intercept_scaling=1, max_iter=100, multi_class='multinomial',\n",
       "          n_jobs=1, penalty='l2', random_state=42, solver='sag',\n",
       "          tol=0.0001, verbose=0, warm_start=True)"
      ]
     },
     "execution_count": 63,
     "metadata": {},
     "output_type": "execute_result"
    }
   ],
   "source": [
    "from  sklearn  import  linear_model\n",
    "logreg = linear_model.LogisticRegression(C=2.0,random_state=42,solver='sag',multi_class='multinomial',warm_start=True)\n",
    "logreg.fit(x_train, y_train)"
   ]
  },
  {
   "cell_type": "code",
   "execution_count": 64,
   "metadata": {},
   "outputs": [
    {
     "name": "stdout",
     "output_type": "stream",
     "text": [
      "LR : 0.44477667725658754\n"
     ]
    }
   ],
   "source": [
    "print(\"LR :\",accuracy_score(logreg.predict(x_test),y_test))"
   ]
  },
  {
   "cell_type": "code",
   "execution_count": 65,
   "metadata": {},
   "outputs": [
    {
     "name": "stdout",
     "output_type": "stream",
     "text": [
      "             precision    recall  f1-score   support\n",
      "\n",
      "          0       0.33      0.26      0.29       321\n",
      "          1       0.45      0.50      0.47       478\n",
      "          2       0.38      0.26      0.31       306\n",
      "          3       0.34      0.37      0.35       402\n",
      "          4       0.40      0.25      0.31       190\n",
      "          5       0.50      0.40      0.44       228\n",
      "          6       0.26      0.08      0.12        86\n",
      "          7       0.24      0.21      0.23       213\n",
      "          8       0.68      0.79      0.73       550\n",
      "          9       0.42      0.64      0.51       560\n",
      "         10       0.34      0.35      0.34       285\n",
      "         11       0.31      0.25      0.28       217\n",
      "         12       0.48      0.14      0.21       117\n",
      "         13       0.28      0.11      0.16        46\n",
      "         14       0.29      0.12      0.17       100\n",
      "         15       0.33      0.33      0.33       313\n",
      "         16       0.51      0.40      0.45       269\n",
      "         17       0.54      0.67      0.60       670\n",
      "\n",
      "avg / total       0.43      0.44      0.43      5351\n",
      "\n"
     ]
    }
   ],
   "source": [
    "from sklearn.metrics import classification_report\n",
    "print(classification_report(y_test, logreg.predict(x_test)))"
   ]
  },
  {
   "cell_type": "code",
   "execution_count": 66,
   "metadata": {},
   "outputs": [
    {
     "name": "stderr",
     "output_type": "stream",
     "text": [
      "/Users/yonggeol/miniconda3/envs/py/lib/python3.6/site-packages/sklearn/utils/validation.py:578: DataConversionWarning: A column-vector y was passed when a 1d array was expected. Please change the shape of y to (n_samples, ), for example using ravel().\n",
      "  y = column_or_1d(y, warn=True)\n",
      "/Users/yonggeol/miniconda3/envs/py/lib/python3.6/site-packages/sklearn/linear_model/sag.py:326: ConvergenceWarning: The max_iter was reached which means the coef_ did not converge\n",
      "  \"the coef_ did not converge\", ConvergenceWarning)\n",
      "/Users/yonggeol/miniconda3/envs/py/lib/python3.6/site-packages/sklearn/utils/validation.py:578: DataConversionWarning: A column-vector y was passed when a 1d array was expected. Please change the shape of y to (n_samples, ), for example using ravel().\n",
      "  y = column_or_1d(y, warn=True)\n",
      "/Users/yonggeol/miniconda3/envs/py/lib/python3.6/site-packages/sklearn/linear_model/sag.py:326: ConvergenceWarning: The max_iter was reached which means the coef_ did not converge\n",
      "  \"the coef_ did not converge\", ConvergenceWarning)\n",
      "/Users/yonggeol/miniconda3/envs/py/lib/python3.6/site-packages/sklearn/utils/validation.py:578: DataConversionWarning: A column-vector y was passed when a 1d array was expected. Please change the shape of y to (n_samples, ), for example using ravel().\n",
      "  y = column_or_1d(y, warn=True)\n",
      "/Users/yonggeol/miniconda3/envs/py/lib/python3.6/site-packages/sklearn/linear_model/sag.py:326: ConvergenceWarning: The max_iter was reached which means the coef_ did not converge\n",
      "  \"the coef_ did not converge\", ConvergenceWarning)\n",
      "/Users/yonggeol/miniconda3/envs/py/lib/python3.6/site-packages/sklearn/utils/validation.py:578: DataConversionWarning: A column-vector y was passed when a 1d array was expected. Please change the shape of y to (n_samples, ), for example using ravel().\n",
      "  y = column_or_1d(y, warn=True)\n",
      "/Users/yonggeol/miniconda3/envs/py/lib/python3.6/site-packages/sklearn/linear_model/sag.py:326: ConvergenceWarning: The max_iter was reached which means the coef_ did not converge\n",
      "  \"the coef_ did not converge\", ConvergenceWarning)\n",
      "/Users/yonggeol/miniconda3/envs/py/lib/python3.6/site-packages/sklearn/utils/validation.py:578: DataConversionWarning: A column-vector y was passed when a 1d array was expected. Please change the shape of y to (n_samples, ), for example using ravel().\n",
      "  y = column_or_1d(y, warn=True)\n",
      "/Users/yonggeol/miniconda3/envs/py/lib/python3.6/site-packages/sklearn/linear_model/sag.py:326: ConvergenceWarning: The max_iter was reached which means the coef_ did not converge\n",
      "  \"the coef_ did not converge\", ConvergenceWarning)\n"
     ]
    },
    {
     "data": {
      "text/plain": [
       "array([0.45227833, 0.44731978, 0.44218316, 0.46203704, 0.4329419 ])"
      ]
     },
     "execution_count": 66,
     "metadata": {},
     "output_type": "execute_result"
    }
   ],
   "source": [
    "from sklearn.model_selection import cross_val_score\n",
    "scores = cross_val_score(logreg, X_scaled, y, cv=5)\n",
    "scores         "
   ]
  },
  {
   "cell_type": "markdown",
   "metadata": {},
   "source": [
    "## MLP"
   ]
  },
  {
   "cell_type": "code",
   "execution_count": 77,
   "metadata": {},
   "outputs": [],
   "source": [
    "import time\n",
    "from sklearn.neural_network import MLPClassifier"
   ]
  },
  {
   "cell_type": "code",
   "execution_count": 78,
   "metadata": {},
   "outputs": [],
   "source": [
    "mlp_clf = MLPClassifier(\n",
    "    hidden_layer_sizes=(5,),\n",
    "    max_iter=100,\n",
    "    alpha=1e-4,\n",
    "    solver='sgd',\n",
    "    verbose=10,\n",
    "    tol=1e-4,\n",
    "    random_state=1,\n",
    "    learning_rate_init=.1\n",
    ")"
   ]
  },
  {
   "cell_type": "code",
   "execution_count": 79,
   "metadata": {},
   "outputs": [
    {
     "name": "stderr",
     "output_type": "stream",
     "text": [
      "/Users/yonggeol/miniconda3/envs/py/lib/python3.6/site-packages/sklearn/neural_network/multilayer_perceptron.py:912: DataConversionWarning: A column-vector y was passed when a 1d array was expected. Please change the shape of y to (n_samples, ), for example using ravel().\n",
      "  y = column_or_1d(y, warn=True)\n"
     ]
    },
    {
     "name": "stdout",
     "output_type": "stream",
     "text": [
      "Iteration 1, loss = 2.52735477\n",
      "Iteration 2, loss = 2.16181184\n",
      "Iteration 3, loss = 2.08204250\n",
      "Iteration 4, loss = 2.04796576\n",
      "Iteration 5, loss = 2.03317677\n",
      "Iteration 6, loss = 2.02091421\n",
      "Iteration 7, loss = 2.01226705\n",
      "Iteration 8, loss = 2.00348471\n",
      "Iteration 9, loss = 1.99651821\n",
      "Iteration 10, loss = 1.99249659\n",
      "Iteration 11, loss = 1.98843487\n",
      "Iteration 12, loss = 1.98302274\n",
      "Iteration 13, loss = 1.98076831\n",
      "Iteration 14, loss = 1.97419089\n",
      "Iteration 15, loss = 1.97301867\n",
      "Iteration 16, loss = 1.96528143\n",
      "Iteration 17, loss = 1.96352255\n",
      "Iteration 18, loss = 1.96510461\n",
      "Iteration 19, loss = 1.95850655\n",
      "Iteration 20, loss = 1.95501051\n",
      "Iteration 21, loss = 1.95484379\n",
      "Iteration 22, loss = 1.94616777\n",
      "Iteration 23, loss = 1.94878995\n",
      "Iteration 24, loss = 1.94534680\n",
      "Iteration 25, loss = 1.94613168\n",
      "Iteration 26, loss = 1.94236649\n",
      "Iteration 27, loss = 1.93960935\n",
      "Iteration 28, loss = 1.93722342\n",
      "Iteration 29, loss = 1.93568173\n",
      "Iteration 30, loss = 1.93511934\n",
      "Iteration 31, loss = 1.93666470\n",
      "Iteration 32, loss = 1.93161061\n",
      "Iteration 33, loss = 1.93022588\n",
      "Iteration 34, loss = 1.92703513\n",
      "Iteration 35, loss = 1.92618556\n",
      "Iteration 36, loss = 1.92672345\n",
      "Iteration 37, loss = 1.92444069\n",
      "Iteration 38, loss = 1.92320881\n",
      "Iteration 39, loss = 1.92210878\n",
      "Iteration 40, loss = 1.91517982\n",
      "Iteration 41, loss = 1.92310791\n",
      "Iteration 42, loss = 1.91773325\n",
      "Iteration 43, loss = 1.91662796\n",
      "Training loss did not improve more than tol=0.000100 for two consecutive epochs. Stopping.\n",
      "Time: 1.455462s\n"
     ]
    }
   ],
   "source": [
    "start = time.time()\n",
    "mlp_clf.fit(x_train, y_train)\n",
    "end = time.time()\n",
    "print('Time: {:f}s'.format(end-start))"
   ]
  },
  {
   "cell_type": "code",
   "execution_count": 80,
   "metadata": {},
   "outputs": [
    {
     "name": "stdout",
     "output_type": "stream",
     "text": [
      "테스트 정확도: 0.411\n"
     ]
    }
   ],
   "source": [
    "y_pred = mlp_clf.predict(x_test)\n",
    "print(\"테스트 정확도: {:.3f}\".format(accuracy_score(y_pred, y_test)))"
   ]
  },
  {
   "cell_type": "code",
   "execution_count": 81,
   "metadata": {},
   "outputs": [
    {
     "name": "stdout",
     "output_type": "stream",
     "text": [
      "             precision    recall  f1-score   support\n",
      "\n",
      "          0       0.27      0.01      0.02       321\n",
      "          1       0.40      0.55      0.47       478\n",
      "          2       0.36      0.06      0.10       306\n",
      "          3       0.24      0.40      0.30       402\n",
      "          4       0.24      0.25      0.25       190\n",
      "          5       0.42      0.31      0.36       228\n",
      "          6       0.00      0.00      0.00        86\n",
      "          7       0.15      0.10      0.12       213\n",
      "          8       0.63      0.75      0.68       550\n",
      "          9       0.38      0.81      0.52       560\n",
      "         10       0.22      0.16      0.19       285\n",
      "         11       0.34      0.26      0.29       217\n",
      "         12       0.45      0.47      0.46       117\n",
      "         13       0.00      0.00      0.00        46\n",
      "         14       0.00      0.00      0.00       100\n",
      "         15       0.43      0.25      0.32       313\n",
      "         16       0.44      0.38      0.41       269\n",
      "         17       0.60      0.61      0.60       670\n",
      "\n",
      "avg / total       0.38      0.41      0.37      5351\n",
      "\n"
     ]
    },
    {
     "name": "stderr",
     "output_type": "stream",
     "text": [
      "/Users/yonggeol/miniconda3/envs/py/lib/python3.6/site-packages/sklearn/metrics/classification.py:1135: UndefinedMetricWarning: Precision and F-score are ill-defined and being set to 0.0 in labels with no predicted samples.\n",
      "  'precision', 'predicted', average, warn_for)\n"
     ]
    }
   ],
   "source": [
    "from sklearn.metrics import classification_report\n",
    "print(classification_report(y_test, mlp_clf.predict(x_test)))"
   ]
  },
  {
   "cell_type": "markdown",
   "metadata": {},
   "source": [
    "# K-means Clustering \n",
    "## 비슷한 카테고리 묶어보는건 어떨까?"
   ]
  },
  {
   "cell_type": "markdown",
   "metadata": {},
   "source": [
    "# Feautre 추가"
   ]
  }
 ],
 "metadata": {
  "kernelspec": {
   "display_name": "Python 3",
   "language": "python",
   "name": "python3"
  },
  "language_info": {
   "codemirror_mode": {
    "name": "ipython",
    "version": 3
   },
   "file_extension": ".py",
   "mimetype": "text/x-python",
   "name": "python",
   "nbconvert_exporter": "python",
   "pygments_lexer": "ipython3",
   "version": "3.6.7"
  }
 },
 "nbformat": 4,
 "nbformat_minor": 2
}
