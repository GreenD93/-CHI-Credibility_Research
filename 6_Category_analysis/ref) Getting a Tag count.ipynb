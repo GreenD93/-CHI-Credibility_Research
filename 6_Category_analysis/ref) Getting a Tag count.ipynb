{
 "cells": [
  {
   "cell_type": "code",
   "execution_count": 1,
   "metadata": {},
   "outputs": [],
   "source": [
    "from bs4 import BeautifulSoup \n",
    "import re\n",
    "import requests\n",
    "from selenium import webdriver\n",
    "import pandas as pd\n",
    "import numpy as np\n",
    "from selenium.webdriver.common.desired_capabilities import DesiredCapabilities"
   ]
  },
  {
   "cell_type": "code",
   "execution_count": 2,
   "metadata": {},
   "outputs": [],
   "source": [
    "User_id = ['you-n-mi','sky_sea11','jhforever48','soundbross','senti54','0105114a']\n",
    "Post_id = ['221352751222','221216249472','221154182850','221403690848','221401308842','221269157353']"
   ]
  },
  {
   "cell_type": "code",
   "execution_count": 3,
   "metadata": {},
   "outputs": [],
   "source": [
    "User_id = User_id[0]\n",
    "Post_id = Post_id[0]\n",
    "url = \"http://blog.naver.com/PostView.nhn?blogId=\" + User_id + \"&logNo=\" + Post_id + \"&redirect=Dlog&widgetTypeCall=true\"\n",
    "mobile_url = \"http://m.blog.naver.com/PostView.nhn?blogId=\"+ User_id\n",
    "opening_url = 'http://blog.naver.com/profile/intro.nhn?blogId='+ User_id"
   ]
  },
  {
   "cell_type": "code",
   "execution_count": 4,
   "metadata": {},
   "outputs": [
    {
     "data": {
      "text/plain": [
       "'http://blog.naver.com/PostView.nhn?blogId=you-n-mi&logNo=221352751222&redirect=Dlog&widgetTypeCall=true'"
      ]
     },
     "execution_count": 4,
     "metadata": {},
     "output_type": "execute_result"
    }
   ],
   "source": [
    "url"
   ]
  },
  {
   "cell_type": "code",
   "execution_count": 5,
   "metadata": {},
   "outputs": [],
   "source": [
    "r = requests.get(url)\n",
    "bs = BeautifulSoup(re.sub('&nbsp;', ' ', r.text).encode(\"utf-8\"), \"html.parser\")"
   ]
  },
  {
   "cell_type": "code",
   "execution_count": 6,
   "metadata": {},
   "outputs": [],
   "source": [
    "bs.find('div',{'class':'footer_contents'})"
   ]
  },
  {
   "cell_type": "code",
   "execution_count": 76,
   "metadata": {},
   "outputs": [],
   "source": [
    "options = ['--disk-cache=true']"
   ]
  },
  {
   "cell_type": "code",
   "execution_count": 77,
   "metadata": {},
   "outputs": [],
   "source": [
    "from selenium.webdriver.common.desired_capabilities import DesiredCapabilities\n",
    "caps = DesiredCapabilities().CHROME\n",
    "caps[\"pageLoadStrategy\"] = \"normal\"  #  complete"
   ]
  },
  {
   "cell_type": "markdown",
   "metadata": {},
   "source": [
    "# Selenium & PhantomJs 시간 차이"
   ]
  },
  {
   "cell_type": "code",
   "execution_count": 82,
   "metadata": {},
   "outputs": [
    {
     "name": "stderr",
     "output_type": "stream",
     "text": [
      "/Users/yonggeol/miniconda3/envs/py/lib/python3.6/site-packages/selenium/webdriver/phantomjs/webdriver.py:49: UserWarning: Selenium support for PhantomJS has been deprecated, please use headless versions of Chrome or Firefox instead\n",
      "  warnings.warn('Selenium support for PhantomJS has been deprecated, please use headless '\n"
     ]
    },
    {
     "name": "stdout",
     "output_type": "stream",
     "text": [
      "5.072879791259766 {'tag_count': 6}\n"
     ]
    }
   ],
   "source": [
    "caps = DesiredCapabilities().CHROME\n",
    "caps[\"pageLoadStrategy\"] = \"normal\"  #  complete\n",
    "driver = webdriver.PhantomJS('./phantomjs-2.1.1-macosx/bin/phantomjs',service_args=options,desired_capabilities=caps)\n",
    "# URL 읽어 들이기\n",
    "driver.get(url)\n",
    "tag_count = len(driver.find_element_by_class_name('wrap_tag').text.split('#')[1:])\n",
    "tag_dict = {'tag_count':tag_count}\n",
    "driver.quit()\n",
    "print(elasped,tag_dict)"
   ]
  },
  {
   "cell_type": "code",
   "execution_count": 80,
   "metadata": {},
   "outputs": [
    {
     "name": "stdout",
     "output_type": "stream",
     "text": [
      "6.597837209701538 {'tag_count': 6}\n"
     ]
    }
   ],
   "source": [
    "from selenium import webdriver\n",
    "start=time.time()\n",
    "# driver = webdriver.PhantomJS('./phantomjs-2.1.1-macosx/bin/phantomjs')\n",
    "driver = webdriver.Chrome('./chromedriver',service_args=options,desired_capabilities=caps)\n",
    "\n",
    "# URL 읽어 들이기\n",
    "driver.get(url)\n",
    "tag_count = len(driver.find_element_by_class_name('wrap_tag').text.split('#')[1:])\n",
    "tag_dict = {'tag_count':tag_count}\n",
    "driver.quit()\n",
    "end = time.time()\n",
    "elasped = end-start\n",
    "elasped\n",
    "print(elasped,tag_dict)"
   ]
  },
  {
   "cell_type": "code",
   "execution_count": null,
   "metadata": {},
   "outputs": [],
   "source": []
  }
 ],
 "metadata": {
  "kernelspec": {
   "display_name": "Python 3",
   "language": "python",
   "name": "python3"
  },
  "language_info": {
   "codemirror_mode": {
    "name": "ipython",
    "version": 3
   },
   "file_extension": ".py",
   "mimetype": "text/x-python",
   "name": "python",
   "nbconvert_exporter": "python",
   "pygments_lexer": "ipython3",
   "version": "3.6.7"
  }
 },
 "nbformat": 4,
 "nbformat_minor": 2
}
